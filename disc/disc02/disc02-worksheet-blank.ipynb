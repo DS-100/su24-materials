{
 "cells": [
  {
   "attachments": {},
   "cell_type": "markdown",
   "id": "d60227e8",
   "metadata": {},
   "source": [
    "# Discussion 2: Pandas Practice\n",
    "\n",
    "This discussion is all about practicing using `pandas`, and testing your knowledge about its various functionalities to accomplish small tasks.\n",
    "\n",
    "We will be using the `elections` dataset from lecture."
   ]
  },
  {
   "cell_type": "code",
   "execution_count": null,
   "id": "f26a152e",
   "metadata": {},
   "outputs": [],
   "source": [
    "# import packages\n",
    "import pandas as pd\n",
    "import numpy as np\n",
    "elections = pd.read_csv('elections.csv')\n",
    "elections.head(10)"
   ]
  },
  {
   "cell_type": "markdown",
   "id": "38fff9fa-3188-4b85-93eb-da5dbd60b329",
   "metadata": {},
   "source": [
    "## Problem 1\n",
    "Write a line of code that returns the elections table sorted in descending order by popular vote. Store your result in a variable named `sorted`. Would calling `sorted.iloc[[0], :]` give the same result as `sorted.loc[[0], :]`?\n",
    "\n",
    "*Answer*: "
   ]
  },
  {
   "cell_type": "code",
   "execution_count": null,
   "id": "bcf22ee3-43ec-41f3-992e-8a478ffbd112",
   "metadata": {},
   "outputs": [],
   "source": [
    "sorted = ..."
   ]
  },
  {
   "cell_type": "code",
   "execution_count": null,
   "id": "54fd5752-2583-4327-b0a2-7177d8f7416a",
   "metadata": {},
   "outputs": [],
   "source": [
    "sorted.iloc[[0], :]"
   ]
  },
  {
   "cell_type": "code",
   "execution_count": null,
   "id": "0c400590-19b5-41a6-ba1b-d5a564e0bdca",
   "metadata": {},
   "outputs": [],
   "source": [
    "sorted.loc[[0], :]"
   ]
  },
  {
   "attachments": {},
   "cell_type": "markdown",
   "id": "dc2fa590",
   "metadata": {},
   "source": [
    "## Problem 2\n",
    "\n",
    "Using Boolean slicing, write one line of `pandas` code that returns a DataFrame that only contains election results from the 1900s.\n",
    "\n",
    "*Answer*:"
   ]
  },
  {
   "cell_type": "code",
   "execution_count": null,
   "id": "dad407f0",
   "metadata": {},
   "outputs": [],
   "source": []
  },
  {
   "cell_type": "markdown",
   "id": "6f5217c9-4bb6-44c6-b01c-dbf22b815faa",
   "metadata": {},
   "source": [
    "## Problem 3\n",
    "\n",
    "Write one line of pandas code that returns a Series, where the index is the \"Party\", \n",
    "and the values are how many times that party won an election\n",
    "\n",
    "_Answer:_."
   ]
  },
  {
   "cell_type": "code",
   "execution_count": null,
   "id": "6f5462d6-7f8d-43d5-9775-fce661382209",
   "metadata": {},
   "outputs": [],
   "source": []
  },
  {
   "attachments": {},
   "cell_type": "markdown",
   "id": "701ba9a6",
   "metadata": {},
   "source": [
    "## Problem 4\n",
    "\n",
    "Write a line of `pandas` code that returns a `Series` whose index are the years and whose values are the number of candidates that participated in those years' elections.\n",
    "\n",
    "*Answer:*"
   ]
  },
  {
   "cell_type": "code",
   "execution_count": null,
   "id": "037501e2",
   "metadata": {},
   "outputs": [],
   "source": []
  },
  {
   "cell_type": "code",
   "execution_count": null,
   "id": "e05bcafd-9a5b-49bc-a1e3-aaa33b134a86",
   "metadata": {},
   "outputs": [],
   "source": []
  },
  {
   "cell_type": "markdown",
   "id": "1299cf2b-bdaf-432d-8d67-efc5860ed38f",
   "metadata": {},
   "source": [
    "## Problem 5\n",
    "\n",
    "Write a line of `pandas` code that creates a filtered `DataFrame` named `filtered_parties`\n",
    "from the elections dataset and keeps only the parties that have at least one election %\n",
    "more than 50%.\n",
    "\n",
    "*Answer*: "
   ]
  },
  {
   "cell_type": "markdown",
   "id": "f91f2b7a-e680-4457-b9fd-4d7f4cfe779f",
   "metadata": {},
   "source": []
  },
  {
   "cell_type": "code",
   "execution_count": null,
   "id": "fd479fc1-27b4-4b92-b4f4-eb9f2ca471c1",
   "metadata": {},
   "outputs": [],
   "source": []
  },
  {
   "cell_type": "markdown",
   "id": "66b71e25-5eba-495a-8530-708d7996f16d",
   "metadata": {},
   "source": [
    "## Problem 6\n",
    "\n",
    "Write a line of `pandas` code that uses the `filtered_parties` `DataFrame` to return a new\n",
    "`DataFrame` with row indices that correspond to the year and columns that correspond\n",
    "to each party. Each entry should be the total percentage of votes for all the candidates\n",
    "that ran during that particular year for the specified party. Missing values from the dataset (the cases where a party did not have a candidate in a particular year) should be entered as 0. Below is an example.\n",
    "\n",
    "![](pivot.png)"
   ]
  },
  {
   "cell_type": "code",
   "execution_count": null,
   "id": "d63728c8-4f44-4eff-9f03-92a40251cffc",
   "metadata": {},
   "outputs": [],
   "source": []
  }
 ],
 "metadata": {
  "kernelspec": {
   "display_name": "Python 3 (ipykernel)",
   "language": "python",
   "name": "python3"
  },
  "language_info": {
   "codemirror_mode": {
    "name": "ipython",
    "version": 3
   },
   "file_extension": ".py",
   "mimetype": "text/x-python",
   "name": "python",
   "nbconvert_exporter": "python",
   "pygments_lexer": "ipython3",
   "version": "3.11.0"
  },
  "vscode": {
   "interpreter": {
    "hash": "aea83e800b3f611b156506e3451d6446f84c720051bc83a1d66a677713fe7b36"
   }
  }
 },
 "nbformat": 4,
 "nbformat_minor": 5
}
