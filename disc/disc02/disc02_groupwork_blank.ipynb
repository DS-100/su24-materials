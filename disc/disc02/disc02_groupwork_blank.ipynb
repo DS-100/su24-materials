{
 "cells": [
  {
   "cell_type": "markdown",
   "id": "f6f8ceb4",
   "metadata": {},
   "source": [
    "# Discussion 3: Pandas Group Work\n",
    "\n",
    "Now that you've tested your knowledge on the practice worksheet, it's time to actually use that knowledge on real data. We will be using the California `babynames` data from lecture.\n",
    "\n",
    "The following are 5 tasks that are relatively complex, especially compared to what you just did on the worksheet. Form groups of 3 or 4, and choose one task to complete as a group. Discuss best strategies to accomplish the task (in terms of code efficiency, conciseness, etc.) Do not hesitate to Google for help (either to look at the Pandas documentation or StackExchange). \n",
    " \n",
    "If time permits, we will discuss our responses as a class and consider alternatives, if any. If your group finishes their task early, challenge yourself with another one!"
   ]
  },
  {
   "cell_type": "code",
   "execution_count": null,
   "id": "5d8978f3",
   "metadata": {},
   "outputs": [],
   "source": [
    "import numpy as np\n",
    "import pandas as pd\n",
    "import matplotlib.pyplot as plt"
   ]
  },
  {
   "cell_type": "code",
   "execution_count": null,
   "id": "a2404a69",
   "metadata": {},
   "outputs": [],
   "source": [
    "# loading up the California baby names data\n",
    "\n",
    "import urllib.request\n",
    "import os.path\n",
    "import zipfile\n",
    "\n",
    "data_url = \"https://www.ssa.gov/oact/babynames/state/namesbystate.zip\"\n",
    "local_filename = \"babynamesbystate.zip\"\n",
    "if not os.path.exists(local_filename): # if the data exists don't download again\n",
    "    with urllib.request.urlopen(data_url) as resp, open(local_filename, 'wb') as f:\n",
    "        f.write(resp.read())\n",
    "\n",
    "zf = zipfile.ZipFile(local_filename, 'r')\n",
    "\n",
    "ca_name = 'STATE.CA.TXT'\n",
    "field_names = ['State', 'Sex', 'Year', 'Name', 'Count']\n",
    "with zf.open(ca_name) as fh:\n",
    "    babynames = pd.read_csv(fh, header=None, names=field_names)\n",
    "\n",
    "babynames"
   ]
  },
  {
   "cell_type": "markdown",
   "id": "625775be",
   "metadata": {},
   "source": [
    "## Task 1\n",
    "\n",
    "There's over 20,000 unique names in this dataset. However, some have been used for longer periods of time than others. Create a `pandas` `DataFrame` where the index is the name, and there are three columns: one corresponding to the first year in which that name appeared in the dataset, and the other corresponding to the last year in which it appeared. Add a third column corresponding to the longevity of the name (how many years it's been used), and arrange the table by decreasing longevity, and display only the first 10 names.\n",
    "\n",
    "This is what the resulting DataFrame should look like:\n",
    "\n",
    "<img src = \"groupwork_q1.png\" width = \"250\">"
   ]
  },
  {
   "cell_type": "code",
   "execution_count": null,
   "id": "7baa5721",
   "metadata": {
    "scrolled": true
   },
   "outputs": [],
   "source": []
  },
  {
   "cell_type": "markdown",
   "id": "28914e01",
   "metadata": {},
   "source": [
    "## Task 2\n",
    "\n",
    "Of the unique names given in different years, what proportion of them start with a vowel? Write `pandas` code to return a `pandas` `Series` with the index as the year and the value as the proportion of different names given that year that start with a vowel.\n",
    "\n",
    "*Hint: the `str.startswith()` method for a Pandas series may be useful to you. You may also find it useful to define a function to plug into to the `agg` method for `groupby` objects, as in lecture.*\n",
    "\n",
    "This is what the resulting `Series` should look like:\n",
    "\n",
    "<img src = \"groupwork_q2.png\" width = \"300\">\n",
    "\n",
    "*Answer*: "
   ]
  },
  {
   "cell_type": "code",
   "execution_count": null,
   "id": "f43f59e6",
   "metadata": {},
   "outputs": [],
   "source": []
  },
  {
   "cell_type": "markdown",
   "id": "8e39fcee",
   "metadata": {},
   "source": [
    "## Task 3\n",
    "\n",
    "Are names becoming more unique over time? Return a `pandas` `Series` whose index is the `Year` and whose values are the number of names given that year whose count is less than 15. We have provided code that plots the series for you so you can look at the trends.\n",
    "\n",
    "The resulting plot should look as follows:\n",
    "\n",
    "<img src = \"q3_plot.png\" width = \"500\">\n",
    "\n",
    "*Answer*:"
   ]
  },
  {
   "cell_type": "code",
   "execution_count": null,
   "id": "b21138fb",
   "metadata": {},
   "outputs": [],
   "source": [
    "# One of many possible solutions\n",
    "\n",
    "names = ...\n",
    "\n",
    "# NO NEED TO MODIFY\n",
    "plt.plot(names)\n",
    "plt.title('Unique names over the past century')\n",
    "plt.xlabel('Year')\n",
    "plt.ylabel('Count')"
   ]
  },
  {
   "cell_type": "markdown",
   "id": "9ef900e0",
   "metadata": {},
   "source": [
    "## Task 4\n",
    "\n"
   ]
  },
  {
   "cell_type": "markdown",
   "id": "7d007718",
   "metadata": {},
   "source": [
    "Among names that were very popular (let's say, have a count greater than 1000), how many different names are there across sex and year? Write Pandas code that returns a Pandas `DataFrame`, whose columns correspond to sex and whose row indices correspond to year. Each entry should be the number of unique, \"popular\" names for that year for that sex (given our definition of popular from above).\n",
    "\n",
    "If there's a `NaN` value (missing value) in the table, why do you think it's there? What do you think is a reasonable value to impute into these missing values? Fill in all missing values with the value your group finds most appropriate (look for the `fillna()` method for pandas dataframes online for info on how to do this)\n",
    "\n",
    "Hint: Prior to dropping NaN values, this is what your `DataFrame` should look like:\n",
    "\n",
    "<img src = \"groupwork_q4.png\" width = \"150\">\n",
    "\n",
    "*Answer: Because in 1915, there are no female names whose count is more than 1000 (see bottom cell for demonstration and code). A reasonable value to impute would be 0, since when we have a missing value, it's because there are no names that are 'popular' for that year.*"
   ]
  },
  {
   "cell_type": "code",
   "execution_count": null,
   "id": "6ad8d79b",
   "metadata": {
    "scrolled": true
   },
   "outputs": [],
   "source": []
  },
  {
   "cell_type": "code",
   "execution_count": null,
   "id": "94349117",
   "metadata": {},
   "outputs": [],
   "source": []
  }
 ],
 "metadata": {
  "kernelspec": {
   "display_name": "Python 3 (ipykernel)",
   "language": "python",
   "name": "python3"
  },
  "language_info": {
   "codemirror_mode": {
    "name": "ipython",
    "version": 3
   },
   "file_extension": ".py",
   "mimetype": "text/x-python",
   "name": "python",
   "nbconvert_exporter": "python",
   "pygments_lexer": "ipython3",
   "version": "3.11.0"
  },
  "vscode": {
   "interpreter": {
    "hash": "aea83e800b3f611b156506e3451d6446f84c720051bc83a1d66a677713fe7b36"
   }
  }
 },
 "nbformat": 4,
 "nbformat_minor": 5
}
