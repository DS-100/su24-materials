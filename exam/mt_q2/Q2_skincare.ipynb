{
 "cells": [
  {
   "cell_type": "markdown",
   "id": "3be5650a-0c3b-4906-9ae1-b815ead714ea",
   "metadata": {},
   "source": [
    "import pandas as pd\n",
    "import numpy as np"
   ]
  },
  {
   "cell_type": "markdown",
   "id": "9074666b-673c-4fb7-b367-c75057dad6f2",
   "metadata": {},
   "source": [
    "# Q2 Godly Skincare"
   ]
  },
  {
   "cell_type": "code",
   "execution_count": null,
   "id": "f3bf5bde-399a-46f4-9474-e91609c57901",
   "metadata": {},
   "outputs": [],
   "source": [
    "dan_products = pd.read_csv('skincare_products_clean.csv')\n",
    "dan_products.head()"
   ]
  },
  {
   "cell_type": "code",
   "execution_count": null,
   "id": "2ed0fcad-bae6-4a3d-b0e4-2441cefe0e44",
   "metadata": {},
   "outputs": [],
   "source": [
    "# Make it 719 rows\n",
    "dan_products = dan_products.iloc[0:719]\n",
    "dan_products = dan_products[['product_name', 'price']]\n",
    "# Rename columns\n",
    "dan_products = dan_products.rename(columns={'product_name': 'Product',\n",
    "                                            'price': 'Price'})\n",
    "# Get brand name (or something that can be brand name)\n",
    "dan_products['Brand'] = dan_products['Product'].str.split().str[0]\n",
    "# Clean Price column \n",
    "dan_products['Price'] = dan_products['Price'].str.split('£').str[1]\n",
    "\n",
    "# Randomly generate columns\n",
    "np.random.seed(42)\n",
    "dan_products['Aura'] = np.random.randint(11, size=719)\n",
    "dan_products['Stars'] = np.random.uniform(0, 5, size=719)\n",
    "dan_products['Repurchased'] = np.random.randint(2, size=719) == 1"
   ]
  },
  {
   "cell_type": "code",
   "execution_count": null,
   "id": "3f3ae819-ff51-4e4d-9c6b-f94488c15ee5",
   "metadata": {},
   "outputs": [],
   "source": []
  },
  {
   "cell_type": "code",
   "execution_count": null,
   "id": "af3b4b92-88ea-4576-8a42-8c772ddee4b3",
   "metadata": {},
   "outputs": [],
   "source": []
  }
 ],
 "metadata": {
  "kernelspec": {
   "display_name": "Python 3 (ipykernel)",
   "language": "python",
   "name": "python3"
  },
  "language_info": {
   "codemirror_mode": {
    "name": "ipython",
    "version": 3
   },
   "file_extension": ".py",
   "mimetype": "text/x-python",
   "name": "python",
   "nbconvert_exporter": "python",
   "pygments_lexer": "ipython3",
   "version": "3.11.9"
  }
 },
 "nbformat": 4,
 "nbformat_minor": 5
}
