{
 "cells": [
  {
   "cell_type": "code",
   "execution_count": 1,
   "id": "58cd5ae4-f73f-4617-a35c-442199b80565",
   "metadata": {},
   "outputs": [],
   "source": [
    "import pandas as pd\n",
    "import numpy as np"
   ]
  },
  {
   "cell_type": "markdown",
   "id": "9074666b-673c-4fb7-b367-c75057dad6f2",
   "metadata": {},
   "source": [
    "# Q2 Godly Skincare"
   ]
  },
  {
   "cell_type": "code",
   "execution_count": 2,
   "id": "f3bf5bde-399a-46f4-9474-e91609c57901",
   "metadata": {},
   "outputs": [
    {
     "data": {
      "text/html": [
       "<div>\n",
       "<style scoped>\n",
       "    .dataframe tbody tr th:only-of-type {\n",
       "        vertical-align: middle;\n",
       "    }\n",
       "\n",
       "    .dataframe tbody tr th {\n",
       "        vertical-align: top;\n",
       "    }\n",
       "\n",
       "    .dataframe thead th {\n",
       "        text-align: right;\n",
       "    }\n",
       "</style>\n",
       "<table border=\"1\" class=\"dataframe\">\n",
       "  <thead>\n",
       "    <tr style=\"text-align: right;\">\n",
       "      <th></th>\n",
       "      <th>product_name</th>\n",
       "      <th>product_url</th>\n",
       "      <th>product_type</th>\n",
       "      <th>clean_ingreds</th>\n",
       "      <th>price</th>\n",
       "    </tr>\n",
       "  </thead>\n",
       "  <tbody>\n",
       "    <tr>\n",
       "      <th>0</th>\n",
       "      <td>The Ordinary Natural Moisturising Factors + HA...</td>\n",
       "      <td>https://www.lookfantastic.com/the-ordinary-nat...</td>\n",
       "      <td>Moisturiser</td>\n",
       "      <td>['capric triglyceride', 'cetyl alcohol', 'prop...</td>\n",
       "      <td>£5.20</td>\n",
       "    </tr>\n",
       "    <tr>\n",
       "      <th>1</th>\n",
       "      <td>CeraVe Facial Moisturising Lotion SPF 25 52ml</td>\n",
       "      <td>https://www.lookfantastic.com/cerave-facial-mo...</td>\n",
       "      <td>Moisturiser</td>\n",
       "      <td>['homosalate', 'glycerin', 'octocrylene', 'eth...</td>\n",
       "      <td>£13.00</td>\n",
       "    </tr>\n",
       "    <tr>\n",
       "      <th>2</th>\n",
       "      <td>The Ordinary Hyaluronic Acid 2% + B5 Hydration...</td>\n",
       "      <td>https://www.lookfantastic.com/the-ordinary-hya...</td>\n",
       "      <td>Moisturiser</td>\n",
       "      <td>['sodium hyaluronate', 'sodium hyaluronate', '...</td>\n",
       "      <td>£6.20</td>\n",
       "    </tr>\n",
       "    <tr>\n",
       "      <th>3</th>\n",
       "      <td>AMELIORATE Transforming Body Lotion 200ml</td>\n",
       "      <td>https://www.lookfantastic.com/ameliorate-trans...</td>\n",
       "      <td>Moisturiser</td>\n",
       "      <td>['ammonium lactate', 'c12-15', 'glycerin', 'pr...</td>\n",
       "      <td>£22.50</td>\n",
       "    </tr>\n",
       "    <tr>\n",
       "      <th>4</th>\n",
       "      <td>CeraVe Moisturising Cream 454g</td>\n",
       "      <td>https://www.lookfantastic.com/cerave-moisturis...</td>\n",
       "      <td>Moisturiser</td>\n",
       "      <td>['glycerin', 'cetearyl alcohol', 'capric trigl...</td>\n",
       "      <td>£16.00</td>\n",
       "    </tr>\n",
       "  </tbody>\n",
       "</table>\n",
       "</div>"
      ],
      "text/plain": [
       "                                        product_name  \\\n",
       "0  The Ordinary Natural Moisturising Factors + HA...   \n",
       "1      CeraVe Facial Moisturising Lotion SPF 25 52ml   \n",
       "2  The Ordinary Hyaluronic Acid 2% + B5 Hydration...   \n",
       "3          AMELIORATE Transforming Body Lotion 200ml   \n",
       "4                     CeraVe Moisturising Cream 454g   \n",
       "\n",
       "                                         product_url product_type  \\\n",
       "0  https://www.lookfantastic.com/the-ordinary-nat...  Moisturiser   \n",
       "1  https://www.lookfantastic.com/cerave-facial-mo...  Moisturiser   \n",
       "2  https://www.lookfantastic.com/the-ordinary-hya...  Moisturiser   \n",
       "3  https://www.lookfantastic.com/ameliorate-trans...  Moisturiser   \n",
       "4  https://www.lookfantastic.com/cerave-moisturis...  Moisturiser   \n",
       "\n",
       "                                       clean_ingreds   price  \n",
       "0  ['capric triglyceride', 'cetyl alcohol', 'prop...   £5.20  \n",
       "1  ['homosalate', 'glycerin', 'octocrylene', 'eth...  £13.00  \n",
       "2  ['sodium hyaluronate', 'sodium hyaluronate', '...   £6.20  \n",
       "3  ['ammonium lactate', 'c12-15', 'glycerin', 'pr...  £22.50  \n",
       "4  ['glycerin', 'cetearyl alcohol', 'capric trigl...  £16.00  "
      ]
     },
     "execution_count": 2,
     "metadata": {},
     "output_type": "execute_result"
    }
   ],
   "source": [
    "dan_products = pd.read_csv('skincare_products_clean.csv')\n",
    "dan_products.head()"
   ]
  },
  {
   "cell_type": "code",
   "execution_count": 3,
   "id": "2ed0fcad-bae6-4a3d-b0e4-2441cefe0e44",
   "metadata": {},
   "outputs": [],
   "source": [
    "# Make it 719 rows\n",
    "dan_products = dan_products.iloc[0:719]\n",
    "dan_products = dan_products[['product_name', 'price']]\n",
    "# Rename columns\n",
    "dan_products = dan_products.rename(columns={'product_name': 'Product',\n",
    "                                            'price': 'Price'})\n",
    "# Get brand name (or something that can be brand name)\n",
    "dan_products['Brand'] = dan_products['Product'].str.split().str[0]\n",
    "# Clean Price column \n",
    "dan_products['Price'] = dan_products['Price'].str.split('£').str[1]\n",
    "\n",
    "# Randomly generate columns\n",
    "np.random.seed(42)\n",
    "dan_products['Aura'] = np.random.randint(11, size=719)\n",
    "dan_products['Stars'] = np.random.uniform(0, 5, size=719)\n",
    "dan_products['Repurchased'] = np.random.randint(2, size=719) == 1"
   ]
  },
  {
   "cell_type": "code",
   "execution_count": null,
   "id": "af3b4b92-88ea-4576-8a42-8c772ddee4b3",
   "metadata": {},
   "outputs": [],
   "source": []
  }
 ],
 "metadata": {
  "kernelspec": {
   "display_name": "Python 3 (ipykernel)",
   "language": "python",
   "name": "python3"
  },
  "language_info": {
   "codemirror_mode": {
    "name": "ipython",
    "version": 3
   },
   "file_extension": ".py",
   "mimetype": "text/x-python",
   "name": "python",
   "nbconvert_exporter": "python",
   "pygments_lexer": "ipython3",
   "version": "3.11.9"
  }
 },
 "nbformat": 4,
 "nbformat_minor": 5
}
