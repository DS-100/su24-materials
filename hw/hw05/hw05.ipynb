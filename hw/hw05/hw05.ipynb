{
 "cells": [
  {
   "cell_type": "code",
   "execution_count": null,
   "metadata": {
    "deletable": false,
    "editable": false
   },
   "outputs": [],
   "source": [
    "# Initialize Otter\n",
    "import otter\n",
    "grader = otter.Notebook(\"hw05.ipynb\")"
   ]
  },
  {
   "cell_type": "markdown",
   "metadata": {
    "nbgrader": {
     "grade": false,
     "grade_id": "introduction",
     "locked": true,
     "schema_version": 2,
     "solution": false
    }
   },
   "source": [
    "# Homework 5: Bike Sharing\n",
    "## Exploratory Data Analysis (EDA) and Visualization\n",
    "\n",
    "### Due Date: Thursday, July 4th, 11:59 PM PT\n",
    "You must submit this assignment to Gradescope by the on-time deadline, Thursday, July 4th, at 11:59 PM PT. Please read the syllabus for the grace period policy. No late submissions beyond the grace period will be accepted. **We strongly encourage you to submit your work to Gradescope several hours before the deadline.** This way, you will have ample time to reach out to staff for support if you encounter difficulties with submission. While course staff is happy to help guide you with submitting your assignment ahead of the deadline, we will not respond to last-minute requests for assistance (TAs need to sleep, after all!).\n",
    "\n",
    "Please read the instructions carefully when submitting your work to Gradescope. \n",
    "\n",
    "## Collaboration Policy\n",
    "\n",
    "Data science is a collaborative activity. While you may talk with others about the homework, we ask that you **write your solutions individually**. If you discuss the assignments with others, please **include their names** below."
   ]
  },
  {
   "cell_type": "markdown",
   "metadata": {},
   "source": [
    "**Collaborators**: *list collaborators here*"
   ]
  },
  {
   "cell_type": "markdown",
   "metadata": {},
   "source": [
    "## Introduction\n",
    "\n",
    "Bike-sharing systems are a new generation of traditional bike rentals where the process of signing up, renting, and returning is automated. Through these systems, users are able to easily rent a bike from one location and return them to another. We will be analyzing bike-sharing data from Washington, DC. \n",
    "\n",
    "In this assignment, you will perform tasks to clean, visualize, and explore the bike-sharing data. You will also investigate open-ended questions. These open-ended questions ask you to think critically about how the plots you have created provide insight into the data.\n",
    "\n",
    "After completing this assignment, you should be comfortable with:\n",
    "\n",
    "* Reading plain text delimited data into `pandas`,\n",
    "* Wrangling data for analysis,\n",
    "* Using EDA to learn about your data, and \n",
    "* Making informative plots.\n",
    "\n",
    "## Grading\n",
    "Grading is broken down into auto-graded answers and free responses. For auto-graded answers, the results of your code are compared to provided and/or hidden tests. For free response, readers will evaluate how well you answered the question and/or fulfilled the requirements of the question. Most of the plots will be manually graded. Your plots should be *similar* to the given examples. We will accept small variations, such as color differences or slight variations in scale. However, it is in your best interest to make the plots as similar as possible, as similarity is subject to the readers. \n",
    "\n",
    "**Note that for ALL plotting questions from here on out, we will expect descriptive titles, axis labels, legends, etc. The following question serves as a good guideline on what is \"enough\": If I directly downloaded the plot and viewed it, would I be able to tell what was being visualized without knowing the question?** \n",
    "\n",
    "### Score Breakdown\n",
    "\n",
    "\n",
    "\n",
    "Question | Manual | Points\n",
    "--- |---| ---\n",
    "0  |No  |1\n",
    "1a |Yes |1\n",
    "1b |Yes |1\n",
    "2a |No  |2\n",
    "2b |No  |1\n",
    "2c |No  |3\n",
    "3a |Yes |2\n",
    "3b |Yes |2\n",
    "3c |Yes |2\n",
    "3d |Yes |2\n",
    "4a |Yes |3\n",
    "4b |Yes |1\n",
    "4c |Yes |3\n",
    "5  |Yes |2\n",
    "6a |Yes |3\n",
    "6b |Yes |2\n",
    "7a |No  |1\n",
    "7b |Yes |4\n",
    "7c |Yes |2\n",
    "8a |Yes |2\n",
    "8b |Yes |2\n",
    "Total |16 |42"
   ]
  },
  {
   "cell_type": "markdown",
   "metadata": {},
   "source": [
    "## Before You Start\n",
    "\n",
    "For each question in the assignment, please write down your answer in the answer cell(s) right below the question. \n",
    "\n",
    "We understand that it is helpful to have extra cells breaking down the process towards reaching your final answer. If you happen to create new cells below your answer to run code, **NEVER** add cells between a question cell and the answer cell below it. It will cause errors when we run the autograder, and it will sometimes cause a failure to generate the PDF file.\n",
    "\n",
    "**Important note: The local autograder tests will not be comprehensive. You can pass the automated tests in your notebook but still fail tests in the autograder.** Please be sure to check your results carefully.\n",
    "\n",
    "Finally, unless we state otherwise, **do not use for loops or list comprehensions**. The majority of this assignment can be done using built-in commands in `pandas` and `NumPy`.  Our autograder isn't smart enough to check, but you're depriving yourself of key learning objectives if you write loops / comprehensions, and you also won't be ready for the midterm.\n",
    "\n",
    "### Debugging Guide\n",
    "If you run into any technical issues, we highly recommend checking out the [Data 100 Debugging Guide](https://ds100.org/debugging-guide/). In this guide, you can find general questions about Jupyter notebooks / Datahub, Gradescope, and common `pandas` errors."
   ]
  },
  {
   "cell_type": "code",
   "execution_count": null,
   "metadata": {
    "ExecuteTime": {
     "end_time": "2018-09-12T05:50:17.975391Z",
     "start_time": "2018-09-12T05:50:17.067217Z"
    },
    "nbgrader": {
     "grade": false,
     "grade_id": "setup",
     "locked": true,
     "schema_version": 2,
     "solution": false
    }
   },
   "outputs": [],
   "source": [
    "# Run this cell to set up your notebook. Make sure ds100_utils.py is in this assignment's folder\n",
    "import csv\n",
    "import numpy as np\n",
    "import pandas as pd\n",
    "import matplotlib.pyplot as plt\n",
    "import seaborn as sns\n",
    "import zipfile\n",
    "from pathlib import Path\n",
    "import ds100_utils\n",
    "\n",
    "# Default plot configurations\n",
    "%matplotlib inline\n",
    "plt.rcParams['figure.figsize'] = (16,8)\n",
    "plt.rcParams['figure.dpi'] = 150\n",
    "sns.set()\n",
    "\n",
    "import warnings\n",
    "warnings.filterwarnings(\"ignore\")\n",
    "\n",
    "from IPython.display import display, Latex, Markdown"
   ]
  },
  {
   "cell_type": "markdown",
   "metadata": {
    "deletable": false,
    "editable": false
   },
   "source": [
    "<hr style=\"border: 5px solid #003262;\" />\n",
    "<hr style=\"border: 1px solid #fdb515;\" />\n",
    "\n",
    "## Question 0: Week 3 Check-In\n",
    "\n",
    "Please fill out the following quick, anonymous check-in survey: [LINK](https://forms.gle/a9oDLvE8z16d4M549). At the end you will see a secret word, please set `q0` to this secret word as a string. \n",
    "\n",
    "If you fill out the form and forget to take note of the secret word, just click the form link again and you will see the secret word along with a message that you've already filled the form out!"
   ]
  },
  {
   "cell_type": "code",
   "execution_count": null,
   "metadata": {
    "tags": []
   },
   "outputs": [],
   "source": [
    "q0 = ...\n",
    "q0"
   ]
  },
  {
   "cell_type": "code",
   "execution_count": null,
   "metadata": {
    "deletable": false,
    "editable": false
   },
   "outputs": [],
   "source": [
    "grader.check(\"q0\")"
   ]
  },
  {
   "cell_type": "markdown",
   "metadata": {
    "nbgrader": {
     "grade": false,
     "grade_id": "codebook",
     "locked": true,
     "schema_version": 2,
     "solution": false
    }
   },
   "source": [
    "<hr style=\"border: 5px solid #003262;\" />\n",
    "<hr style=\"border: 1px solid #fdb515;\" />\n",
    "\n",
    "## Loading Bike Sharing Data\n",
    "The data we are exploring is collected from a bike-sharing system in Washington, DC.\n",
    "\n",
    "The variables in this `DataFrame` are defined as:\n",
    "\n",
    "Variable       | Description\n",
    "-------------- | ------------------------------------------------------------------\n",
    "instant | record index\n",
    "dteday | date\n",
    "season | 1. spring <br> 2. summer <br> 3. fall <br> 4. winter\n",
    "yr | year (0: 2011, 1:2012)\n",
    "mnth | month ( 1 to 12)\n",
    "hr | hour (0 to 23)\n",
    "holiday | whether the day is a holiday or not\n",
    "weekday | day of the week\n",
    "workingday | if the day is neither a weekend nor a holiday\n",
    "weathersit | 1. clear or partly cloudy <br> 2. mist and clouds <br> 3. light snow or rain <br> 4. heavy rain or snow\n",
    "temp | normalized temperature in Celsius (divided by 41)\n",
    "atemp | normalized \"feels-like\" temperature in Celsius (divided by 50)\n",
    "hum | normalized percent humidity (divided by 100)\n",
    "windspeed| normalized wind speed (divided by 67)\n",
    "casual | count of casual users\n",
    "registered | count of registered users\n",
    "cnt | count of total rental bikes, including casual and registered  "
   ]
  },
  {
   "cell_type": "markdown",
   "metadata": {
    "nbgrader": {
     "grade": false,
     "grade_id": "cell-5a5f851db609367a",
     "locked": true,
     "schema_version": 2,
     "solution": false
    }
   },
   "source": [
    "### Download the Data"
   ]
  },
  {
   "cell_type": "code",
   "execution_count": null,
   "metadata": {
    "ExecuteTime": {
     "end_time": "2018-09-12T05:50:18.077074Z",
     "start_time": "2018-09-12T05:50:17.976817Z"
    },
    "nbgrader": {
     "grade": false,
     "grade_id": "download_data",
     "locked": true,
     "schema_version": 2,
     "solution": false
    }
   },
   "outputs": [],
   "source": [
    "# Run this cell to download the data; no further action is needed.\n",
    "\n",
    "data_url = 'https://github.com/DS-100/fa20/raw/gh-pages/resources/assets/datasets/hw3-bikeshare.zip'\n",
    "file_name = 'data.zip'\n",
    "data_dir = 'data/'\n",
    "\n",
    "dest_path = ds100_utils.fetch_and_cache(data_url=data_url, data_dir=data_dir, file=file_name)\n",
    "print('Saved at {}'.format(dest_path))\n",
    "\n",
    "zipped_data = zipfile.ZipFile(dest_path, 'r')\n",
    "\n",
    "data_dir = Path('data')\n",
    "zipped_data.extractall(data_dir)\n",
    "\n",
    "\n",
    "print(\"Extracted Files:\")\n",
    "for f in data_dir.glob(\"*\"):\n",
    "    print(\"\\t\",f)"
   ]
  },
  {
   "cell_type": "markdown",
   "metadata": {
    "nbgrader": {
     "grade": false,
     "grade_id": "examine-contents",
     "locked": true,
     "schema_version": 2,
     "solution": false
    }
   },
   "source": [
    "### Examining the File Contents\n",
    "\n",
    "As a quick, ungraded exercise, try and see if you can identify the file format of the file below. (No answer required)."
   ]
  },
  {
   "cell_type": "code",
   "execution_count": null,
   "metadata": {
    "ExecuteTime": {
     "end_time": "2018-09-12T05:50:18.082153Z",
     "start_time": "2018-09-12T05:50:18.078562Z"
    },
    "nbgrader": {
     "grade": false,
     "grade_id": "examine-content-code",
     "locked": true,
     "schema_version": 2,
     "solution": false
    }
   },
   "outputs": [],
   "source": [
    "# Run this cell to look at the top of the file; no further action is needed.\n",
    "for line in ds100_utils.head(data_dir/'bikeshare.txt'):\n",
    "    print(line,end=\"\")"
   ]
  },
  {
   "cell_type": "markdown",
   "metadata": {
    "nbgrader": {
     "grade": false,
     "grade_id": "examine-size",
     "locked": true,
     "schema_version": 2,
     "solution": false
    }
   },
   "source": [
    "### Size\n",
    "Is the file big?  How many records do we expect to find? Once again, this is ungraded, and there is no answer required."
   ]
  },
  {
   "cell_type": "code",
   "execution_count": null,
   "metadata": {
    "ExecuteTime": {
     "end_time": "2018-09-12T05:50:18.092524Z",
     "start_time": "2018-09-12T05:50:18.083535Z"
    },
    "nbgrader": {
     "grade": false,
     "grade_id": "examine-size-code",
     "locked": true,
     "schema_version": 2,
     "solution": false
    }
   },
   "outputs": [],
   "source": [
    "# Run this cell to view some metadata; no further action is needed.\n",
    "print(\"Size:\", (data_dir/\"bikeshare.txt\").stat().st_size, \"bytes\")\n",
    "print(\"Line Count:\", ds100_utils.line_count(data_dir/\"bikeshare.txt\"), \"lines\")"
   ]
  },
  {
   "cell_type": "markdown",
   "metadata": {
    "nbgrader": {
     "grade": false,
     "grade_id": "load-data",
     "locked": true,
     "schema_version": 2,
     "solution": false
    }
   },
   "source": [
    "### Loading the Data\n",
    "\n",
    "The following code loads the data into the `bike` `DataFrame`."
   ]
  },
  {
   "cell_type": "code",
   "execution_count": null,
   "metadata": {
    "ExecuteTime": {
     "end_time": "2018-09-12T05:50:18.144004Z",
     "start_time": "2018-09-12T05:50:18.094479Z"
    },
    "nbgrader": {
     "grade": false,
     "grade_id": "load-data-code",
     "locked": true,
     "schema_version": 2,
     "solution": false
    },
    "tags": []
   },
   "outputs": [],
   "source": [
    "# Run this cell to load the data; no further action is needed.\n",
    "bike = pd.read_csv(data_dir/'bikeshare.txt')\n",
    "bike.head()"
   ]
  },
  {
   "cell_type": "markdown",
   "metadata": {
    "nbgrader": {
     "grade": false,
     "grade_id": "cell-a0f8e3c0cc106c97",
     "locked": true,
     "schema_version": 2,
     "solution": false
    }
   },
   "source": [
    "Below, we show the shape of the file. You should see that the size of the `DataFrame` matches the number of lines in the file minus the header row."
   ]
  },
  {
   "cell_type": "code",
   "execution_count": null,
   "metadata": {
    "nbgrader": {
     "grade": false,
     "grade_id": "cell-ffa02efc2941b30c",
     "locked": true,
     "schema_version": 2,
     "solution": false
    }
   },
   "outputs": [],
   "source": [
    "bike.shape"
   ]
  },
  {
   "cell_type": "markdown",
   "metadata": {},
   "source": [
    "<hr style=\"border: 1px solid #fdb515;\" />\n",
    "\n",
    "## 1: Examining the Data\n",
    "\n",
    "Before we start working with the data, let's examine its granularity."
   ]
  },
  {
   "cell_type": "markdown",
   "metadata": {
    "deletable": false,
    "editable": false
   },
   "source": [
    "<!-- BEGIN QUESTION -->\n",
    "\n",
    "<br>\n",
    "\n",
    "--- \n",
    "### Question 1a\n",
    "What is the granularity of the data (i.e., what does each row represent)?\n",
    "\n",
    "**Hint:** Examine all variables present in the dataset carefully before answering this question! Pay special attention to the time-based columns."
   ]
  },
  {
   "cell_type": "markdown",
   "metadata": {},
   "source": [
    "_Type your answer here, replacing this text._"
   ]
  },
  {
   "cell_type": "markdown",
   "metadata": {
    "deletable": false,
    "editable": false
   },
   "source": [
    "<!-- END QUESTION -->\n",
    "\n"
   ]
  },
  {
   "cell_type": "code",
   "execution_count": null,
   "metadata": {},
   "outputs": [],
   "source": [
    "# Use this cell for scratch work. If you need to add more cells for scratch work, add them BELOW this cell."
   ]
  },
  {
   "cell_type": "markdown",
   "metadata": {
    "deletable": false,
    "editable": false
   },
   "source": [
    "<!-- BEGIN QUESTION -->\n",
    "\n",
    "<br>\n",
    "\n",
    "--- \n",
    "### Question 1b\n",
    "For this assignment, we'll be using this data to study bike usage in Washington, DC. Based on the granularity and the variables present in the data, what might some limitations of using this data be? What are two additional data categories/variables that one could collect to address some of these limitations?"
   ]
  },
  {
   "cell_type": "markdown",
   "metadata": {},
   "source": [
    "_Type your answer here, replacing this text._"
   ]
  },
  {
   "cell_type": "markdown",
   "metadata": {
    "deletable": false,
    "editable": false
   },
   "source": [
    "<!-- END QUESTION -->\n",
    "\n"
   ]
  },
  {
   "cell_type": "code",
   "execution_count": null,
   "metadata": {},
   "outputs": [],
   "source": [
    "# Use this cell for scratch work. If you need to add more cells for scratch work, add them BELOW this cell."
   ]
  },
  {
   "cell_type": "markdown",
   "metadata": {
    "nbgrader": {
     "grade": false,
     "grade_id": "q1",
     "locked": true,
     "schema_version": 2,
     "solution": false
    }
   },
   "source": [
    "<hr style=\"border: 1px solid #fdb515;\" />\n",
    "\n",
    "## 2: Data Preparation\n",
    "A few of the variables that are numeric/integer actually encode categorical data. These include `holiday`, `weekday`, `workingday`, and `weathersit`. In the following problem, we will convert these four variables to strings specifying the categories. In particular, use 3-letter labels (`Sun`, `Mon`, `Tue`, `Wed`, `Thu`, `Fri`, and `Sat`) for `weekday`. You may simply use `yes`/`no` for `holiday` and `workingday`. \n",
    "\n",
    "In this question, we will *mutate* the `DataFrame`, **overwriting the corresponding variables in the data frame.** As opposed to creating a copy of the `DataFrame`, since we are making changes to `bike` directly, we term this to be an in-place data transformation. To keep track of these changes, our notebook will effectively document this in-place data transformation for future readers. Make sure to leave the underlying data file `bikeshare.txt` unmodified."
   ]
  },
  {
   "cell_type": "markdown",
   "metadata": {
    "deletable": false,
    "editable": false
   },
   "source": [
    "<br>\n",
    "\n",
    "--- \n",
    "### Question 2a (Decoding `weekday`, `workingday`, and `weathersit`)\n",
    "\n",
    "\n",
    "Decode the `holiday`, `weekday`, `workingday`, and `weathersit` fields:\n",
    "\n",
    "1. `holiday`: Convert to `yes` and `no`.  *Hint:* There are fewer holidays.\n",
    "1. `weekday`: Mutate the `'weekday'` column to use the 3-letter label (`'Sun'`, `'Mon'`, `'Tue'`, `'Wed'`, `'Thu'`, `'Fri'`, and `'Sat'`) instead of its current numerical values. Assume `0` corresponds to `Sun`, `1` to `Mon`, and so on, in order of the previous sentence.\n",
    "1. `workingday`: Convert to `yes` and `no`.\n",
    "1. `weathersit`: You should replace each value with one of `Clear`, `Mist`, `Light`, or `Heavy`. Assume `1` corresponds to `Clear`, `2` corresponds to `Mist`, and so on in order of the previous sentence.\n",
    "\n",
    "**Note:** If you mutate any of the tables above, then they will not be in the format of their original `.txt` file. As a debugging tip, if you want to revert changes, rerun the cell that loads in the `bike` `DataFrame`.\n",
    "\n",
    "**Hint:**  One approach is to use the `.replace`[(documentation)](https://pandas.pydata.org/pandas-docs/stable/reference/api/pandas.DataFrame.replace.html) method of the `pd.DataFrame` class."
   ]
  },
  {
   "cell_type": "code",
   "execution_count": null,
   "metadata": {
    "ExecuteTime": {
     "end_time": "2018-09-12T05:50:18.179751Z",
     "start_time": "2018-09-12T05:50:18.145438Z"
    },
    "nbgrader": {
     "grade": false,
     "grade_id": "q1a-answer",
     "locked": false,
     "schema_version": 2,
     "solution": true
    },
    "tags": [
     "student"
    ]
   },
   "outputs": [],
   "source": [
    "# Modify holiday, weekday, workingday, and weathersit here.\n",
    "...\n",
    "bike = ...\n",
    "bike.head()"
   ]
  },
  {
   "cell_type": "code",
   "execution_count": null,
   "metadata": {
    "deletable": false,
    "editable": false
   },
   "outputs": [],
   "source": [
    "grader.check(\"q2a\")"
   ]
  },
  {
   "cell_type": "markdown",
   "metadata": {
    "deletable": false,
    "editable": false
   },
   "source": [
    "<br>\n",
    "\n",
    "--- \n",
    "### Question 2b (Wednesdays)\n",
    "\n",
    "How many entries in `bike` correspond to Wednesdays? Set the variable `num_wednesdays` to this value."
   ]
  },
  {
   "cell_type": "code",
   "execution_count": null,
   "metadata": {
    "ExecuteTime": {
     "end_time": "2018-09-12T05:50:18.192975Z",
     "start_time": "2018-09-12T05:50:18.188135Z"
    },
    "nbgrader": {
     "grade": false,
     "grade_id": "q1b-answer",
     "locked": false,
     "schema_version": 2,
     "solution": true
    },
    "tags": []
   },
   "outputs": [],
   "source": [
    "num_wednesdays = ...\n",
    "num_wednesdays"
   ]
  },
  {
   "cell_type": "code",
   "execution_count": null,
   "metadata": {
    "deletable": false,
    "editable": false
   },
   "outputs": [],
   "source": [
    "grader.check(\"q2b\")"
   ]
  },
  {
   "cell_type": "markdown",
   "metadata": {
    "deletable": false,
    "editable": false
   },
   "source": [
    "<br>\n",
    "\n",
    "--- \n",
    "### Question 2c (Computing Daily Total Counts)\n",
    "In the next few questions, we will be analyzing the daily number of registered and unregistered users.\n",
    "\n",
    "Construct a `DataFrame` named `daily_counts` indexed by `dteday` with the following columns:\n",
    "* `casual`: total number of casual riders for each day.\n",
    "* `registered`: total number of registered riders for each day.\n",
    "* `workingday`: whether that day is a working day or not (`yes` or `no`).\n",
    "\n",
    "**Hint:** This question is similar to Question 2b in Homework 3."
   ]
  },
  {
   "cell_type": "code",
   "execution_count": null,
   "metadata": {
    "ExecuteTime": {
     "end_time": "2018-09-12T05:50:18.215897Z",
     "start_time": "2018-09-12T05:50:18.198322Z"
    },
    "nbgrader": {
     "grade": false,
     "grade_id": "q1c-answer",
     "locked": false,
     "schema_version": 2,
     "solution": true
    },
    "tags": [
     "student"
    ]
   },
   "outputs": [],
   "source": [
    "daily_counts = ...\n",
    "daily_counts.head()"
   ]
  },
  {
   "cell_type": "code",
   "execution_count": null,
   "metadata": {
    "deletable": false,
    "editable": false
   },
   "outputs": [],
   "source": [
    "grader.check(\"q2c\")"
   ]
  },
  {
   "cell_type": "markdown",
   "metadata": {
    "nbgrader": {
     "grade": false,
     "grade_id": "q2",
     "locked": true,
     "schema_version": 2,
     "solution": false
    }
   },
   "source": [
    "<hr style=\"border: 1px solid #fdb515;\" />\n",
    "\n",
    "## 3: Exploring the Distribution of Riders\n",
    "\n",
    "Let's begin by comparing the distribution of the daily counts of casual and registered riders. Questions 3-8 require using many visualization methods, so for your convenience, we have summarized a few useful ones below.\n",
    "\n",
    "### Matplotlib and Seaborn Table of Common Functions\n",
    "\n",
    "`x` and `y` are sequences of values (i.e., arrays, lists, or `Series`).\n",
    "\n",
    "| Function | Description |\n",
    "| -------- | ----------- |\n",
    "| `plt.title(name)` | Adds a title `name` to the current plot. |\n",
    "| `plt.xlabel(name)` | Adds a label `name` to the x-axis. |\n",
    "| `plt.ylabel(name)` | Adds a label `name` to the y-axis. |\n",
    "| `plt.plot(x, y)` | Creates a line plot of `x` against `y`. |\n",
    "| `plt.scatter(x, y)` | Creates a scatter plot of `x` against `y`. |\n",
    "| `plt.hist(x, bins=None)` | Creates a histogram of `x`; `bins` can be an integer or a sequence. |\n",
    "| `plt.bar(x, height)` | Creates a bar plot of categories `x` and corresponding heights `height`. |\n",
    "|`sns.histplot(data=, x=, y=, hue=, kde=)` | Creates a distribution plot; `data` is a `DataFrame`; `x`, `y` are column names in `data` that specify positions on the `x` and `y` axes; `hue` is a column name in `data` that adds subcategories to the plot based on `hue`; `kde` is a boolean that determines whether to overlay a KDE curve. |\n",
    "|`sns.lineplot(data=, x=, y=, hue=)` | Creates a line plot. |\n",
    "|`sns.scatterplot(data=, x=, y=, hue=, size=)` | Creates a scatter plot; `size` is a vector that contains the size of the point for each subcategory based on `hue`. |\n",
    "|`sns.kdeplot(data=, x=, y=)` | Creates a kernel density estimate plot; `data` is a `DataFrame`; `x`, `y` are column names in `data` that specify positions on the `x` and `y` axes. |\n",
    "|`sns.jointplot(data=, x=, y=, kind=)` | Creates a joint plot of 2 variables with a KDE plot in the middle and a distribution plot for each variable on the sides; `kind` determines the visualization type for the distribution plot, can be `scatter`, `kde` or `hist`. |\n",
    "\n",
    "**Note**: This list of functions and parameters is **not** exhaustive. You may need to reference and explore more documentation to answer the following questions, but we will help you through that process. "
   ]
  },
  {
   "cell_type": "markdown",
   "metadata": {
    "deletable": false,
    "editable": false
   },
   "source": [
    "<!-- BEGIN QUESTION -->\n",
    "\n",
    "<br>\n",
    "\n",
    "--- \n",
    "### Question 3a\n",
    "\n",
    "Use the `sns.histplot`[(documentation)](https://seaborn.pydata.org/generated/seaborn.histplot.html#seaborn.histplot) function to create a plot that overlays the distribution of the daily counts of bike users, using blue to represent `casual` riders, and green to represent `registered` riders. The temporal granularity of the records should be daily counts, which you should have after completing question 2.c. In other words, you should be using `daily_counts` to answer this question.\n",
    "\n",
    "**Hints:** \n",
    "- You will need to set the `stat` parameter appropriately to match the desired plot.\n",
    "- The `label` parameter of `sns.histplot` allows you to specify, as a string, how the plot should be labeled in the legend. For example, passing in `label=\"My data\"` would give your plot the label \"My data\" in the legend.\n",
    "- You will need to make two calls to `sns.histplot`.\n",
    " \n",
    "\n",
    "Include a `legend`, `xlabel`, `ylabel`, and `title`. Read the [seaborn plotting tutorial](https://seaborn.pydata.org/tutorial/distributions.html) if you're not sure how to add these. After creating the plot, look at it and make sure you understand what the plot is actually telling us, e.g., on a given day, the most likely number of registered riders we expect is ~4000, but it could be anywhere from nearly 0 to 7000.\n",
    "\n",
    "<img src='images/casual_v_registered.png' width=\"700px\" />\n",
    "\n",
    "For all visualizations in Data 100, our grading team will evaluate your plot based on its similarity to the provided example. While your plot does not need to be _identical_ to the example shown, we do expect it to capture its main features, such as the **general shape of the distribution**, the **axis labels**, the **legend**, and the **title**. It is okay if your plot contains small stylistic differences, such as differences in color, line weight, font, or size/scale."
   ]
  },
  {
   "cell_type": "code",
   "execution_count": null,
   "metadata": {
    "ExecuteTime": {
     "end_time": "2018-09-12T05:50:18.436723Z",
     "start_time": "2018-09-12T05:50:18.223712Z"
    },
    "nbgrader": {
     "grade": true,
     "grade_id": "q2a-answer",
     "locked": false,
     "points": 2,
     "schema_version": 2,
     "solution": true
    },
    "tags": [
     "student"
    ]
   },
   "outputs": [],
   "source": [
    "..."
   ]
  },
  {
   "cell_type": "markdown",
   "metadata": {
    "deletable": false,
    "editable": false
   },
   "source": [
    "<!-- END QUESTION -->\n",
    "\n",
    "<!-- BEGIN QUESTION -->\n",
    "\n",
    "<br>\n",
    "\n",
    "--- \n",
    "### Question 3b\n",
    "\n",
    "In the cell below, describe the differences you notice between the density curves for casual and registered riders.  Consider concepts such as modes, symmetry, skewness, tails, gaps, and outliers. Include a comment on the spread of the distributions. "
   ]
  },
  {
   "cell_type": "markdown",
   "metadata": {},
   "source": [
    "_Type your answer here, replacing this text._"
   ]
  },
  {
   "cell_type": "markdown",
   "metadata": {
    "deletable": false,
    "editable": false
   },
   "source": [
    "<!-- END QUESTION -->\n",
    "\n",
    "<!-- BEGIN QUESTION -->\n",
    "\n",
    "<br>\n",
    "\n",
    "--- \n",
    "### Question 3c\n",
    "\n",
    "The density plots do not show us how the counts for `registered` and `casual` riders vary together. Use `sns.lmplot` [(documentation)](https://seaborn.pydata.org/generated/seaborn.lmplot.html) to make a scatter plot to investigate the relationship between casual and registered counts. This time, let's use the `bike` `DataFrame` to plot hourly counts instead of daily counts.\n",
    "\n",
    "The `lmplot` function will also try and draw a linear regression line (just as you saw in Data 8). Color the points in the scatterplot according to whether or not the day is a working day (your colors do not have to match ours exactly, but they should be different based on whether the day is a working day). \n",
    "\n",
    "\n",
    "<img src='images/casual_registered_working_nonworking.png' width=\"800px\"  />\n",
    "\n",
    "**Hints:** \n",
    "* Check out this helpful [tutorial on `lmplot`](https://seaborn.pydata.org/tutorial/regression.html).\n",
    "* There are many points in the scatter plot, so make them small to help reduce overplotting. Check out the `scatter_kws` parameter of `lmplot`.\n",
    "* You can set the `height` parameter if you want to adjust the size of the `lmplot`.\n",
    "* Add a descriptive title and axis labels for your plot.\n",
    "* You should be using the `bike` `DataFrame` to create your plot.\n",
    "* It is okay if the scales of your `x` and `y` axis (i.e., the numbers labeled on the two axes) are different from those used in the provided example."
   ]
  },
  {
   "cell_type": "code",
   "execution_count": null,
   "metadata": {
    "ExecuteTime": {
     "end_time": "2018-09-12T05:50:19.737393Z",
     "start_time": "2018-09-12T05:50:18.438733Z"
    },
    "nbgrader": {
     "grade": true,
     "grade_id": "q2c-answer",
     "locked": false,
     "points": 2,
     "schema_version": 2,
     "solution": true
    },
    "tags": [
     "student",
     "written"
    ]
   },
   "outputs": [],
   "source": [
    "sns.set(font_scale=1) # This line automatically makes the font size a bit bigger on the plot. You do not need to change this line\n",
    "..."
   ]
  },
  {
   "cell_type": "markdown",
   "metadata": {
    "deletable": false,
    "editable": false
   },
   "source": [
    "<!-- END QUESTION -->\n",
    "\n",
    "<!-- BEGIN QUESTION -->\n",
    "\n",
    "<br>\n",
    "\n",
    "--- \n",
    "### Question 3d\n",
    "\n",
    "What does this scatterplot seem to reveal about the relationship (if any) between casual and registered riders and whether or not the day is on the weekend? What effect does overplotting have on your ability to describe this relationship?"
   ]
  },
  {
   "cell_type": "markdown",
   "metadata": {},
   "source": [
    "_Type your answer here, replacing this text._"
   ]
  },
  {
   "cell_type": "markdown",
   "metadata": {
    "deletable": false,
    "editable": false,
    "nbgrader": {
     "grade": false,
     "grade_id": "q3a",
     "locked": true,
     "schema_version": 2,
     "solution": false
    }
   },
   "source": [
    "<!-- END QUESTION -->\n",
    "\n",
    "<hr style=\"border: 1px solid #fdb515;\" />\n",
    "\n",
    "## 4: Visualization\n",
    " \n",
    "To address overplotting, let's try visualizing the data with another technique, the bivariate kernel density estimate. You will want to read up on the documentation for `sns.kdeplot`, which can be found [here](https://seaborn.pydata.org/generated/seaborn.kdeplot.html). The result we wish to achieve should be a plot that looks like this:\n",
    "\n",
    "<img src='images/bivariate_kde_of_daily_rider_types_simple.png' width=\"600px\" />"
   ]
  },
  {
   "cell_type": "markdown",
   "metadata": {
    "nbgrader": {
     "grade": false,
     "grade_id": "cell-1572ce18192a0036",
     "locked": true,
     "schema_version": 2,
     "solution": false
    }
   },
   "source": [
    "A basic KDE plot of all the data is quite easy to generate. However, this plot combines both weekend and weekday data, which isn't what we want (see the example figure above)."
   ]
  },
  {
   "cell_type": "code",
   "execution_count": null,
   "metadata": {
    "nbgrader": {
     "grade": false,
     "grade_id": "cell-e177fd6f517469dd",
     "locked": true,
     "schema_version": 2,
     "solution": false
    },
    "tags": []
   },
   "outputs": [],
   "source": [
    "sns.kdeplot(data=daily_counts, x='casual', y='registered')\n",
    "plt.title('KDE Plot Comparison of Registered vs Casual Riders');"
   ]
  },
  {
   "cell_type": "markdown",
   "metadata": {
    "deletable": false,
    "editable": false
   },
   "source": [
    "<!-- BEGIN QUESTION -->\n",
    "\n",
    "<br>\n",
    "\n",
    "--- \n",
    "\n",
    "### Question 4a (Bivariate Kernel Density Plot)"
   ]
  },
  {
   "cell_type": "markdown",
   "metadata": {
    "deletable": false,
    "editable": false
   },
   "source": [
    "Generate a bivariate kernel density plot with workday and non-workday separated using the `daily_counts` `DataFrame`.\n",
    "\n",
    "**Hints:** You only need to call `sns.kdeplot` once. Take a look at the `hue` parameter and adjust other inputs as needed.\n",
    " \n",
    "After you get your plot working, experiment by setting `fill=True` in `kdeplot` to see the difference between the shaded and unshaded versions. Please submit your work with `fill=False`. "
   ]
  },
  {
   "cell_type": "code",
   "execution_count": null,
   "metadata": {
    "tags": []
   },
   "outputs": [],
   "source": [
    "# Set the figure size for the plot\n",
    "plt.figure(figsize=(12,8))\n",
    "\n",
    "..."
   ]
  },
  {
   "cell_type": "markdown",
   "metadata": {
    "deletable": false,
    "editable": false
   },
   "source": [
    "<!-- END QUESTION -->\n",
    "\n",
    "<!-- BEGIN QUESTION -->\n",
    "\n",
    "<br>\n",
    "\n",
    "--- \n",
    "### Question 4b\n",
    "<img src='images/bivariate_kde_of_daily_rider_types_gradient.png' width=\"800px\" />\n",
    "\n",
    "With some modification to your 4a code (this modification is not in scope), we can generate the plot above. In your own words, describe what the lines and the color shades of the lines signify about the data. What does each line and color represent? \n",
    "\n",
    "**Hint**: You may find it helpful to compare it to a contour or topographical map as shown [here](https://gisgeography.com/contour-lines-topographic-map/)."
   ]
  },
  {
   "cell_type": "markdown",
   "metadata": {},
   "source": [
    "_Type your answer here, replacing this text._"
   ]
  },
  {
   "cell_type": "markdown",
   "metadata": {
    "deletable": false,
    "editable": false
   },
   "source": [
    "<!-- END QUESTION -->\n",
    "\n",
    "<!-- BEGIN QUESTION -->\n",
    "\n",
    "<br>\n",
    "\n",
    "--- \n",
    "### Question 4c\n",
    "\n",
    "What additional details about the riders can you identify from this contour plot that were difficult to determine from the scatter plot?"
   ]
  },
  {
   "cell_type": "markdown",
   "metadata": {},
   "source": [
    "_Type your answer here, replacing this text._"
   ]
  },
  {
   "cell_type": "markdown",
   "metadata": {
    "deletable": false,
    "editable": false
   },
   "source": [
    "<!-- END QUESTION -->\n",
    "\n",
    "<!-- BEGIN QUESTION -->\n",
    "\n",
    "<hr style=\"border: 1px solid #fdb515;\" />\n",
    "\n",
    "## 5: Joint Plot\n",
    "\n",
    "As an alternative approach to visualizing the data, construct the following set of three plots where the main plot shows the contours of the kernel density estimate of daily counts for registered and casual riders plotted together, and the two \"margin\" plots (at the top and right of the figure) provide the univariate kernel density estimate of each of these variables. Note that this plot makes it harder to see the linear relationships between casual and registered for the two different conditions (weekday vs. weekend). You should be making use of `daily_counts`.\n",
    "\n",
    "<img src=\"images/joint_distribution_of_daily_rider_types.png\" width=\"600px\" />\n",
    "\n",
    "**Hints**:\n",
    "* The [seaborn plotting tutorial](https://seaborn.pydata.org/tutorial/distributions.html) has examples that may be helpful.\n",
    "* Take a look at `sns.jointplot` and its `kind` parameter.\n",
    "* `set_axis_labels` can be used to rename axes on a `seaborn` plot.\n",
    "For example, if we wanted to plot a scatterplot with 'Height' on the x-axis and 'Weight' on the y-axis from some dataset `stats_df`, we could write the following:\n",
    "\n",
    "`graph = sns.scatterplot(data=stats_df, x='Height', y='Weight')`\n",
    "\n",
    "`graph.set_axis_labels(\"Height (cm)\", \"Weight (kg)\")`\n",
    "\n",
    "\n",
    "**Note**:\n",
    "* At the end of the cell, we called `plt.suptitle` to set a custom location for the title.\n",
    "* We also called `plt.subplots_adjust(top=0.9)` in case your title overlaps with your plot."
   ]
  },
  {
   "cell_type": "code",
   "execution_count": null,
   "metadata": {
    "ExecuteTime": {
     "end_time": "2018-09-12T05:50:23.660490Z",
     "start_time": "2018-09-12T05:50:21.838925Z"
    },
    "nbgrader": {
     "grade": true,
     "grade_id": "q3c-answer",
     "locked": false,
     "points": 2,
     "schema_version": 2,
     "solution": true
    },
    "tags": [
     "student",
     "written"
    ]
   },
   "outputs": [],
   "source": [
    "...\n",
    "plt.suptitle(\"KDE Contours of Casual vs Registered Rider Count\")\n",
    "plt.subplots_adjust(top=0.9);"
   ]
  },
  {
   "cell_type": "markdown",
   "metadata": {
    "deletable": false,
    "editable": false
   },
   "source": [
    "<!-- END QUESTION -->\n",
    "\n",
    "<!-- BEGIN QUESTION -->\n",
    "\n",
    "<hr style=\"border: 1px solid #fdb515;\" />\n",
    "\n",
    "## 6: Understanding Daily Patterns\n",
    "\n",
    "<br>\n",
    "\n",
    "--- \n",
    "\n",
    "### Question 6a\n",
    "Let's examine the behavior of riders by plotting the average number of riders for each hour of the day over the **entire dataset** (that is, `bike` `DataFrame`), stratified by rider type.  \n",
    "\n",
    "Your plot should look exactly like the plot below. It's fine if your plot's colors don't match ours exactly, but your plot should contain a legend and different colored lines for different kinds of riders, in addition to the title and axis labels.\n",
    "\n",
    "**Note:** Your plot should not have any type of confidence interval shading. If it does, double check that you are computing the average number of riders for each hour of the day before plotting.\n",
    "\n",
    "<img src=\"images/diurnal_bikes.png\" width=\"800px\"/>\n"
   ]
  },
  {
   "cell_type": "code",
   "execution_count": null,
   "metadata": {
    "ExecuteTime": {
     "end_time": "2018-09-12T05:50:26.768572Z",
     "start_time": "2018-09-12T05:50:25.371208Z"
    },
    "nbgrader": {
     "grade": true,
     "grade_id": "q5a-answer",
     "locked": false,
     "points": 2,
     "schema_version": 2,
     "solution": true
    },
    "tags": [
     "student",
     "written"
    ]
   },
   "outputs": [],
   "source": [
    "..."
   ]
  },
  {
   "cell_type": "markdown",
   "metadata": {
    "deletable": false,
    "editable": false
   },
   "source": [
    "<!-- END QUESTION -->\n",
    "\n",
    "<!-- BEGIN QUESTION -->\n",
    "\n",
    "<br>\n",
    "\n",
    "--- \n",
    "### Question 6b\n",
    "\n",
    "What can you observe from the plot? Discuss your observations for both types of riders, and hypothesize about the meaning of the peaks in the registered riders' distribution."
   ]
  },
  {
   "cell_type": "markdown",
   "metadata": {},
   "source": [
    "_Type your answer here, replacing this text._"
   ]
  },
  {
   "cell_type": "markdown",
   "metadata": {
    "deletable": false,
    "editable": false
   },
   "source": [
    "<!-- END QUESTION -->\n",
    "\n",
    "<hr style=\"border: 1px solid #fdb515;\" />\n",
    "\n",
    "## 7: Exploring Ride-Sharing and Weather\n",
    "Now let's examine how the weather is affecting riders' behavior. First, let's look at how the proportion of casual riders changes as the weather changes.\n",
    "\n",
    "<br>\n",
    "\n",
    "--- \n",
    "\n",
    "### Question 7a\n",
    "Create a new column `prop_casual` in the `bike` `DataFrame` representing the proportion of casual riders out of all riders for each record."
   ]
  },
  {
   "cell_type": "code",
   "execution_count": null,
   "metadata": {
    "ExecuteTime": {
     "end_time": "2018-09-12T05:50:26.774129Z",
     "start_time": "2018-09-12T05:50:26.770558Z"
    },
    "nbgrader": {
     "grade": false,
     "grade_id": "q6a-answer",
     "locked": false,
     "schema_version": 2,
     "solution": true
    },
    "tags": [
     "student"
    ]
   },
   "outputs": [],
   "source": [
    "..."
   ]
  },
  {
   "cell_type": "code",
   "execution_count": null,
   "metadata": {
    "deletable": false,
    "editable": false
   },
   "outputs": [],
   "source": [
    "grader.check(\"q7a\")"
   ]
  },
  {
   "cell_type": "markdown",
   "metadata": {
    "nbgrader": {
     "grade": false,
     "grade_id": "q6b",
     "locked": true,
     "schema_version": 2,
     "solution": false
    }
   },
   "source": [
    "\n",
    "In order to examine the relationship between the proportion of casual riders and temperature, we can create a scatterplot using [`sns.scatterplot`](https://seaborn.pydata.org/generated/seaborn.scatterplot.html). We can even use color/hue to encode the information about the day of the week. Run the cell below, and you'll see we end up with a big mess that is impossible to interpret."
   ]
  },
  {
   "cell_type": "code",
   "execution_count": null,
   "metadata": {
    "nbgrader": {
     "grade": false,
     "grade_id": "cell-728459bdb0b60604",
     "locked": true,
     "schema_version": 2,
     "solution": false
    },
    "tags": []
   },
   "outputs": [],
   "source": [
    "plt.figure(figsize=(10, 7))\n",
    "sns.scatterplot(data=bike, x='temp', y='prop_casual', hue='weekday');"
   ]
  },
  {
   "cell_type": "markdown",
   "metadata": {
    "nbgrader": {
     "grade": false,
     "grade_id": "cell-1afe9e99d20a4374",
     "locked": true,
     "schema_version": 2,
     "solution": false
    }
   },
   "source": [
    "We could attempt linear regression using `sns.lmplot` as shown below, which hints at some relationships between temperature and proportional casual, but the plot is still fairly unconvincing. "
   ]
  },
  {
   "cell_type": "code",
   "execution_count": null,
   "metadata": {
    "ExecuteTime": {
     "end_time": "2018-09-12T05:50:28.645562Z",
     "start_time": "2018-09-12T05:50:26.781870Z"
    },
    "nbgrader": {
     "grade": false,
     "grade_id": "q6b-lmplot",
     "locked": true,
     "schema_version": 2,
     "solution": false
    }
   },
   "outputs": [],
   "source": [
    "sns.lmplot(data=bike, x='temp', y='prop_casual', hue='weekday', scatter_kws={\"s\": 20}, height=10)\n",
    "plt.title(\"Proportion of Casual Riders by Weekday\");"
   ]
  },
  {
   "cell_type": "markdown",
   "metadata": {
    "nbgrader": {
     "grade": false,
     "grade_id": "cell-980b34b254817347",
     "locked": true,
     "schema_version": 2,
     "solution": false
    }
   },
   "source": [
    "A better approach is to use local smoothing. The basic idea is that for each `x` value, we compute some sort of representative `y` value that captures the data close to that `x` value. One technique for local smoothing is \"Locally Weighted Scatterplot Smoothing\" or LOWESS. We have shown an example below. The red curve shown is a smoothed version of the scatterplot."
   ]
  },
  {
   "cell_type": "code",
   "execution_count": null,
   "metadata": {
    "ExecuteTime": {
     "end_time": "2018-09-12T05:50:28.793327Z",
     "start_time": "2018-09-12T05:50:28.646991Z"
    },
    "nbgrader": {
     "grade": false,
     "grade_id": "cell-fae506cbd94f98bc",
     "locked": true,
     "schema_version": 2,
     "solution": false
    }
   },
   "outputs": [],
   "source": [
    "from statsmodels.nonparametric.smoothers_lowess import lowess\n",
    "# Make noisy data\n",
    "x_obs = np.sort(np.random.rand(100)*4.0 - 2)\n",
    "y_obs = np.exp(x_obs) + np.random.randn(100) / 2.0\n",
    "\n",
    "# Plot a regular scatterplot with our noisy data \n",
    "sns.scatterplot(x=x_obs, y=y_obs, label=\"Raw Data\")\n",
    "\n",
    "# Pass in the noisy data to lowess to generate the smoothed y-values, \n",
    "# we want to preserve the relative ordering of the y-values, which is why return_sorted=False\n",
    "y_smooth = lowess(y_obs, x_obs, return_sorted=False)\n",
    "\n",
    "# Plot a red line using the smoothed y-values\n",
    "sns.lineplot(x=x_obs, y=y_smooth, label=\"Smoothed Estimator\", color='red')\n",
    "plt.legend();"
   ]
  },
  {
   "cell_type": "markdown",
   "metadata": {
    "deletable": false,
    "editable": false
   },
   "source": [
    "<!-- BEGIN QUESTION -->\n",
    "\n",
    "<br>\n",
    "\n",
    "--- \n",
    "### Question 7b"
   ]
  },
  {
   "cell_type": "markdown",
   "metadata": {
    "deletable": false,
    "editable": false
   },
   "source": [
    "In our case, with the bike ridership data, we want 7 curves, one for each day of the week. The x-axis will be the temperature (as given in the `'temp'` column), and the y-axis will be a smoothed version of the proportion of casual riders. \n",
    "\n",
    "<img src=\"images/curveplot_temp_prop_casual.png\" width=\"600px\" />\n",
    "\n",
    "You should use [`statsmodels.nonparametric.smoothers_lowess.lowess`](http://www.statsmodels.org/dev/generated/statsmodels.nonparametric.smoothers_lowess.lowess.html) just like the example above. Unlike the example above, plot ONLY the lowess curve. Do not plot the actual data, which would result in overplotting. For this problem, the simplest way is to use a loop.\n",
    "\n",
    "You do not need to match the colors on our sample plot as long as the colors in your plot make it easy to distinguish which day they represent.\n",
    "\n",
    "**Hints:** \n",
    "* Start by plotting only one day of the week to make sure you can do that first. Then, consider using a `for` loop to repeat this plotting operation for all days of the week.\n",
    "\n",
    "* The `lowess` function expects the `y` coordinate first, then the `x` coordinate. You should also set the `return_sorted` field to `False`.\n",
    "\n",
    "* **You will need to rescale the normalized temperatures stored in this dataset to Fahrenheit values.** Look at the section of this notebook titled 'Loading Bike Sharing Data' for a description of the (normalized) temperature field to know how to convert back to Celsius first. After doing so, convert it to Fahrenheit. By default, the temperature field ranges from 0.0 to 1.0. In case you need it, $\\text{Fahrenheit} = \\text{Celsius} \\times \\frac{9}{5} + 32$.\n",
    "\n",
    "Note: If you prefer plotting temperatures in Celsius, that's fine as well! Just remember to convert accordingly so the graph is still interpretable."
   ]
  },
  {
   "cell_type": "code",
   "execution_count": null,
   "metadata": {
    "nbgrader": {
     "grade": true,
     "grade_id": "cell-831d12249d05ea2c",
     "locked": false,
     "points": 4,
     "schema_version": 2,
     "solution": true
    },
    "tags": []
   },
   "outputs": [],
   "source": [
    "from statsmodels.nonparametric.smoothers_lowess import lowess\n",
    "\n",
    "plt.figure(figsize=(10,8))\n",
    "..."
   ]
  },
  {
   "cell_type": "markdown",
   "metadata": {
    "deletable": false,
    "editable": false
   },
   "source": [
    "<!-- END QUESTION -->\n",
    "\n",
    "<!-- BEGIN QUESTION -->\n",
    "\n",
    "<br>\n",
    "\n",
    "--- \n",
    "### Question 7c\n",
    "What do you observe in the above plot? How is `prop_casual` changing as a function of temperature? Do you notice anything else interesting?"
   ]
  },
  {
   "cell_type": "markdown",
   "metadata": {},
   "source": [
    "_Type your answer here, replacing this text._"
   ]
  },
  {
   "cell_type": "markdown",
   "metadata": {
    "deletable": false,
    "editable": false
   },
   "source": [
    "<!-- END QUESTION -->\n",
    "\n",
    "<hr style=\"border: 1px solid #fdb515;\" />\n",
    "\n",
    "## 8: Expanding our Analysis"
   ]
  },
  {
   "cell_type": "markdown",
   "metadata": {
    "deletable": false,
    "editable": false
   },
   "source": [
    "<!-- BEGIN QUESTION -->\n",
    "\n",
    "<br>\n",
    "\n",
    "--- \n",
    "\n",
    "### Question 8a\n",
    "\n",
    "Imagine you are working for a bike-sharing company that collaborates with city planners, transportation agencies, and policymakers in order to implement bike-sharing in a city. These stakeholders would like to reduce congestion and lower transportation costs. They also want to ensure the bike-sharing program is implemented equitably. In this sense, equity is a social value that informs the deployment and assessment of your bike-sharing technology. \n",
    "\n",
    "Equity in transportation includes: Improving the ability of people of different socio-economic classes, genders, races, and neighborhoods to access and afford transportation services and assessing how inclusive transportation systems are over time. \n",
    "\n",
    "Do you think the `bike` data as it is can help you assess equity? If so, please explain. If not, how would you change the dataset? You may discuss how you would change the granularity, what other kinds of variables you'd introduce to it, or anything else that might help you answer this question.\n",
    "\n",
    "**Note**: There is no single \"right\" answer to this question – we are looking for thoughtful reflection and commentary on whether or not this dataset, in its current form, encodes information about equity.\n"
   ]
  },
  {
   "cell_type": "markdown",
   "metadata": {},
   "source": [
    "_Type your answer here, replacing this text._"
   ]
  },
  {
   "cell_type": "markdown",
   "metadata": {
    "deletable": false,
    "editable": false
   },
   "source": [
    "<!-- END QUESTION -->\n",
    "\n"
   ]
  },
  {
   "cell_type": "code",
   "execution_count": null,
   "metadata": {},
   "outputs": [],
   "source": [
    "# Use this cell for scratch work. If you need to add more cells for scratch work, add them BELOW this cell."
   ]
  },
  {
   "cell_type": "markdown",
   "metadata": {
    "deletable": false,
    "editable": false
   },
   "source": [
    "<!-- BEGIN QUESTION -->\n",
    "\n",
    "<br>\n",
    "\n",
    "--- \n",
    "### Question 8b\n",
    "[Bike sharing is growing in popularity](https://www.bts.gov/newsroom/bike-share-stations-us), and new cities and regions are making efforts to implement bike-sharing systems that complement their other transportation offerings. The [goals of these efforts](https://www.wired.com/story/americans-falling-in-love-bike-share/) are to have bike sharing serve as an alternate form of transportation in order to alleviate congestion, provide geographic connectivity, reduce carbon emissions, and promote inclusion among communities.\n",
    "\n",
    "Bike-sharing systems have spread to many cities across the country. The company you work for asks you to determine the feasibility of expanding bike sharing to additional cities in the US. \n",
    "\n",
    "Based on your plots in this assignment, would you recommend expanding bike sharing to additional cities in the US? If so, what cities (or types of cities) would you suggest? Please list at least two reasons why, and mention which plot(s) you drew your analysis from. \n",
    "\n",
    "**Note**: There isn't a set right or wrong answer for this question. Feel free to come up with your own conclusions based on evidence from your plots! \n"
   ]
  },
  {
   "cell_type": "markdown",
   "metadata": {},
   "source": [
    "_Type your answer here, replacing this text._"
   ]
  },
  {
   "cell_type": "markdown",
   "metadata": {
    "deletable": false,
    "editable": false
   },
   "source": [
    "<!-- END QUESTION -->\n",
    "\n"
   ]
  },
  {
   "cell_type": "code",
   "execution_count": null,
   "metadata": {},
   "outputs": [],
   "source": [
    "# Use this cell for scratch work. If you need to add more cells for scratch work, add them BELOW this cell."
   ]
  },
  {
   "cell_type": "markdown",
   "metadata": {},
   "source": [
    "<hr style=\"border: 5px solid #003262;\" />\n",
    "<hr style=\"border: 1px solid #fdb515;\" />\n",
    "\n",
    "## Congratulations! You have finished Homework 5!\n",
    "\n",
    "<img src = \"images/capybara.jpeg\" width = \"300\">\n",
    "\n",
    "### Course Content Feedback\n",
    "\n",
    "If you have any feedback about this assignment or about any of our other weekly, weekly assignments, lectures, or discussions, please fill out the [Course Content Feedback Form](https://forms.gle/owfPCGgnrju1xQEA9). Your input is valuable in helping us improve the quality and relevance of our content to better meet your needs and expectations!\n",
    "\n",
    "### Submission Instructions\n",
    "\n",
    "Below, you will see a cell. Running this cell will automatically generate a zip file with your autograded answers. Once you submit this file to the HW 5 Coding assignment on Gradescope, Gradescope will automatically submit a PDF file with your written answers to the HW 5 Written assignment. If you run into any issues when running this cell, feel free to check this [section](https://ds100.org/debugging-guide/autograder_gradescope/autograder_gradescope.html#why-does-grader.exportrun_teststrue-fail-if-all-previous-tests-passed) in the Data 100 Debugging Guide.\n",
    "\n",
    "**Important**: Please check that your **plots/graphs and written responses** were generated and submitted correctly to the HW 5 Written Assignment.\n",
    "\n",
    "**You are responsible for ensuring your submission follows our requirements and that the PDF for HW 5 written answers was generated/submitted correctly. We will not be granting regrade requests nor extensions to submissions that don't follow instructions.** If you encounter any difficulties with submission, please don't hesitate to reach out to staff prior to the deadline. "
   ]
  },
  {
   "cell_type": "code",
   "execution_count": null,
   "metadata": {},
   "outputs": [],
   "source": []
  },
  {
   "cell_type": "markdown",
   "metadata": {
    "deletable": false,
    "editable": false
   },
   "source": [
    "## Submission\n",
    "\n",
    "Make sure you have run all cells in your notebook in order before running the cell below, so that all images/graphs appear in the output. The cell below will generate a zip file for you to submit. **Please save before exporting!**"
   ]
  },
  {
   "cell_type": "code",
   "execution_count": null,
   "metadata": {
    "deletable": false,
    "editable": false
   },
   "outputs": [],
   "source": [
    "# Save your notebook first, then run this cell to export your submission.\n",
    "grader.export(run_tests=True)"
   ]
  },
  {
   "cell_type": "markdown",
   "metadata": {},
   "source": [
    " "
   ]
  }
 ],
 "metadata": {
  "celltoolbar": "Create Assignment",
  "kernelspec": {
   "display_name": "Python 3 (ipykernel)",
   "language": "python",
   "name": "python3"
  },
  "language_info": {
   "codemirror_mode": {
    "name": "ipython",
    "version": 3
   },
   "file_extension": ".py",
   "mimetype": "text/x-python",
   "name": "python",
   "nbconvert_exporter": "python",
   "pygments_lexer": "ipython3",
   "version": "3.11.9"
  },
  "otter": {
   "OK_FORMAT": true,
   "require_no_pdf_confirmation": true,
   "tests": {
    "q0": {
     "name": "q0",
     "points": 1,
     "suites": [
      {
       "cases": [
        {
         "code": ">>> type(q0) == str\nTrue",
         "hidden": false,
         "locked": false
        }
       ],
       "scored": true,
       "setup": "",
       "teardown": "",
       "type": "doctest"
      }
     ]
    },
    "q2a": {
     "name": "q2a",
     "points": 2,
     "suites": [
      {
       "cases": [
        {
         "code": ">>> isinstance(bike, pd.DataFrame)\nTrue",
         "hidden": false,
         "locked": false
        },
        {
         "code": ">>> bike['holiday'].dtype == np.dtype('O')\nTrue",
         "hidden": false,
         "locked": false
        },
        {
         "code": ">>> list(bike['holiday'].iloc[370:375]) == ['no', 'no', 'yes', 'yes', 'yes']\nTrue",
         "hidden": false,
         "locked": false
        },
        {
         "code": ">>> bike['weekday'].dtype == np.dtype('O')\nTrue",
         "hidden": false,
         "locked": false
        },
        {
         "code": ">>> bike['workingday'].dtype == np.dtype('O')\nTrue",
         "hidden": false,
         "locked": false
        },
        {
         "code": ">>> bike['weathersit'].dtype == np.dtype('O')\nTrue",
         "hidden": false,
         "locked": false
        }
       ],
       "scored": true,
       "setup": "",
       "teardown": "",
       "type": "doctest"
      }
     ]
    },
    "q2b": {
     "name": "q2b",
     "points": 1,
     "suites": [
      {
       "cases": [
        {
         "code": ">>> 1 <= num_wednesdays <= 10000\nTrue",
         "hidden": false,
         "locked": false
        }
       ],
       "scored": true,
       "setup": "",
       "teardown": "",
       "type": "doctest"
      }
     ]
    },
    "q2c": {
     "name": "q2c",
     "points": 3,
     "suites": [
      {
       "cases": [
        {
         "code": ">>> np.all(daily_counts.sort_index().index[0:5] == ['2011-01-01', '2011-01-02', '2011-01-03', '2011-01-04', '2011-01-05'])\nTrue",
         "hidden": false,
         "locked": false
        },
        {
         "code": ">>> type(daily_counts) == pd.DataFrame\nTrue",
         "hidden": false,
         "locked": false
        },
        {
         "code": ">>> np.isclose(np.round(daily_counts['casual'].var()), 471450)\nTrue",
         "hidden": false,
         "locked": false
        }
       ],
       "scored": true,
       "setup": "",
       "teardown": "",
       "type": "doctest"
      }
     ]
    },
    "q7a": {
     "name": "q7a",
     "points": 1,
     "suites": [
      {
       "cases": [
        {
         "code": ">>> int(bike['prop_casual'].sum()) == 2991\nTrue",
         "hidden": false,
         "locked": false
        }
       ],
       "scored": true,
       "setup": "",
       "teardown": "",
       "type": "doctest"
      }
     ]
    }
   }
  }
 },
 "nbformat": 4,
 "nbformat_minor": 4
}
