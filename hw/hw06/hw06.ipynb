{
 "cells": [
  {
   "cell_type": "code",
   "execution_count": null,
   "metadata": {
    "deletable": false,
    "editable": false
   },
   "outputs": [],
   "source": [
    "# Initialize Otter\n",
    "import otter\n",
    "grader = otter.Notebook(\"hw06.ipynb\")"
   ]
  },
  {
   "cell_type": "markdown",
   "metadata": {},
   "source": [
    "# Homework 6A: Sampling\n",
    "## Due Monday, July 8th, 11:59 PM PT\n",
    "\n",
    "You must submit this assignment to Gradescope by the on-time deadline, Monday, July 8th, 11:59 PM PT. Please read the syllabus for the grace period policy. No late submissions beyond the grace period will be accepted. While course staff is happy to help you if you encounter difficulties with submission, we may not be able to respond to late-night requests for assistance (TAs need to sleep, after all!). **We strongly encourage you to plan to submit your work to Gradescope several hours before the stated deadline.** This way, you will have ample time to contact staff for submission support. \n",
    "\n",
    "This is part of a two-part assignment. After completing this part (Homework 6A), please submit the generated zip file to the Homework 6A Coding assignment on Gradescope. Gradescope will automatically submit a PDF of your written responses to the HW 6A Written assignment; there is no need to submit it manually. **Note that you will have to submit HW 6B manually and assign pages accordingly.**\n",
    "\n",
    "## Collaboration Policy\n",
    "\n",
    "Data science is a collaborative activity. While you may talk with others about the homework, we ask that you **write your solutions individually**. If you do discuss the assignments with others please **include their names** below."
   ]
  },
  {
   "cell_type": "markdown",
   "metadata": {},
   "source": [
    "**Collaborators**: *list collaborators here*"
   ]
  },
  {
   "cell_type": "markdown",
   "metadata": {},
   "source": [
    "## This Assignment\n",
    "\n",
    "The purpose of this assignment is for you to understand the process of sampling, including convenience samples, random samples, as well as sampling biases. We will also practice drawing samples from a categorical distribution using `NumPy`.\n",
    "\n",
    "## Score Breakdown\n",
    "Question | Manual? | Points\n",
    "--- | --- | --\n",
    "1ai | No | 1\n",
    "1aii | No | 1\n",
    "1aiii | No | 1\n",
    "1bi | No | 1\n",
    "1bii | No | 1\n",
    "1biii | No | 1\n",
    "1biv | No | 1\n",
    "2a | No | 2\n",
    "2b | Yes | 2\n",
    "2c | Yes | 3\n",
    "2d | Yes | 2\n",
    "Total | 3 | 16\n"
   ]
  },
  {
   "cell_type": "markdown",
   "metadata": {},
   "source": [
    "## Before You Start\n",
    "\n",
    "For each question in the assignment, please write down your answer in the answer cell(s) right below the question.\n",
    "\n",
    "We understand that it is helpful to have extra cells breaking down the process towards reaching your final answer. If you happen to create new cells below your answer to run code, **NEVER** add cells between a question cell and the answer cell below it. It will cause errors when we run the autograder, and it will sometimes cause a failure to generate the PDF file.\n",
    "\n",
    "**Important note: The local autograder tests will not be comprehensive. You can pass the automated tests in your notebook but still fail tests on Gradescope after the grades are released.** Please be sure to check your results carefully.\n",
    "\n",
    "Finally, unless we state otherwise, **do not use for loops or list comprehensions**. The majority of this assignment can be done using built-in commands in `pandas` and `NumPy`.\n",
    "\n",
    "### Debugging Guide\n",
    "\n",
    "If you run into any technical issues, we highly recommend checking out the [Data 100 Debugging Guide](https://ds100.org/debugging-guide/). In this guide, you can find general questions about Datahub, Gradescope, common `pandas` and RegEx errors, and visualizations."
   ]
  },
  {
   "cell_type": "markdown",
   "metadata": {},
   "source": [
    "### Initialize your environment"
   ]
  },
  {
   "cell_type": "code",
   "execution_count": null,
   "metadata": {},
   "outputs": [],
   "source": [
    "import numpy as np\n",
    "np.random.seed(200)\n",
    "import matplotlib\n",
    "import matplotlib.pyplot as plt\n",
    "import seaborn as sns\n",
    "plt.style.use('fivethirtyeight')"
   ]
  },
  {
   "cell_type": "markdown",
   "metadata": {},
   "source": [
    "<br/><br/>\n",
    "<hr style=\"border: 5px solid #003262;\" />\n",
    "<hr style=\"border: 1px solid #fdb515;\" />\n",
    "\n",
    "## Data 100 Cutest Pets Contest\n",
    "\n",
    "Welcome to the Data 100 Cutest Pets Contest, Summer 2024 edition! Course staff nominate their pets to participate in this contest. Students will vote on the cutest one among the nominations in the final exam.\n",
    "\n",
    "The nominees are:\n",
    "\n",
    "<img src='images/momo.jpg' width=\"180px\" /> <img src='images/allie.jpg' width=\"180px\" /> <img src='images/mitski.jpg' width=\"180px\" /> \n",
    "\n",
    "(From left to right) **Momo** (Maya's cat), **Allie** (Angela's cat), and **Mitski** (Jacob's cat).\n",
    "\n",
    "Course staff would like to predict the results for the official survey later in the semester by surveying students in the class now. This process is similar to polling that occurs before a political election.\n",
    "\n",
    "In this section, you are going to explore different sampling methods.\n",
    "<br/><br/>\n",
    "\n",
    "<hr style=\"border: 1px solid #fdb515;\" />\n",
    "\n",
    "## Question 1"
   ]
  },
  {
   "cell_type": "markdown",
   "metadata": {
    "deletable": false,
    "editable": false,
    "tags": []
   },
   "source": [
    "<br>\n",
    "\n",
    "---\n",
    "\n",
    "### Question 1a\n",
    "\n",
    "Since his cat, Mitski, is nominated, Jacob would like to understand the class opinion before the contest. This coming week, he decided to survey all students enrolled in Data 100 this semester (Summer 2024) by sending out an Ed announcement via email that asked students to choose the cutest from the three pets. You may assume no other students/users receive the survey. Jacob closes the survey 12 hours after sending it out.\n",
    "\n",
    "You can assume that all, and only, enrolled students in Summer 2024 are on Ed."
   ]
  },
  {
   "cell_type": "markdown",
   "metadata": {
    "deletable": false,
    "editable": false
   },
   "source": [
    "#### Question 1a, Part i\n",
    "In Jacob's survey, which of the following is the population of interest? Assign your answer choice to `q1ai` (e.g., `'A'`, `'B'`, etc.).\n",
    "\n",
    "**Note**: The public autograder tests for this question, and for the other multiple choice questions in this assignment, will only check that your answer is in the correct format. **The public tests will not check that you have chosen the correct answer.**\n",
    "\n",
    "A. All UC Berkeley students<br/>\n",
    "B. All students enrolled in Data 100 across all semesters (Summer 2024 and previous)</br>\n",
    "C. All students enrolled in Data 100 for this semester (Summer 2024)<br/>\n",
    "D. All students who fill out Jacob's survey"
   ]
  },
  {
   "cell_type": "code",
   "execution_count": null,
   "metadata": {
    "tags": []
   },
   "outputs": [],
   "source": [
    "q1ai = ..."
   ]
  },
  {
   "cell_type": "code",
   "execution_count": null,
   "metadata": {
    "deletable": false,
    "editable": false
   },
   "outputs": [],
   "source": [
    "grader.check(\"q1ai\")"
   ]
  },
  {
   "cell_type": "markdown",
   "metadata": {
    "deletable": false,
    "editable": false
   },
   "source": [
    "#### Question 1a, Part ii\n",
    "In Jacob's survey, which of the following is the sampling frame? Assign your answer choice to `q1aii` (e.g., `'A'`, `'B'`, etc.).\n",
    "\n",
    "A. UC Berkeley students<br/>\n",
    "B. All students enrolled in Data 100 across all semesters (Summer 2024 and previous)</br>\n",
    "C. All students enrolled in Data 100 for this semester (Summer 2024)<br/>\n",
    "D. All students who fill out Jacob's survey"
   ]
  },
  {
   "cell_type": "code",
   "execution_count": null,
   "metadata": {
    "tags": []
   },
   "outputs": [],
   "source": [
    "q1aii = ..."
   ]
  },
  {
   "cell_type": "code",
   "execution_count": null,
   "metadata": {
    "deletable": false,
    "editable": false
   },
   "outputs": [],
   "source": [
    "grader.check(\"q1aii\")"
   ]
  },
  {
   "cell_type": "markdown",
   "metadata": {
    "deletable": false,
    "editable": false
   },
   "source": [
    "#### Question 1a, Part iii\n",
    "\n",
    "Which of the following is the sample? Assign your answer choice to `q1aiii` (e.g., `'A'`, `'B'`, etc.).\n",
    "\n",
    "A. UC Berkeley students<br/>\n",
    "B. All students enrolled in Data 100 across all semesters (Summer 2024 and previous)</br>\n",
    "C. All students enrolled in Data 100 for this semester (Summer 2024)<br/>\n",
    "D. All students who fill out Jacob's survey"
   ]
  },
  {
   "cell_type": "code",
   "execution_count": null,
   "metadata": {
    "tags": []
   },
   "outputs": [],
   "source": [
    "q1aiii = ..."
   ]
  },
  {
   "cell_type": "code",
   "execution_count": null,
   "metadata": {
    "deletable": false,
    "editable": false
   },
   "outputs": [],
   "source": [
    "grader.check(\"q1aiii\")"
   ]
  },
  {
   "cell_type": "markdown",
   "metadata": {
    "deletable": false,
    "editable": false,
    "tags": []
   },
   "source": [
    "<br><br>\n",
    "\n",
    "---\n",
    "\n",
    "### Question 1b\n",
    "\n",
    "In practice, we cannot get a 100\\% survey response rate, often because our population is too large, or because there is a time limit. In this case, very few students answered Jacob's survey before he closed it.\n",
    "\n",
    "To get more data to predict the answer to the original question (\"Which pet will win the Data 100 Cutest Pet Contest?\"), Jacob decides on a different strategy: **he conducts the pre-contest survey in person in his discussion section that same week**. He then asks every student who attends the discussion that week for their opinion on the cutest of the three pets, by presenting the following slide: \n",
    "\n",
    "<img src='images/survey.png' width=\"600px\" />\n",
    "\n",
    "#### Question 1b, Part i\n",
    "In this sampling scheme, which of the following is the population of interest? Assign your answer choice to `q1bi` (e.g., `'A'`, `'B'`, etc.).\n",
    "\n",
    "A. UC Berkeley students<br/>\n",
    "B. All students enrolled in Data 100 across all semesters (Summer 2024 and previous)</br>\n",
    "C. All students enrolled in Data 100 for this semester (Summer 2024)<br/>\n",
    "D. All students enrolled in Jacob's discussion section<br/>\n",
    "E. All students who fill out Jacob's pre-contest survey"
   ]
  },
  {
   "cell_type": "code",
   "execution_count": null,
   "metadata": {
    "tags": []
   },
   "outputs": [],
   "source": [
    "q1bi = ..."
   ]
  },
  {
   "cell_type": "code",
   "execution_count": null,
   "metadata": {
    "deletable": false,
    "editable": false
   },
   "outputs": [],
   "source": [
    "grader.check(\"q1bi\")"
   ]
  },
  {
   "cell_type": "markdown",
   "metadata": {
    "deletable": false,
    "editable": false
   },
   "source": [
    "#### Question 1b, Part ii\n",
    "In this sampling scheme, which of the following is the sampling frame? Assign your answer choice to `q1bii` (e.g., `'A'`, `'B'`, etc.).\n",
    "\n",
    "A. UC Berkeley students<br/>\n",
    "B. All students enrolled in Data 100 across all semesters (Summer 2024 and previous)</br>\n",
    "C. All students enrolled in Data 100 for this semester (Summer 2024)<br/>\n",
    "D. All students enrolled in Jacob's discussion section<br/>\n",
    "E. All students who fill out Jacob's pre-contest survey"
   ]
  },
  {
   "cell_type": "code",
   "execution_count": null,
   "metadata": {
    "tags": []
   },
   "outputs": [],
   "source": [
    "q1bii = ..."
   ]
  },
  {
   "cell_type": "code",
   "execution_count": null,
   "metadata": {
    "deletable": false,
    "editable": false
   },
   "outputs": [],
   "source": [
    "grader.check(\"q1bii\")"
   ]
  },
  {
   "cell_type": "markdown",
   "metadata": {
    "deletable": false,
    "editable": false
   },
   "source": [
    "#### Question 1b, Part iii\n",
    "Which of the following is the sample? Assign your answer choice to `q1biii` (e.g., `'A'`, `'B'`, etc.).\n",
    "\n",
    "A. UC Berkeley students<br/>\n",
    "B. All students enrolled in Data 100 across all semesters (Summer 2024 and previous)</br>\n",
    "C. All students enrolled in Data 100 for this semester (Summer 2024)<br/>\n",
    "D. All students enrolled in Jacob's discussion section<br/>\n",
    "E. All students who fill out Jacob's pre-contest survey"
   ]
  },
  {
   "cell_type": "code",
   "execution_count": null,
   "metadata": {
    "tags": []
   },
   "outputs": [],
   "source": [
    "q1biii = ..."
   ]
  },
  {
   "cell_type": "code",
   "execution_count": null,
   "metadata": {
    "deletable": false,
    "editable": false
   },
   "outputs": [],
   "source": [
    "grader.check(\"q1biii\")"
   ]
  },
  {
   "cell_type": "markdown",
   "metadata": {
    "deletable": false,
    "editable": false
   },
   "source": [
    "#### Question 1b, Part iv\n",
    "Which of the following best characterizes the sample? Assign your answer choice to `q1biv`  (e.g., `'A'`, `'B'`, etc.).\n",
    "\n",
    "A. Simple Random Sample<br/>\n",
    "B. Convenience Sample<br/>\n",
    "C. Probability Sample"
   ]
  },
  {
   "cell_type": "code",
   "execution_count": null,
   "metadata": {
    "tags": []
   },
   "outputs": [],
   "source": [
    "q1biv = ..."
   ]
  },
  {
   "cell_type": "code",
   "execution_count": null,
   "metadata": {
    "deletable": false,
    "editable": false
   },
   "outputs": [],
   "source": [
    "grader.check(\"q1biv\")"
   ]
  },
  {
   "cell_type": "markdown",
   "metadata": {
    "deletable": false,
    "editable": false,
    "tags": []
   },
   "source": [
    "<br>\n",
    "\n",
    "<hr style=\"border: 1px solid #fdb515;\" />\n",
    "\n",
    "\n",
    "## Question 2\n",
    "Jacob was able to sample 50 students in his section; the results are as follows:\n",
    "\n",
    "Pet | Vote Share\n",
    "--- | ---\n",
    "Momo | 2%\n",
    "Allie | 22%\n",
    "Mitski | 76%\n",
    "\n",
    "Based on this result, he predicts that his cat Mitski will win the contest.\n",
    "\n",
    "Fast-forward to the end of the semester, when the contest has actually taken place. Assume that after tallying every student's votes, **the true popularity of each pet** is: \n",
    "\n",
    "Pet | Vote Share\n",
    "--- | ---\n",
    "Momo | 12%\n",
    "Allie | 80%\n",
    "Mitski | 8%\n",
    "\n",
    "The true winner was actually Allie! Jacob was devastated: what went wrong?\n",
    "\n",
    "---\n",
    "\n",
    "### Question 2a\n",
    "\n",
    "Allie ultimately wins the Cutest Pet Contest, but from Jacob's results, it was predicted that Mitski would win. Perhaps there was some underlying issue with Jacob's sampling method.\n",
    "\n",
    "Probability samples can help us quantify sampling bias and chance error. Put briefly, if we assume that a sample distribution was selected at random from a known population, then we can quantify how likely that sample is to have arisen due to random chance (**chance error**). If the difference in sample and population distributions is too great, then we suspect that the given sample has **bias** in how it was selected from the population.\n",
    "\n",
    "Write one line of code that runs 1000 independent simulations, where each simulation finds the proportion of voters who voted for **Allie** in a sample of size 50, selected uniformly at random from the **true population**. You may assume that the true population is large enough such that the sample is a random sample with replacement. The output `samples` should be an array with 1000 elements, each of which is the proportion of **Allie** votes in that simulated sample.\n",
    "\n",
    "**Hint 1:** Use `np.random.multinomial` ([documentation](https://numpy.org/doc/stable/reference/random/generated/numpy.random.multinomial.html)).\n",
    "\n",
    "**Hint 2:** Use `array[:, i]` to select the i-th column of a 2D `NumPy` array\n",
    "\n",
    "**Hint 3:** Feel free to print out `samples` or `samples.shape` to check the output!"
   ]
  },
  {
   "cell_type": "code",
   "execution_count": null,
   "metadata": {
    "tags": []
   },
   "outputs": [],
   "source": [
    "samples = ...\n",
    "samples[:5]"
   ]
  },
  {
   "cell_type": "code",
   "execution_count": null,
   "metadata": {
    "deletable": false,
    "editable": false
   },
   "outputs": [],
   "source": [
    "grader.check(\"q2a\")"
   ]
  },
  {
   "cell_type": "markdown",
   "metadata": {
    "deletable": false,
    "editable": false,
    "tags": []
   },
   "source": [
    "<!-- BEGIN QUESTION -->\n",
    "\n",
    "<br>\n",
    "\n",
    "---\n",
    "\n",
    "### Question 2b\n",
    "\n",
    "Create a plot using any `seaborn` and/or `matplotlib.pyplot` functions of your choice to visualize `samples`, which is the simulated distribution of Allie votes using a sample of size 50. Include descriptive titles and labels. An example is included below. The total area under the plot must be normalized to 1. Your plot may not match exactly ours due to randomness of the data generating process in `np.random.multinomial`.\n",
    "\n",
    "<img src='images/q2b.png' width=\"500px\" />\n",
    "\n",
    "\n",
    "**Hint:** use `plt.xlim(left, right)` [(documentation)](https://matplotlib.org/stable/api/_as_gen/matplotlib.pyplot.xlim.html) to specify the left and right limits of the x-axis."
   ]
  },
  {
   "cell_type": "code",
   "execution_count": null,
   "metadata": {
    "tags": []
   },
   "outputs": [],
   "source": [
    "...\n",
    "plt.show()"
   ]
  },
  {
   "cell_type": "markdown",
   "metadata": {
    "deletable": false,
    "editable": false,
    "tags": []
   },
   "source": [
    "<!-- END QUESTION -->\n",
    "\n",
    "<!-- BEGIN QUESTION -->\n",
    "\n",
    "<br>\n",
    "\n",
    "---\n",
    "\n",
    "### Question 2c\n",
    "\n",
    "According to Jacob's 50-person sample, 22\\% of his discussion section reported that they would vote for Allie in the end-of-semester contest.\n",
    "\n",
    "In the cell below, create a plot using any `seaborn` and/or `matplotlib.pyplot` functions of your choice to visualize Jacob's sample statistic superimposed on the simulated sample distribution you plotted in the previous part. In other words, include\n",
    "- a vertical line that passes through 22\\%, \n",
    "- a vertical line that passes through the mean of the simulated sample distribution, and \n",
    "- the simulated sample distribution itself. \n",
    "\n",
    "You should choose contrasting colors and include a descriptive title, labels, and a legend if needed. An example is included below.\n",
    "\n",
    "<img src='images/q2c.png' width=\"500px\" />\n",
    "\n",
    "**Hint:** use `plt.axvline(x)` [(documentation)](https://matplotlib.org/stable/api/_as_gen/matplotlib.pyplot.axvline.html) to draw vertical lines."
   ]
  },
  {
   "cell_type": "code",
   "execution_count": null,
   "metadata": {
    "tags": []
   },
   "outputs": [],
   "source": [
    "..."
   ]
  },
  {
   "cell_type": "markdown",
   "metadata": {
    "deletable": false,
    "editable": false
   },
   "source": [
    "<!-- END QUESTION -->\n",
    "\n",
    "<!-- BEGIN QUESTION -->\n",
    "\n",
    "<br>\n",
    "\n",
    "---\n",
    "\n",
    "### Question 2d\n",
    "\n",
    "Based on your analysis above, could Jacob's result have arisen due to chance alone? If not, what could be a potential source of bias?"
   ]
  },
  {
   "cell_type": "markdown",
   "metadata": {},
   "source": [
    "_Type your answer here, replacing this text._"
   ]
  },
  {
   "cell_type": "markdown",
   "metadata": {
    "deletable": false,
    "editable": false
   },
   "source": [
    "<!-- END QUESTION -->\n",
    "\n",
    "<br/><br/>\n",
    "<hr style=\"border: 5px solid #003262;\" />\n",
    "<hr style=\"border: 1px solid #fdb515;\" />\n",
    "\n",
    "## Congratulations! You have finished Homework 6A!"
   ]
  },
  {
   "cell_type": "markdown",
   "metadata": {},
   "source": [
    "### Course Content Feedback\n",
    "\n",
    "If you have any feedback about this assignment or about any of our other weekly, weekly assignments, lectures, or discussions, please fill out the [Course Content Feedback Form](https://forms.gle/owfPCGgnrju1xQEA9). Your input is valuable in helping us improve the quality and relevance of our content to better meet your needs and expectations!"
   ]
  },
  {
   "cell_type": "markdown",
   "metadata": {
    "editable": true,
    "slideshow": {
     "slide_type": ""
    },
    "tags": []
   },
   "source": [
    "### Submission Instructions\n",
    "\n",
    "Below, you will see one cell. Running this will automatically generate a zip file with your answers. Please submit this file to the Homework 6A Coding assignment on Gradescope. Gradescope will automatically submit the PDF from this file to the Homework 6A Written assignment. **There is no need to manually submit Homework 6A Written answers; however, please check that the PDF was generated and submitted correctly**. If you run into any issues when running this cell, feel free to check this [section](https://ds100.org/debugging-guide/autograder_gradescope/autograder_gradescope.html#why-does-grader.exportrun_teststrue-fail-if-all-previous-tests-passed) in the Data 100 Debugging Guide.\n",
    "\n",
    "You are responsible for submitting the zip file generated below as well as a PDF with your answers to Homework 6B. Here are the different components for this homework and the respective submission processes:\n",
    "* **Homework 6A Coding**: Submit your Jupyter Notebook zip file for Homework 6A,\n",
    "which can be generated and downloaded from DataHub by using the `grader.export()`\n",
    "cell provided below.\n",
    "* **Homework 6A Written**: Gradescope will automatically submit the PDF from the zip file submitted earlier. You do not need to submit anything to this assignment yourself, but please check that the submission went through properly.  \n",
    "* **Homework 6B**: Submit a PDF to Gradescope that contains your answers to all questions in Homework 6B.\n",
    "\n",
    "**Important**: When submitting Homework 6B on Gradescope, you **must tag pages to each question correctly** (it prompts you to do this after submitting your work). This significantly streamlines the grading process for our readers. Failure to do this may result in a score of 0 for untagged questions.\n",
    "\n",
    "To receive credit on this assignment, **you must submit both your coding and written\n",
    "portions to their respective Gradescope portals.** \n",
    "\n",
    "**You are responsible for ensuring your submission follows our requirements and that the automatic submission for Homework 6A Written answers went through properly. We will not be granting regrade requests nor extensions to submissions that don't follow instructions.** If you encounter any difficulties with submission, please don't hesitate to reach out to staff prior to the deadline."
   ]
  },
  {
   "cell_type": "markdown",
   "metadata": {
    "deletable": false,
    "editable": false
   },
   "source": [
    "## Submission\n",
    "\n",
    "Make sure you have run all cells in your notebook in order before running the cell below, so that all images/graphs appear in the output. The cell below will generate a zip file for you to submit. **Please save before exporting!**"
   ]
  },
  {
   "cell_type": "code",
   "execution_count": null,
   "metadata": {
    "deletable": false,
    "editable": false
   },
   "outputs": [],
   "source": [
    "# Save your notebook first, then run this cell to export your submission.\n",
    "grader.export(run_tests=True)"
   ]
  },
  {
   "cell_type": "markdown",
   "metadata": {},
   "source": [
    " "
   ]
  }
 ],
 "metadata": {
  "kernelspec": {
   "display_name": "Python 3 (ipykernel)",
   "language": "python",
   "name": "python3"
  },
  "language_info": {
   "codemirror_mode": {
    "name": "ipython",
    "version": 3
   },
   "file_extension": ".py",
   "mimetype": "text/x-python",
   "name": "python",
   "nbconvert_exporter": "python",
   "pygments_lexer": "ipython3",
   "version": "3.11.9"
  },
  "otter": {
   "OK_FORMAT": true,
   "require_no_pdf_confirmation": true,
   "tests": {
    "q1ai": {
     "name": "q1ai",
     "points": 1,
     "suites": [
      {
       "cases": [
        {
         "code": ">>> assert q1ai.upper() in ['A', 'B', 'C', 'D']\n",
         "hidden": false,
         "locked": false,
         "points": 0
        }
       ],
       "scored": true,
       "setup": "",
       "teardown": "",
       "type": "doctest"
      }
     ]
    },
    "q1aii": {
     "name": "q1aii",
     "points": 1,
     "suites": [
      {
       "cases": [
        {
         "code": ">>> assert q1aii.upper() in ['A', 'B', 'C', 'D']\n",
         "hidden": false,
         "locked": false,
         "points": 0
        }
       ],
       "scored": true,
       "setup": "",
       "teardown": "",
       "type": "doctest"
      }
     ]
    },
    "q1aiii": {
     "name": "q1aiii",
     "points": 1,
     "suites": [
      {
       "cases": [
        {
         "code": ">>> assert q1aiii.upper() in ['A', 'B', 'C', 'D']\n",
         "hidden": false,
         "locked": false,
         "points": 0
        }
       ],
       "scored": true,
       "setup": "",
       "teardown": "",
       "type": "doctest"
      }
     ]
    },
    "q1bi": {
     "name": "q1bi",
     "points": 1,
     "suites": [
      {
       "cases": [
        {
         "code": ">>> assert q1bi.upper() in ['A', 'B', 'C', 'D', 'E']\n",
         "hidden": false,
         "locked": false,
         "points": 0
        }
       ],
       "scored": true,
       "setup": "",
       "teardown": "",
       "type": "doctest"
      }
     ]
    },
    "q1bii": {
     "name": "q1bii",
     "points": 1,
     "suites": [
      {
       "cases": [
        {
         "code": ">>> assert q1bii.upper() in ['A', 'B', 'C', 'D', 'E']\n",
         "hidden": false,
         "locked": false,
         "points": 0
        }
       ],
       "scored": true,
       "setup": "",
       "teardown": "",
       "type": "doctest"
      }
     ]
    },
    "q1biii": {
     "name": "q1biii",
     "points": 1,
     "suites": [
      {
       "cases": [
        {
         "code": ">>> assert q1biii.upper() in ['A', 'B', 'C', 'D', 'E']\n",
         "hidden": false,
         "locked": false,
         "points": 0
        }
       ],
       "scored": true,
       "setup": "",
       "teardown": "",
       "type": "doctest"
      }
     ]
    },
    "q1biv": {
     "name": "q1biv",
     "points": 1,
     "suites": [
      {
       "cases": [
        {
         "code": ">>> assert q1biv.upper() in ['A', 'B', 'C', 'D', 'E']\n",
         "hidden": false,
         "locked": false,
         "points": 0
        }
       ],
       "scored": true,
       "setup": "",
       "teardown": "",
       "type": "doctest"
      }
     ]
    },
    "q2a": {
     "name": "q2a",
     "points": 2,
     "suites": [
      {
       "cases": [
        {
         "code": ">>> assert all(samples <= 1)\n>>> assert all(samples >= 0)\n>>> assert samples.shape == (1000,)\n",
         "hidden": false,
         "locked": false,
         "points": 1
        }
       ],
       "scored": true,
       "setup": "",
       "teardown": "",
       "type": "doctest"
      }
     ]
    }
   }
  }
 },
 "nbformat": 4,
 "nbformat_minor": 4
}
