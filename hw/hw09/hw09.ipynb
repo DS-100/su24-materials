{
 "cells": [
  {
   "cell_type": "code",
   "execution_count": null,
   "id": "6a3cf95c",
   "metadata": {
    "deletable": false,
    "editable": false
   },
   "outputs": [],
   "source": [
    "# Initialize Otter\n",
    "import otter\n",
    "grader = otter.Notebook(\"hw09.ipynb\")"
   ]
  },
  {
   "cell_type": "markdown",
   "id": "4169b0e4",
   "metadata": {
    "tags": []
   },
   "source": [
    "<a id=\"top\"></a>\n",
    "\n",
    "# Homework 9: IMDb\n",
    "## Due Monday, July 29th, 11:59 PM PT\n",
    "\n",
    "We will use SQL to dive deep into the Internet Movie Database (IMDb) and answer different questions involving movies, actors, and movie ratings.\n",
    "\n",
    "You must submit this assignment to Gradescope by the on-time deadline, Monday, July 29th, 11:59 PM PT. Please read the syllabus for the grace period policy. No late submissions beyond the grace period will be accepted. **We strongly encourage you to plan to submit your work to Gradescope several hours before the stated deadline.** This way, you will have ample time to reach out to staff for support if you encounter difficulties with submission. While course staff is happy to help guide you with submitting your assignment ahead of the deadline, we will not respond to last-minute requests for assistance (TAs need to sleep, after all!).\n",
    "\n",
    "Please read the instructions carefully when submitting your work to Gradescope.\n",
    "\n",
    "\n",
    "##  Collaboration Policy\n",
    "\n",
    "Data science is a collaborative activity. While you may talk with others about the homework, we ask that you **write your solutions individually**. If you do discuss the assignments with others, please **include their names** below."
   ]
  },
  {
   "cell_type": "markdown",
   "id": "5691e11e",
   "metadata": {},
   "source": [
    "**Collaborators**: *list collaborators here*"
   ]
  },
  {
   "cell_type": "markdown",
   "id": "962db40d",
   "metadata": {},
   "source": [
    "## Grading \n",
    "\n",
    "Grading is broken down into autograded answers and free response. For autograded answers, the results of your code are compared to provided and/or hidden tests. For free response, readers will evaluate how well you answered the question and/or fulfilled the requirements of the question.\n",
    "\n",
    "<!--\n",
    "<details>\n",
    "    <summary>[Click to Expand] <b>Scoring Breakdown</b></summary>-->\n",
    "|Question| Manual | Points|\n",
    "|---|---|---|\n",
    "|1a | No | 2 |\n",
    "|1b | No | 2 |\n",
    "|2 | No | 3 |\n",
    "|3 | No | 3 |\n",
    "|4a | No | 4 |\n",
    "|4b | Yes | 2 |\n",
    "|5 | No | 4 |\n",
    "|Total | 1 |20 |\n",
    "</details>"
   ]
  },
  {
   "cell_type": "markdown",
   "id": "0178dc65-520d-4389-a049-7ac0435b2303",
   "metadata": {},
   "source": [
    "## Before You Start\n",
    "\n",
    "For each question in the assignment, please write down your answer in the answer cell(s) right below the question. \n",
    "\n",
    "We understand that it is helpful to have extra cells breaking down the process towards reaching your final answer. If you happen to create new cells below your answer to run code, **NEVER** add cells between a question cell and the answer cell below it. It will cause errors when we run the autograder, and it will sometimes cause a failure to generate the PDF file.\n",
    "\n",
    "**Important note: The local autograder tests will not be comprehensive. You can pass the automated tests in your notebook but still fail tests in the autograder.** Please be sure to check your results carefully.\n",
    "\n",
    "\n",
    "### Debugging Guide\n",
    "If you run into any technical issues, we highly recommend checking out the [Data 100 Debugging Guide](https://ds100.org/debugging-guide/). In this guide, you can find general questions about Jupyter notebooks / Datahub, Gradescope, common SQL errors, and more."
   ]
  },
  {
   "cell_type": "markdown",
   "id": "3d447566-c104-4407-9e4f-c454134e36c1",
   "metadata": {},
   "source": [
    "After running the cell below, you may be prompted to upgrade `jupysql` using `pip`. You do not need to worry about that; you do not need to add any additional cells for this setup."
   ]
  },
  {
   "cell_type": "code",
   "execution_count": null,
   "id": "75a9a6e0",
   "metadata": {},
   "outputs": [],
   "source": [
    "# Run this cell to set up your notebook; no further action is needed\n",
    "import pandas as pd\n",
    "import numpy as np\n",
    "import matplotlib.pyplot as plt\n",
    "import plotly.express as px\n",
    "import seaborn as sns\n",
    "import sqlalchemy\n",
    "from pathlib import Path\n",
    "import sql\n",
    "\n",
    "plt.style.use('fivethirtyeight') # Use plt.style.available to see more styles\n",
    "sns.set()\n",
    "sns.set_context(\"talk\")\n",
    "np.set_printoptions(threshold=5) # Avoid printing out big matrices\n",
    "%matplotlib inline\n",
    "%load_ext sql"
   ]
  },
  {
   "cell_type": "markdown",
   "id": "02001461-02db-4ca3-b726-cf7933457820",
   "metadata": {
    "tags": []
   },
   "source": [
    "<br/><br/>\n",
    "\n",
    "<hr style=\"border: 5px solid #003262;\" />\n",
    "<hr style=\"border: 1px solid #fdb515;\" />\n",
    "\n",
    "## The IMDB (mini) Dataset\n",
    "\n",
    "We will explore a miniature version of the [IMDb Dataset](https://www.imdb.com/interfaces/). This is the same dataset that we used for this week's lab.\n",
    "\n",
    "**Caution: Be careful with large SQL queries!!** You may need to reboot your Jupyter Hub instance if it stops responding. To avoid printing out 100k-sized tables, we've adjusted the display limit to ensure that the tables displayed are truncated to 20 rows (though they may contain more rows in reality)."
   ]
  },
  {
   "cell_type": "code",
   "execution_count": null,
   "id": "7abe88b4-33e2-4509-b8d2-27527fc81bc9",
   "metadata": {},
   "outputs": [],
   "source": [
    "%config SqlMagic.displaylimit = 20"
   ]
  },
  {
   "cell_type": "markdown",
   "id": "3d9cf809-312c-4c49-8cbb-99375ee59234",
   "metadata": {
    "tags": []
   },
   "source": [
    "Let's set up the SQL database."
   ]
  },
  {
   "cell_type": "markdown",
   "id": "81e901ed-405c-4816-a600-b898004f8ba7",
   "metadata": {},
   "source": [
    "## Setup\n",
    "\n",
    "Please just run the cells below to set up your SQL database and the autograder."
   ]
  },
  {
   "cell_type": "code",
   "execution_count": null,
   "id": "fe61c843-881f-487f-87c5-d41786cfb61c",
   "metadata": {},
   "outputs": [],
   "source": [
    "import duckdb\n",
    "%load_ext sql"
   ]
  },
  {
   "cell_type": "code",
   "execution_count": null,
   "id": "0ce4799f-2c40-48c1-8bec-c6f3f4104a58",
   "metadata": {},
   "outputs": [],
   "source": [
    "# Run this cell to connect to database\n",
    "conn = duckdb.connect()\n",
    "conn.query(\"INSTALL sqlite\")"
   ]
  },
  {
   "cell_type": "code",
   "execution_count": null,
   "id": "bcb39724-b9ae-4f3d-97f2-39dc2c65e0e7",
   "metadata": {},
   "outputs": [],
   "source": [
    "%sql duckdb:///data/imdbmini.db"
   ]
  },
  {
   "cell_type": "markdown",
   "id": "ad6e20a0",
   "metadata": {},
   "source": [
    "Let's take a look at the table schemas:"
   ]
  },
  {
   "cell_type": "code",
   "execution_count": null,
   "id": "f64a601a",
   "metadata": {},
   "outputs": [],
   "source": [
    "%%sql\n",
    "-- just run this cell --\n",
    "SELECT * FROM sqlite_master WHERE type='table';"
   ]
  },
  {
   "cell_type": "markdown",
   "id": "862c48dd",
   "metadata": {},
   "source": [
    "From running the above cell, we see the database has 4 tables: `Title`, `Name`, `Role`, and `Rating`.\n",
    "\n",
    "<details open>\n",
    "    <summary>[<b>Click to Expand</b>] See descriptions of each table's schema below. You can also find it in the `schemas.txt` file, which is in the same directory as this notebook. We have only included descriptions for columns that could be of potential use in this homework. </summary>\n",
    "\n",
    "**`Title`** - Contains the following information for titles.\n",
    "    \n",
    "- tconst (integer) - alphanumeric unique identifier of the title\n",
    "- titleType (text) -  the type/format of the title\n",
    "- primaryTitle (text) -  the more popular title / the title used by the producers on promotional materials at the point of release\n",
    "- isAdult (text) - 0: non-adult title; 1: adult title\n",
    "- startYear (text) - represents the release year of a title.\n",
    "- runtimeMinutes (text) - primary runtime of the title, in minutes\n",
    "    \n",
    "**`Name`** – Contains the following information for names of people.\n",
    "    \n",
    "- nconst (integer) - alphanumeric unique identifier of the name/person\n",
    "- primaryName (text) - name by which the person is most often credited\n",
    "- birthYear (text) - in YYYY format\n",
    "- deathYear (text) - in YYYY format\n",
    "    \n",
    "    \n",
    "**`Role`** – Contains the principal cast/crew for titles.\n",
    "    \n",
    "- tconst (integer) - alphanumeric unique identifier of the title\n",
    "- ordering (text) - a number to uniquely identify rows for a given tconst\n",
    "- nconst (integer) - alphanumeric unique identifier of the name/person\n",
    "- category (text) - the category of job that person was in\n",
    "- characters (text) - the name of the character played if applicable, else '\\\\N'\n",
    "    \n",
    "**`Rating`** – Contains the IMDb rating and vote information for titles.\n",
    "    \n",
    "- tconst (integer) - alphanumeric unique identifier of the title\n",
    "- averageRating (text) – weighted average of all the individual user ratings\n",
    "- numVotes (text) - number of votes (i.e., ratings) the title has received\n",
    "    \n",
    "</details>\n",
    "\n",
    "<br/><br/>\n",
    "From the above descriptions, we can conclude the following:\n",
    "* `Name.nconst` and `Title.tconst` are primary keys of the `Name` and `Title` tables, respectively.\n",
    "* `Role.nconst` and `Role.tconst` are **foreign keys** that point to `Name.nconst` and `Title.tconst`, respectively."
   ]
  },
  {
   "cell_type": "markdown",
   "id": "08af56ec-a319-4421-bbd7-60791c5165e9",
   "metadata": {},
   "source": [
    "For a refresher on how to write SQL queries in Jupyter, feel free to reference the start of Lab 11. The main thing to keep in mind is that you can directly write your query in place of the ellipsis under `%%sql --save query_q`. **Please do not edit this line.** \n",
    "\n",
    "For example, we can set `query_example` to the output of the following SQL query and directly see what it contains: "
   ]
  },
  {
   "cell_type": "code",
   "execution_count": null,
   "id": "963a443d-3bd2-4ae5-aa93-c558841bd698",
   "metadata": {},
   "outputs": [],
   "source": [
    "%%sql --save query_example\n",
    "-- This is a one-line SQL comment.\n",
    "/* This is a multi-line\n",
    "   SQL comment. */\n",
    "SELECT * \n",
    "FROM name\n",
    "LIMIT 15;"
   ]
  },
  {
   "cell_type": "markdown",
   "id": "34289b6b",
   "metadata": {
    "deletable": false,
    "editable": false
   },
   "source": [
    "<br/><br/>\n",
    "\n",
    "---\n",
    "\n",
    "### Question 1a\n",
    "How far back does our data go? Does it only include recent data, or do we have information about older movies and movie stars as well? \n",
    "\n",
    "List the **10 oldest movie titles**  by `startYear` and then `primaryTitle` both in **ascending** order. The output should contain the `startYear`, `primaryTitle`, and `titleType`. In this homework, we define a movie as having `titleType='movie'`. Keep this in mind for later questions as well."
   ]
  },
  {
   "cell_type": "code",
   "execution_count": null,
   "id": "1912a49d-e0eb-44ce-a28a-bbb07dd8780e",
   "metadata": {
    "tags": []
   },
   "outputs": [],
   "source": [
    "%%sql --save query_q1a\n",
    "\n",
    "..."
   ]
  },
  {
   "cell_type": "code",
   "execution_count": null,
   "id": "7020ae44-b83d-473f-9684-f386f5c18e4d",
   "metadata": {
    "deletable": false,
    "editable": false
   },
   "outputs": [],
   "source": [
    "# Run this cell for grading purposes. \n",
    "# No further action is required. \n",
    "query = %sqlcmd snippets query_q1a\n",
    "res_q1a = pd.read_sql(query, \"duckdb:///data/imdbmini.db\")"
   ]
  },
  {
   "cell_type": "code",
   "execution_count": null,
   "id": "43ab0feb",
   "metadata": {
    "deletable": false,
    "editable": false
   },
   "outputs": [],
   "source": [
    "grader.check(\"q1a\")"
   ]
  },
  {
   "cell_type": "markdown",
   "id": "5851e2ed",
   "metadata": {
    "deletable": false,
    "editable": false
   },
   "source": [
    "<br/><br/>\n",
    "\n",
    "---\n",
    "\n",
    "### Question 1b\n",
    "\n",
    "Next, let's calculate the distribution of movies by year. Write a query that returns the **total** number of movie titles for each `startYear` in the `Title` table as `total`. Order your final results by the `startYear` in **ascending** order. As in `q1a`, remember that movies are defined as having `titleType=’movie’`.\n",
    "\n",
    "The first few records of the table should look like the following (but you should compute the entire table):\n",
    "\n",
    "\n",
    "|startYear|total|\n",
    "|------:|-----:|\n",
    "| 1915|1|\n",
    "| 1920|1|\n",
    "| 1921|1|\n",
    "| 1922|1|\n",
    "| ...|...|\n",
    "\n"
   ]
  },
  {
   "cell_type": "code",
   "execution_count": null,
   "id": "507ef0bd-d92d-4c5a-b689-5614aaae24ec",
   "metadata": {
    "tags": []
   },
   "outputs": [],
   "source": [
    "%%sql --save query_q1b\n",
    "\n",
    "..."
   ]
  },
  {
   "cell_type": "code",
   "execution_count": null,
   "id": "4ca8a646-be9a-48ca-bee0-62c242cc02a1",
   "metadata": {
    "deletable": false,
    "editable": false
   },
   "outputs": [],
   "source": [
    "# Run this cell for grading purposes. \n",
    "# No further action is required. \n",
    "query = %sqlcmd snippets query_q1b\n",
    "res_q1b = pd.read_sql(query, \"duckdb:///data/imdbmini.db\")"
   ]
  },
  {
   "cell_type": "code",
   "execution_count": null,
   "id": "2108e5a7",
   "metadata": {
    "deletable": false,
    "editable": false
   },
   "outputs": [],
   "source": [
    "grader.check(\"q1b\")"
   ]
  },
  {
   "cell_type": "markdown",
   "id": "705a55d7",
   "metadata": {},
   "source": [
    "<br/><br/>\n",
    "\n",
    "The following cell should generate an interesting plot of the number of movies that premiered each year. Notice there are fewer movies premiering from the 1920s to the late 1940s. Why might that be? *This question is rhetorical; you do not need to write your answer anywhere.*"
   ]
  },
  {
   "cell_type": "code",
   "execution_count": null,
   "id": "e0c37ce2",
   "metadata": {},
   "outputs": [],
   "source": [
    "# Run this call to generate the bar plot; no further action is needed\n",
    "px.bar(res_q1b, x=\"startYear\", y=\"total\", \n",
    "        title=\"Number of movies premiered each year\", \n",
    "        width=900, height=400)"
   ]
  },
  {
   "cell_type": "markdown",
   "id": "6965b1a4",
   "metadata": {
    "deletable": false,
    "editable": false
   },
   "source": [
    "<br/><br/>\n",
    "\n",
    "---\n",
    "\n",
    "## Question 2\n",
    "\n",
    "Who are the **top 10 most prolific movie actors**? That is, which 10 movie actors appeared in the most movies?\n",
    "\n",
    "The term **\"movie actor\"** is defined as anyone with an `\"actor\"` or `\"actress\"` job category role in a `\"movie\"` title type.\n",
    "\n",
    "Your SQL query should output exactly two fields named `name` (the movie actor's name) and `total` (the number of movies the movie actor appears in). Order the records by `total` in **descending** order, and break ties by ordering by `name` in **ascending** order.\n",
    "\n",
    "Your result should look something like this (but without `????`):\n",
    "\n",
    "| name | total |\n",
    "|-----:|-----:|\n",
    "| ???? | 64 |\n",
    "| ???? | 54 |\n",
    "| ???? | 53 |\n",
    "| ???? | 49 |\n",
    "| ???? | 46 |\n",
    "| ???? | 43 |\n",
    "| ???? | 41 |\n",
    "| ???? | 40 |\n",
    "| ???? | 40 |\n",
    "| ???? | 39 |\n",
    "\n",
    "**Notes**: \n",
    "* **The query should take < 2 minutes to run.**\n",
    "* Sometimes Python gets confused and colors some SQL queries red; *don't worry if the SQL coloring doesn't match what you'd expect*. As long as it runs, it's fine.\n",
    "\n",
    "**Hints**:\n",
    "\n",
    "* Before writing your query, you may wish to review the table descriptions given at the start of the assignment to determine where the information you need is stored\n",
    "* If you want to include a non-aggregate field in the `SELECT` clause, it must also be included in the `GROUP BY` clause.\n",
    "* When using multiple conditions in a `WHERE` clause, pay attention to the order of operations."
   ]
  },
  {
   "cell_type": "code",
   "execution_count": null,
   "id": "679b382c-3e52-4420-8866-74350f3da970",
   "metadata": {
    "tags": []
   },
   "outputs": [],
   "source": [
    "%%sql --save query_q2\n",
    "\n",
    "..."
   ]
  },
  {
   "cell_type": "code",
   "execution_count": null,
   "id": "363dcbd1-0fef-47ff-9aa9-dd4b2bb4beca",
   "metadata": {
    "deletable": false,
    "editable": false
   },
   "outputs": [],
   "source": [
    "# Run this cell for grading purposes. \n",
    "# No further action is required. \n",
    "query = %sqlcmd snippets query_q2\n",
    "res_q2 = pd.read_sql(query, \"duckdb:///data/imdbmini.db\")"
   ]
  },
  {
   "cell_type": "code",
   "execution_count": null,
   "id": "86306444",
   "metadata": {
    "deletable": false,
    "editable": false
   },
   "outputs": [],
   "source": [
    "grader.check(\"q2\")"
   ]
  },
  {
   "cell_type": "markdown",
   "id": "cc8cb744",
   "metadata": {
    "deletable": false,
    "editable": false
   },
   "source": [
    "<br/><br/>\n",
    "\n",
    "---\n",
    "\n",
    "## Question 3: The `CASE` Keyword\n",
    "\n",
    "The `rating` table has the `numVotes` and the `averageRating` for each title. A movie is considered a **\"big hit**\" if there are more than 100,000 votes for the movie. Which `movie` titles were **\"big hits\"**? Construct a query that generates the following result:\n",
    "\n",
    "| isBigHit | total |\n",
    "|-----:|-----|\n",
    "| no | ???? |\n",
    "| yes | ???? |\n",
    "\n",
    "Where `????` is replaced with the correct values. The row with `no` should have the count for how many movies **are not** big hits, and the row with `yes` should have the count of how many movies **are** big hits.\n",
    "\n",
    "**Hints**:\n",
    "\n",
    "* Check the data type of `numVotes` before performing any arithmetic operations.\n",
    "* You will need to use some type of `JOIN`.\n",
    "* You may also consider using a `CASE` statement:\n",
    "    ```\n",
    "    CASE \n",
    "        WHEN ... THEN ...\n",
    "        ELSE ... \n",
    "    END\n",
    "    ```\n",
    "    </br>\n",
    "    \n",
    "  `CASE` statements are the SQL equivalent of `Python` `if... elif... else` statements. To read up on `CASE`, take a look at the following links:\n",
    "    - https://mode.com/sql-tutorial/sql-case/\n",
    "    - https://www.w3schools.com/sql/sql_ref_case.asp\n"
   ]
  },
  {
   "cell_type": "code",
   "execution_count": null,
   "id": "d7a674c4-53db-4e04-a8f6-ccb18da3a283",
   "metadata": {
    "tags": []
   },
   "outputs": [],
   "source": [
    "%%sql --save query_q3\n",
    "\n",
    "..."
   ]
  },
  {
   "cell_type": "code",
   "execution_count": null,
   "id": "4fef4532-140b-4910-a67a-14e8bcae3cd2",
   "metadata": {
    "deletable": false,
    "editable": false
   },
   "outputs": [],
   "source": [
    "# Run this cell for grading purposes. \n",
    "# No further action is required. \n",
    "query = %sqlcmd snippets query_q3\n",
    "res_q3 = pd.read_sql(query, \"duckdb:///data/imdbmini.db\")"
   ]
  },
  {
   "cell_type": "code",
   "execution_count": null,
   "id": "65c924fd",
   "metadata": {
    "deletable": false,
    "editable": false
   },
   "outputs": [],
   "source": [
    "grader.check(\"q3\")"
   ]
  },
  {
   "cell_type": "markdown",
   "id": "8780081d",
   "metadata": {
    "deletable": false,
    "editable": false
   },
   "source": [
    "<br/><br/>\n",
    "\n",
    "---\n",
    "\n",
    "## Question 4\n",
    "\n",
    "**How does movie length relate to ratings?**  To answer this question we want to bin `movie` titles by length, compute the average of the average ratings within each length bin, and visualize the relations.\n",
    "\n",
    "### Question 4a\n",
    "\n",
    "We will group movies by 10-minute increments —— that is, one bin for movies \\[0, 10) minutes long, another for \\[10, 20) minutes, another for \\[20, 30) minutes, and so on. Use the following code snippet to help construct 10-minute bins: \n",
    "\n",
    "```\n",
    "ROUND(CAST(runtimeMinutes AS int)/ 10.0 + 0.5) * 10 AS runtimeBin\n",
    "```\n",
    "\n",
    "Construct a query that generates a resulting table containing the **`runtimeBin`**, the **average** of the **average ratings** in floats (as `averageRating`), the **average number of votes** in integers (as `averageNumVotes`), and the number of `titles` in that **runtimeBin** (as `total`).  Only include movies with **at least 25,000 votes**.  Order the final results by the value of `runtimeBin` in ascending order.\n",
    "\n",
    "**Hints**: \n",
    "* Like in previous questions, we are only focusing on **movies**.\n",
    "* Check the data types of `numVotes` and `averageRating` before performing any arithmetic operations.\n",
    "* You can use a variable(s) defined in your `SELECT` clause in the later part of your query.\n",
    "* From the [PostgreSQL documentation](https://www.postgresql.org/docs/current/sql-select.html#SQL-SELECT-LIST): \"An output column's name can be used to refer to the column's value in ORDER BY and GROUP BY clauses, but not in the WHERE or HAVING clauses; there you must write out the expression instead.\" Keep this in mind when writing your WHERE/HAVING clauses!\n",
    "\n",
    "**Note**: DO NOT cast `averageRating` **as an integer**. Doing so reduces the precision of the resulting values--make sure to instead cast it as a float."
   ]
  },
  {
   "cell_type": "code",
   "execution_count": null,
   "id": "062217bf-4f98-4ffd-a617-4bc0fcdb23f6",
   "metadata": {
    "tags": []
   },
   "outputs": [],
   "source": [
    "%%sql --save query_q4a\n",
    "\n",
    "..."
   ]
  },
  {
   "cell_type": "code",
   "execution_count": null,
   "id": "d8aa34ac-9e17-45ab-a869-2312c3849afa",
   "metadata": {
    "deletable": false,
    "editable": false
   },
   "outputs": [],
   "source": [
    "# Run this cell for grading purposes. \n",
    "# No further action is required. \n",
    "query = %sqlcmd snippets query_q4a\n",
    "res_q4a = pd.read_sql(query, \"duckdb:///data/imdbmini.db\")"
   ]
  },
  {
   "cell_type": "code",
   "execution_count": null,
   "id": "ce7dfb81",
   "metadata": {
    "deletable": false,
    "editable": false
   },
   "outputs": [],
   "source": [
    "grader.check(\"q4a\")"
   ]
  },
  {
   "cell_type": "markdown",
   "id": "8dd72ad6-8651-4f39-a1ce-ae63d419d000",
   "metadata": {},
   "source": [
    "<br><br>\n",
    "\n",
    "Let us take a look at the current distribution of movie runtimes."
   ]
  },
  {
   "cell_type": "code",
   "execution_count": null,
   "id": "e36a2471-ed38-47d8-8836-7668c47001df",
   "metadata": {},
   "outputs": [],
   "source": [
    "# Run the cell below; no further action is needed\n",
    "px.bar(res_q4a, x=\"runtimeBin\", y=\"total\", \n",
    "       title=\"Distribution of Movie Runtimes\", width = 800, height = 400)"
   ]
  },
  {
   "cell_type": "markdown",
   "id": "12f9f554-91c4-4de9-90c2-4ea0e2b5d54f",
   "metadata": {
    "deletable": false,
    "editable": false
   },
   "source": [
    "<!-- BEGIN QUESTION -->\n",
    "\n",
    "<br><br>\n",
    "\n",
    "---\n",
    "\n",
    "### Question 4b\n",
    "\n",
    "Create two line plots below. The first should show the relationship between average number of votes and runtime; the second should show the relationship between average rating and runtime. The runtime should be on the x-axis for both plots. Use the columns from the table generated in the previous part, `res_q4a`. If your SQL query is correct, you should get some interesting plots below. This might explain why directors keep going with a particular range of runtimes. \n",
    "\n",
    "**Notes**:\n",
    "* Please use `sns` or `plt` functions for plotting. Plotly `px` does not export to the PDF properly.\n",
    "* Please include descriptive titles and labels.\n",
    "* If your plot does not show up in the generated PDF, please upload a PDF with a screenshot of your code and the plot."
   ]
  },
  {
   "cell_type": "code",
   "execution_count": null,
   "id": "19f967d4",
   "metadata": {
    "tags": []
   },
   "outputs": [],
   "source": [
    "plt.figure(figsize=(10, 4))\n",
    "plt.subplot(1, 2, 1) # DO NOT MODIFY THIS LINE\n",
    "...\n",
    "plt.subplot(1, 2, 2) # DO NOT MODIFY THIS LINE\n",
    "..."
   ]
  },
  {
   "cell_type": "markdown",
   "id": "7068f846",
   "metadata": {
    "deletable": false,
    "editable": false
   },
   "source": [
    "<!-- END QUESTION -->\n",
    "\n",
    "<br/><br/>\n",
    "\n",
    "---\n",
    "\n",
    "## Question 5\n",
    "\n",
    "\n",
    "Which **movie actors** have the highest average ratings across all the movies in which they star? Again, define **\"movie actor\"** as anyone with an `actor` or `actress` job category role in a `movie` title type.\n",
    "\n",
    "Construct a query that generates a resulting table consisting of the **movie actor's name**  (as `name`) and their **average actor rating** (as `actorRating`) computed by rescaling ratings for movies in which they had a role:\n",
    "\n",
    "$$\n",
    "\\text{actorRating} = \n",
    "\\frac{\\sum_m (\\text{averageRating}[m] * \\text{numVotes}[m] )}{\\sum_m \\text{numVotes}[m]}\n",
    "$$\n",
    "\n",
    "where $m$ refers to a particular movie that the actor has starred in and $\\sum_m$ refers to a summation across all movies that the actor has starred in.\n",
    "\n",
    "In addition, only consider ratings where there are **at least 22,000** votes and only consider movie actors that have **at least 20 rated performances**. Present the movie actors with the **top 10** `actorRating` in **descending** order and break ties alphabetically using the movie actor's name.\n",
    "\n",
    "The results should look something like this but without the `????`, and with higher rating precision.\n",
    "\n",
    "| name | actorRating |\n",
    "|-----:|:-----|\n",
    "|????|8.4597...|\n",
    "|????|8.1432...|\n",
    "|????|8.1403...|\n",
    "|????|8.0349...|\n",
    "|????|7.9898...|\n",
    "|????|7.9348...|\n",
    "|????|7.9330...|\n",
    "|????|7.8668...|\n",
    "|????|7.8567...|\n",
    "|????|7.8479...|\n",
    "\n",
    "**Hint**: Check the data types of `numVotes` and `averageRating` before performing any arithmetic operations.\n",
    "\n",
    "**Notes**:\n",
    "* ***The query should take < 3 minutes to run.***\n",
    "* DO NOT cast `averageRating` **as an integer**. Doing so reduces the precision of the resulting values, so your table may not match up exactly with what is shown below.\n",
    "* If an actor/actress has multiple `role` listings for a movie, then that movie will have a bigger impact on the overall average (this is desired)."
   ]
  },
  {
   "cell_type": "code",
   "execution_count": null,
   "id": "6ef881ac-5d30-4585-b1a0-3841205cb9fa",
   "metadata": {
    "tags": []
   },
   "outputs": [],
   "source": [
    "%%sql --save query_q5\n",
    "\n",
    "..."
   ]
  },
  {
   "cell_type": "code",
   "execution_count": null,
   "id": "1f377e25-f5de-4ece-b83f-85a5cbbd1cd2",
   "metadata": {
    "deletable": false,
    "editable": false
   },
   "outputs": [],
   "source": [
    "# Run this cell for grading purposes. \n",
    "# No further action is required. \n",
    "query = %sqlcmd snippets query_q5\n",
    "res_q5 = pd.read_sql(query, \"duckdb:///data/imdbmini.db\")"
   ]
  },
  {
   "cell_type": "code",
   "execution_count": null,
   "id": "53c48642",
   "metadata": {
    "deletable": false,
    "editable": false
   },
   "outputs": [],
   "source": [
    "grader.check(\"q5\")"
   ]
  },
  {
   "cell_type": "markdown",
   "id": "77b9dc58",
   "metadata": {
    "nbgrader": {
     "grade": false,
     "grade_id": "finish",
     "locked": true,
     "schema_version": 2,
     "solution": false
    },
    "tags": []
   },
   "source": [
    "\n",
    "<br><br>\n",
    "\n",
    "\n",
    "<hr style=\"border: 5px solid #003262;\" />\n",
    "<hr style=\"border: 1px solid #fdb515;\" />\n",
    "\n",
    "## Yogi and Miya congratulate you for finishing Homework 9!\n",
    "\n",
    "<img src=\"images/yogi.jpg\" width=\"300\"/> <img src=\"images/miya.png\" width=\"300\"/>\n",
    "\n",
    "### Course Content Feedback\n",
    "\n",
    "If you have any feedback about this assignment or about any of our other weekly assignments, lectures, or discussions, please fill out the [Course Content Feedback Form](https://forms.gle/owfPCGgnrju1xQEA9). Your input is valuable in helping us improve the quality and relevance of our content to better meet your needs and expectations!\n",
    "\n",
    "### Submission Instructions\n",
    "\n",
    "Below, you will see a cell. Running this cell will automatically generate a zip file with your autograded answers. Once you submit this file to the Homework 9 Coding assignment on Gradescope, Gradescope will automatically submit a PDF file with your written answers to the Homework 9 Written assignment. If you run into any issues when running this cell, feel free to check the [\"Why did a Gradescope test fail when all the Jupyter notebook’s tests passed?\"](https://ds100.org/debugging-guide/autograder_gradescope/autograder_gradescope.html#why-did-a-gradescope-test-fail-when-all-the-jupyter-notebooks-tests-passed) section of the Data 100 Debugging Guide.\n",
    "\n",
    "If there are issues with automatically generating the PDF, try downloading the notebook as a PDF by clicking on `File -> Save and Export Notebook As... -> PDF`. If that doesn't work, download the notebook as an HTML file by clicking on `File -> Save and Export Notebook As... -> HTML`, open the HTML file in your browser, and Ctrl + P or Cmd + P (Mac) to save the file as a PDF. Alternatively, you can  manually take screenshots of your answers to the manually graded questions and submit a PDF containing those. \n",
    "\n",
    "**You are responsible for ensuring your submission follows our requirements and that everything was generated and submitted correctly. We will not be granting regrade requests nor extensions to submissions that don't follow instructions.** If you encounter any difficulties with submission, please don't hesitate to reach out to staff prior to the deadline. "
   ]
  },
  {
   "cell_type": "markdown",
   "id": "0e581cc3",
   "metadata": {
    "deletable": false,
    "editable": false
   },
   "source": [
    "## Submission\n",
    "\n",
    "Make sure you have run all cells in your notebook in order before running the cell below, so that all images/graphs appear in the output. The cell below will generate a zip file for you to submit. **Please save before exporting!**"
   ]
  },
  {
   "cell_type": "code",
   "execution_count": null,
   "id": "9f7a4ca0",
   "metadata": {
    "deletable": false,
    "editable": false
   },
   "outputs": [],
   "source": [
    "# Save your notebook first, then run this cell to export your submission.\n",
    "grader.export(run_tests=True)"
   ]
  },
  {
   "cell_type": "markdown",
   "id": "8fb6c0b5",
   "metadata": {},
   "source": [
    " "
   ]
  }
 ],
 "metadata": {
  "kernelspec": {
   "display_name": "Python 3 (ipykernel)",
   "language": "python",
   "name": "python3"
  },
  "language_info": {
   "codemirror_mode": {
    "name": "ipython",
    "version": 3
   },
   "file_extension": ".py",
   "mimetype": "text/x-python",
   "name": "python",
   "nbconvert_exporter": "python",
   "pygments_lexer": "ipython3",
   "version": "3.11.9"
  },
  "otter": {
   "OK_FORMAT": true,
   "require_no_pdf_confirmation": true,
   "tests": {
    "q1a": {
     "name": "q1a",
     "points": 2,
     "suites": [
      {
       "cases": [
        {
         "code": ">>> assert res_q1a.shape == (10, 3)\n",
         "hidden": false,
         "locked": false
        },
        {
         "code": ">>> assert set(res_q1a.columns) == set(['startYear', 'primaryTitle', 'titleType'])\n",
         "hidden": false,
         "locked": false
        },
        {
         "code": ">>> assert np.all(res_q1a['titleType'] == 'movie')\n",
         "hidden": false,
         "locked": false
        }
       ],
       "scored": true,
       "setup": "",
       "teardown": "",
       "type": "doctest"
      }
     ]
    },
    "q1b": {
     "name": "q1b",
     "points": 2,
     "suites": [
      {
       "cases": [
        {
         "code": ">>> assert res_q1b.shape == (102, 2)\n",
         "hidden": false,
         "locked": false
        }
       ],
       "scored": true,
       "setup": "",
       "teardown": "",
       "type": "doctest"
      }
     ]
    },
    "q2": {
     "name": "q2",
     "points": 3,
     "suites": [
      {
       "cases": [
        {
         "code": ">>> assert res_q2.shape == (10, 2)\n",
         "hidden": false,
         "locked": false
        },
        {
         "code": ">>> assert set(res_q2.columns) == set(['name', 'total'])\n",
         "hidden": false,
         "locked": false
        }
       ],
       "scored": true,
       "setup": "",
       "teardown": "",
       "type": "doctest"
      }
     ]
    },
    "q3": {
     "name": "q3",
     "points": 3,
     "suites": [
      {
       "cases": [
        {
         "code": ">>> assert res_q3.shape == (2, 2)\n",
         "hidden": false,
         "locked": false
        },
        {
         "code": ">>> assert set(res_q3.columns) == set(['isBigHit', 'total'])\n",
         "hidden": false,
         "locked": false
        },
        {
         "code": ">>> assert set(res_q3['isBigHit']) == set(['yes', 'no'])\n",
         "hidden": false,
         "locked": false
        }
       ],
       "scored": true,
       "setup": "",
       "teardown": "",
       "type": "doctest"
      }
     ]
    },
    "q4a": {
     "name": "q4a",
     "points": 4,
     "suites": [
      {
       "cases": [
        {
         "code": ">>> assert set(res_q4a.columns) == {'averageNumVotes', 'averageRating', 'runtimeBin', 'total'}\n",
         "hidden": false,
         "locked": false
        },
        {
         "code": ">>> assert res_q4a['runtimeBin'].min() == 50.0\n",
         "hidden": false,
         "locked": false
        },
        {
         "code": ">>> assert res_q4a['runtimeBin'].max() == 330.0\n",
         "hidden": false,
         "locked": false
        }
       ],
       "scored": true,
       "setup": "",
       "teardown": "",
       "type": "doctest"
      }
     ]
    },
    "q5": {
     "name": "q5",
     "points": 4,
     "suites": [
      {
       "cases": [
        {
         "code": ">>> assert res_q5.shape == (10, 2)\n",
         "hidden": false,
         "locked": false
        },
        {
         "code": ">>> assert set(res_q5.columns) == set(['name', 'actorRating'])\n",
         "hidden": false,
         "locked": false
        }
       ],
       "scored": true,
       "setup": "",
       "teardown": "",
       "type": "doctest"
      }
     ]
    }
   }
  }
 },
 "nbformat": 4,
 "nbformat_minor": 5
}
