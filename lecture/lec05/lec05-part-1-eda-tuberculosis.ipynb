{
 "cells": [
  {
   "cell_type": "markdown",
   "id": "f32b1ffd-6b46-41d2-91ea-58a02cd4ee31",
   "metadata": {},
   "source": [
    "# Lecture 5 (Part 1 Tuberculosis) – Data 100, Summer 2024\n",
    "\n",
    "Data 100, Summer 2024\n",
    "\n",
    "[Acknowledgments Page](https://ds100.org/fa23/acks/)"
   ]
  },
  {
   "cell_type": "code",
   "execution_count": null,
   "id": "52653181-9343-44e4-b198-540a5f3b4b28",
   "metadata": {
    "ExecuteTime": {
     "end_time": "2018-02-02T15:15:15.363920Z",
     "start_time": "2018-02-02T15:15:14.337886Z"
    }
   },
   "outputs": [],
   "source": [
    "import numpy as np\n",
    "import pandas as pd"
   ]
  },
  {
   "cell_type": "code",
   "execution_count": null,
   "id": "c76a6c48-110a-498a-918e-4269e519b83c",
   "metadata": {},
   "outputs": [],
   "source": [
    "import matplotlib.pyplot as plt\n",
    "import seaborn as sns\n",
    "#%matplotlib inline\n",
    "plt.rcParams['figure.figsize'] = (12, 9)\n",
    "\n",
    "sns.set()\n",
    "sns.set_context('talk')\n",
    "np.set_printoptions(threshold=20, precision=2, suppress=True)\n",
    "pd.set_option('display.max_rows', 30)\n",
    "pd.set_option('display.max_columns', None)\n",
    "pd.set_option('display.precision', 2)\n",
    "# This option stops scientific notation for pandas\n",
    "pd.set_option('display.float_format', '{:.2f}'.format)\n",
    "\n",
    "# Silence some spurious seaborn warnings\n",
    "import warnings\n",
    "warnings.filterwarnings(\"ignore\", category=FutureWarning)"
   ]
  },
  {
   "cell_type": "markdown",
   "id": "26fe9f52-e4d4-4066-a56c-b5575061b979",
   "metadata": {},
   "source": [
    "# Tuberculosis in the United States"
   ]
  },
  {
   "cell_type": "markdown",
   "id": "d8e1ed79-85c3-4654-bd00-f546e7fea6c0",
   "metadata": {},
   "source": [
    "What can we say about the presence of Tuberculosis in the United States?\n",
    "\n",
    "Let's look at the data included in the [original CDC article](https://www.cdc.gov/mmwr/volumes/71/wr/mm7112a1.htm?s_cid=mm7112a1_w#T1_down) published in 2021."
   ]
  },
  {
   "cell_type": "markdown",
   "id": "b996faad-7ea5-4bde-b255-a604811e3451",
   "metadata": {},
   "source": [
    "You could download the data directly from the web using Pandas:"
   ]
  },
  {
   "cell_type": "code",
   "execution_count": null,
   "id": "84860ed3-fdfe-4195-ae64-61be44b1bdd6",
   "metadata": {},
   "outputs": [],
   "source": [
    "# !pip install lxml\n",
    "# tbls = pd.read_html(\"https://www.cdc.gov/mmwr/volumes/71/wr/mm7112a1.htm?s_cid=mm7112a1_w#T1_down\")\n",
    "# df = tbls[0] # First table on the website\n",
    "# df"
   ]
  },
  {
   "cell_type": "markdown",
   "id": "d26d4836-60c2-4102-9c5c-c4dd35cdc3a5",
   "metadata": {},
   "source": [
    "However, it is good practice to make a snapshot of the data for your analysis so we will work from a local copy."
   ]
  },
  {
   "cell_type": "markdown",
   "id": "ce8867f0-f161-404d-9cd6-7c85d997d2c5",
   "metadata": {},
   "source": [
    "<br>\n",
    "\n",
    "---\n",
    "\n",
    "# CSV and Nice Field Names\n",
    "Someone, already downloaded table 1 and saved it as a CSV file located in `data/cdc_tuberculosis.csv`."
   ]
  },
  {
   "cell_type": "markdown",
   "id": "39d1eccf-0803-4056-ac5a-ca33c0263b43",
   "metadata": {},
   "source": [
    "We can then explore the CSV (which is a text file, and does not contain binary-encoded data) in many ways:\n",
    "1. Using a the jupyter lab explorer tool look at the data\n",
    "2. Opening the CSV directly in DataHub (read-only), Excel, Google Sheets, etc.\n",
    "3. The Python file object\n",
    "4. pandas, using `pd.read_csv()`"
   ]
  },
  {
   "cell_type": "markdown",
   "id": "1ce3c542-cd20-4689-bb0b-591d0859ebc9",
   "metadata": {},
   "source": [
    "<br>\n",
    "\n",
    "\n",
    "---\n",
    "\n",
    "## Play with the data in the Jupyter Lab Explorer\n",
    "1, 2. Let's start with the first two so we really solidify the idea of a CSV as **rectangular data (i.e., tabular data) stored as comma-separated values**."
   ]
  },
  {
   "cell_type": "markdown",
   "id": "11bbc449-ca93-45d7-9f07-354f9db54eb7",
   "metadata": {},
   "source": [
    "<br>\n",
    "\n",
    "---\n",
    "\n",
    "## Play with the data in python\n",
    "\n",
    "3. Next, let's try using the Python file object. Let's check out the first four lines:"
   ]
  },
  {
   "cell_type": "code",
   "execution_count": null,
   "id": "6bf63a84-db3d-4f88-82e2-d49053d84b2e",
   "metadata": {},
   "outputs": [],
   "source": [
    "with open(\"data/cdc_tuberculosis.csv\", \"r\") as f:\n",
    "    for i, row in enumerate(f):\n",
    "        print(row)\n",
    "        if i >= 3: break"
   ]
  },
  {
   "cell_type": "markdown",
   "id": "3a1aa938-30b1-4929-9696-470b2dfb6c1c",
   "metadata": {},
   "source": [
    "Whoa, why are there blank lines interspaced between the lines of the CSV?\n",
    "\n",
    "You may recall that all line breaks in text files are encoded as the special newline character `\\n`. Python's `print()` prints each string (including the newline), and an additional newline on top of that.\n",
    "\n",
    "If you're curious, we can use the `repr()` function to return the raw string with all special characters:"
   ]
  },
  {
   "cell_type": "code",
   "execution_count": null,
   "id": "664eb6b6-b671-4314-a20f-5a99ed8ae544",
   "metadata": {},
   "outputs": [],
   "source": [
    "with open(\"data/cdc_tuberculosis.csv\", \"r\") as f:\n",
    "    for i, row in enumerate(f):\n",
    "        print(repr(row)) # print raw strings\n",
    "        if i >= 3: break"
   ]
  },
  {
   "cell_type": "markdown",
   "id": "d138880e-a26e-404f-b450-95554a33c262",
   "metadata": {},
   "source": [
    "## A brief tantent on reading files (optional)"
   ]
  },
  {
   "cell_type": "markdown",
   "id": "b052c53e-86c6-416d-b6ea-ee0efdd5bd09",
   "metadata": {},
   "source": [
    "Here is a shorter way to read the first few lines. It has a problem ..."
   ]
  },
  {
   "cell_type": "code",
   "execution_count": null,
   "id": "c441320b-bce3-4b6f-aedc-e17ec350d4b9",
   "metadata": {},
   "outputs": [],
   "source": [
    "with open(\"data/cdc_tuberculosis.csv\", \"r\") as f:\n",
    "    for row in f.readlines()[:4]:\n",
    "        print(repr(row)) # print raw strings    "
   ]
  },
  {
   "cell_type": "markdown",
   "id": "6ea3e9fc-8df7-4b00-99d5-4cf64cffbbaa",
   "metadata": {},
   "source": [
    "The main drawback here is that we read the entire file when we only want the first few lines. That can be wasteful. The Python `zip` built-in function ([docs here](https://docs.python.org/3/library/functions.html#zip)) is a useful thing to know about. This code may look a little odd at first, but it does the same as the first example above but much more concisely, and once you get used to thinking about `zip`, it becomes a very natural tool to express various iteration strategies:"
   ]
  },
  {
   "cell_type": "code",
   "execution_count": null,
   "id": "0d165865-c53b-4c7c-a9e1-afc8fb0f8f84",
   "metadata": {},
   "outputs": [],
   "source": [
    "with open(\"data/cdc_tuberculosis.tsv\", \"r\") as f:\n",
    "    for _, row in zip(range(4), f):\n",
    "        print(repr(row)) # print raw strings"
   ]
  },
  {
   "cell_type": "markdown",
   "id": "a18302f2-c4cb-4dfe-8eed-57873dd7bac1",
   "metadata": {},
   "source": [
    "As data gets bigger it will be important to read only the parts you need into the notebook."
   ]
  },
  {
   "cell_type": "markdown",
   "id": "2ffbfc29-5c6c-4b6c-be75-9b3d549d4159",
   "metadata": {},
   "source": [
    "<br/>\n",
    "\n",
    "---\n",
    "\n",
    "4. Finally, let's see the tried-and-true Data 100 approach: pandas."
   ]
  },
  {
   "cell_type": "code",
   "execution_count": null,
   "id": "f8348a64-0454-440a-ac02-c0c796aea68b",
   "metadata": {},
   "outputs": [],
   "source": [
    "tb_df = pd.read_csv(\"data/cdc_tuberculosis.csv\",)\n",
    "tb_df"
   ]
  },
  {
   "cell_type": "markdown",
   "id": "b1424618-8ae7-4e5e-837a-665f85a68006",
   "metadata": {},
   "source": [
    "Wait, what's up with the \"Unnamed\" column names? And the first row, for that matter?\n",
    "\n",
    "Congratulations -- you're ready to wrangle your data. Because of how things are stored, we'll need to clean the data a bit to name our columns better."
   ]
  },
  {
   "cell_type": "markdown",
   "id": "c24610db-deef-4760-86a7-d82e4bb18693",
   "metadata": {},
   "source": [
    "A reasonable first step is to identify the row with the right header. The `pd.read_csv()` function ([documentation](https://pandas.pydata.org/docs/reference/api/pandas.read_csv.html)) has the convenient `header` parameter.\n",
    "\n",
    "You could also try:\n",
    "1. Shift+Tab while your cursor is in the function call parenthesis.\n",
    "1. `Cmd+i` or `Ctrl+i` to get contextual help. "
   ]
  },
  {
   "cell_type": "code",
   "execution_count": null,
   "id": "1a9dff58-3938-4348-8fd3-b9057fde21ac",
   "metadata": {},
   "outputs": [],
   "source": [
    "tb_df = pd.read_csv(\"data/cdc_tuberculosis.csv\", header=1) # row index\n",
    "tb_df"
   ]
  },
  {
   "cell_type": "markdown",
   "id": "c55ef769-0c85-462d-81d3-f4c0265add8b",
   "metadata": {},
   "source": [
    "<br><br>\n",
    "Wait...but now we can't differentiate betwen the \"Number of TB cases\" and \"TB incidence\" year columns. pandas has tried to make our lives easier by automatically adding \".1\" to the latter columns, but this doesn't help us as humans understand the data.\n",
    "\n",
    "We can do this manually with `df.rename()` ([documentation](https://pandas.pydata.org/docs/reference/api/pandas.DataFrame.rename.html?highlight=rename#pandas.DataFrame.rename)):"
   ]
  },
  {
   "cell_type": "code",
   "execution_count": null,
   "id": "f9fd2029-d22d-409b-b6f1-248aad532df7",
   "metadata": {},
   "outputs": [],
   "source": [
    "rename_dict = {'2019': 'TB cases 2019',\n",
    "               '2020': 'TB cases 2020',\n",
    "               '2021': 'TB cases 2021',\n",
    "               '2019.1': 'TB incidence 2019',\n",
    "               '2020.1': 'TB incidence 2020',\n",
    "               '2021.1': 'TB incidence 2021'}\n",
    "tb_df = tb_df.rename(columns=rename_dict)\n",
    "tb_df"
   ]
  },
  {
   "cell_type": "markdown",
   "id": "1d89ae00-c95b-4cf7-9e1f-1cd5765b24e8",
   "metadata": {},
   "source": [
    "<br>\n",
    "\n",
    "**Return to slides!**\n",
    "\n",
    "<br><br><br>"
   ]
  },
  {
   "cell_type": "markdown",
   "id": "1bf49b6d-fbe0-4c6e-8ab2-b541bc72e0c1",
   "metadata": {},
   "source": [
    "<br/><br/>\n",
    "\n",
    "---\n",
    "\n",
    "# Record Granularity"
   ]
  },
  {
   "cell_type": "markdown",
   "id": "271b596e-15cd-43e0-9f91-86a9eab2d9f6",
   "metadata": {},
   "source": [
    "You might already be wondering: What's up with that first record?\n",
    "\n",
    "Row 0 is what we call a **rollup record**, or summary record. It's often useful when displaying tables to humans. The **granularity** of record 0 (Totals) vs the rest of the records (States) is different."
   ]
  },
  {
   "cell_type": "code",
   "execution_count": null,
   "id": "9982adb2-5a77-43f4-9926-6d27617f5db6",
   "metadata": {},
   "outputs": [],
   "source": [
    "tb_df.head()"
   ]
  },
  {
   "cell_type": "markdown",
   "id": "25390b21-b853-4bea-8ac2-ed02a78fda99",
   "metadata": {},
   "source": [
    "<br/>\n",
    "\n",
    "Okay, EDA step two. How was the rollup record aggregated?\n",
    "\n",
    "Let's check if Total TB cases is the sum of all state TB cases. We can drop it and try to sum up all the remaining rows. "
   ]
  },
  {
   "cell_type": "code",
   "execution_count": null,
   "id": "7bb93983-af26-4cd8-bc77-051a9d5a5bdc",
   "metadata": {},
   "outputs": [],
   "source": [
    "tb_df.drop(0)"
   ]
  },
  {
   "cell_type": "code",
   "execution_count": null,
   "id": "04035420-d4eb-44c2-9cc7-2784eed68aa2",
   "metadata": {},
   "outputs": [],
   "source": [
    "tb_df.drop(0).sum()"
   ]
  },
  {
   "cell_type": "markdown",
   "id": "e3843ad9-afe2-4787-a979-5b62e4af2c4a",
   "metadata": {},
   "source": [
    "<br/>\n",
    "\n",
    "Whoa, what's going on? Check out the column types:"
   ]
  },
  {
   "cell_type": "code",
   "execution_count": null,
   "id": "cd373432-2770-4218-af2d-4cc52d32cdfa",
   "metadata": {},
   "outputs": [],
   "source": [
    "tb_df.dtypes"
   ]
  },
  {
   "cell_type": "markdown",
   "id": "105bf5fe-4a77-4335-8fd7-6c0f8ed68ad4",
   "metadata": {},
   "source": [
    "<br/>\n",
    "\n",
    "Looks like those commas are causing all TB cases to be read as the `object` datatype, or **storage type** (close to the Python string datatype), so pandas is concatenating strings instead of adding integers.\n",
    "\n",
    "<br/>\n",
    "\n",
    "Fortunately `read_csv` also has a `thousands` parameter (for what it's worth, I didn't know this beforehand--I [googled](https://pandas.pydata.org/docs/reference/api/pandas.read_csv.html) this):"
   ]
  },
  {
   "cell_type": "code",
   "execution_count": null,
   "id": "539e288c-2d73-404e-8a2f-cc98d0428255",
   "metadata": {},
   "outputs": [],
   "source": [
    "# improve readability: chaining method calls with outer parentheses/line breaks\n",
    "tb_df = (\n",
    "    pd.read_csv(\"data/cdc_tuberculosis.csv\", header=1, thousands=',')\n",
    "    .rename(columns=rename_dict)\n",
    ")\n",
    "tb_df"
   ]
  },
  {
   "cell_type": "code",
   "execution_count": null,
   "id": "b0eb545c-26f4-46cb-958d-3597a2cc6784",
   "metadata": {},
   "outputs": [],
   "source": [
    "tb_df.drop(0).sum()"
   ]
  },
  {
   "cell_type": "code",
   "execution_count": null,
   "id": "9b4e992d-39f0-48ed-9658-c63e6730199c",
   "metadata": {},
   "outputs": [],
   "source": [
    "tb_df.head(1)"
   ]
  },
  {
   "cell_type": "markdown",
   "id": "d8e7f6c0-6eeb-4344-9636-00e8bc4c2c2b",
   "metadata": {},
   "source": [
    "The Total TB cases look right. Phew!\n",
    "\n",
    "(We'll leave it to your own EDA to figure out how the TB incidence \"Totals\" were aggregated...you may want to check out the bonus section first, though.)"
   ]
  },
  {
   "cell_type": "markdown",
   "id": "fd3fd943-838c-4c67-98f7-66b56b59b6c7",
   "metadata": {},
   "source": [
    "In order to compute incidence we are going to need more data: **population information**!!"
   ]
  },
  {
   "cell_type": "markdown",
   "id": "e971e28e-460d-485f-a580-a59f4bfe8f20",
   "metadata": {},
   "source": [
    "**Return to the lecture!**"
   ]
  },
  {
   "cell_type": "markdown",
   "id": "a399666c-bae6-4d0f-ba24-139c29ab401d",
   "metadata": {},
   "source": [
    "<br/><br/>"
   ]
  },
  {
   "cell_type": "markdown",
   "id": "5214187a-a70d-49f9-9073-fa6e7d383482",
   "metadata": {},
   "source": [
    "<br/><br/>\n",
    "\n",
    "---\n",
    "\n",
    "# Gather Census Data\n",
    "\n",
    "U.S. Census population estimates [source](https://www.census.gov/data/tables/time-series/demo/popest/2010s-state-total.html) (2019), [source](https://www.census.gov/data/tables/time-series/demo/popest/2020s-state-total.html) (2020-2021).\n",
    "\n",
    "Running the below cells cleans the data. We encourage you to closely explore the CSV and study these lines after lecture...\n",
    "\n",
    "There are a few new methods here:\n",
    "* `df.convert_dtypes()` ([documentation](https://pandas.pydata.org/docs/reference/api/pandas.DataFrame.convert_dtypes.html)) conveniently converts all float dtypes into ints and is out of scope for the class.\n",
    "* `df.drop_na()` ([documentation](https://pandas.pydata.org/docs/reference/api/pandas.DataFrame.dropna.html)) will be explained in more detail next time."
   ]
  },
  {
   "cell_type": "code",
   "execution_count": null,
   "id": "6a488ed5-bb50-4005-863a-4a287fa54013",
   "metadata": {},
   "outputs": [],
   "source": [
    "census_2010s_df = pd.read_csv(\"data/nst-est2019-01.csv\", header=3, thousands=\",\")\n",
    "census_2010s_df"
   ]
  },
  {
   "cell_type": "markdown",
   "id": "fb51b438-045b-4d51-a043-06151995a655",
   "metadata": {},
   "source": [
    "Do some basic data cleaning"
   ]
  },
  {
   "cell_type": "code",
   "execution_count": null,
   "id": "97b52e1e-8c99-4448-ab89-cd7ad045261e",
   "metadata": {},
   "outputs": [],
   "source": [
    "census_2010s_df = (\n",
    "    census_2010s_df\n",
    "    .rename(columns={\"Unnamed: 0\": \"Geographic Area\"})\n",
    "    .drop(columns=[\"Census\", \"Estimates Base\"])\n",
    "    .convert_dtypes() # \"smart\" converting of columns to int, use at your own risk\n",
    "    .dropna()  # we'll introduce this very soon\n",
    ")\n",
    "census_2010s_df"
   ]
  },
  {
   "cell_type": "markdown",
   "id": "1a537a5a-a69e-4525-a059-5f97d38740f7",
   "metadata": {},
   "source": [
    "What is the granularity of each row in this table."
   ]
  },
  {
   "cell_type": "markdown",
   "id": "3eb099a8-3f86-4143-add0-7c7128b205f7",
   "metadata": {},
   "source": [
    "Notice there is a `'.'` at the beginning of all the states.  We need to remove that."
   ]
  },
  {
   "cell_type": "code",
   "execution_count": null,
   "id": "ccef88d4-b15c-4147-ab14-d1c511d94e17",
   "metadata": {},
   "outputs": [],
   "source": [
    "census_2010s_df['Geographic Area'] = census_2010s_df['Geographic Area'].str.strip('.')\n",
    "census_2010s_df"
   ]
  },
  {
   "cell_type": "markdown",
   "id": "98a277bf-dad5-4f59-972c-1d96810cf88e",
   "metadata": {},
   "source": [
    "## Loading the 2020s data\n",
    "The 2020s data is in a separate file so we will repeate the same data cleaning process."
   ]
  },
  {
   "cell_type": "code",
   "execution_count": null,
   "id": "368d0d13-cc1c-43a8-92c3-757ed22fc5ee",
   "metadata": {},
   "outputs": [],
   "source": [
    "# census 2020s data\n",
    "census_2020s_df = pd.read_csv(\"data/NST-EST2022-POP.csv\", header=3, thousands=\",\")\n",
    "census_2020s_df = (\n",
    "    census_2020s_df\n",
    "    .drop(columns=[\"Unnamed: 1\"])\n",
    "    .rename(columns={\"Unnamed: 0\": \"Geographic Area\"})\n",
    "    .convert_dtypes()                 \n",
    "    .dropna()                         \n",
    ")\n",
    "census_2020s_df['Geographic Area'] = census_2020s_df['Geographic Area'].str.strip('.')\n",
    "census_2020s_df"
   ]
  },
  {
   "cell_type": "markdown",
   "id": "7cf0213c-f6bc-4186-a987-9e87155b3987",
   "metadata": {},
   "source": [
    "<br><br>\n",
    "\n",
    "**Return to Slides**"
   ]
  },
  {
   "cell_type": "markdown",
   "id": "a2e4d8b6-c7f5-44d7-a2c6-e66548d65099",
   "metadata": {},
   "source": [
    "<br/><br/>\n",
    "\n",
    "---\n",
    "\n",
    "# Join Data (Merge DataFrames)"
   ]
  },
  {
   "cell_type": "markdown",
   "id": "f29a74f0-36fa-4a47-a0c9-2c5df6e6f9cd",
   "metadata": {},
   "source": [
    "Time to `merge`! Here I use the DataFrame method `df1.merge(right=df2, ...)` on DataFrame `df1` ([documentation](https://pandas.pydata.org/docs/reference/api/pandas.DataFrame.merge.html)). Contrast this with the function `pd.merge(left=df1, right=df2, ...)` ([documentation](https://pandas.pydata.org/docs/reference/api/pandas.merge.html?highlight=pandas%20merge#pandas.merge)). Feel free to use either."
   ]
  },
  {
   "cell_type": "code",
   "execution_count": null,
   "id": "7b901cf9-0e6d-414b-bd8d-16d2248885bb",
   "metadata": {},
   "outputs": [],
   "source": [
    "# Show the three tables that we are going to join\n",
    "display(tb_df.tail(2))\n",
    "display(census_2010s_df.tail(2))\n",
    "display(census_2020s_df.tail(2))"
   ]
  },
  {
   "cell_type": "code",
   "execution_count": null,
   "id": "0d3e093a-860a-45f1-b976-3133f34586c5",
   "metadata": {},
   "outputs": [],
   "source": [
    "# merge TB dataframe with two US census dataframes\n",
    "tb_census_df = (\n",
    "    tb_df\n",
    "    .merge(right=census_2010s_df,\n",
    "           left_on=\"U.S. jurisdiction\", right_on=\"Geographic Area\")\n",
    "    .merge(right=census_2020s_df,\n",
    "           left_on=\"U.S. jurisdiction\", right_on=\"Geographic Area\")\n",
    ")\n",
    "tb_census_df.tail()"
   ]
  },
  {
   "cell_type": "markdown",
   "id": "9110759b-cca6-430b-a42e-b6a23404b045",
   "metadata": {},
   "source": [
    "This is a little unwieldy. We could either drop the unneeded columns now, or just merge on smaller census DataFrames. Let's do the latter."
   ]
  },
  {
   "cell_type": "code",
   "execution_count": null,
   "id": "b2abbb58-f0be-4559-889d-61de7152afc0",
   "metadata": {},
   "outputs": [],
   "source": [
    "# try merging again, but cleaner this time\n",
    "tb_census_df = (\n",
    "    tb_df\n",
    "    .merge(right=census_2010s_df[[\"Geographic Area\", \"2019\"]],\n",
    "           left_on=\"U.S. jurisdiction\", right_on=\"Geographic Area\")\n",
    "    .drop(columns=\"Geographic Area\")\n",
    "    .merge(right=census_2020s_df[[\"Geographic Area\", \"2020\", \"2021\"]],\n",
    "           left_on=\"U.S. jurisdiction\", right_on=\"Geographic Area\")\n",
    "    .drop(columns=\"Geographic Area\")\n",
    ")\n",
    "tb_census_df.tail()"
   ]
  },
  {
   "cell_type": "markdown",
   "id": "5f6e25a9-11fa-4e2a-a2a5-7c4a78f29aa7",
   "metadata": {
    "editable": true,
    "slideshow": {
     "slide_type": ""
    },
    "tags": []
   },
   "source": [
    "## Reproduce incidence\n",
    "\n",
    "Let's recompute incidence to make sure we know where the original CDC numbers came from.\n",
    "\n",
    "From the [CDC report](https://www.cdc.gov/mmwr/volumes/71/wr/mm7112a1.htm?s_cid=mm7112a1_w#T1_down): TB incidence is computed as “Cases per 100,000 persons using mid-year population estimates from the U.S. Census Bureau.”\n",
    "\n",
    "If we define a group as 100,000 people, then we can compute the TB incidence for a given state population as\n",
    "\n",
    "$$\\text{TB incidence} = \\frac{\\text{\\# TB cases in population}}{\\text{\\# groups in population}} = \\frac{\\text{\\# TB cases in population}}{\\text{population}/100000} $$\n",
    "\n",
    "$$= \\frac{\\text{\\# TB cases in population}}{\\text{population}} \\times 100000$$\n",
    "\n",
    "Let's try this for 2019:"
   ]
  },
  {
   "cell_type": "code",
   "execution_count": null,
   "id": "2723f184-e3f4-41f6-8022-1f10ce8b66cc",
   "metadata": {
    "editable": true,
    "slideshow": {
     "slide_type": ""
    },
    "tags": []
   },
   "outputs": [],
   "source": [
    "tb_census_df[\"recompute incidence 2019\"] = (\n",
    "    tb_census_df[\"TB cases 2019\"]/tb_census_df[\"2019\"] * 100_000\n",
    ")\n",
    "tb_census_df"
   ]
  },
  {
   "cell_type": "markdown",
   "id": "e86fff7c-22de-485a-a20a-495c753860a3",
   "metadata": {
    "editable": true,
    "slideshow": {
     "slide_type": ""
    },
    "tags": []
   },
   "source": [
    "Awesome!!!\n",
    "\n",
    "Let's use a for-loop and Python format strings to compute TB incidence for all years. Python f-strings are just used for the purposes of this demo, but they're handy to know when you explore data beyond this course ([Python documentation](https://docs.python.org/3/tutorial/inputoutput.html))."
   ]
  },
  {
   "cell_type": "code",
   "execution_count": null,
   "id": "921b16a2-2340-4805-889c-8f044a1832f8",
   "metadata": {
    "editable": true,
    "slideshow": {
     "slide_type": ""
    },
    "tags": []
   },
   "outputs": [],
   "source": [
    "# recompute incidence for all years\n",
    "for year in [2019, 2020, 2021]:\n",
    "    tb_census_df[f\"recompute incidence {year}\"] = (\n",
    "        tb_census_df[f\"TB cases {year}\"]/tb_census_df[f\"{year}\"]*100_000\n",
    "    )\n",
    "tb_census_df"
   ]
  },
  {
   "cell_type": "markdown",
   "id": "2190ec9f-d7e9-4032-8bcf-ca9ebb3644f8",
   "metadata": {
    "editable": true,
    "slideshow": {
     "slide_type": ""
    },
    "tags": []
   },
   "source": [
    "These numbers look pretty close!!! There are a few errors in the hundredths place, particularly in 2021. It may be useful to further explore reasons behind this discrepancy. We'll leave it to you!"
   ]
  },
  {
   "cell_type": "code",
   "execution_count": null,
   "id": "ce02240c-08cb-4c2b-a571-eb3ac0907088",
   "metadata": {
    "editable": true,
    "slideshow": {
     "slide_type": ""
    },
    "tags": []
   },
   "outputs": [],
   "source": [
    "tb_census_df.describe()"
   ]
  },
  {
   "cell_type": "markdown",
   "id": "98a9d4cc-c5b8-48a1-b67b-cd0539d5bc56",
   "metadata": {},
   "source": [
    "<br>\n",
    "\n",
    "**Return to slides!**"
   ]
  },
  {
   "cell_type": "markdown",
   "id": "af921c77-fed6-4f82-9ce7-f1b478602cda",
   "metadata": {
    "editable": true,
    "slideshow": {
     "slide_type": ""
    },
    "tags": []
   },
   "source": [
    "\n",
    "<br><br><br>\n",
    "\n",
    "---\n",
    "\n",
    "# Bonus EDA\n",
    "\n",
    "We likely won't get to this part, so a tutorial is provided for your own curiosity.\n",
    "\n",
    "**How do we reproduce that reported statistic in the original [CDC report](https://www.cdc.gov/mmwr/volumes/71/wr/mm7112a1.htm?s_cid=mm7112a1_w)?**\n",
    "\n",
    "> Reported TB incidence (cases per 100,000 persons) increased **9.4%**, from **2.2** during 2020 to **2.4** during 2021 but was lower than incidence during 2019 (2.7). Increases occurred among both U.S.-born and non–U.S.-born persons.\n",
    "\n",
    "This is TB incidence computed across the entire U.S. population! How do we reproduce this\n",
    "* We need to reproduce the \"Total\" TB incidences in our rolled record.\n",
    "* But our current `tb_census_df` only has 51 entries (50 states plus Washington, D.C.). There is no rolled record.\n",
    "* What happened...?\n",
    "\n",
    "Let's get exploring!\n",
    "<br/><br/>"
   ]
  },
  {
   "cell_type": "markdown",
   "id": "47a705d2-0561-41fb-a7d1-ed0039441ac1",
   "metadata": {},
   "source": [
    "Before we keep exploring, I'm going to set all indexes to more meaningful values, instead of just numbers that pertained to some row at some point. This will make our cleaning slightly easier."
   ]
  },
  {
   "cell_type": "code",
   "execution_count": null,
   "id": "118fe56f-497d-45e1-b7cf-a5892b6a5fce",
   "metadata": {
    "editable": true,
    "slideshow": {
     "slide_type": ""
    },
    "tags": []
   },
   "outputs": [],
   "source": [
    "tb_df = tb_df.set_index(\"U.S. jurisdiction\")\n",
    "tb_df"
   ]
  },
  {
   "cell_type": "code",
   "execution_count": null,
   "id": "335d796f-ea06-4bdf-a0da-a8c00c0204f6",
   "metadata": {},
   "outputs": [],
   "source": [
    "census_2010s_df = census_2010s_df.set_index(\"Geographic Area\")\n",
    "census_2010s_df"
   ]
  },
  {
   "cell_type": "code",
   "execution_count": null,
   "id": "697ec976-dd7f-4294-a040-1bd173ace339",
   "metadata": {},
   "outputs": [],
   "source": [
    "census_2020s_df = census_2020s_df.set_index(\"Geographic Area\")\n",
    "census_2020s_df"
   ]
  },
  {
   "cell_type": "markdown",
   "id": "74b60b77-f114-4026-ba44-5cf770ef641c",
   "metadata": {},
   "source": [
    "It turns out that our merge above only kept state records, even though our original `tb_df` had the \"Total\" rolled record:"
   ]
  },
  {
   "cell_type": "code",
   "execution_count": null,
   "id": "866f4a7a-372b-4f61-b8c3-83447db45cf5",
   "metadata": {},
   "outputs": [],
   "source": [
    "tb_df.head()"
   ]
  },
  {
   "cell_type": "markdown",
   "id": "518cf50c-7f46-47aa-bf39-d5f18e842c89",
   "metadata": {},
   "source": [
    "Recall that merge by default does an **inner** merge by default, meaning that it only preserves keys that are present in **both** DataFrames.\n",
    "\n",
    "The rolled records in our census dataframes have different `Geographic Area` fields, which was the key we merged on:"
   ]
  },
  {
   "cell_type": "code",
   "execution_count": null,
   "id": "1011c8f8-b4e8-4648-b594-02cc6fa15135",
   "metadata": {},
   "outputs": [],
   "source": [
    "census_2010s_df"
   ]
  },
  {
   "cell_type": "markdown",
   "id": "83e598c3-f601-4f36-bd1b-2f81db9fbb4a",
   "metadata": {},
   "source": [
    "The Census DataFrame has several rolled records. The aggregate record we are looking for actually has the Geographic Area named \"United States\".\n",
    "\n",
    "One straightforward way to get the right merge is to rename the value itself. Because we now have the Geographic Area index, we'll use `df.rename()` ([documentation](https://pandas.pydata.org/docs/reference/api/pandas.DataFrame.rename.html)):"
   ]
  },
  {
   "cell_type": "code",
   "execution_count": null,
   "id": "1763237d-1c43-47ad-9bac-0da71d23d5e3",
   "metadata": {},
   "outputs": [],
   "source": [
    "# rename rolled record for 2010s\n",
    "census_2010s_df.rename(index={'United States':'Total'}, inplace=True)\n",
    "census_2010s_df"
   ]
  },
  {
   "cell_type": "code",
   "execution_count": null,
   "id": "8af9af58-3bae-4fee-b343-16d16f700551",
   "metadata": {},
   "outputs": [],
   "source": [
    "# same, but for 2020s rename rolled record\n",
    "census_2020s_df.rename(index={'United States':'Total'}, inplace=True)\n",
    "census_2020s_df"
   ]
  },
  {
   "cell_type": "markdown",
   "id": "2d4468bc-2d7f-41e2-a1d4-718784e05659",
   "metadata": {},
   "source": [
    "<br/>\n",
    "\n",
    "Next let's rerun our merge. Note the different chaining, because we are now merging on indexes (`df.merge()` [documentation](https://pandas.pydata.org/docs/reference/api/pandas.DataFrame.merge.html))."
   ]
  },
  {
   "cell_type": "code",
   "execution_count": null,
   "id": "2cb4f805-ef25-4dfc-9286-1273728a4fc8",
   "metadata": {},
   "outputs": [],
   "source": [
    "tb_census_df = (\n",
    "    tb_df\n",
    "    .merge(right=census_2010s_df[[\"2019\"]],\n",
    "           left_index=True, right_index=True)\n",
    "    .merge(right=census_2020s_df[[\"2020\", \"2021\"]],\n",
    "           left_index=True, right_index=True)\n",
    ")\n",
    "tb_census_df"
   ]
  },
  {
   "cell_type": "markdown",
   "id": "7877e850-da50-42c6-8643-f93d2aa83f6a",
   "metadata": {},
   "source": [
    "<br/>\n",
    "\n",
    "Finally, let's recompute our incidences:"
   ]
  },
  {
   "cell_type": "code",
   "execution_count": null,
   "id": "87d21398-019f-4eb5-a4c9-2c3d25376d00",
   "metadata": {},
   "outputs": [],
   "source": [
    "# recompute incidence for all years\n",
    "for year in [2019, 2020, 2021]:\n",
    "    tb_census_df[f\"recompute incidence {year}\"] = tb_census_df[f\"TB cases {year}\"]/tb_census_df[f\"{year}\"]*100000\n",
    "tb_census_df"
   ]
  },
  {
   "cell_type": "markdown",
   "id": "145fbe39-b994-423d-a445-e9cb28dfc940",
   "metadata": {},
   "source": [
    "We reproduced the total U.S. incidences correctly!\n",
    "\n",
    "We're almost there. Let's revisit the quote:\n",
    "\n",
    "> Reported TB incidence (cases per 100,000 persons) increased **9.4%**, from **2.2** during 2020 to **2.4** during 2021 but was lower than incidence during 2019 (2.7). Increases occurred among both U.S.-born and non–U.S.-born persons.\n",
    "\n",
    "Recall that percent change from $A$ to $B$ is computed as\n",
    "$$\\text{percent change} = \\frac{B - A}{A} \\times 100$$."
   ]
  },
  {
   "cell_type": "code",
   "execution_count": null,
   "id": "aae10e1f-8917-4e8d-b1f4-ebfe71d87f6a",
   "metadata": {},
   "outputs": [],
   "source": [
    "tb_census_df"
   ]
  },
  {
   "cell_type": "code",
   "execution_count": null,
   "id": "81111bd8-0c96-47af-9788-b38ef80be1e1",
   "metadata": {},
   "outputs": [],
   "source": [
    "incidence_2020 = tb_census_df.loc['Total', 'recompute incidence 2020']\n",
    "incidence_2020"
   ]
  },
  {
   "cell_type": "code",
   "execution_count": null,
   "id": "42e98998-b46d-40d6-9855-0e6be4ade34a",
   "metadata": {},
   "outputs": [],
   "source": [
    "incidence_2021 = tb_census_df.loc['Total', 'recompute incidence 2021']\n",
    "incidence_2021\n"
   ]
  },
  {
   "cell_type": "code",
   "execution_count": null,
   "id": "7a3bd165-b177-4de2-9e9c-ef0c3348cd67",
   "metadata": {},
   "outputs": [],
   "source": [
    "difference = (incidence_2021 - incidence_2020)/incidence_2020 * 100\n",
    "difference"
   ]
  },
  {
   "cell_type": "markdown",
   "id": "15075a62-fe6f-4eb4-80f6-ca1a178364c0",
   "metadata": {},
   "source": [
    "We did it!!!"
   ]
  }
 ],
 "metadata": {
  "kernelspec": {
   "display_name": "Python 3 (ipykernel)",
   "language": "python",
   "name": "python3"
  },
  "language_info": {
   "codemirror_mode": {
    "name": "ipython",
    "version": 3
   },
   "file_extension": ".py",
   "mimetype": "text/x-python",
   "name": "python",
   "nbconvert_exporter": "python",
   "pygments_lexer": "ipython3",
   "version": "3.11.5"
  }
 },
 "nbformat": 4,
 "nbformat_minor": 5
}
