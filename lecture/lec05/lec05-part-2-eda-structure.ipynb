{
 "cells": [
  {
   "cell_type": "markdown",
   "id": "a4875783-3a1e-47a0-bc8f-675647dfc1e1",
   "metadata": {},
   "source": [
    "# Lecture 5 (Part 2 Examples) – Data 100, Summer 2024\n",
    "\n",
    "Data 100, Summer 2024\n",
    "\n",
    "[Acknowledgments Page](https://ds100.org/fa23/acks/)"
   ]
  },
  {
   "cell_type": "code",
   "execution_count": null,
   "id": "cd22501d-8cb4-446f-a393-4c989ffe16cc",
   "metadata": {
    "ExecuteTime": {
     "end_time": "2018-02-02T15:15:15.363920Z",
     "start_time": "2018-02-02T15:15:14.337886Z"
    }
   },
   "outputs": [],
   "source": [
    "import numpy as np\n",
    "import pandas as pd"
   ]
  },
  {
   "cell_type": "code",
   "execution_count": null,
   "id": "73babc0f-1958-4b75-9e32-f4788b5d7bf3",
   "metadata": {},
   "outputs": [],
   "source": [
    "import matplotlib.pyplot as plt\n",
    "import seaborn as sns\n",
    "#%matplotlib inline\n",
    "plt.rcParams['figure.figsize'] = (12, 9)\n",
    "\n",
    "sns.set()\n",
    "sns.set_context('talk')\n",
    "np.set_printoptions(threshold=20, precision=2, suppress=True)\n",
    "pd.set_option('display.max_rows', 30)\n",
    "pd.set_option('display.max_columns', None)\n",
    "pd.set_option('display.precision', 2)\n",
    "# This option stops scientific notation for pandas\n",
    "pd.set_option('display.float_format', '{:.2f}'.format)\n",
    "\n",
    "# Silence some spurious seaborn warnings\n",
    "import warnings\n",
    "warnings.filterwarnings(\"ignore\", category=FutureWarning)"
   ]
  },
  {
   "cell_type": "markdown",
   "id": "f21a193d-131d-43af-92d3-0e189c123994",
   "metadata": {},
   "source": [
    "\n",
    "<br><br><br>\n",
    "\n",
    "---\n",
    "\n",
    "## Structure: Other File Formats\n",
    "\n",
    "There are many file types for storing structured data: CSV, TSV, JSON, XML, ASCII, SAS...\n",
    "* Documentation will be your best friend to understand how to process many of these file types.\n",
    "* In lecture, we will cover TSV and JSON since pandas supports them out-of-box."
   ]
  },
  {
   "cell_type": "markdown",
   "id": "98960f5a-f880-447b-ad8b-629ad06061b4",
   "metadata": {},
   "source": [
    "The `pd.read_csv` function also reads in TSVs if we specify the **delimiter** with parameter `sep='\\t'` ([documentation](https://pandas.pydata.org/docs/reference/api/pandas.read_csv.html))."
   ]
  },
  {
   "cell_type": "code",
   "execution_count": null,
   "id": "bdd4a443-a27a-4845-8fd9-f99fad26784f",
   "metadata": {},
   "outputs": [],
   "source": [
    "tuberculosis_df_tsv = pd.read_csv(\"data/cdc_tuberculosis.tsv\", sep='\\t')\n",
    "tuberculosis_df_tsv.head()"
   ]
  },
  {
   "cell_type": "code",
   "execution_count": null,
   "id": "59fa20d2-0cbe-4da7-a3db-dae144a3ecd0",
   "metadata": {},
   "outputs": [],
   "source": [
    "with open(\"data/cdc_tuberculosis.tsv\", \"r\") as f:\n",
    "    for _, row in zip(range(4), f):\n",
    "        print(repr(row)) # print raw strings"
   ]
  },
  {
   "cell_type": "markdown",
   "id": "3d419f25-32c1-4b61-aa05-0c471e01a6cf",
   "metadata": {},
   "source": [
    "<br><br>\n",
    "\n",
    "**Return to Slides**\n"
   ]
  },
  {
   "cell_type": "markdown",
   "id": "c9b4697e-8dad-452d-b956-a2687850f655",
   "metadata": {
    "tags": []
   },
   "source": [
    "<br> <br>\n",
    "\n",
    "---\n",
    "\n",
    "\n",
    "### JSON\n",
    "The City of Berkeley Open Data [website](https://data.cityofberkeley.info/Health/COVID-19-Confirmed-Cases/xn6j-b766) has a dataset with COVID-19 Confirmed Cases among Berkeley residents by date.\n",
    "\n",
    "Let's first check out this website.\n",
    "\n",
    "Next, let's download this file, saving it as a JSON (note the source URL file type).\n",
    "\n",
    "In the interest of **reproducible data science** we will download the data programatically.  We have defined some helper functions in the [ds100_utils.py](ds100_utils.py) file.  I can then reuse these helper functions in many different notebooks."
   ]
  },
  {
   "cell_type": "code",
   "execution_count": null,
   "id": "ef1ad7e3-1997-4608-ba45-5d9c706314ba",
   "metadata": {
    "ExecuteTime": {
     "end_time": "2018-02-02T15:15:15.368501Z",
     "start_time": "2018-02-02T15:15:15.365808Z"
    }
   },
   "outputs": [],
   "source": [
    "# just run this cell\n",
    "from ds100_utils import fetch_and_cache"
   ]
  },
  {
   "cell_type": "markdown",
   "id": "632a1946-faa9-4454-9a04-60a24debf374",
   "metadata": {
    "tags": []
   },
   "source": [
    "Occasionally, you will want to modify code that you have imported from a local Python library.  To reimport those modifications you can either use the python importlib library:\n",
    "\n",
    "```python\n",
    "from importlib import reload\n",
    "reload(utils)\n",
    "```\n",
    "\n",
    "or use iPython magic which will intelligently import code when files change:\n",
    "\n",
    "```python\n",
    "%load_ext autoreload\n",
    "%autoreload 2\n",
    "```"
   ]
  },
  {
   "cell_type": "code",
   "execution_count": null,
   "id": "5fcaf1c5-9b15-4e17-a043-2e60539658cb",
   "metadata": {},
   "outputs": [],
   "source": [
    "covid_file = fetch_and_cache(\n",
    "    \"https://data.cityofberkeley.info/api/views/xn6j-b766/rows.json?accessType=DOWNLOAD\",\n",
    "    \"confirmed-cases.json\",\n",
    "    force=False)\n",
    "covid_file          # a file path wrapper object"
   ]
  },
  {
   "cell_type": "markdown",
   "id": "b1552740-b687-4252-93b5-fe7c31cc9080",
   "metadata": {},
   "source": [
    "#### File size\n",
    "\n",
    "Often, I like to start my analysis by getting a rough estimate of the size of the data.  This will help inform the tools I use and how I view the data.  If it is relatively small I might use a text editor or a spreadsheet to look at the data.  If it is larger, I might jump to more programmatic exploration or even used distributed computing tools.\n",
    "\n",
    "However here we will use Python tools to probe the file."
   ]
  },
  {
   "cell_type": "markdown",
   "id": "5731253b-2d3e-460c-ae6a-b6721ee4dd99",
   "metadata": {},
   "source": [
    "Since these seem to be text files I might also want to investigate the number of lines, which often corresponds to the number of records."
   ]
  },
  {
   "cell_type": "code",
   "execution_count": null,
   "id": "18001389-1f08-477b-ada1-79d10faa977b",
   "metadata": {},
   "outputs": [],
   "source": [
    "import os\n",
    "\n",
    "print(covid_file, \"is\", os.path.getsize(covid_file) / 1e6, \"MB\")"
   ]
  },
  {
   "cell_type": "markdown",
   "id": "13adeb25-626e-4bf1-8b7c-44c536941e7e",
   "metadata": {},
   "source": [
    "As part of your workflow, you should also learn some basic Unix commands, as these are often very handy (in fact, there's an entire book called [\"Data Science at the Command Line\"](https://datascienceatthecommandline.com) that explores this idea in depth!).\n",
    "\n",
    "In Jupyter/IPython, you can prefix lines with `!` to execute arbitrary Unix commands, and within those lines, you can refer to Python variables and expressions with the syntax `{expr}`. \n",
    "\n",
    "Here, we use the `ls` command to list files, using the `-lh` flags, which request \"long format with information in human-readable form\". We also use the `wc` command for \"word count\", but with the `-l` flag, which asks for line counts instead of words.\n",
    "\n",
    "These two give us the same information as the code above, albeit in a slightly different form:"
   ]
  },
  {
   "cell_type": "code",
   "execution_count": null,
   "id": "476632aa-8a68-4e75-b2d2-db1ae1ab94f2",
   "metadata": {},
   "outputs": [],
   "source": [
    "!ls -lh {covid_file}\n",
    "!wc -l {covid_file}"
   ]
  },
  {
   "cell_type": "markdown",
   "id": "736ff01f-ad4d-4559-b728-25d74faeaf6e",
   "metadata": {},
   "source": [
    "#### File contents\n",
    "\n",
    "Because we have a text file in a visual IDE like Jupyter/DataHub, I'm going to visually explore the data via the built-in file explorer."
   ]
  },
  {
   "cell_type": "markdown",
   "id": "e41b9e72-2fd0-48af-a0f1-a750e9598770",
   "metadata": {},
   "source": [
    "1. To the Jupyter view!\n",
    "\n",
    "2. To the Python view...?"
   ]
  },
  {
   "cell_type": "code",
   "execution_count": null,
   "id": "c8a3c79b-be34-422d-befd-0c2430ec95c1",
   "metadata": {},
   "outputs": [],
   "source": [
    "with open(covid_file, \"r\") as f:\n",
    "    for i, row in enumerate(f):\n",
    "        print(repr(row)) # print raw strings\n",
    "        if i >= 4: break"
   ]
  },
  {
   "cell_type": "markdown",
   "id": "70ab2da5-bac0-4e92-9f1a-de169bf268a7",
   "metadata": {},
   "source": [
    "In the same vein, we can use the `head` Unix command (which is where Pandas' `head` method comes from!) to see the first few lines of the file:"
   ]
  },
  {
   "cell_type": "code",
   "execution_count": null,
   "id": "380cc048-1ba8-47e4-9e08-1ec9be18f27f",
   "metadata": {},
   "outputs": [],
   "source": [
    "!head -5 {covid_file}"
   ]
  },
  {
   "cell_type": "markdown",
   "id": "10a508be-6f9f-4631-befa-973640670714",
   "metadata": {},
   "source": [
    "1. Back to the Python view.\n",
    "\n",
    "    In order to load the JSON file into pandas, Let's first do some **EDA** with the Python `json` package to understand the particular structure of this JSON file so that we can decide what (if anything) to load into Pandas. "
   ]
  },
  {
   "cell_type": "markdown",
   "id": "85fa0b37-70b7-4eaa-be61-73632928eecb",
   "metadata": {
    "tags": []
   },
   "source": [
    "### EDA: Digging into JSON\n",
    "\n",
    "Python has relatively good support for JSON data since it closely matches the internal python object model.  In the following cell we import the entire JSON datafile into a python dictionary using the `json` package."
   ]
  },
  {
   "cell_type": "code",
   "execution_count": null,
   "id": "e227500a-c56b-41c4-bbe8-60ee0f2ce088",
   "metadata": {
    "ExecuteTime": {
     "end_time": "2018-02-02T15:15:19.441300Z",
     "start_time": "2018-02-02T15:15:19.358900Z"
    }
   },
   "outputs": [],
   "source": [
    "import json\n",
    "\n",
    "with open(covid_file, \"rb\") as f:\n",
    "    covid_json = json.load(f)"
   ]
  },
  {
   "cell_type": "markdown",
   "id": "27745131-6d69-485a-adcf-928032b0f425",
   "metadata": {},
   "source": [
    "The `covid_json` variable is now a dictionary encoding the data in the file:"
   ]
  },
  {
   "cell_type": "code",
   "execution_count": null,
   "id": "309f570e-8803-40ab-821d-1e654713d89a",
   "metadata": {
    "ExecuteTime": {
     "end_time": "2018-02-02T15:15:19.447238Z",
     "start_time": "2018-02-02T15:15:19.443595Z"
    }
   },
   "outputs": [],
   "source": [
    "type(covid_json)"
   ]
  },
  {
   "cell_type": "markdown",
   "id": "ab9001f7-0198-4035-9901-17e8510e1a67",
   "metadata": {},
   "source": [
    "#### Examine what keys are in the top level json object\n",
    "\n",
    "We can list the keys to determine what data is stored in the object."
   ]
  },
  {
   "cell_type": "code",
   "execution_count": null,
   "id": "35d9e1bb-6c88-46d4-9348-29aaa71596b1",
   "metadata": {
    "ExecuteTime": {
     "end_time": "2018-02-02T15:15:19.680999Z",
     "start_time": "2018-02-02T15:15:19.675696Z"
    }
   },
   "outputs": [],
   "source": [
    "covid_json.keys()"
   ]
  },
  {
   "cell_type": "markdown",
   "id": "29129c86-329d-4fbd-b597-07636d059a12",
   "metadata": {},
   "source": [
    "**Observation**: The JSON dictionary contains a `meta` key which likely refers to meta data (data about the data).  Meta data often maintained with the data and can be a good source of additional information."
   ]
  },
  {
   "cell_type": "markdown",
   "id": "57339dd9-f9c3-4f1c-81a7-8b1385205af5",
   "metadata": {},
   "source": [
    "<br/>\n",
    "\n",
    "We can investigate the meta data further by examining the keys associated with the metadata."
   ]
  },
  {
   "cell_type": "code",
   "execution_count": null,
   "id": "9f56a912-6b8a-4c14-b061-24ff7d77fb18",
   "metadata": {
    "ExecuteTime": {
     "end_time": "2018-02-02T15:15:19.687295Z",
     "start_time": "2018-02-02T15:15:19.682902Z"
    }
   },
   "outputs": [],
   "source": [
    "covid_json['meta'].keys()"
   ]
  },
  {
   "cell_type": "markdown",
   "id": "cdb160b9-fa18-4cda-8f7f-615a3fc49581",
   "metadata": {},
   "source": [
    "The `meta` key contains another dictionary called `view`.  This likely refers to meta-data about a particular \"view\" of some underlying database.  We will learn more about views when we study SQL later in the class.    "
   ]
  },
  {
   "cell_type": "code",
   "execution_count": null,
   "id": "d744c900-e203-444f-a5f3-f251788f8412",
   "metadata": {
    "ExecuteTime": {
     "end_time": "2018-02-02T15:15:19.693946Z",
     "start_time": "2018-02-02T15:15:19.690139Z"
    }
   },
   "outputs": [],
   "source": [
    "covid_json['meta']['view'].keys()"
   ]
  },
  {
   "cell_type": "markdown",
   "id": "2ba1a46c-c8e0-4ea6-94ee-d3d18ade568c",
   "metadata": {},
   "source": [
    "Notice that this a nested/recursive data structure.  As we dig deeper we reveal more and more keys and the corresponding data:\n",
    "\n",
    "```\n",
    "meta\n",
    "|-> data\n",
    "    | ... (haven't explored yet)\n",
    "|-> view\n",
    "    | -> id\n",
    "    | -> name\n",
    "    | -> attribution \n",
    "    ...\n",
    "    | -> description\n",
    "    ...\n",
    "    | -> columns\n",
    "    ...\n",
    "```"
   ]
  },
  {
   "cell_type": "markdown",
   "id": "014476d7-76d5-4083-a4b1-269ec44e4bff",
   "metadata": {},
   "source": [
    "There is a key called description in the view sub dictionary.  This likely contains a description of the data:"
   ]
  },
  {
   "cell_type": "code",
   "execution_count": null,
   "id": "a86f6ce3-1e53-44dd-98e0-bbfaa6d5483c",
   "metadata": {
    "ExecuteTime": {
     "end_time": "2018-02-02T15:15:19.699773Z",
     "start_time": "2018-02-02T15:15:19.695818Z"
    }
   },
   "outputs": [],
   "source": [
    "print(covid_json['meta']['view']['description'])"
   ]
  },
  {
   "cell_type": "markdown",
   "id": "3dc878de-79ff-4334-9743-333913d147b1",
   "metadata": {},
   "source": [
    "\n",
    "#### Examining the Data Field for Records\n",
    "\n",
    "We can look at a few entries in the `data` field. This is what we'll load into Pandas.\n"
   ]
  },
  {
   "cell_type": "code",
   "execution_count": null,
   "id": "c08a28da-d05a-498e-8708-b57c1e254a5b",
   "metadata": {
    "ExecuteTime": {
     "end_time": "2018-02-02T15:15:19.722451Z",
     "start_time": "2018-02-02T15:15:19.717198Z"
    }
   },
   "outputs": [],
   "source": [
    "for i in range(3):\n",
    "    print(f\"{i:03} | {covid_json['data'][i]}\")"
   ]
  },
  {
   "cell_type": "markdown",
   "id": "1d978eee-6f46-4ad1-8e58-0ea411e94741",
   "metadata": {},
   "source": [
    "Observations:\n",
    "* These look like equal-length records, so maybe `data` is a table!\n",
    "* But what do each of values in the record mean? Where can we find column headers?\n",
    "\n",
    "Back to the metadata."
   ]
  },
  {
   "cell_type": "markdown",
   "id": "9f86fe73-51b2-4774-b68c-08600b09f424",
   "metadata": {},
   "source": [
    "#### Columns Metadata\n",
    "\n",
    "Another potentially useful key in the metadata dictionary is the `columns`.  This returns a list:"
   ]
  },
  {
   "cell_type": "code",
   "execution_count": null,
   "id": "0dc43323-e27c-4eaa-8867-64a50215ef82",
   "metadata": {
    "ExecuteTime": {
     "end_time": "2018-02-02T15:15:19.706171Z",
     "start_time": "2018-02-02T15:15:19.701580Z"
    }
   },
   "outputs": [],
   "source": [
    "covid_json['meta']['view']['columns']"
   ]
  },
  {
   "cell_type": "markdown",
   "id": "e2a83d0b-2f21-4641-a494-8956e976ca4e",
   "metadata": {},
   "source": [
    "Let's go back to the file explorer.\n",
    "\n",
    "Based on the contents of this key, what are reasonable names for each column in the `data` table?"
   ]
  },
  {
   "cell_type": "markdown",
   "id": "8eb6d197-ec8a-4939-a53a-9f1b9b6a8732",
   "metadata": {},
   "source": [
    "You can also get the view that Jupyter provides in the file explorer by using Python. This displays our JSON object as an interacive graphical object with a built-in search box:"
   ]
  },
  {
   "cell_type": "code",
   "execution_count": null,
   "id": "1810bddd-292e-4fa1-9357-ab2f1c6858d5",
   "metadata": {},
   "outputs": [],
   "source": [
    "from IPython.display import JSON\n",
    "JSON(covid_json)"
   ]
  },
  {
   "cell_type": "markdown",
   "id": "bca7574d-15b4-4f44-81b0-292ce37c8e81",
   "metadata": {},
   "source": [
    "#### Summary of exploring the JSON file\n",
    "\n",
    "1. The above **metadata** tells us a lot about the columns in the data including column names, potential data anomalies, and a basic statistic. \n",
    "1. Because of its non-tabular structure, JSON makes it easier (than CSV) to create **self-documenting data**, meaning that information about the data is stored in the same file as the data.\n",
    "1. Self documenting data can be helpful since it maintains its own description and these descriptions are more likely to be updated as data changes. "
   ]
  },
  {
   "cell_type": "markdown",
   "id": "89da4483-77d0-40e1-8a68-8c3367f6ef09",
   "metadata": {},
   "source": [
    "### JSON with pandas\n",
    "\n",
    "After our above EDA, let's finally go about loading the data (not the metadata) into a pandas dataframe."
   ]
  },
  {
   "cell_type": "markdown",
   "id": "59a68fa6-ea30-4716-b1ce-b51232534ceb",
   "metadata": {},
   "source": [
    "In the following block of code we:\n",
    "1. Translate the JSON records into a dataframe:\n",
    "\n",
    "    * fields: `covid_json['meta']['view']['columns']`\n",
    "    * records: `covid_json['data']`\n",
    "    \n",
    "1. Remove columns that have no metadata description.  This would be a bad idea in general but here we remove these columns since the above analysis suggests that they are unlikely to contain useful information.\n",
    "1. Examine the `tail` of the table."
   ]
  },
  {
   "cell_type": "code",
   "execution_count": null,
   "id": "889e7992-1e89-4df7-ba44-1da412e5aa29",
   "metadata": {},
   "outputs": [],
   "source": [
    "# pd.read_json(covid_file)"
   ]
  },
  {
   "cell_type": "code",
   "execution_count": null,
   "id": "f61dffb3-4d0c-4e72-8b2c-dac07bdf044e",
   "metadata": {
    "ExecuteTime": {
     "end_time": "2018-02-02T15:15:19.793306Z",
     "start_time": "2018-02-02T15:15:19.725044Z"
    }
   },
   "outputs": [],
   "source": [
    "# Load the data from JSON and assign column titles\n",
    "covid = pd.DataFrame(\n",
    "    covid_json['data'],\n",
    "    columns=[c['name'] for c in covid_json['meta']['view']['columns']])\n",
    "\n",
    "covid.tail()"
   ]
  },
  {
   "cell_type": "markdown",
   "id": "2d6300e4-fb50-442b-a6a6-472f1ba40001",
   "metadata": {},
   "source": [
    "<br><br><br>\n",
    "\n",
    "**Return to Slides**"
   ]
  },
  {
   "cell_type": "markdown",
   "id": "c337f37b-8661-4ec5-a00a-c953adf86be6",
   "metadata": {},
   "source": [
    "<br/>\n",
    "\n",
    "---\n",
    "\n",
    "\n",
    "## Temporality\n",
    "\n",
    "Let's briefly look at how we can use pandas `dt` accessors to work with dates/times in a dataset.\n",
    "\n",
    "We will use the dataset from Lab 3: the Berkeley PD Calls for Service dataset."
   ]
  },
  {
   "cell_type": "code",
   "execution_count": null,
   "id": "5cdb38de-c276-41c6-8b5a-97d2a1798961",
   "metadata": {},
   "outputs": [],
   "source": [
    "calls = pd.read_csv(\"data/Berkeley_PD_-_Calls_for_Service.csv\")\n",
    "calls.head()"
   ]
  },
  {
   "cell_type": "markdown",
   "id": "f2d5d1af-5520-410c-9d36-182de0f5edaf",
   "metadata": {},
   "source": [
    "Looks like there are three columns with dates/times: `EVENTDT`, `EVENTTM`, and `InDbDate`. \n",
    "\n",
    "Most likely, `EVENTDT` stands for the date when the event took place, `EVENTTM` stands for the time of day the event took place (in 24-hr format), and `InDbDate` is the date this call is recorded onto the database.\n",
    "\n",
    "If we check the data type of these columns, we will see they are stored as strings. We can convert them to `datetime` objects using pandas `to_datetime` function."
   ]
  },
  {
   "cell_type": "code",
   "execution_count": null,
   "id": "67d11c08-b507-4158-ad2c-2b644516d073",
   "metadata": {},
   "outputs": [],
   "source": [
    "calls[\"EVENTDT\"] = pd.to_datetime(calls[\"EVENTDT\"],\n",
    "                                 format = \"%m/%d/%Y %I:%M:%S %p\")\n",
    "calls.head()"
   ]
  },
  {
   "cell_type": "markdown",
   "id": "2261c47d-22ec-4709-a9e2-129b481ec0bf",
   "metadata": {},
   "source": [
    "Now we can use the `dt` accessor on this column.\n",
    "\n",
    "We can get the month:"
   ]
  },
  {
   "cell_type": "code",
   "execution_count": null,
   "id": "79b4df05-b134-41cc-8095-9122330ff42d",
   "metadata": {},
   "outputs": [],
   "source": [
    "calls[\"EVENTDT\"].dt.month"
   ]
  },
  {
   "cell_type": "markdown",
   "id": "58102f15-0e7e-46b5-aaa9-f9bf65cbfbed",
   "metadata": {},
   "source": [
    "Which day of the week the date is on:"
   ]
  },
  {
   "cell_type": "code",
   "execution_count": null,
   "id": "934245aa-b0c0-40f7-8a44-843e5a342602",
   "metadata": {},
   "outputs": [],
   "source": [
    "calls[\"EVENTDT\"].dt.dayofweek"
   ]
  },
  {
   "cell_type": "markdown",
   "id": "03a4630a-7fe3-4998-90f9-304e187a5cff",
   "metadata": {},
   "source": [
    "Check the mimimum values to see if there are any suspicious-looking, 70s dates:"
   ]
  },
  {
   "cell_type": "code",
   "execution_count": null,
   "id": "5ff0750f-87d3-491c-a417-5c208527ae3d",
   "metadata": {},
   "outputs": [],
   "source": [
    "calls.sort_values(\"EVENTDT\").head()"
   ]
  },
  {
   "cell_type": "markdown",
   "id": "bf089df9-ceef-44d8-a397-fa3d8b119cfe",
   "metadata": {},
   "source": [
    "Doesn't look like it! We are good!\n",
    "\n",
    "\n",
    "We can also do many things with the `dt` accessor like switching time zones and converting time back to UNIX/POSIX time. Check out the documentation on [`.dt` accessor](https://pandas.pydata.org/docs/user_guide/basics.html#basics-dt-accessors) and [time series/date functionality](https://pandas.pydata.org/docs/user_guide/timeseries.html#)."
   ]
  }
 ],
 "metadata": {
  "kernelspec": {
   "display_name": "Python 3 (ipykernel)",
   "language": "python",
   "name": "python3"
  },
  "language_info": {
   "codemirror_mode": {
    "name": "ipython",
    "version": 3
   },
   "file_extension": ".py",
   "mimetype": "text/x-python",
   "name": "python",
   "nbconvert_exporter": "python",
   "pygments_lexer": "ipython3",
   "version": "3.11.5"
  }
 },
 "nbformat": 4,
 "nbformat_minor": 5
}
