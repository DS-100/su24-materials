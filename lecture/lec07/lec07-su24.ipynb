{
 "cells": [
  {
   "cell_type": "markdown",
   "id": "bab58abc-b5cc-43b1-9e88-7a68504e743a",
   "metadata": {},
   "source": [
    "# Lecture 7 – Data 100, Summer 2024\n",
    "\n",
    "Data 100, Summer 2024\n",
    "\n",
    "[Acknowledgments Page](https://ds100.org/su24/acks/)"
   ]
  },
  {
   "cell_type": "code",
   "execution_count": null,
   "id": "3d97cd9b-b5c1-4752-9c2c-4e72c7c5e38d",
   "metadata": {},
   "outputs": [],
   "source": [
    "import numpy as np\n",
    "import pandas as pd\n",
    "import matplotlib.pyplot as plt\n",
    "import seaborn as sns\n",
    "\n",
    "%matplotlib inline"
   ]
  },
  {
   "cell_type": "markdown",
   "id": "c334a112-2895-4f1d-9470-df93c8a46d3a",
   "metadata": {},
   "source": [
    "<br>\n",
    "\n",
    "Before we get into the main portion of today's lecture code, a brief return to last lecture: \n",
    "# Regex Functions!"
   ]
  },
  {
   "cell_type": "markdown",
   "id": "0b6d140e-7ffe-4ab5-b7dd-d1f51b35c0fc",
   "metadata": {},
   "source": [
    "## String Extraction with Regex\n",
    "\n",
    "Python `re.findall` returns a list of all extracted matches:"
   ]
  },
  {
   "cell_type": "code",
   "execution_count": null,
   "id": "e1a96090-112b-4eae-bc99-0c198bd3e26e",
   "metadata": {},
   "outputs": [],
   "source": [
    "import re\n",
    "\n",
    "text = \"My social security number is 123-45-6789 bro, or actually maybe it’s 321-45-6789.\";\n",
    "\n",
    "pattern = r\"[0-9]{3}-[0-9]{2}-[0-9]{4}\"\n",
    "\n",
    "re.findall(pattern, text)"
   ]
  },
  {
   "cell_type": "markdown",
   "id": "5dd6db47-52f2-4628-b50b-85020354902e",
   "metadata": {},
   "source": [
    "Now, let's see vectorized extraction in `pandas`:\n",
    "\n",
    " `.str.findall` returns a `Series` of lists of all matches in each record."
   ]
  },
  {
   "cell_type": "code",
   "execution_count": null,
   "id": "ec5ab4f4-8b85-40a5-8480-ddc44582a630",
   "metadata": {},
   "outputs": [],
   "source": [
    "df_ssn = pd.DataFrame(\n",
    "    ['987-65-4321',\n",
    "     'forty',\n",
    "     '123-45-6789 bro or 321-45-6789',\n",
    "     '999-99-9999'],\n",
    "    columns=['SSN'])\n",
    "df_ssn"
   ]
  },
  {
   "cell_type": "code",
   "execution_count": null,
   "id": "872e185b-8fdf-440b-a899-ec7ae7f65d27",
   "metadata": {},
   "outputs": [],
   "source": [
    "# -> Series of lists\n",
    "pattern = r\"[0-9]{3}-[0-9]{2}-[0-9]{4}\"\n",
    "df_ssn['SSN'].str.findall(pattern)"
   ]
  },
  {
   "cell_type": "markdown",
   "id": "6f46a3b4-9647-4de5-964b-26c183dce4e4",
   "metadata": {},
   "source": [
    "Extracting the last expression"
   ]
  },
  {
   "cell_type": "code",
   "execution_count": null,
   "id": "1ff236b2-0dcb-4f36-ad8c-0066fe9705cd",
   "metadata": {},
   "outputs": [],
   "source": [
    "(\n",
    "    df_ssn['SSN']\n",
    "    .str.findall(pattern)\n",
    "    .str[-1] # Get the last element from each list\n",
    ")"
   ]
  },
  {
   "cell_type": "markdown",
   "id": "c4a9de62-4256-46f6-aaa2-37aa07d689c4",
   "metadata": {},
   "source": [
    "## Extraction Using Regex Capture Groups\n",
    "\n",
    "The Python function `re.findall`, in combination with parentheses returns specific substrings (i.e., **capture groups**) within each matched string, or **match**."
   ]
  },
  {
   "cell_type": "code",
   "execution_count": null,
   "id": "2226430e-6ad2-4e91-8b39-46027009bdff",
   "metadata": {},
   "outputs": [],
   "source": [
    "text = \"\"\"I will meet you at 08:30:00 pm tomorrow\"\"\"       \n",
    "pattern = \".*(\\d\\d):(\\d\\d):(\\d\\d).*\"\n",
    "matches = re.findall(pattern, text)\n",
    "matches"
   ]
  },
  {
   "cell_type": "code",
   "execution_count": null,
   "id": "25facc6c-c3c2-4665-921b-6dbe6adbe908",
   "metadata": {},
   "outputs": [],
   "source": [
    "# the three capture groups in the first matched string\n",
    "hour, minute, second = matches[0]\n",
    "print(\"Hour:   \", hour)\n",
    "print(\"Minute: \", minute)\n",
    "print(\"Second: \", second)"
   ]
  },
  {
   "cell_type": "markdown",
   "id": "8ad0cc8a-5e8e-4e23-8af4-060c399e232c",
   "metadata": {},
   "source": [
    "In `pandas`, we can use `.str.extract` to extract each capture group of **only the first match** of each record into separate columns."
   ]
  },
  {
   "cell_type": "code",
   "execution_count": null,
   "id": "01b20dff-eb23-4cb1-b6c0-b21fc1c3f187",
   "metadata": {},
   "outputs": [],
   "source": [
    "# back to SSNs\n",
    "df_ssn"
   ]
  },
  {
   "cell_type": "code",
   "execution_count": null,
   "id": "12178aff-103d-4d36-975c-4e523a7702eb",
   "metadata": {},
   "outputs": [],
   "source": [
    "# Will extract the first match of all groups\n",
    "pattern_group_mult = r\"([0-9]{3})-([0-9]{2})-([0-9]{4})\" # 3 groups\n",
    "df_ssn['SSN'].str.extract(pattern_group_mult)"
   ]
  },
  {
   "cell_type": "code",
   "execution_count": null,
   "id": "467d0d59-9d22-4474-8a56-53d2c535e222",
   "metadata": {},
   "outputs": [],
   "source": [
    "# Will extract the first match of all groups\n",
    "pattern_group_mult = r\"([0-9]{3})-([0-9]{2})-([0-9]{4})\" # 3 groups\n",
    "df_ssn['SSN'].str.extract(pattern_group_mult)"
   ]
  },
  {
   "cell_type": "markdown",
   "id": "ba494548-d66f-487f-9b38-3e3a92ab06ce",
   "metadata": {},
   "source": [
    "When debugging my code with the `str` accessors I often make a separate series varible so the python tab completion tools can find the documentation."
   ]
  },
  {
   "cell_type": "code",
   "execution_count": null,
   "id": "c1c0b737-cbb7-4a5a-9c78-d284b8c184d5",
   "metadata": {},
   "outputs": [],
   "source": [
    "ssns = df_ssn['SSN']\n",
    "ssns.str.extract(pattern_group_mult) # <- try shift+tab inside the parens"
   ]
  },
  {
   "cell_type": "markdown",
   "id": "b8375d29-ff00-4973-a5af-c95559a8008d",
   "metadata": {},
   "source": [
    "Alternatively, `.str.extractall` extracts **all matches** of each record into separate columns. Rows are then MultiIndexed by original record index and match index."
   ]
  },
  {
   "cell_type": "code",
   "execution_count": null,
   "id": "7c805e72-d3f8-4236-a5ae-088afd031786",
   "metadata": {},
   "outputs": [],
   "source": [
    "# -> DataFrame, one row per match\n",
    "df_ssn['SSN'].str.extractall(pattern_group_mult)"
   ]
  },
  {
   "cell_type": "markdown",
   "id": "da0ab905-a346-42c6-bf79-8ec97a71a157",
   "metadata": {},
   "source": [
    "## Canonicalization with Regex (sub, replace)\n",
    "\n",
    "In regular Python, canonicalize with `re.sub` (standing for \"substitute\"):"
   ]
  },
  {
   "cell_type": "code",
   "execution_count": null,
   "id": "477adb93-e10a-45c2-9589-3c3172e2eda1",
   "metadata": {},
   "outputs": [],
   "source": [
    "text = '<div><td valign=\"top\">Moo</td></div>'\n",
    "pattern = r\"<[^>]+>\"\n",
    "re.sub(pattern, '', text)"
   ]
  },
  {
   "cell_type": "markdown",
   "id": "335008f0-3755-4809-b825-9d320076cb0f",
   "metadata": {},
   "source": [
    "In `pandas`, canonicalize with `Series.str.replace`."
   ]
  },
  {
   "cell_type": "code",
   "execution_count": null,
   "id": "7cfb67ef-eed3-41b9-9fd8-a1c728aea427",
   "metadata": {},
   "outputs": [],
   "source": [
    "# example dataframe of strings\n",
    "df_html = pd.DataFrame(['<div><td valign=\"top\">Moo</td></div>',\n",
    "                   '<a href=\"http://ds100.org\">Link</a>',\n",
    "                   '<b>Bold text</b>'], columns=['Html'])\n",
    "df_html"
   ]
  },
  {
   "cell_type": "code",
   "execution_count": null,
   "id": "3cee5645-853f-40ae-9616-3abbf8351bac",
   "metadata": {},
   "outputs": [],
   "source": [
    "# Series -> Series\n",
    "df_html[\"Html\"].str.replace(pattern, '', regex=True).to_frame()"
   ]
  },
  {
   "cell_type": "markdown",
   "id": "bb3cf6a9-bb63-4ea2-b811-4752d8c1e4b2",
   "metadata": {},
   "source": [
    "## Raw Strings\n",
    "\n",
    "An example of why they're useful and why we recommend using them!\n",
    "\n",
    "First, let's look at an example of an escape character: `\\b`, which is a backspace character."
   ]
  },
  {
   "cell_type": "code",
   "execution_count": null,
   "id": "61807bc4-bb3c-417c-840e-49c68871e8bf",
   "metadata": {},
   "outputs": [],
   "source": [
    "text1 = 'make sure you load it from data\\baby.csv'\n",
    "print(text1)\n",
    "print(repr(text1))"
   ]
  },
  {
   "cell_type": "code",
   "execution_count": null,
   "id": "1c938d21-76b5-4b93-8f09-1e640c0b7de9",
   "metadata": {},
   "outputs": [],
   "source": [
    "text2 = 'make sure you load it from data\\\\baby.csv'\n",
    "print(text2)\n",
    "print(repr(text2))"
   ]
  },
  {
   "cell_type": "code",
   "execution_count": null,
   "id": "0a59d78c-6f89-4fe3-ae6e-2d2ef9e14b35",
   "metadata": {},
   "outputs": [],
   "source": [
    "text3 = r'make sure you load it from data\\baby.csv'\n",
    "print(text3)\n",
    "print(repr(text3))"
   ]
  },
  {
   "cell_type": "markdown",
   "id": "31411ae4-e3f7-4de8-9c20-5c06e5165137",
   "metadata": {},
   "source": [
    "Generally, working with backslashes is tricky. Let's see how we can go about counting the number of backslashes in the following string"
   ]
  },
  {
   "cell_type": "code",
   "execution_count": null,
   "id": "0e358de0-e812-41f4-ae67-8f5111fe7117",
   "metadata": {},
   "outputs": [],
   "source": [
    "text = \"how\\many\\backslashesaretherei\\nhere\""
   ]
  },
  {
   "cell_type": "code",
   "execution_count": null,
   "id": "55c68aa2-5b24-4457-b4d9-4e7794e66817",
   "metadata": {},
   "outputs": [],
   "source": [
    "pattern = \"\\\"\n",
    "\n",
    "re.findall(pattern, text)"
   ]
  },
  {
   "cell_type": "code",
   "execution_count": null,
   "id": "2a9e2158-dc87-4ffb-ac81-58805408f793",
   "metadata": {},
   "outputs": [],
   "source": [
    "pattern = \"\\\\\\\\\"\n",
    "\n",
    "re.findall(pattern, text)"
   ]
  },
  {
   "cell_type": "code",
   "execution_count": null,
   "id": "c8568826-b089-4ee0-8393-eac97909406d",
   "metadata": {},
   "outputs": [],
   "source": [
    "pattern = r\"\\\\\"\n",
    "\n",
    "re.findall(pattern, text)"
   ]
  },
  {
   "cell_type": "markdown",
   "id": "5072fe15-bbf0-42d3-9945-67dbb87ae664",
   "metadata": {},
   "source": [
    "Ok at least we have two ways to write code that returns ... something. But why is it returning only one item when we can clearly see three backslashes in the `text` string?"
   ]
  },
  {
   "cell_type": "code",
   "execution_count": null,
   "id": "e4488fcb-cdf7-4bee-9260-463e80b530a0",
   "metadata": {},
   "outputs": [],
   "source": [
    "print(text)\n",
    "print(repr(text))"
   ]
  },
  {
   "cell_type": "markdown",
   "id": "f6b3c943-26b2-456e-815d-3548c8eb2445",
   "metadata": {},
   "source": [
    "Oh right... `\\b` and `\\n` are escape characters that correspond to backslash and new line respectively. \n",
    "\n",
    "What if we set `text` itself to be a raw string?"
   ]
  },
  {
   "cell_type": "code",
   "execution_count": null,
   "id": "3338bba0-cec6-408f-a9bb-30e52a63465a",
   "metadata": {},
   "outputs": [],
   "source": [
    "text = r\"how\\many\\backslashesaretherei\\nhere\"\n",
    "pattern = r\"\\\\\"\n",
    "\n",
    "re.findall(pattern, text)"
   ]
  },
  {
   "cell_type": "markdown",
   "id": "ee296171-b48f-46e1-a7a0-d88d4595ef1f",
   "metadata": {},
   "source": [
    "Now we get out three backslashes! Note: Can you figure out why the code has been returning strings `\\\\` instead of `\\`? \n",
    "\n",
    "Hint 1: Remember the first `pattern` we tried above?\n",
    "\n",
    "Hint 2: Try running the two cells below"
   ]
  },
  {
   "cell_type": "code",
   "execution_count": null,
   "id": "c1d9b39a-89b3-45f2-8f2d-06d65889449a",
   "metadata": {},
   "outputs": [],
   "source": [
    "'\\'"
   ]
  },
  {
   "cell_type": "code",
   "execution_count": null,
   "id": "ec3b6524-26d7-4378-b5ea-ec28455cb875",
   "metadata": {},
   "outputs": [],
   "source": [
    "print('\\\\')"
   ]
  },
  {
   "cell_type": "markdown",
   "id": "051347fe-bebf-4df9-b020-8ac20bb39c05",
   "metadata": {},
   "source": [
    "Now back to the main part of today's lecture...\n",
    "\n",
    "-----\n",
    "\n",
    "# Visualizations I"
   ]
  },
  {
   "cell_type": "markdown",
   "id": "596f559d-f24c-4ec7-aee3-50e123cf838b",
   "metadata": {},
   "source": [
    "In this lecture, we will demonstrate visualization techniques on the World Bank dataset. This dataset includes information about countries and development statistics from around the world."
   ]
  },
  {
   "cell_type": "code",
   "execution_count": null,
   "id": "df2b1290-8207-463c-998a-1ed9a3fee07c",
   "metadata": {},
   "outputs": [],
   "source": [
    "wb = pd.read_csv(\"data/world_bank.csv\", index_col=0)\n",
    "wb.head()"
   ]
  },
  {
   "cell_type": "code",
   "execution_count": null,
   "id": "3ca59392-bff7-4ebc-8cc1-c4c1d96189f4",
   "metadata": {},
   "outputs": [],
   "source": [
    "wb.shape"
   ]
  },
  {
   "cell_type": "markdown",
   "id": "a0bf82b3-ddd0-48d6-b0de-479c438bfb4b",
   "metadata": {},
   "source": [
    "## Bar Plots"
   ]
  },
  {
   "cell_type": "markdown",
   "id": "149c891b-46cd-4d35-876b-a2eb10dfea8b",
   "metadata": {},
   "source": [
    "We often use bar plots to display **distributions** of a **categorical variable**. \n",
    "\n",
    "In the examples below, we plot the distribution of the `\"Continent\"` column. The cell below uses `.value_counts()` to determine the number of countries corresponding to each continent in the dataset."
   ]
  },
  {
   "cell_type": "code",
   "execution_count": null,
   "id": "3f1970bb-42e2-4aa7-b9ab-a6dae17f077a",
   "metadata": {},
   "outputs": [],
   "source": [
    "wb[\"Continent\"].value_counts()"
   ]
  },
  {
   "cell_type": "markdown",
   "id": "f9027cd6-b6e2-49f0-8885-b22956ddecc9",
   "metadata": {},
   "source": [
    "In Data 8, you used the `datascience` library to generate plots. The code to plot the distribution of the `\"Maternal Smoker\"` column may have looked like this:\n",
    "```python\n",
    "\n",
    "from datascience import Table\n",
    "t = Table.from_df(wb[\"Continent\"].value_counts().reset_index())\n",
    "t.barh(\"index\", \"Continent\")\n",
    "```"
   ]
  },
  {
   "cell_type": "markdown",
   "id": "997f61de-b457-4b9f-997e-0b02eb47ffb8",
   "metadata": {},
   "source": [
    "In Data 100, we will use the [Matplotlib](https://matplotlib.org/stable/api/index) and [Seaborn](https://seaborn.pydata.org/api.html) plotting libraries to create visualizations. First, let's generate a bar plot using the Matplotlib function `plt.bar`."
   ]
  },
  {
   "cell_type": "code",
   "execution_count": null,
   "id": "987decc5-ed84-4007-bc1e-c4537dbcb7d5",
   "metadata": {},
   "outputs": [],
   "source": [
    "continents = wb[\"Continent\"].value_counts()\n",
    "plt.bar(continents.index, continents.values);"
   ]
  },
  {
   "cell_type": "markdown",
   "id": "7a9310e0-e0be-4356-9f60-c96e84c2bc16",
   "metadata": {},
   "source": [
    "Note that we concluded our call to `plt.bar` with a semicolon (`;`). This suppresses any unnecessary output other than the plot. If we do not include a semicolon, the plot will still generate, however, we will see extraneous text as well:"
   ]
  },
  {
   "cell_type": "code",
   "execution_count": null,
   "id": "61e4dadf-b63b-45f7-a708-b6eb6a6a0f9e",
   "metadata": {},
   "outputs": [],
   "source": [
    "plt.bar(continents.index, continents)"
   ]
  },
  {
   "cell_type": "markdown",
   "id": "327e2440-9a69-4683-a9ff-5dcb33f03d79",
   "metadata": {},
   "source": [
    "We also remember to set the axis labels and the title for the plot."
   ]
  },
  {
   "cell_type": "code",
   "execution_count": null,
   "id": "4fcf1b4b-0ccd-417a-ac8f-08823849e2ed",
   "metadata": {},
   "outputs": [],
   "source": [
    "plt.bar(continents.index, continents)\n",
    "\n",
    "plt.xlabel(\"Continent\")\n",
    "plt.ylabel(\"Count\")\n",
    "plt.title(\"Distribution of countries across the continents\");"
   ]
  },
  {
   "cell_type": "markdown",
   "id": "7f5939b0-b534-4957-9808-346fab7839c8",
   "metadata": {},
   "source": [
    "`pandas` native plotting:"
   ]
  },
  {
   "cell_type": "code",
   "execution_count": null,
   "id": "d46439da-d5b2-411d-890d-a2b162fffb86",
   "metadata": {},
   "outputs": [],
   "source": [
    "wb[\"Continent\"].value_counts().plot(kind='bar');"
   ]
  },
  {
   "cell_type": "markdown",
   "id": "65996648-e102-4814-a6bc-2667319668e2",
   "metadata": {},
   "source": [
    "Equivalently, we could use the `countplot` method of the Seaborn library to create our bar plot."
   ]
  },
  {
   "cell_type": "code",
   "execution_count": null,
   "id": "0d276c6f-d0b2-4e3c-a2ca-52ea9359f51f",
   "metadata": {},
   "outputs": [],
   "source": [
    "sns.countplot(data=wb, x='Continent');"
   ]
  },
  {
   "cell_type": "markdown",
   "id": "88556011-8fe4-4f11-9250-35dcbef3f4aa",
   "metadata": {},
   "source": [
    "Above, we said that bar plots should only be used to visualize the distribution of a qualitative (categorical) variable. Why is that? Consider what happens when we try to use `sns.countplot` to visualize a quantitative variable, gross national income per capita."
   ]
  },
  {
   "cell_type": "code",
   "execution_count": null,
   "id": "25fad818-ad89-4e79-837f-a13a361deaa8",
   "metadata": {},
   "outputs": [],
   "source": [
    "sns.countplot(data=wb, x='Gross national income per capita, Atlas method: $: 2016');"
   ]
  },
  {
   "cell_type": "markdown",
   "id": "d10ad6fe-14c7-4099-bf3e-bc4b9ae891c9",
   "metadata": {},
   "source": [
    "What happened? A bar plot (either `plt.bar` or `sns.countplot`) will create a separate bar for *each* unique value of a variable. With a continuous variable, we may not have a finite number of possible values, which can lead to situations where we would need many, many bars to display each unique value. \n",
    "\n",
    "To visualize the distribution of a continuous variable, we use a different type of plot:\n",
    "* Histogram\n",
    "* Box plot\n",
    "* Violin plot"
   ]
  },
  {
   "cell_type": "markdown",
   "id": "89f6d802-8ebe-4393-866a-3bd26e413637",
   "metadata": {},
   "source": [
    "## Box Plots and Violin Plots"
   ]
  },
  {
   "cell_type": "markdown",
   "id": "1e566348-6740-4b6d-9969-05d3d1c08960",
   "metadata": {},
   "source": [
    "Box plots and violin plots are two very similar kinds of visualizations. Both display the distribution of a variable using information about quartiles.\n",
    "\n",
    "In a box plot, the width of the box at any point does not encode meaning. In a violin plot, the width of the plot indicates the *density* of the distribution at each possible value."
   ]
  },
  {
   "cell_type": "code",
   "execution_count": null,
   "id": "9f808510-6bfd-4901-85cc-8a00c2e32405",
   "metadata": {},
   "outputs": [],
   "source": [
    "sns.boxplot(data=wb, y=\"Gross national income per capita, Atlas method: $: 2016\");"
   ]
  },
  {
   "cell_type": "code",
   "execution_count": null,
   "id": "28a53d92-185b-49f4-ba38-73f6a1de877a",
   "metadata": {},
   "outputs": [],
   "source": [
    "sns.violinplot(data=wb, y=\"Gross national income per capita, Atlas method: $: 2016\");"
   ]
  },
  {
   "cell_type": "markdown",
   "id": "83b839f9-184d-40bd-86cd-1879e01198bd",
   "metadata": {},
   "source": [
    "A quartile represents a 25% portion of the data. We say that:\n",
    "* The first quartile (Q1) repesents the 25th percentile – 25% of the data lies below the first quartile\n",
    "* The second quartile (Q2) represents the 50th percentile, also known as the median – 50% of the data lies below the second quartile\n",
    "* The third quartile (Q3) represents the 75th percentile – 75% of the data lies below the third quartile.\n",
    "\n",
    "This means that the middle 50% of the data lies *between* the first and third quartiles. This is demonstrated in the histogram below. The three quartiles are marked with red vertical bars."
   ]
  },
  {
   "cell_type": "code",
   "execution_count": null,
   "id": "f2595cc2-aa4d-48be-ab9e-6ea47a165c84",
   "metadata": {},
   "outputs": [],
   "source": [
    "gdp = wb['Gross domestic product: % growth : 2016']\n",
    "gdp = gdp[~gdp.isna()]\n",
    "\n",
    "q1, q2, q3 = np.percentile(gdp, [25, 50, 75])\n",
    "\n",
    "wb_quartiles = wb.copy()\n",
    "wb_quartiles['category'] = None\n",
    "wb_quartiles.loc[(wb_quartiles['Gross domestic product: % growth : 2016'] < q1) | (wb_quartiles['Gross domestic product: % growth : 2016'] > q3), 'category'] = 'Outside of the middle 50%'\n",
    "wb_quartiles.loc[(wb_quartiles['Gross domestic product: % growth : 2016'] > q1) & (wb_quartiles['Gross domestic product: % growth : 2016'] < q3), 'category'] = 'In the middle 50%'\n",
    "\n",
    "sns.histplot(wb_quartiles, x=\"Gross domestic product: % growth : 2016\", hue=\"category\")\n",
    "sns.rugplot([q1, q2, q3], c=\"firebrick\", lw=6, height=0.1);"
   ]
  },
  {
   "cell_type": "markdown",
   "id": "20991f13-dab8-42b5-8683-a8ad3cd41004",
   "metadata": {},
   "source": [
    "In a box plot, the lower extent of the box lies at Q1, while the upper extent of the box lies at Q3. The horizontal line in the middle of the box corresponds to Q2 (equivalently, the median)."
   ]
  },
  {
   "cell_type": "code",
   "execution_count": null,
   "id": "66a537b0-1eb4-4a00-9497-cf3f9af6cf59",
   "metadata": {},
   "outputs": [],
   "source": [
    "sns.boxplot(data=wb, y='Gross domestic product: % growth : 2016');"
   ]
  },
  {
   "cell_type": "markdown",
   "id": "667902d4-47fa-4b69-b239-a51031e297a9",
   "metadata": {},
   "source": [
    "A violin plot display quartile information, albeit a bit more subtly. Look closely at the center vertical bar of the violin plot below!"
   ]
  },
  {
   "cell_type": "code",
   "execution_count": null,
   "id": "18091b34-c4a3-428d-ba10-5ca1fbf356dd",
   "metadata": {},
   "outputs": [],
   "source": [
    "sns.violinplot(data=wb, y='Gross domestic product: % growth : 2016');"
   ]
  },
  {
   "cell_type": "markdown",
   "id": "6aab732b-b718-4964-8b0f-c3ee77e944c2",
   "metadata": {},
   "source": [
    "Plotting side-by-side box or violin plots allow us to compare distributions across different categories. In other words, they enable us to plot *both* a qualitative variable and a quantitative continuous variable in one visualization.\n",
    "\n",
    "Seaborn allows us to easily create side-by-side plots by specify both an `x` and `y` column."
   ]
  },
  {
   "cell_type": "code",
   "execution_count": null,
   "id": "4a02cd36-e7eb-4f07-8847-f32cda674c9c",
   "metadata": {},
   "outputs": [],
   "source": [
    "sns.boxplot(data=wb, x=\"Continent\", y='Gross domestic product: % growth : 2016');"
   ]
  },
  {
   "cell_type": "markdown",
   "id": "fdd324b0-3fe9-4a52-b0ca-595264c2b39f",
   "metadata": {},
   "source": [
    "## Histograms"
   ]
  },
  {
   "cell_type": "markdown",
   "id": "a26fe5e3-a16e-4da4-93af-f3bcbca9ad22",
   "metadata": {},
   "source": [
    "You are likely familiar with histograms from Data 8. A histogram collects continuous data into bins, then plots this binned data. Each bin reflects the density of datapoints with values that lie between the left and right ends of the bin."
   ]
  },
  {
   "cell_type": "code",
   "execution_count": null,
   "id": "25af8d15-8c75-4d05-8cdf-6039b5a15be3",
   "metadata": {},
   "outputs": [],
   "source": [
    "# The `edgecolor` argument controls the color of the bin edges\n",
    "gni = wb[\"Gross national income per capita, Atlas method: $: 2016\"]\n",
    "plt.hist(gni, density=True, edgecolor=\"white\")\n",
    "\n",
    "# Add labels\n",
    "plt.xlabel(\"Gross national income per capita\")\n",
    "plt.ylabel(\"Density\")\n",
    "plt.title(\"Distribution of gross national income per capita\");"
   ]
  },
  {
   "cell_type": "code",
   "execution_count": null,
   "id": "ca7efca8-2737-41c4-b94f-06ecd7b6ccaa",
   "metadata": {},
   "outputs": [],
   "source": [
    "sns.histplot(data=wb, x=\"Gross national income per capita, Atlas method: $: 2016\", stat=\"density\")\n",
    "plt.title(\"Distribution of gross national income per capita\");"
   ]
  },
  {
   "cell_type": "markdown",
   "id": "1dd4ff3e-6d84-46c1-aafd-ba345c43e7bd",
   "metadata": {},
   "source": [
    "We can overlay histograms (or density curves) to compare distributions across qualitative categories.\n",
    "\n",
    "The `hue` parameter of `sns.histplot` specifies the column that should be used to determine the color of each category. `hue` can be used in many Seaborn plotting functions.\n",
    "\n",
    "Notice that the resulting plot includes a legend describing which color corresponds to each hemisphere – a legend should always be included if color is used to encode information in a visualization!"
   ]
  },
  {
   "cell_type": "code",
   "execution_count": null,
   "id": "d8fbdb38-6443-4059-a19d-d34f8a06c8c2",
   "metadata": {},
   "outputs": [],
   "source": [
    "# Create a new variable to store the hemisphere in which each country is located\n",
    "north = [\"Asia\", \"Europe\", \"N. America\"]\n",
    "south = [\"Africa\", \"Oceania\", \"S. America\"]\n",
    "wb.loc[wb[\"Continent\"].isin(north), \"Hemisphere\"] = \"Northern\"\n",
    "wb.loc[wb[\"Continent\"].isin(south), \"Hemisphere\"] = \"Southern\""
   ]
  },
  {
   "cell_type": "code",
   "execution_count": null,
   "id": "725746c0-a610-4af5-acb9-2c4c32359f83",
   "metadata": {},
   "outputs": [],
   "source": [
    "sns.histplot(data=wb, x=\"Gross national income per capita, Atlas method: $: 2016\", hue=\"Hemisphere\", stat=\"density\")\n",
    "plt.title(\"Distribution of gross national income per capita\");"
   ]
  },
  {
   "cell_type": "markdown",
   "id": "5fb23bf2-89eb-4930-9b83-9a70a397a2fb",
   "metadata": {},
   "source": [
    "Each bin of a histogram is scaled such that its area is equal to the percentage of all datapoints that it contains."
   ]
  },
  {
   "cell_type": "code",
   "execution_count": null,
   "id": "4aed41cf-07e7-4fdb-bdf7-3b4c06aa0f18",
   "metadata": {},
   "outputs": [],
   "source": [
    "densities, bins, _ = plt.hist(gni, density=True, edgecolor=\"white\", bins=5)\n",
    "plt.xlabel(\"Gross national income per capita\")\n",
    "plt.ylabel(\"Density\")\n",
    "\n",
    "print(f\"First bin has width {bins[1]-bins[0]} and height {densities[0]}\")\n",
    "print(f\"This corresponds to {bins[1]-bins[0]} * {densities[0]} = {(bins[1]-bins[0])*densities[0]*100}% of the data\")"
   ]
  },
  {
   "cell_type": "markdown",
   "id": "23ed8b57-c411-4fae-8719-2336151402e6",
   "metadata": {},
   "source": [
    "In Data 100, we describe a \"mode\" of a histogram as a peak in the distribution. Often, however, it is difficult to determine what counts as its own \"peak.\" For example, the number of peaks in the distribution of HIV rates across different countries varies depending on the number of histogram bins we plot. "
   ]
  },
  {
   "cell_type": "code",
   "execution_count": null,
   "id": "3e613fc9-3c41-4680-a870-55cab9d7ffca",
   "metadata": {},
   "outputs": [],
   "source": [
    "# Rename the very long column name for convenience\n",
    "wb = wb.rename(columns={'Antiretroviral therapy coverage: % of people living with HIV: 2015':\"HIV rate\"})\n",
    "\n",
    "# With 5 bins, it seems that there is only one peak\n",
    "sns.histplot(data=wb, x=\"HIV rate\", stat=\"density\", bins=5)\n",
    "plt.title(\"5 histogram bins\");"
   ]
  },
  {
   "cell_type": "code",
   "execution_count": null,
   "id": "717eed6f-816c-4cfc-b42e-bf249601bf51",
   "metadata": {},
   "outputs": [],
   "source": [
    "# With 10 bins, there seem to be two peaks\n",
    "\n",
    "sns.histplot(data=wb, x=\"HIV rate\", stat=\"density\", bins=10)\n",
    "plt.title(\"10 histogram bins\");"
   ]
  },
  {
   "cell_type": "code",
   "execution_count": null,
   "id": "214fe437-f0c0-4c9a-98c2-b5a3c3fd66ce",
   "metadata": {},
   "outputs": [],
   "source": [
    "# And with 20 bins, it becomes hard to say what counts as a \"peak\"!\n",
    "\n",
    "sns.histplot(data=wb, x =\"HIV rate\", stat=\"density\", bins=20)\n",
    "plt.title(\"20 histogram bins\");"
   ]
  },
  {
   "cell_type": "markdown",
   "id": "bd671ba0-83c7-40d5-a888-ebe3414965b3",
   "metadata": {},
   "source": [
    "As this example illustrates, it is sometimes more useful to understand the general structure of our data, rather than focus on individual observations. Kernel density estimation helps with this goal."
   ]
  },
  {
   "cell_type": "markdown",
   "id": "77f55b67-d39c-4bdf-a364-b7b276ce6cbb",
   "metadata": {},
   "source": [
    "## Kernel Density Estimation"
   ]
  },
  {
   "cell_type": "markdown",
   "id": "21dcfcfc-e4b5-40c0-99da-1796168803d9",
   "metadata": {},
   "source": [
    "Kernel density estimation (KDE) allows us to \"smooth\" a distribution to display general trends and eliminate noisy, distracting detail."
   ]
  },
  {
   "cell_type": "code",
   "execution_count": null,
   "id": "ec025167-c91b-49a7-ae87-a48f671f4f00",
   "metadata": {},
   "outputs": [],
   "source": [
    "# The smooth curve overlaid on the histogram is a KDE\n",
    "sns.displot(data=wb, x=\"HIV rate\", kde=True, stat=\"density\");"
   ]
  },
  {
   "cell_type": "markdown",
   "id": "9f7bd056-68b6-4454-bc21-556655a7e6fa",
   "metadata": {},
   "source": [
    "To illustrate the process of constructing a KDE curve, we'll use a fake dataset of just five datapoints, contained in the list `points`."
   ]
  },
  {
   "cell_type": "code",
   "execution_count": null,
   "id": "9e33d6a3-d731-4cd5-b1b3-e101670ea5ff",
   "metadata": {},
   "outputs": [],
   "source": [
    "points = [2.2, 2.8, 3.7, 5.3, 5.7]"
   ]
  },
  {
   "cell_type": "code",
   "execution_count": null,
   "id": "80b04858-620d-42e4-b7dc-912d433e4080",
   "metadata": {},
   "outputs": [],
   "source": [
    "plt.hist(points, bins=range(0, 10, 2), ec='w', density=True);"
   ]
  },
  {
   "cell_type": "markdown",
   "id": "5e14af34-1579-4baa-9436-c4b76b4efed3",
   "metadata": {},
   "source": [
    "Let's define some **kernels**. We will explain these formulas momentarily. We'll also define some helper functions for visualization purposes."
   ]
  },
  {
   "cell_type": "code",
   "execution_count": null,
   "id": "901f5358-05a9-4bf0-aa45-e530d1b3d993",
   "metadata": {},
   "outputs": [],
   "source": [
    "def gaussian(x, z, a):\n",
    "    # Gaussian kernel\n",
    "    return (1/np.sqrt(2*np.pi*a**2)) * np.exp((-(x - z)**2 / (2 * a**2)))\n",
    "\n",
    "def boxcar_basic(x, z, a):\n",
    "    # Boxcar kernel\n",
    "    if np.abs(x - z) <= a/2:\n",
    "        return 1/a\n",
    "    return 0\n",
    "\n",
    "def boxcar(x, z, a):\n",
    "    # Boxcar kernel\n",
    "    cond = np.abs(x - z)\n",
    "    return np.piecewise(x, [cond <= a/2, cond > a/2], [1/a, 0] )"
   ]
  },
  {
   "cell_type": "code",
   "execution_count": null,
   "id": "e19caeab-39dc-4de4-bd8d-4a23319774d1",
   "metadata": {},
   "outputs": [],
   "source": [
    "def create_kde(kernel, pts, a):\n",
    "    # Takes in a kernel, set of points, and alpha\n",
    "    # Returns the KDE as a function\n",
    "    def f(x):\n",
    "        output = 0\n",
    "        for pt in pts:\n",
    "            output += kernel(x, pt, a)\n",
    "        return output / len(pts) # Normalization factor\n",
    "    return f\n",
    "\n",
    "def plot_kde(kernel, pts, a):\n",
    "    # Calls create_kde and plots the corresponding KDE\n",
    "    f = create_kde(kernel, pts, a)\n",
    "    x = np.linspace(min(pts) - 5, max(pts) + 5, 1000)\n",
    "    y = [f(xi) for xi in x]\n",
    "    plt.plot(x, y);\n",
    "    \n",
    "def plot_separate_kernels(kernel, pts, a, norm=False):\n",
    "    # Plots individual kernels, which are then summed to create the KDE\n",
    "    x = np.linspace(min(pts) - 5, max(pts) + 5, 1000)\n",
    "    for pt in pts:\n",
    "        y = kernel(x, pt, a)\n",
    "        if norm:\n",
    "            y /= len(pts)\n",
    "        plt.plot(x, y)\n",
    "    \n",
    "    plt.show();"
   ]
  },
  {
   "cell_type": "markdown",
   "id": "fdaa8871-fe73-4e3d-9d22-ea4417daf402",
   "metadata": {},
   "source": [
    "Here are our five points represented as vertical bars."
   ]
  },
  {
   "cell_type": "code",
   "execution_count": null,
   "id": "2e3eb09f-039a-4ce8-9592-de8a2164385c",
   "metadata": {},
   "outputs": [],
   "source": [
    "plt.xlim(-3, 10)\n",
    "plt.ylim(0, 0.5)\n",
    "sns.rugplot(points, height = 0.5);"
   ]
  },
  {
   "cell_type": "markdown",
   "id": "faf8109a-fb3d-404a-ac36-83fff48cf865",
   "metadata": {},
   "source": [
    "### Step 1: Place a kernel at each point\n",
    "\n",
    "We'll start with the Gaussian kernel."
   ]
  },
  {
   "cell_type": "code",
   "execution_count": null,
   "id": "7381c54c-7082-4d64-a7ab-1cc09a3090bf",
   "metadata": {},
   "outputs": [],
   "source": [
    "plt.xlim(-3, 10)\n",
    "plt.ylim(0, 0.5)\n",
    "plot_separate_kernels(gaussian, points, a = 1);"
   ]
  },
  {
   "cell_type": "markdown",
   "id": "6d9d573b-b1a0-4416-b1a9-403bcf6bba9f",
   "metadata": {},
   "source": [
    "### Step 2: Normalize kernels so that total area is 1"
   ]
  },
  {
   "cell_type": "code",
   "execution_count": null,
   "id": "d3169061-14f5-4fe7-9a61-e612bdebd1a7",
   "metadata": {},
   "outputs": [],
   "source": [
    "plt.xlim(-3, 10)\n",
    "plt.ylim(0, 0.5)\n",
    "plot_separate_kernels(gaussian, points, a = 1, norm = True);"
   ]
  },
  {
   "cell_type": "markdown",
   "id": "269738bf-8bdd-40c4-9b0d-8c56729be0c7",
   "metadata": {},
   "source": [
    "### Step 3: Sum all kernels together"
   ]
  },
  {
   "cell_type": "code",
   "execution_count": null,
   "id": "82ee2a41-4b96-4bd1-86de-67dd19dce2cd",
   "metadata": {},
   "outputs": [],
   "source": [
    "plt.xlim(-3, 10)\n",
    "plt.ylim(0, 0.5)\n",
    "plot_kde(gaussian, points, a = 1)"
   ]
  },
  {
   "cell_type": "markdown",
   "id": "2c996279-b0c6-4fbf-9da7-b22edbea3e01",
   "metadata": {},
   "source": [
    "This looks identical to the smooth curve that `sns.distplot` gives us (when we set the appropriate parameter):"
   ]
  },
  {
   "cell_type": "code",
   "execution_count": null,
   "id": "0486a9af-a543-4c5c-91bc-988c3a1acdc4",
   "metadata": {},
   "outputs": [],
   "source": [
    "sns.kdeplot(points, bw_method=0.65)  # magic value!\n",
    "sns.histplot(points, stat='density', bins=2);"
   ]
  },
  {
   "cell_type": "markdown",
   "id": "6bc93cc4-bcaf-4ed9-90dc-68805376eaf9",
   "metadata": {},
   "source": [
    "You can also get a very similar result in a single call by requesting the KDE be added to the histogram, with `kde=True` and some extra keywords:"
   ]
  },
  {
   "cell_type": "code",
   "execution_count": null,
   "id": "d3aab270-1d99-4c7e-b4a5-da32bcae5871",
   "metadata": {},
   "outputs": [],
   "source": [
    "sns.histplot(points, bins=2, kde=True, stat='density', \n",
    "             kde_kws=dict(cut=3, bw_method=0.65));"
   ]
  },
  {
   "cell_type": "code",
   "execution_count": null,
   "id": "70f9fda0-c22d-4a9f-936c-fd9f79cb0a55",
   "metadata": {},
   "outputs": [],
   "source": [
    "sns.kdeplot(points, bw_adjust=2)\n",
    "sns.histplot(points, stat='density');"
   ]
  },
  {
   "cell_type": "markdown",
   "id": "c3d17e2b-7a62-421a-bdda-cea673eff685",
   "metadata": {},
   "source": [
    "## Kernels\n",
    "\n",
    "**Gaussian**\n",
    "\n",
    "$$K_{\\alpha}(x, x_i) = \\frac{1}{\\sqrt{2 \\pi \\alpha^2}} e^{-\\frac{(x - x_i)^2}{2\\alpha^2}}$$\n",
    "\n",
    "\n",
    "**Boxcar**\n",
    "\n",
    "\n",
    "$$K_{\\alpha}(x, x_i) = \\begin {cases}\n",
    "\t\t\t\\frac{1}{\\alpha}, \\: \\: \\: |x - x_i| \\leq \\frac{\\alpha}{2}\\\\\n",
    "\t\t\t0, \\: \\: \\: \\text{else}\n",
    "\t\t\t\\end{cases}$$"
   ]
  },
  {
   "cell_type": "code",
   "execution_count": null,
   "id": "d8e7a768-c09e-4af9-b74b-3737bc2c3847",
   "metadata": {},
   "outputs": [],
   "source": [
    "plt.xlim(-3, 10)\n",
    "plt.ylim(0, 0.5)\n",
    "plt.title(r'KDE of toy data with Gaussian kernel and $\\alpha$ = 1')\n",
    "plot_kde(gaussian, points, a = 1)"
   ]
  },
  {
   "cell_type": "code",
   "execution_count": null,
   "id": "0772c5d3-1f31-49e4-891d-d77cd32fad33",
   "metadata": {},
   "outputs": [],
   "source": [
    "plt.xlim(-3, 10)\n",
    "plt.ylim(0, 0.5)\n",
    "plt.title(r'KDE of toy data with Boxcar kernel and $\\alpha$ = 1')\n",
    "plot_kde(boxcar, points, a = 1)"
   ]
  },
  {
   "cell_type": "markdown",
   "id": "d52697ce-2214-4d06-8c1c-a435ef4993f5",
   "metadata": {},
   "source": [
    "## Effect of bandwidth hyperparameter $\\alpha$\n",
    "\n",
    "Let's bring in some (different) toy data."
   ]
  },
  {
   "cell_type": "code",
   "execution_count": null,
   "id": "cb350f97-cd48-4043-ac13-c164f907a6d1",
   "metadata": {},
   "outputs": [],
   "source": [
    "tips = sns.load_dataset('tips')"
   ]
  },
  {
   "cell_type": "code",
   "execution_count": null,
   "id": "d9c7c925-0722-4c6f-95c7-d7600650f762",
   "metadata": {},
   "outputs": [],
   "source": [
    "tips.head()"
   ]
  },
  {
   "cell_type": "code",
   "execution_count": null,
   "id": "74946b69-6043-40b0-9204-2e393830d445",
   "metadata": {},
   "outputs": [],
   "source": [
    "vals = tips['total_bill']"
   ]
  },
  {
   "cell_type": "code",
   "execution_count": null,
   "id": "e0b448c2-a882-48cc-8b7d-4905a44dc117",
   "metadata": {},
   "outputs": [],
   "source": [
    "ax = sns.histplot(vals)\n",
    "sns.rugplot(vals, color='orange', ax=ax);"
   ]
  },
  {
   "cell_type": "markdown",
   "id": "05976351-3eb7-4efb-b4de-7b24c3edb716",
   "metadata": {},
   "source": [
    "### KDE Formula\n",
    "\n",
    "$$f_{\\alpha}(x) = \\sum_{i = 1}^n \\frac{1}{n} \\cdot K_{\\alpha}(x, x_i) =  \\frac{1}{n} \\sum_{i = 1}^n K_{\\alpha}(x, x_i)$$"
   ]
  },
  {
   "cell_type": "code",
   "execution_count": null,
   "id": "eeab0adc-d062-4a4e-aaec-ae07eb219ad2",
   "metadata": {},
   "outputs": [],
   "source": [
    "plt.figure(figsize=(8, 5))\n",
    "plt.ylim(0, 0.15)\n",
    "plt.title(r'KDE of tips with Gaussian kernel and $\\alpha$ = 0.1')\n",
    "plot_kde(gaussian, vals, a = 0.1)"
   ]
  },
  {
   "cell_type": "code",
   "execution_count": null,
   "id": "f0457d85-95c4-4442-aa9f-27e2a13c9181",
   "metadata": {},
   "outputs": [],
   "source": [
    "plt.ylim(0, 0.1)\n",
    "plt.title(r'KDE of tips with Gaussian kernel and $\\alpha$ = 1')\n",
    "plot_kde(gaussian, vals, a = 1)"
   ]
  },
  {
   "cell_type": "code",
   "execution_count": null,
   "id": "4fcf592c-6460-4b67-88d0-2095720c07e6",
   "metadata": {},
   "outputs": [],
   "source": [
    "plt.ylim(0, 0.1)\n",
    "plt.title(r'KDE of tips with Gaussian kernel and $\\alpha$ = 2')\n",
    "plot_kde(gaussian, vals, a = 2)"
   ]
  },
  {
   "cell_type": "code",
   "execution_count": null,
   "id": "27a813b2-290b-45e3-826d-e794744ca6e1",
   "metadata": {},
   "outputs": [],
   "source": [
    "plt.ylim(0, 0.1)\n",
    "plt.title(r'KDE of tips with Gaussian kernel and $\\alpha$ = 10')\n",
    "plot_kde(gaussian, vals, a = 5)"
   ]
  }
 ],
 "metadata": {
  "kernelspec": {
   "display_name": "Python 3 (ipykernel)",
   "language": "python",
   "name": "python3"
  },
  "language_info": {
   "codemirror_mode": {
    "name": "ipython",
    "version": 3
   },
   "file_extension": ".py",
   "mimetype": "text/x-python",
   "name": "python",
   "nbconvert_exporter": "python",
   "pygments_lexer": "ipython3",
   "version": "3.11.9"
  }
 },
 "nbformat": 4,
 "nbformat_minor": 5
}
