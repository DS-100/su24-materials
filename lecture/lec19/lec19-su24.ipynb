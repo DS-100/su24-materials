{
 "cells": [
  {
   "cell_type": "markdown",
   "id": "06d30bb2-585a-43bc-8306-cc6ed9cfb626",
   "metadata": {},
   "source": [
    "# Lecture 19 – Data 100, Summer 2024\n",
    "\n",
    "Data 100, Summer 2024\n",
    "\n",
    "[Acknowledgments Page](https://ds100.org/su24/acks/)"
   ]
  },
  {
   "cell_type": "code",
   "execution_count": null,
   "id": "eb4d4086",
   "metadata": {},
   "outputs": [],
   "source": [
    "import numpy as np\n",
    "import pandas as pd\n",
    "import plotly.express as px\n",
    "import sklearn.linear_model as lm\n",
    "import seaborn as sns"
   ]
  },
  {
   "cell_type": "markdown",
   "id": "70fffa7a",
   "metadata": {},
   "source": [
    "\n",
    "---\n",
    "\n",
    "## Simple Bootstrap Example"
   ]
  },
  {
   "cell_type": "markdown",
   "id": "5c00524f",
   "metadata": {},
   "source": [
    "Here we work through a simple example of the bootstap when estimating the relationship between miles per gallon and the weight of a vehicle."
   ]
  },
  {
   "cell_type": "markdown",
   "id": "be21369b",
   "metadata": {},
   "source": [
    "Suppose we collected a sample of 20 cars from a population.  For the purposes of this demo we will assume that the seaborn dataset is the population. The following is a visualization of our sample:"
   ]
  },
  {
   "cell_type": "code",
   "execution_count": null,
   "id": "ebebf2c0",
   "metadata": {},
   "outputs": [],
   "source": [
    "np.random.seed(42)\n",
    "mpg_sample = sns.load_dataset('mpg').sample(20)\n",
    "px.scatter(mpg_sample, x='weight', y='mpg', trendline='ols', width=800)"
   ]
  },
  {
   "cell_type": "markdown",
   "id": "1b76a7ff",
   "metadata": {},
   "source": [
    "Fitting a linear model we get an estimate of the slope:"
   ]
  },
  {
   "cell_type": "code",
   "execution_count": null,
   "id": "b5ccca92",
   "metadata": {},
   "outputs": [],
   "source": [
    "model = lm.LinearRegression().fit(mpg_sample[['weight']], mpg_sample['mpg'])\n",
    "model.coef_"
   ]
  },
  {
   "cell_type": "markdown",
   "id": "bfc106b0",
   "metadata": {},
   "source": [
    "### Bootstrap Implementation\n",
    "\n",
    "Now let's use bootstrap to estimate the distribution of that coefficient.  Here will will construct a bootstrap function that takes an estimator function and uses that function to construct many bootstrap estimates."
   ]
  },
  {
   "cell_type": "code",
   "execution_count": null,
   "id": "0e14266d",
   "metadata": {},
   "outputs": [],
   "source": [
    "def estimator(sample):\n",
    "    model = lm.LinearRegression().fit(sample[['weight']], sample['mpg'])\n",
    "    return model.coef_[0]"
   ]
  },
  {
   "cell_type": "markdown",
   "id": "75387946",
   "metadata": {},
   "source": [
    "This code uses `df.sample` ([link](https://pandas.pydata.org/docs/reference/api/pandas.DataFrame.sample.html)) to generate a bootstrap sample of the same size of the original sample."
   ]
  },
  {
   "cell_type": "code",
   "execution_count": null,
   "id": "ef07b819",
   "metadata": {},
   "outputs": [],
   "source": [
    "def bootstrap(sample, estimator, num_repetitions):\n",
    "    \"\"\"\n",
    "    Returns the statistic computed on a num_repetitions  \n",
    "    bootstrap samples from sample.\n",
    "    \"\"\"\n",
    "    stats = []\n",
    "    for i in np.arange(num_repetitions):\n",
    "        # Step 1: Sample the Sample\n",
    "        bootstrap_sample = sample.sample(frac=1, replace=True)\n",
    "        # Step 2: compute statistics on the sample of the sample\n",
    "        bootstrap_stat = estimator(bootstrap_sample)\n",
    "        # Accumulate the statistics\n",
    "        stats.append(bootstrap_stat)\n",
    "    return stats    "
   ]
  },
  {
   "cell_type": "markdown",
   "id": "a2f25d9f",
   "metadata": {},
   "source": [
    "Constructing MANY bootstrap slope estimates."
   ]
  },
  {
   "cell_type": "code",
   "execution_count": null,
   "id": "9b3782ba",
   "metadata": {},
   "outputs": [],
   "source": [
    "bs_thetas = bootstrap(mpg_sample, estimator, 10000)"
   ]
  },
  {
   "cell_type": "markdown",
   "id": "e6d25930",
   "metadata": {},
   "source": [
    "We can visualize the bootstrap distribution of the slope estimates."
   ]
  },
  {
   "cell_type": "code",
   "execution_count": null,
   "id": "2e13010c",
   "metadata": {},
   "outputs": [],
   "source": [
    "px.histogram(bs_thetas, title='Bootstrap Distribution of the Slope', \n",
    "             width=800)"
   ]
  },
  {
   "cell_type": "markdown",
   "id": "f784bae3",
   "metadata": {},
   "source": [
    "### Computing a Bootstrap CI\n",
    "We can compute the CI using the percentiles of the empirical distribution:"
   ]
  },
  {
   "cell_type": "code",
   "execution_count": null,
   "id": "8465a841",
   "metadata": {},
   "outputs": [],
   "source": [
    "def bootstrap_ci(bootstrap_samples, confidence_level=95):\n",
    "    \"\"\"\n",
    "    Returns the confidence interval for the bootstrap samples.\n",
    "    \"\"\"\n",
    "    lower_percentile = (100 - confidence_level) / 2\n",
    "    upper_percentile = 100 - lower_percentile\n",
    "    return np.percentile(bootstrap_samples, [lower_percentile, upper_percentile])"
   ]
  },
  {
   "cell_type": "code",
   "execution_count": null,
   "id": "9d2e4331",
   "metadata": {},
   "outputs": [],
   "source": [
    "bootstrap_ci(bs_thetas)"
   ]
  },
  {
   "cell_type": "markdown",
   "id": "8b0d852d",
   "metadata": {},
   "source": [
    "### Comparing to the Population CIs \n",
    "In practice you don't have access to the population but in this specific example we had taken a sample from a larger dataset that we can pretend is the population.  Let's compare to resampling from the larger dataset:"
   ]
  },
  {
   "cell_type": "code",
   "execution_count": null,
   "id": "020bad3b",
   "metadata": {},
   "outputs": [],
   "source": [
    "mpg_pop = sns.load_dataset('mpg')\n",
    "theta_est = [estimator(mpg_pop.sample(20)) for i in range(10000)]"
   ]
  },
  {
   "cell_type": "code",
   "execution_count": null,
   "id": "88bf6021",
   "metadata": {},
   "outputs": [],
   "source": [
    "bootstrap_ci(theta_est)"
   ]
  },
  {
   "cell_type": "markdown",
   "id": "0c190c9d",
   "metadata": {},
   "source": [
    "Visualizing the two distributions:"
   ]
  },
  {
   "cell_type": "code",
   "execution_count": null,
   "id": "4d12d1a0",
   "metadata": {},
   "outputs": [],
   "source": [
    "thetas = pd.DataFrame({\"bs_thetas\": bs_thetas, \"thetas\": theta_est})\n",
    "px.histogram(thetas.melt(), x='value', facet_row='variable', \n",
    "             title='Distribution of the Slope', width=800)"
   ]
  },
  {
   "cell_type": "markdown",
   "id": "682ac797-b0cc-420d-9010-d0a2264ec94f",
   "metadata": {},
   "source": [
    "Back to lecture!\n",
    "<br><br>\n",
    "\n",
    "---\n",
    "\n",
    "## PurpleAir\n",
    "\n",
    "This example is from the Data 100 textbook: [link](https://learningds.org/ch/17/inf_pred_gen_boot.html). The following cell does some basic data cleaning. "
   ]
  },
  {
   "cell_type": "code",
   "execution_count": null,
   "id": "96e97aa4-fa89-4073-be8d-68a4397ac0cd",
   "metadata": {},
   "outputs": [],
   "source": [
    "csv_file = 'data/Full24hrdataset.csv'\n",
    "usecols = ['Date', 'ID', 'region', 'PM25FM', 'PM25cf1', 'TempC', 'RH', 'Dewpoint']\n",
    "full_df = pd.read_csv(csv_file, usecols=usecols, parse_dates=['Date']).dropna()\n",
    "full_df.columns = ['date', 'id', 'region', 'pm25aqs', 'pm25pa', 'temp', 'rh', 'dew']\n",
    "full_df = full_df[(full_df['pm25aqs'] < 50)]\n",
    "# drop dates with issues in the data\n",
    "bad_dates = ['2019-08-21', '2019-08-22', '2019-09-24']\n",
    "GA = full_df[(full_df['id'] == 'GA1') & (~full_df['date'].isin(bad_dates))]\n",
    "GA = GA.sort_values(\"pm25aqs\")"
   ]
  },
  {
   "cell_type": "markdown",
   "id": "58d4fe3e",
   "metadata": {},
   "source": [
    "### Inverse Regression\n",
    "\n",
    "After we build the model that adjusts the PurpleAir measurements using AQS, we then flip the model around and use it to predict the true air quality in the future from PurpleAir measurements when wec don't have a nearby AQS instrument. \n",
    "This is a *calibration* scenario.\n",
    "Since the AQS measurements are close to the truth, we fit the more variable PurpleAir measurements to them;\n",
    "this is the calibration procedure. \n",
    "Then, we use the calibration curve to correct future PurpleAir measurements. \n",
    "This two-step process is encapsulated in the simple linear model and its flipped form below."
   ]
  },
  {
   "cell_type": "markdown",
   "id": "facc585d-78d2-4659-89a0-5c65cbbc7b17",
   "metadata": {},
   "source": [
    "Inverse regression:\n",
    "* First, we fit a line to predict a PA measurement from the ground truth, as recorded by an AQS instrument:\n",
    "\n",
    "    $$ \\text{PA} \\approx \\theta_0 + \\theta_1\\text{AQS} $$\n",
    "\n",
    "* Next, we flip the line around to use a PA measurement to predict the air quality,\n",
    "\n",
    "    $$ \\text{True Air Quality} \\approx -\\theta_0/\\theta_1 + 1/\\theta_1 \\text{PA} $$\n",
    "    \n",
    "Why perform this “inverse regression”?\n",
    "* Intuitively, AQS measurements are “true” and have no error.\n",
    "* A linear model takes a “true” x value input and minimizes the error in the y direction.\n",
    "* Algebraically identical, but statistically different.\n"
   ]
  },
  {
   "cell_type": "code",
   "execution_count": null,
   "id": "19e49f52-83ee-47fe-b61a-a71a463ef89c",
   "metadata": {},
   "outputs": [],
   "source": [
    "AQS, PA = GA[['pm25aqs']], GA['pm25pa']\n",
    "\n",
    "model = lm.LinearRegression().fit(AQS, PA)\n",
    "theta_0, theta_1 = model.intercept_, model.coef_[0], "
   ]
  },
  {
   "cell_type": "code",
   "execution_count": null,
   "id": "79f00c76",
   "metadata": {},
   "outputs": [],
   "source": [
    "fig = px.scatter(GA, x='pm25aqs', y='pm25pa', width=800)\n",
    "xtest = np.array([GA['pm25aqs'].min(), GA['pm25aqs'].max()])\n",
    "fig.add_scatter(x=xtest, y=model.predict(xtest.reshape(-1, 1)), mode='lines', \n",
    "                name=\"Least Squares Fit\")"
   ]
  },
  {
   "cell_type": "markdown",
   "id": "e2c92b24",
   "metadata": {},
   "source": [
    "Constructing the inverse predictions"
   ]
  },
  {
   "cell_type": "code",
   "execution_count": null,
   "id": "d75e703a-41de-4310-a7ee-a11688453e4d",
   "metadata": {},
   "outputs": [],
   "source": [
    "print(f\"True Air Quality Estimate = {-theta_0/theta_1:.2} + {1/theta_1:.2}PA\") "
   ]
  },
  {
   "cell_type": "code",
   "execution_count": null,
   "id": "54732320",
   "metadata": {},
   "outputs": [],
   "source": [
    "model2 = lm.LinearRegression().fit(GA[['pm25pa']], GA['pm25aqs'])\n",
    "\n",
    "fig = px.scatter(GA, y='pm25aqs', x='pm25pa', width=800)\n",
    "xtest = np.array([GA['pm25pa'].min(), GA['pm25pa'].max()])\n",
    "fig.add_scatter(x=xtest, y=xtest *1/theta_1 - theta_0/theta_1 , mode='lines', \n",
    "                name=\"Inverse Fit\")\n",
    "fig.add_scatter(x=xtest, y=model2.predict(xtest.reshape(-1, 1)), mode='lines',\n",
    "                name=\"Least Squares Fit\")\n"
   ]
  },
  {
   "cell_type": "markdown",
   "id": "e5946995-677c-45c2-a441-3681ec37a297",
   "metadata": {},
   "source": [
    "\n",
    "### The Barkjohn et al. model with Relative Humidity\n",
    "\n",
    "[Karoline Barkjohn, Brett Gannt, and Andrea Clements](https://amt.copernicus.org/articles/14/4617/2021/) from the US Environmental Protection Agency developed a model to improve the PuprleAir measurements from the AQS sensor measurements. arkjohn and group’s work was so successful that, as of this writing, the official US government maps, like the [AirNow Fire and Smoke](https://fire.airnow.gov/) map, includes both AQS and PurpleAir sensors, and applies Barkjohn’s correction to the PurpleAir data.\n",
    "$$\n",
    "\\begin{aligned}\n",
    "\\text{PA} \\approx \\theta_0 + \\theta_1 \\text{AQS} + \\theta_2 \\text{RH}\n",
    "\\end{aligned}\n",
    "$$\n",
    "\n",
    "The model that Barkjohn settled on incorporated the **relative humidity**:"
   ]
  },
  {
   "cell_type": "code",
   "execution_count": null,
   "id": "b1fba655-17f0-4017-928d-6364f8da6f3b",
   "metadata": {},
   "outputs": [],
   "source": [
    "AQS_RH, PA = GA[['pm25aqs', 'rh']], GA['pm25pa']\n",
    "model_h = lm.LinearRegression().fit(AQS_RH, PA)\n",
    "[theta_1, theta_2], theta_0 = model_h.coef_, model_h.intercept_\n",
    "    \n",
    "print(f\"True Air Quality Estimate = {-theta_0/theta_1:1.2} + {1/theta_1:.2}PA + {-theta_2/theta_1:.2}RH\") "
   ]
  },
  {
   "cell_type": "code",
   "execution_count": null,
   "id": "6708ff70",
   "metadata": {},
   "outputs": [],
   "source": [
    "fig = px.scatter(GA, x='pm25aqs', y='pm25pa', width=800)\n",
    "xtest = np.array([GA['pm25aqs'].min(), GA['pm25aqs'].max()])\n",
    "fig.add_scatter(x=xtest, y=model.predict(xtest.reshape(-1, 1)), mode='lines', \n",
    "                name=\"Least Squares Fit\")\n",
    "fig.add_scatter(x=GA[\"pm25aqs\"], y=model_h.predict(AQS_RH), mode='lines+markers',\n",
    "                marker_size=5, name=\"Least Squares Fit with RH\")"
   ]
  },
  {
   "cell_type": "markdown",
   "id": "86500f95",
   "metadata": {},
   "source": [
    "**Bonus** Visualizing the surface:"
   ]
  },
  {
   "cell_type": "code",
   "execution_count": null,
   "id": "d8a204fa-d8c2-4dd0-9481-e26a58ce171a",
   "metadata": {},
   "outputs": [],
   "source": [
    "fig = px.scatter_3d(GA, x='pm25aqs', y='rh', z='pm25pa', width=800, height=600)\n",
    "\n",
    "grid_resolution = 2\n",
    "(u,v) = np.meshgrid(\n",
    "    np.linspace(GA[\"pm25aqs\"].min(), GA[\"pm25aqs\"].max(), grid_resolution),\n",
    "    np.linspace(GA[\"rh\"].min(), GA[\"rh\"].max(), grid_resolution))\n",
    "zs = model_h.predict(pd.DataFrame({\"pm25aqs\": u.flatten(), \"rh\": v.flatten()}))\n",
    "zs_old = model.predict(pd.DataFrame({\"pm25aqs\": u.flatten()}))\n",
    "# create the Surface\n",
    "color1 = px.colors.qualitative.Plotly[3]\n",
    "color2 = px.colors.qualitative.Plotly[4]\n",
    "fig.add_surface(x=u, y=v, z= zs.reshape(u.shape), opacity=1, \n",
    "                colorscale=[[0, color1], [1,color1]],\n",
    "                showscale=False, name=\"AQS + RH\")\n",
    "fig.add_surface(x=u, y=v, z= zs_old.reshape(u.shape), opacity=1, \n",
    "                colorscale=[[0, color2], [1,color2]],\n",
    "                showscale=False, name=\"AQS\")\n",
    "# set the aspect ratio of the 3d plot\n",
    "fig.update_scenes(aspectmode='cube')"
   ]
  },
  {
   "cell_type": "markdown",
   "id": "98cdace7-7014-44b7-ae4f-6eb5ca5d8212",
   "metadata": {},
   "source": [
    "<br/>Compared to the simple linear model that only incorporated AQS, the Barkjohn et al. model with relative humidity achieves lower error. Good for prediction!"
   ]
  },
  {
   "cell_type": "markdown",
   "id": "57285193-7ea3-4966-a67a-f4ab131c10bf",
   "metadata": {},
   "source": [
    "<br><br> \n",
    "\n",
    "---\n",
    "\n",
    "\n",
    "### Bootstrapping the regression coefficients for Purple Air"
   ]
  },
  {
   "cell_type": "markdown",
   "id": "5c150c0c-6279-402d-8889-976f572ad1da",
   "metadata": {},
   "source": [
    "From the Barkjohn et al., model, AQS coefficient $\\hat{\\theta}_1$:"
   ]
  },
  {
   "cell_type": "code",
   "execution_count": null,
   "id": "75ae6976-7fde-46a0-90ae-47729549bcaf",
   "metadata": {},
   "outputs": [],
   "source": [
    "theta_1"
   ]
  },
  {
   "cell_type": "markdown",
   "id": "1342c7f2-c608-4abe-bccc-05773b764f04",
   "metadata": {},
   "source": [
    "The Relative Humidity coefficient $\\hat{\\theta}_2$ is pretty close to zero:"
   ]
  },
  {
   "cell_type": "code",
   "execution_count": null,
   "id": "e7623bdb-d47d-423f-b193-24eb45edbeee",
   "metadata": {},
   "outputs": [],
   "source": [
    "theta_2"
   ]
  },
  {
   "cell_type": "markdown",
   "id": "a5f31e52-00a7-47c6-ad83-943c108360a9",
   "metadata": {},
   "source": [
    "Is incorporating humidity in the model really needed?"
   ]
  },
  {
   "cell_type": "markdown",
   "id": "8bbc24e4-23b9-4184-85c6-d8c919271998",
   "metadata": {},
   "source": [
    "**Null hypothesis**: The null hypothesis is $\\theta_2 = 0$; that is, the null model is the simpler model:\n",
    "\n",
    "$$\n",
    "\\begin{aligned}\n",
    "\\text{PA} \\approx \\theta_0 + \\theta_1 \\text{AQS}\n",
    "\\end{aligned}\n",
    "$$"
   ]
  },
  {
   "cell_type": "markdown",
   "id": "c3a99bbf-9e7b-440b-8f3a-e6a433b42731",
   "metadata": {},
   "source": [
    "Repeat 10,000 times to get an approximation to the boostrap sampling distirbution of the bootstrap statistic (the fitted humidity coefficient $\\hat{\\theta_2}$):"
   ]
  },
  {
   "cell_type": "code",
   "execution_count": null,
   "id": "fab8195b",
   "metadata": {},
   "outputs": [],
   "source": [
    "def theta2_estimate(sample):\n",
    "    model = lm.LinearRegression().fit(sample[['pm25aqs', 'rh']], sample['pm25pa'])\n",
    "    return model.coef_[1]"
   ]
  },
  {
   "cell_type": "code",
   "execution_count": null,
   "id": "4cf8d418",
   "metadata": {},
   "outputs": [],
   "source": [
    "bs_theta2 = bootstrap(GA, theta2_estimate, 10000)"
   ]
  },
  {
   "cell_type": "code",
   "execution_count": null,
   "id": "41b3c762-e8ef-40b0-9266-1d6d75810801",
   "metadata": {},
   "outputs": [],
   "source": [
    "import plotly.express as px\n",
    "px.histogram(x=bs_theta2,\n",
    "            labels=dict(x='Bootstrapped Humidity Coefficient'),\n",
    "            width=800)"
   ]
  },
  {
   "cell_type": "markdown",
   "id": "065c010f-8365-4969-8493-ecdb713dfb33",
   "metadata": {},
   "source": [
    "(We know that the center will be close to the original coefficient estimated from the sample, 0.21.)\n",
    "\n",
    "By design, the center of the bootstrap sampling distribution will be near $\\hat{\\theta}$ because the bootstrap population consists of the observed data. \n",
    "So, rather than compute the chance of a value at least as large as the observed statistic, we find the chance of a value at least as small as 0.\n",
    "\n",
    "**The hypothesized value of 0 is far from the sampling distribution:**"
   ]
  },
  {
   "cell_type": "code",
   "execution_count": null,
   "id": "b9dfadab-5bd4-41e8-a96c-8a891ffb8833",
   "metadata": {},
   "outputs": [],
   "source": [
    "len([elem for elem in bs_theta2 if elem < 0.0]) "
   ]
  },
  {
   "cell_type": "markdown",
   "id": "c6cf85a4-2abc-4b0e-b69c-6c667512f464",
   "metadata": {},
   "source": [
    "None of the 10,000 simulated regression coefficients are as small as the hypothesized coefficient. Statistical logic leads us to **reject the null hypothesis that we do not need to adjust the model for humidity.**"
   ]
  },
  {
   "cell_type": "markdown",
   "id": "e3f195c0-21dd-4e04-a8b2-343691f4e6c8",
   "metadata": {},
   "source": [
    "Back to lecture!\n",
    "<br><br>\n",
    "\n",
    "---\n",
    "\n",
    "## The Snowy Plover\n",
    "\n",
    "This example borrows some wording from Spring 2020's Data 100, Lecture 22."
   ]
  },
  {
   "cell_type": "markdown",
   "id": "3f2ac023-de6d-4ad8-8b0a-dec29f0caf00",
   "metadata": {
    "tags": []
   },
   "source": [
    "### The Data \n",
    "The [Snowy Plover](https://www.audubon.org/field-guide/bird/snowy-plover) is a tiny bird that lives on the coast in parts of California and elsewhere. It is so small that it is vulnerable to many predators and to people and dogs that don't look where they are stepping when they go to the beach. It is considered endangered in many parts of the US.\n",
    "\n",
    "The data are about the eggs and newly-hatched chicks of the Snowy Plover. Here's a [parent bird and some eggs](http://cescos.fau.edu/jay/eps/articles/snowyplover.html).\n",
    "\n",
    "![plover and eggs](images/plover_eggs.jpg)\n",
    "\n",
    "The data were collected at the Point Reyes National Seashore by a former [student at Berkeley](https://openlibrary.org/books/OL2038693M/BLSS_the_Berkeley_interactive_statistical_system). The goal was to see how the size of an egg could be used to predict the weight of the resulting chick. The bigger the newly-hatched chick, the more likely it is to survive.\n",
    "\n",
    "![plover and chick](images/plover_chick.jpg)"
   ]
  },
  {
   "cell_type": "markdown",
   "id": "5d9c954e-1c2a-4484-bf35-60091200812b",
   "metadata": {},
   "source": [
    "Each row of the data frame below corresponds to one Snowy Plover egg and the resulting chick. Note how tiny the bird is:\n",
    "\n",
    "* Egg Length and Egg Breadth (widest diameter) are measured in millimeters\n",
    "* Egg Weight and Bird Weight are measured in grams; for comparison, a standard paper clip weighs about one gram"
   ]
  },
  {
   "cell_type": "code",
   "execution_count": null,
   "id": "bd944f7f-86ed-41a9-8ac6-65a90e0534fe",
   "metadata": {},
   "outputs": [],
   "source": [
    "eggs = pd.read_csv('data/snowy_plover.csv')\n",
    "eggs.head()"
   ]
  },
  {
   "cell_type": "code",
   "execution_count": null,
   "id": "d90f341a-365a-4a33-8dce-91103cce8cab",
   "metadata": {},
   "outputs": [],
   "source": [
    "eggs.shape"
   ]
  },
  {
   "cell_type": "markdown",
   "id": "74117d04-d63b-4461-bc96-614805e8379f",
   "metadata": {},
   "source": [
    "For a particular egg, $x$ is the vector of length, breadth, and weight. The model is\n",
    "\n",
    "$$\n",
    "f_\\theta(x) ~ = ~ \\theta_0 + \\theta_1\\text{egg\\_length} + \\theta_2\\text{egg\\_breadth} + \\theta_3\\text{egg\\_weight} + \\epsilon\n",
    "$$\n",
    "\n",
    "- For each $i$, the parameter $\\theta_i$ is a fixed number but it is unobservable. We can only estimate it.\n",
    "- The random error $\\epsilon$ is also unobservable, but it is assumed to have expectation 0 and be independent and identically distributed across eggs."
   ]
  },
  {
   "cell_type": "code",
   "execution_count": null,
   "id": "6b3b67df-6693-443b-92db-2787dd87c72a",
   "metadata": {},
   "outputs": [],
   "source": [
    "y = eggs[\"bird_weight\"]\n",
    "X = eggs[[\"egg_weight\", \"egg_length\", \"egg_breadth\"]]\n",
    "    \n",
    "model = lm.LinearRegression(fit_intercept=True).fit(X, y)\n",
    "\n",
    "display(pd.DataFrame(\n",
    "    [model.intercept_] + list(model.coef_),\n",
    "    columns=['theta_hat'],\n",
    "    index=['intercept', 'egg_weight', 'egg_length', 'egg_breadth']))\n",
    "\n",
    "print(\"RMSE\", np.mean((y - model.predict(X)) ** 2))      "
   ]
  },
  {
   "cell_type": "markdown",
   "id": "088fd519-afd6-4abe-a567-63137f28b984",
   "metadata": {},
   "source": [
    "Let's try bootstrapping the sample to obtain a 95% confidence intervals for all the parameters."
   ]
  },
  {
   "cell_type": "code",
   "execution_count": null,
   "id": "0f0f04a1-2de7-43f3-8f14-667ed4add13f",
   "metadata": {},
   "outputs": [],
   "source": [
    "def all_thetas(sample):\n",
    "    # first feature\n",
    "    model = lm.LinearRegression().fit(\n",
    "        sample[[\"egg_weight\", \"egg_length\", \"egg_breadth\"]],\n",
    "        sample[\"bird_weight\"])\n",
    "    return [model.intercept_] + model.coef_.tolist()"
   ]
  },
  {
   "cell_type": "code",
   "execution_count": null,
   "id": "be3cbc15",
   "metadata": {},
   "outputs": [],
   "source": [
    "bs_thetas = pd.DataFrame(\n",
    "    bootstrap(eggs, all_thetas, 10_000), \n",
    "    columns=['intercept', 'egg_weight', 'egg_length', 'egg_breadth'])\n",
    "bs_thetas"
   ]
  },
  {
   "cell_type": "markdown",
   "id": "0aa6658f",
   "metadata": {},
   "source": [
    "Computing the confidence intervals for all the coefficients we get:"
   ]
  },
  {
   "cell_type": "code",
   "execution_count": null,
   "id": "78119799",
   "metadata": {},
   "outputs": [],
   "source": [
    "(bs_thetas.apply(bootstrap_ci)\n",
    "    .T\n",
    "    .rename(columns={0: 'lower', 1: 'upper'}))"
   ]
  },
  {
   "cell_type": "markdown",
   "id": "593bbfa2",
   "metadata": {},
   "source": [
    "Because all the confidence intervals contain 0 we cannot reject the null hypothesis for any of them.  Does this mean that all the parameters could be zero?\n"
   ]
  },
  {
   "cell_type": "markdown",
   "id": "0e4a7309-4e8f-4c1b-83aa-77919ec9738a",
   "metadata": {},
   "source": [
    "<br/><br/>\n",
    "\n",
    "---\n",
    "\n",
    "### Inspecting the Relationship between Features\n",
    "\n",
    "To see what's going on, we'll make a scatter plot matrix for the data."
   ]
  },
  {
   "cell_type": "code",
   "execution_count": null,
   "id": "d56515ba-11b8-496d-a630-f9740cf98e10",
   "metadata": {},
   "outputs": [],
   "source": [
    "px.scatter_matrix(eggs, width=600, height=600)"
   ]
  },
  {
   "cell_type": "markdown",
   "id": "4f69b4b4-896b-4702-abbf-ce50bac91ad9",
   "metadata": {},
   "source": [
    "This shows that `bird_weight`\n",
    "is highly correlated with all the other\n",
    "variables (the bottom row), which means fitting a linear model is a good idea.\n",
    "But we also see that `egg_weight` is highly correlated with all the variables\n",
    "(the top row).\n",
    "This means we can't increase one covariate while\n",
    "keeping the others constant. The individual slopes have no meaning."
   ]
  },
  {
   "cell_type": "markdown",
   "id": "e9358610-de9c-4775-b596-fa7a5543d282",
   "metadata": {},
   "source": [
    "Here's the correlations showing this more succinctly:"
   ]
  },
  {
   "cell_type": "code",
   "execution_count": null,
   "id": "f401aba9-5745-4a5d-89bc-6eac07980eeb",
   "metadata": {},
   "outputs": [],
   "source": [
    "px.imshow(eggs.corr().round(2), text_auto=True, width=600)"
   ]
  },
  {
   "cell_type": "markdown",
   "id": "42c7353f-0055-46c1-8710-305e957c4007",
   "metadata": {},
   "source": [
    "<br/><br/>\n",
    "\n",
    "---\n",
    "\n",
    "### Changing Our Modeling Features\n",
    "\n",
    "One way to fix this is to fit a model that only uses `egg_weight`.\n",
    "This model performs almost as well as the model that uses all three variables,\n",
    "and the confidence interval for $\\theta_1$ doesn't \n",
    "contain zero."
   ]
  },
  {
   "cell_type": "code",
   "execution_count": null,
   "id": "d6ea2165",
   "metadata": {},
   "outputs": [],
   "source": [
    "px.scatter(eggs, x='egg_weight', y='bird_weight', trendline='ols', width=800)"
   ]
  },
  {
   "cell_type": "code",
   "execution_count": null,
   "id": "af5c8d7d-9718-48c9-80a6-cf9a1eb86714",
   "metadata": {},
   "outputs": [],
   "source": [
    "y = eggs[\"bird_weight\"]\n",
    "X = eggs[[\"egg_weight\"]]\n",
    "    \n",
    "model = lm.LinearRegression(fit_intercept=True).fit(X, y)\n",
    "\n",
    "display(pd.DataFrame([model.intercept_] + list(model.coef_),\n",
    "             columns=['theta_hat'],\n",
    "             index=['intercept', 'egg_weight']))\n",
    "print(\"RMSE\", np.mean((y - model.predict(X)) ** 2))"
   ]
  },
  {
   "cell_type": "code",
   "execution_count": null,
   "id": "e383f93e",
   "metadata": {},
   "outputs": [],
   "source": [
    "def egg_weight_coeff(sample):\n",
    "    # first feature\n",
    "    model = lm.LinearRegression().fit(\n",
    "        sample[[\"egg_weight\"]],\n",
    "        sample[\"bird_weight\"])\n",
    "    return [model.intercept_] + model.coef_.tolist()"
   ]
  },
  {
   "cell_type": "code",
   "execution_count": null,
   "id": "b5d89806",
   "metadata": {},
   "outputs": [],
   "source": [
    "bs_thetas_egg_weight = pd.DataFrame(\n",
    "    bootstrap(eggs, egg_weight_coeff, 10_000), \n",
    "    columns=['intercept', 'egg_weight'])\n",
    "bs_thetas_egg_weight"
   ]
  },
  {
   "cell_type": "code",
   "execution_count": null,
   "id": "a4aab777",
   "metadata": {},
   "outputs": [],
   "source": [
    "(bs_thetas_egg_weight.apply(bootstrap_ci)\n",
    "    .T\n",
    "    .rename(columns={0: 'lower', 1: 'upper'}))"
   ]
  },
  {
   "cell_type": "markdown",
   "id": "d131bdb7-36dd-45af-a66c-d1e097e65b04",
   "metadata": {},
   "source": [
    "It's no surprise that if you want to predict the\n",
    "weight of the newly-hatched chick, using the weight\n",
    "of the egg is your best move.\n",
    "\n",
    "As this example shows, checking for collinearity is important for inference.\n",
    "When we fit a model on highly correlated variables, we might not be able to\n",
    "use confidence intervals to conclude that variables are\n",
    "related to the prediction."
   ]
  }
 ],
 "metadata": {
  "kernelspec": {
   "display_name": "Python 3 (ipykernel)",
   "language": "python",
   "name": "python3"
  },
  "language_info": {
   "codemirror_mode": {
    "name": "ipython",
    "version": 3
   },
   "file_extension": ".py",
   "mimetype": "text/x-python",
   "name": "python",
   "nbconvert_exporter": "python",
   "pygments_lexer": "ipython3",
   "version": "3.11.9"
  }
 },
 "nbformat": 4,
 "nbformat_minor": 5
}
