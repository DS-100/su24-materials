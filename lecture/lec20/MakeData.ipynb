{
 "cells": [
  {
   "cell_type": "code",
   "execution_count": null,
   "id": "754b311a-2bcb-42ec-b916-b0c26be5cb8d",
   "metadata": {},
   "outputs": [],
   "source": [
    "%load_ext sql"
   ]
  },
  {
   "cell_type": "code",
   "execution_count": null,
   "id": "10748b89-1928-4ef4-9821-9fdc719c095a",
   "metadata": {},
   "outputs": [],
   "source": [
    "%sql sqlite:///data/basic_examples.db --alias sqlite"
   ]
  },
  {
   "cell_type": "code",
   "execution_count": null,
   "id": "97493049-5867-4e24-8704-1f03327ed3c9",
   "metadata": {},
   "outputs": [],
   "source": [
    "%sql duckdb:///data/example_duck.db --alias duckdb"
   ]
  },
  {
   "cell_type": "code",
   "execution_count": null,
   "id": "84313d3a-f8a2-4fa8-bb86-bee97ed0208a",
   "metadata": {},
   "outputs": [],
   "source": [
    "%%sql sqlite\n",
    "SELECT * FROM sqlite_master WHERE type='table'"
   ]
  },
  {
   "cell_type": "code",
   "execution_count": null,
   "id": "03196053-c532-41ed-accf-d0adede303d0",
   "metadata": {},
   "outputs": [],
   "source": [
    "%%sql duckdb\n",
    "DROP TABLE IF EXISTS dragon;\n",
    "DROP TABLE IF EXISTS dish;    \n",
    "DROP TABLE IF EXISTS scene;\n",
    "\n",
    "CREATE TABLE dragon (\n",
    "    name VARCHAR PRIMARY KEY,\n",
    "    year INTEGER CHECK (year >= 2000),\n",
    "    cute INTEGER\n",
    ");\n",
    "\n",
    "CREATE TABLE dish (\n",
    "    name VARCHAR PRIMARY KEY,\n",
    "    type VARCHAR,\n",
    "    cost INTEGER CHECK (cost >= 0)\n",
    ");\n",
    "\n",
    "CREATE TABLE scene (\n",
    "    id INTEGER PRIMARY KEY,\n",
    "    biome VARCHAR NOT NULL,\n",
    "    city VARCHAR NOT NULL,\n",
    "    visitors INTEGER CHECK (visitors >= 0),\n",
    "    created_at DATETIME DEFAULT current_date()\n",
    ");"
   ]
  },
  {
   "cell_type": "code",
   "execution_count": null,
   "id": "addc5438-6359-4d0b-9bac-665239ce9975",
   "metadata": {},
   "outputs": [],
   "source": [
    "import pandas as pd\n",
    "df = pd.read_sql(\"select * from dragon\", \"sqlite:///data/basic_examples.db\")\n",
    "df"
   ]
  },
  {
   "cell_type": "code",
   "execution_count": null,
   "id": "f776cb7f-32fe-49de-a3af-436ef1d351aa",
   "metadata": {},
   "outputs": [],
   "source": [
    "%%sql duckdb\n",
    "INSERT INTO dragon (SELECT * FROM df);"
   ]
  },
  {
   "cell_type": "code",
   "execution_count": null,
   "id": "b803c907-d5f8-43db-aece-0d6a42314f93",
   "metadata": {},
   "outputs": [],
   "source": [
    "import pandas as pd\n",
    "df = pd.read_sql(\"select * from dish\", \"sqlite:///data/basic_examples.db\")\n",
    "df"
   ]
  },
  {
   "cell_type": "code",
   "execution_count": null,
   "id": "4d6680d4-c79b-4efb-86ba-acdb46eea08b",
   "metadata": {},
   "outputs": [],
   "source": [
    "%%sql duckdb\n",
    "INSERT INTO dish (SELECT * FROM df);"
   ]
  },
  {
   "cell_type": "code",
   "execution_count": null,
   "id": "c8c1f75a-1ad7-4aca-9db3-44ccd9077423",
   "metadata": {},
   "outputs": [],
   "source": [
    "import pandas as pd\n",
    "df = pd.read_sql(\"select * from scene\", \"sqlite:///data/basic_examples.db\")\n",
    "df"
   ]
  },
  {
   "cell_type": "code",
   "execution_count": null,
   "id": "2d8f3527-0c5e-4000-afde-f5f9926a5d35",
   "metadata": {},
   "outputs": [],
   "source": [
    "%%sql duckdb\n",
    "INSERT INTO scene (SELECT * FROM df);"
   ]
  },
  {
   "cell_type": "code",
   "execution_count": null,
   "id": "8cdd278a-4d47-4a78-949f-92d6f62b46b9",
   "metadata": {},
   "outputs": [],
   "source": [
    "%%sql \n",
    "COMMIT;\n",
    "CHECKPOINT;\n"
   ]
  },
  {
   "cell_type": "code",
   "execution_count": null,
   "id": "85ad748c-f2df-40fa-b8f2-6cd4d82b5715",
   "metadata": {},
   "outputs": [],
   "source": []
  }
 ],
 "metadata": {
  "kernelspec": {
   "display_name": "Python 3 (ipykernel)",
   "language": "python",
   "name": "python3"
  },
  "language_info": {
   "codemirror_mode": {
    "name": "ipython",
    "version": 3
   },
   "file_extension": ".py",
   "mimetype": "text/x-python",
   "name": "python",
   "nbconvert_exporter": "python",
   "pygments_lexer": "ipython3",
   "version": "3.11.0"
  }
 },
 "nbformat": 4,
 "nbformat_minor": 5
}
