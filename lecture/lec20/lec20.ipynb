{
 "cells": [
  {
   "cell_type": "markdown",
   "id": "a750c9e0",
   "metadata": {
    "tags": []
   },
   "source": [
    "# Lecture 20 – Data 100, Summer 2024\n",
    "\n",
    "Data 100, Summer 2024\n",
    "\n",
    "[Acknowledgments Page](https://ds100.org/su24/acks/)"
   ]
  },
  {
   "cell_type": "markdown",
   "id": "851dbb4e-77e5-456e-903f-d8df3aea6707",
   "metadata": {},
   "source": [
    "## Starting Up SQL"
   ]
  },
  {
   "cell_type": "markdown",
   "id": "863c24e4-6422-47c8-a194-575b7b7488ae",
   "metadata": {},
   "source": [
    "Before we look at SQL syntax in detail, let's first get ourselves set up to run SQL queries in Jupyter."
   ]
  },
  {
   "cell_type": "markdown",
   "id": "d4c43259-2e11-4cb3-b2ed-04f2a4148d60",
   "metadata": {},
   "source": [
    "### Approach #1: SQL Magic"
   ]
  },
  {
   "cell_type": "markdown",
   "id": "f699330c-aee9-4036-bc7d-0fe329410f7b",
   "metadata": {},
   "source": [
    "**1. Load the `sql` Module.** \n",
    "\n",
    "Load `%%sql` cell magic."
   ]
  },
  {
   "cell_type": "code",
   "execution_count": null,
   "id": "d809a9ab-fe04-4e65-99b9-bd1e0c6a0daf",
   "metadata": {},
   "outputs": [],
   "source": [
    "%load_ext sql"
   ]
  },
  {
   "cell_type": "markdown",
   "id": "b155e056-d307-4f69-8083-dee31155224e",
   "metadata": {},
   "source": [
    "**2. Connect to a database.**  \n",
    "\n",
    "Here, we connect to the SQLite database `basic_examples.db`."
   ]
  },
  {
   "cell_type": "code",
   "execution_count": null,
   "id": "480982be-9b63-44f4-8ca2-e3b29cd04877",
   "metadata": {},
   "outputs": [],
   "source": [
    "%sql duckdb:///data/example_duck.db --alias duck"
   ]
  },
  {
   "cell_type": "markdown",
   "id": "8c66752c-1a7c-4e8a-977e-95e27896a057",
   "metadata": {},
   "source": [
    "If you were connecting to an \"enterprise data platform\"\n",
    "\n",
    "```python\n",
    "from sqlalchemy import create_engine\n",
    "\n",
    "snow_engine = create_engine(\n",
    "    f\"snowflake://{user}:{password}@{account_identifier}\")\n",
    "%sql snow_engine --alias snow\n",
    "\n",
    "db_engine = create_engine(\n",
    "  url = f\"databricks://token:{access_token}@{server_hostname}?\" +\n",
    "        f\"http_path={http_path}&catalog={catalog}&schema={schema}\"\n",
    ")\n",
    "%sql db_engine --alias db\n",
    "```"
   ]
  },
  {
   "cell_type": "markdown",
   "id": "1b9a53ac-58d6-439f-a33e-926e15144e97",
   "metadata": {},
   "source": [
    "<br/>\n",
    "\n",
    "**3. Run a simple SQL query.** \n",
    "\n",
    "Note the `%%sql` lets Jupyter parse the rest of the lines as a SQL command."
   ]
  },
  {
   "cell_type": "code",
   "execution_count": null,
   "id": "8c172229-1ae6-408a-80b6-ef7985fbe386",
   "metadata": {},
   "outputs": [],
   "source": [
    "%%sql\n",
    "SELECT * FROM Dragon;"
   ]
  },
  {
   "cell_type": "markdown",
   "id": "3e2fbecc-ccf6-4807-b810-7de159a111a1",
   "metadata": {},
   "source": [
    "**Simple query, this time on two different lines.**"
   ]
  },
  {
   "cell_type": "code",
   "execution_count": null,
   "id": "4cbb0a40-63e7-46aa-a65f-a212e1a7858a",
   "metadata": {},
   "outputs": [],
   "source": [
    "%%sql\n",
    "SELECT *\n",
    "FROM Dragon;"
   ]
  },
  {
   "cell_type": "markdown",
   "id": "4d7ac386-94a9-4d3e-9b65-122d5213314a",
   "metadata": {
    "tags": []
   },
   "source": [
    "### Approach #2: `pd.read_sql`\n",
    "\n",
    "It turns out that `pandas` has a special-purpose function to parse SQL queries. We can pass in a SQL query as a string to return a `pandas` DataFrame. To achieve the same result as we did using cell magic above, we can do the following."
   ]
  },
  {
   "cell_type": "markdown",
   "id": "54b68e95-db18-4bc5-83aa-7631f53520f2",
   "metadata": {},
   "source": [
    "**1. Connect to a database**"
   ]
  },
  {
   "cell_type": "code",
   "execution_count": null,
   "id": "3a8939f0-cbfc-4891-b575-4730df1d8aa5",
   "metadata": {},
   "outputs": [],
   "source": [
    "import sqlalchemy \n",
    "import pandas as pd\n",
    "\n",
    "engine = sqlalchemy.create_engine(\"duckdb:///data/example_duck.db\")\n"
   ]
  },
  {
   "cell_type": "markdown",
   "id": "170c65bd-6971-45fe-a719-46d4f7b67ddd",
   "metadata": {},
   "source": [
    "**2. Run a simple SQL query**"
   ]
  },
  {
   "cell_type": "code",
   "execution_count": null,
   "id": "f3c78d9d-a192-476d-a1c8-3a6262f940db",
   "metadata": {},
   "outputs": [],
   "source": [
    "query = \"\"\"\n",
    "SELECT * \n",
    "FROM Dragon;\n",
    "\"\"\"\n",
    "\n",
    "df = pd.read_sql(query, engine)\n",
    "df"
   ]
  },
  {
   "cell_type": "markdown",
   "id": "c6fd1c3c-ca0b-4211-a140-f8ca128ba793",
   "metadata": {},
   "source": [
    "### Approach \"3\" -- Duck DB Special"
   ]
  },
  {
   "cell_type": "markdown",
   "id": "1425235a-cf7d-4e64-826d-d924224b401a",
   "metadata": {},
   "source": [
    "Now that we are using DuckDB we can do something extra crazy:"
   ]
  },
  {
   "cell_type": "code",
   "execution_count": null,
   "id": "d9236ab8-ae87-4c26-b0f3-2634d3080233",
   "metadata": {},
   "outputs": [],
   "source": [
    "import seaborn as sns\n",
    "mpg = sns.load_dataset(\"mpg\")"
   ]
  },
  {
   "cell_type": "code",
   "execution_count": null,
   "id": "88a112e8-961e-46bb-9f35-a9ad5c1a6c52",
   "metadata": {},
   "outputs": [],
   "source": [
    "%%sql\n",
    "SELECT * FROM mpg"
   ]
  },
  {
   "cell_type": "markdown",
   "id": "03ee3aa7-621d-46ff-af9f-968b7b3ea4cb",
   "metadata": {},
   "source": [
    "That is right!! DuckDB can also see my dataframes in the python environment allowing me to do dataframe manipulation in SQL!"
   ]
  },
  {
   "cell_type": "markdown",
   "id": "1fe906ba-b8fb-47f4-b80d-f8eac121b735",
   "metadata": {},
   "source": [
    "<br><br>\n",
    "**Return to Lecture**\n",
    "\n",
    "---"
   ]
  },
  {
   "cell_type": "markdown",
   "id": "ce5ba9fe-3bba-4be6-8101-54ce57a7d041",
   "metadata": {},
   "source": [
    "## Working with the `sql` results as Python variables\n",
    "\n",
    "By default, executing a query with a magic command produces output but doesn't save it into any Python variable:"
   ]
  },
  {
   "cell_type": "code",
   "execution_count": null,
   "id": "5af3fbfc-484c-4981-90a6-d793040c17a1",
   "metadata": {},
   "outputs": [],
   "source": [
    "%%sql \n",
    "SELECT * FROM Dragon"
   ]
  },
  {
   "cell_type": "markdown",
   "id": "5861cf8d-828e-4dd8-a85f-caf4905ec95d",
   "metadata": {},
   "source": [
    "This can be inconvenient if you later want to do further processing of these data in Python."
   ]
  },
  {
   "cell_type": "markdown",
   "id": "72eadb81-d00f-4ae5-91e1-b401f7c00060",
   "metadata": {},
   "source": [
    "### Storing one-line `%sql` queries\n",
    "\n",
    "For simple one-line queries, you can use IPython's ability to store the result of a magic command like `%sql` as if it were any other Python statement, and save the output to a variable:"
   ]
  },
  {
   "cell_type": "code",
   "execution_count": null,
   "id": "ab49b102-b47b-4304-b131-169ddb5c8d9d",
   "metadata": {},
   "outputs": [],
   "source": [
    "dragon_table = %sql SELECT * FROM Dragon\n",
    "dragon_table"
   ]
  },
  {
   "cell_type": "markdown",
   "id": "01fadebc-7c50-494e-a364-48f5ab0afb82",
   "metadata": {},
   "source": [
    "As noted above, the result of the query is a Python variable of type `ResultSet`, more specifically:"
   ]
  },
  {
   "cell_type": "code",
   "execution_count": null,
   "id": "bb205d1e-3456-458b-ba1d-04166dd355f7",
   "metadata": {},
   "outputs": [],
   "source": [
    "type(dragon_table)"
   ]
  },
  {
   "cell_type": "markdown",
   "id": "e3db136e-3c3f-48fd-a75a-012c5d9b9609",
   "metadata": {},
   "source": [
    "You need to manually convert it to a Pandas DataFrame if you want to do pandas-things with its content:"
   ]
  },
  {
   "cell_type": "code",
   "execution_count": null,
   "id": "3c35735a-e30e-47a2-acfe-5486550a52bf",
   "metadata": {},
   "outputs": [],
   "source": [
    "dragon_df = dragon_table.DataFrame()\n",
    "dragon_df"
   ]
  },
  {
   "cell_type": "markdown",
   "id": "63e0c53b-4481-4727-b72d-2aa7f3b66184",
   "metadata": {},
   "source": [
    "You can configure `jupysql` to _automatically_ convert all outputs to Pandas DataFrames. This can be handy if you intend all your Python-side work to be done with Pandas, as it saves you from manually having to call `.DataFrame()` first on all outputs. On the other hand, you don't get access to the original SQL `ResultSet` object, which have a number of interesting properties and capabilities. You can learn more about those in the [jupysql documentation](https://jupysql.ploomber.io).\n",
    "\n",
    "For now, let's turn this on so you can see how this simplified, \"pandas all the way\" worfklow looks like:"
   ]
  },
  {
   "cell_type": "code",
   "execution_count": null,
   "id": "997ad531-c5e0-4b60-96b7-4d8c0d78890c",
   "metadata": {},
   "outputs": [],
   "source": [
    "%config SqlMagic.autopandas = True"
   ]
  },
  {
   "cell_type": "code",
   "execution_count": null,
   "id": "c4b32c92-97d1-4044-b8e3-7a0ccbded620",
   "metadata": {},
   "outputs": [],
   "source": [
    "dragon_df = %sql SELECT * FROM Dragon\n",
    "dragon_df"
   ]
  },
  {
   "cell_type": "code",
   "execution_count": null,
   "id": "18f834c2-8511-4c9a-8562-ddd6ed4a6ff4",
   "metadata": {},
   "outputs": [],
   "source": [
    "type(dragon_df)"
   ]
  },
  {
   "cell_type": "markdown",
   "id": "930ed96a-fdcd-492b-96b6-8cc596942fe7",
   "metadata": {},
   "source": [
    "### Storing multi-line `%%sql` queries"
   ]
  },
  {
   "cell_type": "markdown",
   "id": "3d2bd891-0ffe-43a7-913e-b6f2cea10c19",
   "metadata": {},
   "source": [
    "For a more complex query that won't fit in one line, such as for example:"
   ]
  },
  {
   "cell_type": "code",
   "execution_count": null,
   "id": "7f5f9312-e60b-4b56-a31a-54494b185271",
   "metadata": {},
   "outputs": [],
   "source": [
    "%%sql\n",
    "SELECT year, COUNT(*)\n",
    "FROM Dragon\n",
    "GROUP BY year;"
   ]
  },
  {
   "cell_type": "markdown",
   "id": "be733f9a-d903-46a7-96a3-ee427af6848f",
   "metadata": {},
   "source": [
    "You can use the `variable <<` syntax in jupysql to store its output (this will honor your `autopandas` state and store either a `sql.run.ResultState` or a Pandas `DataFrame`):"
   ]
  },
  {
   "cell_type": "code",
   "execution_count": null,
   "id": "a063ab8d-5e97-4bee-b2a1-d1120bd5a947",
   "metadata": {},
   "outputs": [],
   "source": [
    "%%sql dragon_years <<\n",
    "SELECT year, COUNT(*)\n",
    "FROM Dragon\n",
    "GROUP BY year;"
   ]
  },
  {
   "cell_type": "code",
   "execution_count": null,
   "id": "983c5be0-f248-4da4-b934-79491a312ffe",
   "metadata": {},
   "outputs": [],
   "source": [
    "dragon_years"
   ]
  },
  {
   "cell_type": "markdown",
   "id": "fc681cfe-8de9-4af0-87dd-46942ea9f1c8",
   "metadata": {},
   "source": [
    "\n",
    "---\n",
    "\n",
    "## Tables and Schema\n",
    "\n",
    "A **database** contains a collection of SQL **tables**. Let's connect to our \"toy\" database `example_duck.db` and explore the tables it stores."
   ]
  },
  {
   "cell_type": "code",
   "execution_count": null,
   "id": "f32da741",
   "metadata": {
    "tags": []
   },
   "outputs": [],
   "source": [
    "%%sql\n",
    "SELECT * FROM information_schema.tables"
   ]
  },
  {
   "cell_type": "code",
   "execution_count": null,
   "id": "cedc4bd6-c8fd-4bcb-bb1d-a5781cebb94a",
   "metadata": {},
   "outputs": [],
   "source": [
    "%%sql\n",
    "SELECT * FROM information_schema.columns"
   ]
  },
  {
   "cell_type": "markdown",
   "id": "8cadf0c7-11b0-4c6d-93a5-5aa4c2142993",
   "metadata": {},
   "source": [
    "### Getting Schema information with SQLAlchemy \n",
    "How you list the tables varies across database platforms.  For example, the statement:\n",
    "\n",
    "```sql\n",
    "SELECT * FROM information_schema.columns\n",
    "```\n",
    "\n",
    "only works on Postgres compatible databases.\n",
    "\n",
    "For example, if we wanted to get the schema for tables in sqlite we would need the following:"
   ]
  },
  {
   "cell_type": "code",
   "execution_count": null,
   "id": "d8153b0f-4b1b-4ba8-81f1-e409f313abf6",
   "metadata": {},
   "outputs": [],
   "source": [
    "pd.read_sql(\"SELECT * FROM sqlite_schema\", \"sqlite:///data/basic_examples.db\")"
   ]
  },
  {
   "cell_type": "markdown",
   "id": "5af2d8be-39ed-444b-aba1-f8c28a6278e3",
   "metadata": {},
   "source": [
    "Fortunately, SQLAlchemy has some generic tools that will be helpful regardless of what database platform you use."
   ]
  },
  {
   "cell_type": "code",
   "execution_count": null,
   "id": "1d43214f-679e-4d47-b188-55509e81b9f4",
   "metadata": {},
   "outputs": [],
   "source": [
    "from sqlalchemy import inspect\n",
    "inspector = inspect(engine)\n",
    "inspector.get_table_names()"
   ]
  },
  {
   "cell_type": "code",
   "execution_count": null,
   "id": "2cdbec81-350f-4c09-add4-8ed4256e7796",
   "metadata": {},
   "outputs": [],
   "source": [
    "inspector.get_columns('scene')"
   ]
  },
  {
   "cell_type": "markdown",
   "id": "cf0c19c9-7188-49da-b678-75945fbf79b9",
   "metadata": {},
   "source": [
    "Same with SQLite"
   ]
  },
  {
   "cell_type": "code",
   "execution_count": null,
   "id": "bb6d2cb4-e4fa-4890-aab1-7d44c2fc7c95",
   "metadata": {},
   "outputs": [],
   "source": [
    "sqlite_engine = sqlalchemy.create_engine(\"sqlite:///data/basic_examples.db\")\n",
    "inspect(sqlite_engine).get_columns(\"scene\")\n"
   ]
  },
  {
   "cell_type": "markdown",
   "id": "4748aa37-a980-40fb-98ab-d001b6a3ed45",
   "metadata": {},
   "source": [
    "Example of table creation with interesting constraints"
   ]
  },
  {
   "cell_type": "markdown",
   "id": "202c6a6f-69aa-4b14-b203-8e94ce2d8470",
   "metadata": {},
   "source": [
    "More advanced example of creating tables with primary and foreign key constraints:"
   ]
  },
  {
   "cell_type": "code",
   "execution_count": null,
   "id": "601f6e5f-b625-4d71-b703-9877d99ca44e",
   "metadata": {},
   "outputs": [],
   "source": [
    "%%sql\n",
    "\n",
    "DROP TABLE IF EXISTS grade;\n",
    "DROP TABLE IF EXISTS assignment;\n",
    "DROP TABLE IF EXISTS student;\n",
    "\n",
    "\n",
    "CREATE TABLE student (\n",
    "    student_id INTEGER PRIMARY KEY,\n",
    "    name VARCHAR,\n",
    "    email VARCHAR\n",
    ");\n",
    "\n",
    "CREATE TABLE assignment (\n",
    "    assignment_id INTEGER PRIMARY KEY,\n",
    "    description VARCHAR\n",
    ");\n",
    "\n",
    "CREATE TABLE grade (\n",
    "    student_id INTEGER,\n",
    "    assignment_id INTEGER,\n",
    "    score REAL CHECK (score > 0 AND score <= 100),\n",
    "    FOREIGN KEY (student_id) REFERENCES student(student_id),\n",
    "    FOREIGN KEY (assignment_id) REFERENCES assignment(assignment_id)\n",
    ");\n",
    "\n",
    "INSERT INTO student VALUES\n",
    "(123, 'JoeyG', 'jegonzal@berkeley.edu'),\n",
    "(456, 'NargesN', 'norouzi@berkeley.edu');\n",
    "\n",
    "INSERT INTO assignment VALUES\n",
    "(1, 'easy assignment'),\n",
    "(2, 'hard assignment');\n",
    "\n"
   ]
  },
  {
   "cell_type": "code",
   "execution_count": null,
   "id": "5ecb5b9a-3a69-462e-839a-7378a7632473",
   "metadata": {},
   "outputs": [],
   "source": [
    "%%sql \n",
    "INSERT INTO grade VALUES\n",
    "(123, 1, 80),\n",
    "(123, 2, 42),\n",
    "(456, 2, 100);\n",
    "\n"
   ]
  },
  {
   "cell_type": "code",
   "execution_count": null,
   "id": "19ebe953-1167-40b4-9b5e-38dc069f8514",
   "metadata": {},
   "outputs": [],
   "source": [
    "%sql SELECT * FROM grade;"
   ]
  },
  {
   "cell_type": "markdown",
   "id": "74946c12-47af-42a2-9de5-b20b41eb0160",
   "metadata": {},
   "source": [
    "<br/><br/><br/>\n",
    "\n",
    "---\n",
    "\n",
    "## Basic Queries\n",
    "\n",
    "Every SQL query *must* contain a `SELECT` and `FROM` clause.\n",
    "\n",
    "* `SELECT`: specify the column(s) to return in the output\n",
    "* `FROM`: specify the database table from which to extract data"
   ]
  },
  {
   "cell_type": "code",
   "execution_count": null,
   "id": "8b10641e",
   "metadata": {},
   "outputs": [],
   "source": [
    "%%sql\n",
    "SELECT * FROM Dragon;"
   ]
  },
  {
   "cell_type": "code",
   "execution_count": null,
   "id": "0db25a51",
   "metadata": {},
   "outputs": [],
   "source": [
    "%%sql\n",
    "SELECT cute, year FROM Dragon;"
   ]
  },
  {
   "cell_type": "markdown",
   "id": "9995de9b-c827-48b6-84bc-3b169cc5f549",
   "metadata": {},
   "source": [
    "**Aliasing** with `AS`"
   ]
  },
  {
   "cell_type": "code",
   "execution_count": null,
   "id": "75596c85-eb17-4d19-b065-984524dec1d8",
   "metadata": {},
   "outputs": [],
   "source": [
    "%%sql\n",
    "SELECT cute AS cuteness,\n",
    "       year AS \"birth year\"\n",
    "FROM Dragon;"
   ]
  },
  {
   "cell_type": "markdown",
   "id": "8aba7a6c-2e1b-496e-944b-a752023dbb8a",
   "metadata": {},
   "source": [
    "**Uniqueness** with `DISTINCT`"
   ]
  },
  {
   "cell_type": "code",
   "execution_count": null,
   "id": "734189f7-de89-42ca-84e3-306cb564f34e",
   "metadata": {},
   "outputs": [],
   "source": [
    "%%sql\n",
    "SELECT DISTINCT year\n",
    "FROM Dragon;"
   ]
  },
  {
   "cell_type": "markdown",
   "id": "fca8c73c-ca03-4f65-9dfe-72e2368bd795",
   "metadata": {},
   "source": [
    "**Filtering** with `WHERE`"
   ]
  },
  {
   "cell_type": "code",
   "execution_count": null,
   "id": "2a28705b-7d0d-4252-b544-346194d2eea0",
   "metadata": {},
   "outputs": [],
   "source": [
    "%%sql\n",
    "SELECT name, year\n",
    "FROM Dragon\n",
    "WHERE cute > 0;"
   ]
  },
  {
   "cell_type": "code",
   "execution_count": null,
   "id": "b8a3e2ce-9be3-41fa-8fcb-02b63095d269",
   "metadata": {},
   "outputs": [],
   "source": [
    "%%sql\n",
    "SELECT name, cute, year\n",
    "FROM Dragon\n",
    "WHERE cute > 0 OR year > 2013;"
   ]
  },
  {
   "cell_type": "code",
   "execution_count": null,
   "id": "9cbbfe9a-7098-48c4-b015-c81b6ff5acb8",
   "metadata": {},
   "outputs": [],
   "source": [
    "%%sql\n",
    "SELECT name, year\n",
    "FROM Dragon \n",
    "WHERE name IN ('puff', 'hiccup');"
   ]
  },
  {
   "cell_type": "code",
   "execution_count": null,
   "id": "03dac425-d2e2-4699-99b9-5ca9bbbc1ab0",
   "metadata": {},
   "outputs": [],
   "source": [
    "%%sql\n",
    "SELECT name, cute\n",
    "FROM Dragon\n",
    "WHERE cute IS NOT NULL;"
   ]
  },
  {
   "cell_type": "markdown",
   "id": "fc92df7a-14b4-4379-9c68-b1326c2a6b7d",
   "metadata": {},
   "source": [
    "**Ordering** data using `ORDER BY`"
   ]
  },
  {
   "cell_type": "code",
   "execution_count": null,
   "id": "e92fcdcb-7b45-486c-a1f7-8d6c7e25413c",
   "metadata": {},
   "outputs": [],
   "source": [
    "%%sql\n",
    "SELECT *\n",
    "FROM Dragon\n",
    "ORDER BY cute DESC;"
   ]
  },
  {
   "cell_type": "markdown",
   "id": "7972bc77-a058-477e-a945-828888c48147",
   "metadata": {},
   "source": [
    "**Restricting** output with `LIMIT` and `OFFSET`"
   ]
  },
  {
   "cell_type": "code",
   "execution_count": null,
   "id": "afc34d86-ab22-4b0b-aad2-959247fe2494",
   "metadata": {},
   "outputs": [],
   "source": [
    "%%sql\n",
    "SELECT *\n",
    "FROM Dragon\n",
    "LIMIT 2;"
   ]
  },
  {
   "cell_type": "code",
   "execution_count": null,
   "id": "80802839-9169-4768-b2b1-49368ded674b",
   "metadata": {},
   "outputs": [],
   "source": [
    "%%sql\n",
    "SELECT *\n",
    "FROM Dragon\n",
    "LIMIT 2\n",
    "OFFSET 1;"
   ]
  },
  {
   "cell_type": "markdown",
   "id": "249ad449-99d0-422a-8058-c92aa66ad284",
   "metadata": {},
   "source": [
    "What if we wanted a random sample:"
   ]
  },
  {
   "cell_type": "code",
   "execution_count": null,
   "id": "1dab307f-2461-4e84-9605-8d9839e979c1",
   "metadata": {},
   "outputs": [],
   "source": [
    "%%sql\n",
    "SELECT *\n",
    "FROM Dragon\n",
    "ORDER BY RANDOM() \n",
    "LIMIT 2"
   ]
  },
  {
   "cell_type": "code",
   "execution_count": null,
   "id": "a3bc8fc2-956c-4c7b-847d-db8778ae884a",
   "metadata": {},
   "outputs": [],
   "source": [
    "%%sql\n",
    "SELECT * \n",
    "FROM Dragon USING SAMPLE reservoir(2 ROWS) REPEATABLE (100);"
   ]
  },
  {
   "cell_type": "markdown",
   "id": "62f0b944-eead-44e7-8c3c-35a2326cbe01",
   "metadata": {},
   "source": [
    "## Grouping Data with `GROUP BY`"
   ]
  },
  {
   "cell_type": "code",
   "execution_count": null,
   "id": "660cd78d-7639-4875-aa3e-7a840d0d37a4",
   "metadata": {},
   "outputs": [],
   "source": [
    "%%sql\n",
    "SELECT *\n",
    "FROM Dish;"
   ]
  },
  {
   "cell_type": "markdown",
   "id": "bb8b961a-57d6-4488-aa2a-e14e82e30f35",
   "metadata": {},
   "source": [
    "A small note: the fact that `type` is highlighted in green below is a consequence of Jupyter assuming that we are writing Python code (where `type` is a built-in keyword). `type` does *not* have a special meaning in SQL, so the color below does not indicate any special functionality. When we run the cell, Jupyter realizes it should recognize the code as SQL. "
   ]
  },
  {
   "cell_type": "code",
   "execution_count": null,
   "id": "b8fdab3a-0f93-4e39-b344-3a5068ae228b",
   "metadata": {},
   "outputs": [],
   "source": [
    "%%sql\n",
    "SELECT type\n",
    "FROM Dish;"
   ]
  },
  {
   "cell_type": "code",
   "execution_count": null,
   "id": "6369bcf3-c7ae-46e3-8b63-c6adfd6e9611",
   "metadata": {},
   "outputs": [],
   "source": [
    "%%sql\n",
    "SELECT type\n",
    "FROM Dish\n",
    "GROUP BY type;"
   ]
  },
  {
   "cell_type": "code",
   "execution_count": null,
   "id": "50792e27-c504-43a3-9e65-a1f2aa891828",
   "metadata": {},
   "outputs": [],
   "source": [
    "%%sql\n",
    "SELECT type, SUM(cost)\n",
    "FROM Dish\n",
    "GROUP BY type;"
   ]
  },
  {
   "cell_type": "code",
   "execution_count": null,
   "id": "cd7495a5-0008-49ba-abb7-4e9da953f5a6",
   "metadata": {},
   "outputs": [],
   "source": [
    "%%sql\n",
    "SELECT type, \n",
    "       SUM(cost), \n",
    "       MIN(cost),\n",
    "       MAX(name)\n",
    "FROM Dish\n",
    "GROUP BY type;"
   ]
  },
  {
   "cell_type": "code",
   "execution_count": null,
   "id": "342216ee-2ee0-477f-978c-f5e817ab9dd8",
   "metadata": {},
   "outputs": [],
   "source": [
    "%%sql\n",
    "SELECT year, COUNT(cute)\n",
    "FROM Dragon\n",
    "GROUP BY year;"
   ]
  },
  {
   "cell_type": "code",
   "execution_count": null,
   "id": "17fbbb43-1b95-4756-9446-ae8cfaa8e7ad",
   "metadata": {},
   "outputs": [],
   "source": [
    "%%sql\n",
    "SELECT year, COUNT(*)\n",
    "FROM Dragon\n",
    "GROUP BY year;"
   ]
  },
  {
   "cell_type": "markdown",
   "id": "032a3db8-9421-428f-b938-f58cf1b58cbe",
   "metadata": {},
   "source": [
    "### Loading More Data"
   ]
  },
  {
   "cell_type": "markdown",
   "id": "8b691a42-bd89-4514-a997-c8b9f9805e2e",
   "metadata": {},
   "source": [
    "Add support for reading sqlite tables using duckdb"
   ]
  },
  {
   "cell_type": "code",
   "execution_count": null,
   "id": "7ac801e5-de8c-4695-b5ea-6ab920a058cf",
   "metadata": {},
   "outputs": [],
   "source": [
    "import duckdb\n",
    "conn = duckdb.connect()\n",
    "conn.query(\"INSTALL sqlite\")\n",
    "%config SqlMagic.displaylimit = 100"
   ]
  },
  {
   "cell_type": "markdown",
   "id": "4b80020e-d749-4b72-888c-9fde61b564ab",
   "metadata": {},
   "source": [
    "Loading the SQLite database file using duckdb."
   ]
  },
  {
   "cell_type": "code",
   "execution_count": null,
   "id": "a99602d1-9d3f-40bb-831f-ba8ed2df9bde",
   "metadata": {},
   "outputs": [],
   "source": [
    "%sql duckdb:///data/basic_examples.db --alias basic"
   ]
  },
  {
   "cell_type": "code",
   "execution_count": null,
   "id": "a2d7be23-8623-40f7-8628-1f8f11aaf016",
   "metadata": {},
   "outputs": [],
   "source": [
    "pd.read_sql(\"SELECT * FROM sqlite_schema\", \"duckdb:///data/basic_examples.db\")"
   ]
  },
  {
   "cell_type": "markdown",
   "id": "97b01611-5ee3-40d9-b495-91e9fb24e0fc",
   "metadata": {},
   "source": [
    "Get the large IMDB database file "
   ]
  },
  {
   "cell_type": "code",
   "execution_count": null,
   "id": "7c291e42-2589-4d4c-8052-1c2174c57c3f",
   "metadata": {},
   "outputs": [],
   "source": [
    "import os\n",
    "if os.path.exists(\"/home/jovyan/shared/sql/imdb_duck.db\"):\n",
    "    imdbpath = \"duckdb:////home/jovyan/shared/sql/imdb_duck.db\"\n",
    "elif os.path.exists(\"data/imdb_duck.db\"):\n",
    "    imdbpath =  \"duckdb:///data/imdb_duck.db\"\n",
    "else:\n",
    "    import gdown\n",
    "    url = 'https://drive.google.com/uc?id=10tKOHGLt9QoOgq5Ii-FhxpB9lDSQgl1O'\n",
    "    output_path = 'data/imdb_duck.db'\n",
    "    gdown.download(url, output_path, quiet=False)\n",
    "    imdbpath = \"duckdb:///data/imdb_duck.db\"\n",
    "print(imdbpath)"
   ]
  },
  {
   "cell_type": "code",
   "execution_count": null,
   "id": "685c008e-5dfb-4d4e-8219-64988710475a",
   "metadata": {},
   "outputs": [],
   "source": [
    "from sqlalchemy import create_engine\n",
    "imdb_engine = create_engine(imdbpath, connect_args={'read_only': True})\n",
    "%sql imdb_engine --alias imdb"
   ]
  },
  {
   "cell_type": "markdown",
   "id": "5936264d-0083-4804-a15a-24966abf7071",
   "metadata": {},
   "source": [
    "### Filtering Groups Using `HAVING`"
   ]
  },
  {
   "cell_type": "code",
   "execution_count": null,
   "id": "cb0301f2-8aae-4170-96a1-1977796fd452",
   "metadata": {},
   "outputs": [],
   "source": [
    "%%sql basic\n",
    "    \n",
    "SELECT *\n",
    "FROM Dish;"
   ]
  },
  {
   "cell_type": "code",
   "execution_count": null,
   "id": "52fb113d-2de5-4bd0-923c-889febbb3934",
   "metadata": {},
   "outputs": [],
   "source": [
    "%%sql\n",
    "    \n",
    "SELECT type, COUNT(*)\n",
    "FROM Dish\n",
    "GROUP BY type\n",
    "HAVING MAX(cost) < 8;"
   ]
  },
  {
   "cell_type": "code",
   "execution_count": null,
   "id": "2000ac8f-27a1-47e7-9a58-4b610c03908c",
   "metadata": {},
   "outputs": [],
   "source": [
    "%%sql basic\n",
    "    \n",
    "SELECT type, COUNT(*)\n",
    "FROM Dish\n",
    "WHERE cost < 8\n",
    "GROUP BY type"
   ]
  },
  {
   "cell_type": "code",
   "execution_count": null,
   "id": "dbbecf0d-89c6-49ce-884f-e1c5790e62e5",
   "metadata": {},
   "outputs": [],
   "source": [
    "%%sql basic\n",
    "SELECT type, MAX(name)\n",
    "FROM DishDietary\n",
    "WHERE notes == 'gf'\n",
    "GROUP BY type\n",
    "HAVING MAX(cost) <= 7;\n"
   ]
  },
  {
   "cell_type": "markdown",
   "id": "510b5cfa-ac14-4c4b-9789-40fb9139d0fc",
   "metadata": {},
   "source": [
    "### EDA in SQL\n",
    "\n",
    "Our typical workflow when working with \"big data\" is:\n",
    "* Use SQL to query data from a database\n",
    "* Use Python (with `pandas`) to analyze this data in detail\n",
    "\n",
    "We can, however, still perform simple data cleaning and re-structuring using SQL directly. To do so, we'll consider the `Title` table from the IMDB dataset."
   ]
  },
  {
   "cell_type": "code",
   "execution_count": null,
   "id": "b508b1da-34f6-45c2-8b92-03c2c828dc8c",
   "metadata": {},
   "outputs": [],
   "source": [
    "%%sql imdb\n",
    "SELECT setseed(0.42); -- Setting the random number seed\n",
    "\n",
    "\n",
    "SELECT *\n",
    "FROM Title\n",
    "ORDER BY RANDOM()\n",
    "LIMIT 10;"
   ]
  },
  {
   "cell_type": "markdown",
   "id": "3d891a43-64eb-405e-b375-c96cfc3abeb0",
   "metadata": {},
   "source": [
    "#### Matching Text Using `LIKE`"
   ]
  },
  {
   "cell_type": "code",
   "execution_count": null,
   "id": "bb7802c5-4455-4952-857c-a55a9fc565bd",
   "metadata": {},
   "outputs": [],
   "source": [
    "%%sql imdb \n",
    "    \n",
    "SELECT titleType, primaryTitle\n",
    "FROM Title\n",
    "WHERE primaryTitle LIKE '%Star Wars%'"
   ]
  },
  {
   "cell_type": "code",
   "execution_count": null,
   "id": "7b5ad6fe-660a-48f4-b3a5-7ca774fe8eb7",
   "metadata": {},
   "outputs": [],
   "source": [
    "%%sql imdb \n",
    "    \n",
    "SELECT titleType, primaryTitle\n",
    "FROM Title\n",
    "WHERE primaryTitle SIMILAR TO '.*Star Wars.*'"
   ]
  },
  {
   "cell_type": "code",
   "execution_count": null,
   "id": "066c9048-9847-42c3-809f-c43e3006ae49",
   "metadata": {},
   "outputs": [],
   "source": [
    "%%sql imdb\n",
    "    \n",
    "SELECT titleType, primaryTitle\n",
    "FROM Title\n",
    "WHERE primaryTitle LIKE 'Harry Potter and the Deathly Hallows: Part _'"
   ]
  },
  {
   "cell_type": "markdown",
   "id": "db1883d2-6641-401f-b2e1-8328f93f8d7e",
   "metadata": {
    "tags": []
   },
   "source": [
    "#### Converting Data Types Using `CAST`"
   ]
  },
  {
   "cell_type": "code",
   "execution_count": null,
   "id": "a19482cd-7c26-42b1-bc72-26f8fb45fa83",
   "metadata": {},
   "outputs": [],
   "source": [
    "%%sql imdb\n",
    "    \n",
    "SELECT primaryTitle, CAST(runtimeMinutes AS REAL)\n",
    "FROM Title\n",
    "LIMIT 10;"
   ]
  },
  {
   "cell_type": "markdown",
   "id": "616857fb-cf12-4536-8ab9-387aacda2282",
   "metadata": {},
   "source": [
    "### Applying Conditions With `CASE`\n",
    "\n",
    "Here, we return a random order so we can see the various movie ages (otherwise, the top few entries happen to all be old movies)."
   ]
  },
  {
   "cell_type": "code",
   "execution_count": null,
   "id": "4557225b-dc1d-47e4-9917-aeed90f8eeb3",
   "metadata": {},
   "outputs": [],
   "source": [
    "%%sql imdb\n",
    "\n",
    "SELECT setseed(0.42); -- Setting the random number seed\n",
    "    \n",
    "SELECT titleType, startYear,\n",
    "CASE WHEN startYear < '1950' THEN 'old'\n",
    "     WHEN startYear < '2000' THEN 'mid-aged'\n",
    "     ELSE 'new'\n",
    "     END AS movie_age\n",
    "FROM Title\n",
    "ORDER BY RANDOM()\n",
    "LIMIT 10;"
   ]
  },
  {
   "cell_type": "markdown",
   "id": "d852720a-55a0-4fcd-baa9-d75fe1c1e7be",
   "metadata": {},
   "source": [
    "<br><br><br>\n",
    "\n",
    "---\n",
    "\n",
    "\n",
    "## Joining Tables\n",
    "\n",
    "We combine data from multiple tables by performing a **join**. We will explore joins using the cats database, which includes two tables: `s` and `t`."
   ]
  },
  {
   "cell_type": "code",
   "execution_count": null,
   "id": "98287d74-5859-4b82-a3e3-84dcb77295c8",
   "metadata": {},
   "outputs": [],
   "source": [
    "%%sql basic\n",
    "SELECT * FROM s;"
   ]
  },
  {
   "cell_type": "code",
   "execution_count": null,
   "id": "e099d51b-faae-448d-80b7-4a7765353115",
   "metadata": {},
   "outputs": [],
   "source": [
    "%%sql basic\n",
    "SELECT * FROM t;"
   ]
  },
  {
   "cell_type": "markdown",
   "id": "4a440e64-de61-4a1b-954a-eb4853813961",
   "metadata": {},
   "source": [
    "#### Inner Join"
   ]
  },
  {
   "cell_type": "code",
   "execution_count": null,
   "id": "7698d099-eb26-41a0-86c9-e6a05be9a325",
   "metadata": {},
   "outputs": [],
   "source": [
    "%%sql basic\n",
    "SELECT s.id, name, breed\n",
    "FROM s INNER JOIN t ON s.id = t.id;"
   ]
  },
  {
   "cell_type": "markdown",
   "id": "c5f63514-aa21-4718-83aa-77a9bebc8fae",
   "metadata": {},
   "source": [
    "By default, `JOIN`ing without specifying a join type will default to an inner join."
   ]
  },
  {
   "cell_type": "code",
   "execution_count": null,
   "id": "30fcd4f4-f41f-4a4d-a1ff-531ed1560ae9",
   "metadata": {},
   "outputs": [],
   "source": [
    "%%sql basic\n",
    "SELECT s.id, name, breed\n",
    "FROM s JOIN t ON s.id = t.id;"
   ]
  },
  {
   "cell_type": "markdown",
   "id": "ef1c39f0-2d47-4455-be18-d1087fb9f698",
   "metadata": {},
   "source": [
    "### Cross Join"
   ]
  },
  {
   "cell_type": "code",
   "execution_count": null,
   "id": "3abd6817-1c9f-41f6-9dcb-32e5c8a377b9",
   "metadata": {},
   "outputs": [],
   "source": [
    "%%sql basic\n",
    "SELECT *\n",
    "FROM s CROSS JOIN t;"
   ]
  },
  {
   "cell_type": "markdown",
   "id": "1572b47f-e67f-4a19-89fa-d8545b31ddb9",
   "metadata": {},
   "source": [
    "Equivalently, a cross join can be performed using the following syntax:"
   ]
  },
  {
   "cell_type": "code",
   "execution_count": null,
   "id": "78fd466f-2474-46f4-9ce4-b4ac36b9c506",
   "metadata": {},
   "outputs": [],
   "source": [
    "%%sql basic\n",
    "SELECT *\n",
    "FROM s, t"
   ]
  },
  {
   "cell_type": "markdown",
   "id": "850918ab-46d4-462b-b7db-a96fdb7bb531",
   "metadata": {},
   "source": [
    "Conceptually, an inner join is equivalent to a cross join where irrelevant rows are removed."
   ]
  },
  {
   "cell_type": "code",
   "execution_count": null,
   "id": "c3825d52-ca36-4901-a22b-6019fc7de89e",
   "metadata": {},
   "outputs": [],
   "source": [
    "%%sql basic\n",
    "    \n",
    "SELECT *\n",
    "FROM s CROSS JOIN t\n",
    "WHERE s.id = t.id;"
   ]
  },
  {
   "cell_type": "markdown",
   "id": "0b09b27d-db45-4cfa-bcb1-97ae06b7f47d",
   "metadata": {},
   "source": [
    "#### Left Outer Join"
   ]
  },
  {
   "cell_type": "code",
   "execution_count": null,
   "id": "030ebcb6-e25a-4c30-b1d1-18558a29ddcc",
   "metadata": {},
   "outputs": [],
   "source": [
    "%%sql basic\n",
    "    \n",
    "SELECT *\n",
    "FROM s LEFT JOIN t ON s.id = t.id;"
   ]
  },
  {
   "cell_type": "markdown",
   "id": "a0fe6e64-252f-43e9-81ec-6488e813a431",
   "metadata": {},
   "source": [
    "#### Right Outer Join"
   ]
  },
  {
   "cell_type": "code",
   "execution_count": null,
   "id": "d6599ed6-dbb0-4812-9536-d7f6f84bcdfa",
   "metadata": {},
   "outputs": [],
   "source": [
    "%%sql basic\n",
    "    \n",
    "SELECT *\n",
    "FROM s RIGHT JOIN t ON s.id = t.id;"
   ]
  },
  {
   "cell_type": "markdown",
   "id": "6420dfe6-2223-4a9c-a861-0f70d3da7d7b",
   "metadata": {
    "tags": []
   },
   "source": [
    "#### Full Outer Join"
   ]
  },
  {
   "cell_type": "code",
   "execution_count": null,
   "id": "8a97908b-e46a-4b72-9af3-ca01a99d02c7",
   "metadata": {},
   "outputs": [],
   "source": [
    "%%sql basic\n",
    "    \n",
    "SELECT *\n",
    "FROM s FULL  JOIN t ON s.id = t.id;"
   ]
  },
  {
   "cell_type": "markdown",
   "id": "3a0f30a5-b9b8-4efa-a3db-c58cddc5d25e",
   "metadata": {},
   "source": [
    "#### Aliasing in Joins\n",
    "\n",
    "Let's return to the IMDB dataset. Now, we'll consider two tables: `Title` and `Rating`."
   ]
  },
  {
   "cell_type": "markdown",
   "id": "170eb80a-a9ba-44e2-8a94-2afb20d4d7c5",
   "metadata": {},
   "source": [
    "When working with tables that have long names, we often create an **alias** using the `AS` keyword (much like we did with columns in the previous lecture). This makes it easier to reference these tables when performing a join."
   ]
  },
  {
   "cell_type": "code",
   "execution_count": null,
   "id": "6adf2915-69f8-4d13-a502-bea73c3be368",
   "metadata": {},
   "outputs": [],
   "source": [
    "%%sql imdb\n",
    "    \n",
    "SELECT primaryTitle, averageRating, genres, \n",
    "FROM Title AS T INNER JOIN Rating AS R\n",
    "    ON T.tconst = R.tconst\n",
    "WHERE numVotes > 100 \n",
    "ORDER BY averageRating DESC\n",
    "LIMIT 10;"
   ]
  },
  {
   "cell_type": "markdown",
   "id": "54591f3d-b7a1-4db9-82e3-d1ae52fcb792",
   "metadata": {},
   "source": [
    "The `AS` keyword is optional – omitting it will still create an alias. We typically include `AS` to make our queries more readable."
   ]
  },
  {
   "cell_type": "code",
   "execution_count": null,
   "id": "fec798c6-49b0-41d0-b53d-8c62011c34db",
   "metadata": {},
   "outputs": [],
   "source": [
    "%%sql imdb \n",
    "    \n",
    "SELECT primaryTitle, averageRating\n",
    "FROM Title T INNER JOIN Rating R\n",
    "    ON T.tconst = R.tconst\n",
    "WHERE numVotes > 100 \n",
    "ORDER BY averageRating DESC\n",
    "LIMIT 10;"
   ]
  },
  {
   "cell_type": "markdown",
   "id": "73eea8e6-47ad-4107-a20b-e780cdfb8842",
   "metadata": {},
   "source": [
    "Referencing columns using the full or aliased table name is important to avoid ambiguity. Suppose the tables we are trying to join both include a column with the same name, like the `tconst` columns present in both the `Title` and `Rating` tables of the IMDB database. If we do not specify which table's column we wish to reference, SQL will not be able to process our query.\n",
    "\n",
    "In the cell below, it is unclear if we are referring to the `tconst` column from the `Title` table or the `tconst` column from the `Rating` table. SQL errors.\n",
    "\n",
    "```sql\n",
    "SELECT primaryTitle, averageRating\n",
    "FROM Title AS T INNER JOIN Rating AS R\n",
    "ON tconst = tconst;\n",
    "```"
   ]
  },
  {
   "cell_type": "markdown",
   "id": "d7f7f6b7-b7e5-4bbf-b0d4-fb9bbae32356",
   "metadata": {},
   "source": [
    "## IMDB Case Study\n",
    "\n",
    "Let's perform our first data science task in SQL – we'll explore the IMDB dataset in further detail.\n",
    "\n",
    "First, let's understand what tables are present in the database."
   ]
  },
  {
   "cell_type": "code",
   "execution_count": null,
   "id": "d1a169c6-e4df-4ff2-8fe0-3b364e279d38",
   "metadata": {},
   "outputs": [],
   "source": [
    "%%sql imdb\n",
    "\n",
    "SELECT tbl_name, sql FROM sqlite_master WHERE type='table'"
   ]
  },
  {
   "cell_type": "markdown",
   "id": "6f2bff4b-5024-40cc-8ea9-d31b63b7c502",
   "metadata": {},
   "source": [
    "Let's take a closer look at the `Title` table. Below, we preview a few rows of interest."
   ]
  },
  {
   "cell_type": "code",
   "execution_count": null,
   "id": "7286b4d7-4711-4b02-897e-fa5c44bd04aa",
   "metadata": {},
   "outputs": [],
   "source": [
    "%%sql imdb \n",
    "    \n",
    "SELECT *\n",
    "FROM Title\n",
    "WHERE primaryTitle IN ('Ginny & Georgia', 'What If...?', 'Succession', 'Veep', 'Tenet')\n",
    "LIMIT 50;"
   ]
  },
  {
   "cell_type": "markdown",
   "id": "276814ea-e3f8-4e2f-952a-b49d7bc5dc87",
   "metadata": {},
   "source": [
    "There are a few issues with how this data is stored. Can you spot them?\n",
    "\n",
    "* We see some rows with **missing** `runtimeMinutes`. This suggests malformed data. We could drop these rows in `pandas` using `[]` or `.dropna()`.\n",
    "\n",
    "Instead, let's see how we can can do these fixes in SQL. "
   ]
  },
  {
   "cell_type": "code",
   "execution_count": null,
   "id": "d74187af-1782-47ae-993e-ab5320de0a46",
   "metadata": {},
   "outputs": [],
   "source": [
    "%%sql imdb \n",
    "    \n",
    "SELECT \n",
    "    tconst AS id,\n",
    "    primaryTitle AS title, \n",
    "    titleType,\n",
    "    runtimeMinutes,\n",
    "    startYear\n",
    "FROM Title\n",
    "WHERE \n",
    "    runtimeMinutes > 0 AND runtimeMinutes < 300 -- get rid of outliers and missing values --\n",
    "    AND startYear > 0     -- get rid of missing values --\n",
    "LIMIT 10"
   ]
  },
  {
   "cell_type": "markdown",
   "id": "be0ef1d1-b67b-4692-9dba-e215c8cfefa3",
   "metadata": {},
   "source": [
    "Perhaps we're interested in only **top rated action movies**. We can refine our query results futher."
   ]
  },
  {
   "cell_type": "code",
   "execution_count": null,
   "id": "a7023ff8-d66b-4483-b312-0b53a16a6a9e",
   "metadata": {},
   "outputs": [],
   "source": [
    "%%sql imdb\n",
    "    \n",
    "SELECT \n",
    "    T.tconst AS id,\n",
    "    primaryTitle AS title, \n",
    "    titleType,\n",
    "    runtimeMinutes,\n",
    "    startYear,\n",
    "    genres,\n",
    "    averageRating, \n",
    "    numVotes\n",
    "FROM Title T, Rating R\n",
    "WHERE \n",
    "    T.tconst = R.tconst \n",
    "    AND runtimeMinutes > 0 AND runtimeMinutes < 300 -- get rid of outliers and missing values --\n",
    "    AND startYear > 0     -- get rid of missing values --\n",
    "    AND titleType = 'movie' -- get movies\n",
    "    AND numVotes >= 1000\n",
    "    AND genres LIKE '%Action%'\n",
    "ORDER BY averageRating DESC\n",
    "LIMIT 10"
   ]
  },
  {
   "cell_type": "markdown",
   "id": "a2693236-c8f4-4f51-9beb-eabde257ed16",
   "metadata": {},
   "source": [
    "### Using CTEs to do some complex analysis  \n",
    "Here I will use a common table expression (CTE) to construct a table that I use as an input in another query.\n",
    "\n",
    "This is done with the syntax:\n",
    "\n",
    "```sql\n",
    "WITH table_name as ( \n",
    "    SELECT ...\n",
    ")\n",
    "SELECT ... \n",
    "FROM table_name, ...\n",
    "...    \n",
    "```"
   ]
  },
  {
   "cell_type": "code",
   "execution_count": null,
   "id": "2a1d9597-e893-4de0-8c00-47a457a87bad",
   "metadata": {},
   "outputs": [],
   "source": [
    "%%sql\n",
    "WITH good_action_movies AS (\n",
    "    SELECT *\n",
    "    FROM Title T JOIN Rating R ON T.tconst = R.tconst  \n",
    "    WHERE genres LIKE '%Action%' AND averageRating > 7 AND numVotes > 5000\n",
    "),\n",
    "prolific_actors AS (\n",
    "    SELECT N.nconst, primaryName, COUNT(*) as numRoles\n",
    "    FROM Name N JOIN Principal P ON N.nconst = P.nconst\n",
    "    WHERE category = 'actor'\n",
    "    GROUP BY N.nconst, primaryName\n",
    ")\n",
    "SELECT primaryTitle, primaryName, numRoles, ROUND(averageRating) AS rating\n",
    "FROM good_action_movies m, prolific_actors a, principal p\n",
    "WHERE p.tconst = m.tconst AND p.nconst = a.nconst\n",
    "ORDER BY rating DESC, numRoles DESC\n",
    "LIMIT 10\n",
    "\n"
   ]
  },
  {
   "cell_type": "markdown",
   "id": "dca8c28b-d10a-4acb-962a-c4edc1865fb8",
   "metadata": {},
   "source": [
    "### How do ratings vary through the years?"
   ]
  },
  {
   "cell_type": "markdown",
   "id": "a49d1a93-51ef-4999-8c0a-ba6c716b112d",
   "metadata": {},
   "source": [
    "If we want to know the critic ratings for each of these action movies, we can join `Title` with the `Rating` table.\n",
    "\n",
    "In the cell below, we use the **`<<` operator** to store the result of our query as a variable."
   ]
  },
  {
   "cell_type": "code",
   "execution_count": null,
   "id": "4e16104f-a5fe-46eb-a25c-791428bbe2e2",
   "metadata": {},
   "outputs": [],
   "source": [
    "%sql imdb\n",
    "%config SqlMagic.autopandas = True"
   ]
  },
  {
   "cell_type": "code",
   "execution_count": null,
   "id": "d0795c99-bbed-4283-a1bc-b6369f743db2",
   "metadata": {},
   "outputs": [],
   "source": [
    "%%sql action_movies_df << \n",
    "SELECT \n",
    "    T.tconst AS id,\n",
    "    primaryTitle AS title, \n",
    "    titleType,\n",
    "    runtimeMinutes AS time,\n",
    "    startYear AS year,\n",
    "    genres,\n",
    "    averageRating AS rating, \n",
    "    numVotes\n",
    "FROM Title T, Rating R\n",
    "WHERE \n",
    "    T.tconst = R.tconst \n",
    "    AND time > 0 AND time < 300 -- get rid of outliers and missing values --\n",
    "    AND year > 0     -- get rid of missing values --\n",
    "    AND titleType = 'movie' -- get movies\n",
    "    AND numVotes >= 1000\n",
    "    AND genres LIKE '%Action%'\n",
    "ORDER BY startYear"
   ]
  },
  {
   "cell_type": "code",
   "execution_count": null,
   "id": "cb0c4944-f473-48b2-b327-53ded0e3ef01",
   "metadata": {},
   "outputs": [],
   "source": [
    "action_movies_df"
   ]
  },
  {
   "cell_type": "code",
   "execution_count": null,
   "id": "108f7668-370e-46bc-83d8-505358134bb6",
   "metadata": {},
   "outputs": [],
   "source": [
    "import plotly.express as px\n",
    "px.scatter(action_movies_df, x = \"year\", y=\"rating\", opacity=0.5)"
   ]
  },
  {
   "cell_type": "markdown",
   "id": "c8d0f0c3-b1e0-492f-be5c-95f16ee744d3",
   "metadata": {},
   "source": [
    "Using a common table expression (CTE):"
   ]
  },
  {
   "cell_type": "code",
   "execution_count": null,
   "id": "4d4e88a1-353e-402c-93c7-e9dce6658c4d",
   "metadata": {},
   "outputs": [],
   "source": [
    "%%sql action_grouped_df <<\n",
    "\n",
    "WITH action_movies AS (\n",
    "    SELECT \n",
    "        T.tconst AS id,\n",
    "        primaryTitle AS title, \n",
    "        titleType,\n",
    "        runtimeMinutes AS time,\n",
    "        startYear AS year,\n",
    "        genres,\n",
    "        averageRating AS rating, \n",
    "        numVotes\n",
    "    FROM Title T, Rating R\n",
    "    WHERE \n",
    "        T.tconst = R.tconst \n",
    "        AND time > 0 AND time < 300 -- get rid of outliers and missing values --\n",
    "        AND year > 0     -- get rid of missing values --\n",
    "        AND titleType = 'movie' -- get movies\n",
    "        AND numVotes >= 1000\n",
    "    AND genres LIKE '%Action%'\n",
    ")\n",
    "SELECT \n",
    "    year, \n",
    "    median(rating) AS median_rating,\n",
    "    quantile_cont(rating, .25) AS lower_q,\n",
    "    quantile_cont(rating, .75) AS upper_q,\n",
    "FROM action_movies\n",
    "GROUP BY year\n",
    "ORDER BY year"
   ]
  },
  {
   "cell_type": "markdown",
   "id": "94be2211-0ab8-492d-ae82-505cf6331c69",
   "metadata": {},
   "source": [
    "Let's look at what we got."
   ]
  },
  {
   "cell_type": "code",
   "execution_count": null,
   "id": "405c7f3a-f44a-43ef-a3b8-5bce15a3ad37",
   "metadata": {},
   "outputs": [],
   "source": [
    "import plotly.express as px\n",
    "action_grouped_df['error_p'] = action_grouped_df['upper_q'] - action_grouped_df['median_rating']\n",
    "action_grouped_df['error_m'] = action_grouped_df['median_rating'] - action_grouped_df['lower_q'] \n",
    "fig = px.line(action_grouped_df, x=\"year\", y=\"median_rating\", \n",
    "              error_y=\"error_p\", error_y_minus=\"error_m\")\n",
    "fig"
   ]
  },
  {
   "cell_type": "markdown",
   "id": "5732fe74-3c55-4dbf-88f6-6353695c762c",
   "metadata": {},
   "source": [
    "### How does the runtime of an action movie influence the rating it receives?"
   ]
  },
  {
   "cell_type": "code",
   "execution_count": null,
   "id": "e695502c-636b-484e-a097-55005f25bf4a",
   "metadata": {},
   "outputs": [],
   "source": [
    "px.scatter(action_movies_df, x=\"time\", y=\"rating\", opacity=0.1)"
   ]
  },
  {
   "cell_type": "code",
   "execution_count": null,
   "id": "0c19e24a-de72-49ba-a0d5-a96452bcd72e",
   "metadata": {},
   "outputs": [],
   "source": [
    "px.density_heatmap(action_movies_df, x=\"time\", y=\"rating\",nbinsx=100, nbinsy=100)"
   ]
  },
  {
   "cell_type": "code",
   "execution_count": null,
   "id": "7185e51c-5934-4692-977d-8e597df7d607",
   "metadata": {},
   "outputs": [],
   "source": [
    "%%sql action_grouped_df << \n",
    "WITH action_movies AS (\n",
    "    SELECT \n",
    "        T.tconst AS id,\n",
    "        primaryTitle AS title, \n",
    "        titleType,\n",
    "        runtimeMinutes AS time,\n",
    "        startYear AS year,\n",
    "        genres,\n",
    "        averageRating AS rating, \n",
    "        numVotes\n",
    "    FROM Title T, Rating R\n",
    "    WHERE \n",
    "        T.tconst = R.tconst \n",
    "        AND time > 0 AND time < 300 -- get rid of outliers and missing values --\n",
    "        AND year > 0     -- get rid of missing values --\n",
    "        AND titleType = 'movie' -- get movies\n",
    "        AND numVotes >= 1000\n",
    "    AND genres LIKE '%Action%'\n",
    ")\n",
    "SELECT \n",
    "    ceil(time / 10) * 10 as time_desc, \n",
    "    median(rating) AS median_rating,\n",
    "    quantile_cont(rating, .25) AS lower_q,\n",
    "    quantile_cont(rating, .75) AS upper_q,\n",
    "FROM action_movies\n",
    "GROUP BY time_desc\n",
    "ORDER BY time_desc"
   ]
  },
  {
   "cell_type": "code",
   "execution_count": null,
   "id": "6e8f35b8-f3b4-426e-a9a7-f6b241f0e33f",
   "metadata": {},
   "outputs": [],
   "source": [
    "import plotly.express as px\n",
    "action_grouped_df['error_p'] = action_grouped_df['upper_q'] - action_grouped_df['median_rating']\n",
    "action_grouped_df['error_m'] = action_grouped_df['median_rating'] - action_grouped_df['lower_q'] \n",
    "fig = px.line(action_grouped_df, x=\"time_desc\", y=\"median_rating\", \n",
    "              error_y=\"error_p\", error_y_minus=\"error_m\")\n",
    "fig"
   ]
  },
  {
   "cell_type": "markdown",
   "id": "ae685c04-3b2e-4029-b764-d26aff263e91",
   "metadata": {},
   "source": [
    "Could we use a movie's runtime to predict its rating?"
   ]
  },
  {
   "cell_type": "code",
   "execution_count": null,
   "id": "ff222087-41ac-4e86-b177-e1bc8e1ca0be",
   "metadata": {},
   "outputs": [],
   "source": [
    "import sklearn.linear_model as lm\n",
    "import numpy as np\n",
    "X, Y = action_movies_df[\"time\"].to_numpy(), action_movies_df[\"rating\"].to_numpy()\n",
    "\n",
    "model = lm.LinearRegression()\n",
    "model.fit(X[..., np.newaxis], Y)\n",
    "\n",
    "xs = np.linspace(X.min(),X.max())\n",
    "yhats = model.predict(xs[:, np.newaxis])"
   ]
  },
  {
   "cell_type": "code",
   "execution_count": null,
   "id": "7d80f47c-c5f3-4a89-abf1-7bce9c510e07",
   "metadata": {},
   "outputs": [],
   "source": [
    "fig = px.scatter(x=X, y=Y, opacity=0.1)\n",
    "fig.add_scatter(x=xs, y=yhats)"
   ]
  },
  {
   "cell_type": "code",
   "execution_count": null,
   "id": "242d6282-e81a-4577-a3b2-278ae9a4da81",
   "metadata": {},
   "outputs": [],
   "source": [
    "px.scatter(x=X, y=Y, opacity=0.1, trendline=\"ols\")"
   ]
  },
  {
   "cell_type": "markdown",
   "id": "06cd5b5b-609a-4421-b365-18ab2d47c23b",
   "metadata": {},
   "source": [
    "## More Advanced SQL with DuckDB\n",
    "\n",
    "You could do a lot what we do in this class just using Duck DB and the many duck db functions:\n",
    "\n",
    "https://duckdb.org/docs/sql/functions/overview"
   ]
  },
  {
   "cell_type": "code",
   "execution_count": null,
   "id": "77f9bccb-695a-4739-b679-b4c8b46035f0",
   "metadata": {},
   "outputs": [],
   "source": [
    "from ds100_utils import fetch_and_cache"
   ]
  },
  {
   "cell_type": "code",
   "execution_count": null,
   "id": "69af1c47-1427-48ef-9c4c-9e3db6960040",
   "metadata": {},
   "outputs": [],
   "source": [
    "url = \"https://gist.github.com/domoritz/fd517a3a3a210c24a488e61870e2cf2c/raw/b1d53719e8e0eb9f6a95de82fdaccf0b001c0dea/flights-1m.parquet\"\n",
    "fetch_and_cache(url,\"flights.parquet\")"
   ]
  },
  {
   "cell_type": "code",
   "execution_count": null,
   "id": "bb2afe2c-693a-4695-b085-85c15cfa1408",
   "metadata": {},
   "outputs": [],
   "source": [
    "%%sql\n",
    "SELECT * FROM 'data/flights.parquet' LIMIT 10;"
   ]
  },
  {
   "cell_type": "code",
   "execution_count": null,
   "id": "f5e4409f-8037-4825-a5ba-a5c0a3050c6e",
   "metadata": {},
   "outputs": [],
   "source": [
    "%%sql avg_delays <<\n",
    "\n",
    "SELECT \n",
    "    dayname(fl_date) AS \"Day of the Week\", \n",
    "    mean(dep_delay) AS \"Mean Departure Delay\", \n",
    "FROM 'data/flights.parquet'\n",
    "GROUP BY \"Day of the Week\""
   ]
  },
  {
   "cell_type": "code",
   "execution_count": null,
   "id": "0ba29d42-b73f-488a-bc5c-f5d1dd764713",
   "metadata": {},
   "outputs": [],
   "source": [
    "import plotly.express as px\n",
    "px.bar(avg_delays, x=\"Day of the Week\", y = \"Mean Departure Delay\",\n",
    "       category_orders={\"Day of the Week\": [\"Sunday\", \"Monday\", \"Tuesday\", \n",
    "                      \"Wednesday\", \"Thursday\", \"Friday\", \"Saturday\"]})"
   ]
  },
  {
   "cell_type": "code",
   "execution_count": null,
   "id": "9ba00fec-767e-456d-95a8-82323e1790fd",
   "metadata": {},
   "outputs": [],
   "source": []
  },
  {
   "cell_type": "code",
   "execution_count": null,
   "id": "ed9f4556-5867-498e-8992-50c4efee6fe0",
   "metadata": {},
   "outputs": [],
   "source": []
  }
 ],
 "metadata": {
  "kernelspec": {
   "display_name": "Python 3 (ipykernel)",
   "language": "python",
   "name": "python3"
  },
  "language_info": {
   "codemirror_mode": {
    "name": "ipython",
    "version": 3
   },
   "file_extension": ".py",
   "mimetype": "text/x-python",
   "name": "python",
   "nbconvert_exporter": "python",
   "pygments_lexer": "ipython3",
   "version": "3.11.9"
  },
  "vscode": {
   "interpreter": {
    "hash": "aee8b7b246df8f9039afb4144a1f6fd8d2ca17a180786b69acc140d282b71a49"
   }
  }
 },
 "nbformat": 4,
 "nbformat_minor": 5
}
