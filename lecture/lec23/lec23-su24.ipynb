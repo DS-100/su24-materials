{
 "cells": [
  {
   "cell_type": "markdown",
   "metadata": {},
   "source": [
    "# Lecture 23 – Data 100, Summer 2024\n",
    "\n",
    "Data 100, Summer 2024\n",
    "\n",
    "[Acknowledgments Page](https://ds100.org/su24/acks/)"
   ]
  },
  {
   "cell_type": "code",
   "execution_count": null,
   "metadata": {},
   "outputs": [],
   "source": [
    "import seaborn as sns\n",
    "import pandas as pd\n",
    "sns.set(font_scale=1.5)\n",
    "import matplotlib.pyplot as plt\n",
    "import numpy as np\n",
    "from sklearn import linear_model\n",
    "from sklearn.metrics import mean_squared_error\n",
    "from sklearn.metrics import mean_absolute_error\n",
    "from sklearn.linear_model import LinearRegression\n",
    "from sklearn.preprocessing import PolynomialFeatures\n",
    "from sklearn.preprocessing import StandardScaler\n",
    "\n",
    "from sklearn.pipeline import Pipeline\n",
    "\n",
    "import warnings\n",
    "warnings.filterwarnings(\"ignore\")"
   ]
  },
  {
   "cell_type": "code",
   "execution_count": null,
   "metadata": {},
   "outputs": [],
   "source": [
    "# set numpy random seed so that this notebook is deterministic\n",
    "np.random.seed(21)"
   ]
  },
  {
   "cell_type": "markdown",
   "metadata": {},
   "source": [
    "# Linear Classification"
   ]
  },
  {
   "cell_type": "code",
   "execution_count": null,
   "metadata": {},
   "outputs": [],
   "source": [
    "from sklearn import datasets\n",
    "\n",
    "iris_data = datasets.load_iris()\n",
    "iris_labels = iris_data['target_names'][iris_data['target']]\n",
    "iris_data = pd.DataFrame(data= iris_data['data'],\n",
    "                         columns= iris_data['feature_names'])\n",
    "iris_data.columns=['sepal_length', 'sepal_width', 'petal_length', 'petal_width']\n",
    "iris_data['species'] = iris_labels"
   ]
  },
  {
   "cell_type": "code",
   "execution_count": null,
   "metadata": {},
   "outputs": [],
   "source": [
    "iris_data.sample(5)"
   ]
  },
  {
   "cell_type": "code",
   "execution_count": null,
   "metadata": {},
   "outputs": [],
   "source": [
    "sns.scatterplot(data = iris_data, x = \"petal_length\", y=\"petal_width\", hue=\"species\")"
   ]
  },
  {
   "cell_type": "code",
   "execution_count": null,
   "metadata": {},
   "outputs": [],
   "source": [
    "from sklearn.linear_model import LogisticRegression\n",
    "logistic_regression_model = LogisticRegression(multi_class = 'ovr')\n",
    "logistic_regression_model = logistic_regression_model.fit(iris_data[[\"petal_length\", \"petal_width\"]], iris_data[\"species\"])"
   ]
  },
  {
   "cell_type": "code",
   "execution_count": null,
   "metadata": {},
   "outputs": [],
   "source": [
    "from matplotlib.colors import ListedColormap\n",
    "sns_cmap = ListedColormap(np.array(sns.color_palette())[0:3, :])\n",
    "\n",
    "xx, yy = np.meshgrid(np.arange(0, 7, 0.02),\n",
    "                     np.arange(0, 2.8, 0.02))\n",
    "\n",
    "Z_string = logistic_regression_model.predict(np.c_[xx.ravel(), yy.ravel()])\n",
    "categories, Z_int = np.unique(Z_string, return_inverse=True)\n",
    "Z_int = Z_int \n",
    "Z_int = Z_int.reshape(xx.shape)\n",
    "cs = plt.contourf(xx, yy, Z_int, cmap=sns_cmap)\n",
    "sns.scatterplot(data = iris_data, x = \"petal_length\", y=\"petal_width\", hue=\"species\")\n",
    "plt.xlim(0, 7)\n",
    "plt.ylim(0, 2.8)"
   ]
  },
  {
   "cell_type": "code",
   "execution_count": null,
   "metadata": {},
   "outputs": [],
   "source": [
    "iris_data[[\"petal_length\", \"petal_width\"]]"
   ]
  },
  {
   "cell_type": "code",
   "execution_count": null,
   "metadata": {},
   "outputs": [],
   "source": [
    "logistic_regression_model.predict([[1.4, 0.2]])"
   ]
  },
  {
   "cell_type": "code",
   "execution_count": null,
   "metadata": {},
   "outputs": [],
   "source": [
    "logistic_regression_model.predict_proba([[1.4, 0.2]])"
   ]
  },
  {
   "cell_type": "code",
   "execution_count": null,
   "metadata": {},
   "outputs": [],
   "source": [
    "logistic_regression_model.classes_"
   ]
  },
  {
   "cell_type": "markdown",
   "metadata": {},
   "source": [
    "# Decision Tree Classification"
   ]
  },
  {
   "cell_type": "code",
   "execution_count": null,
   "metadata": {},
   "outputs": [],
   "source": [
    "from sklearn import tree\n",
    "decision_tree_model = tree.DecisionTreeClassifier(criterion='entropy')\n",
    "decision_tree_model = decision_tree_model.fit(iris_data[[\"petal_length\", \"petal_width\"]], iris_data[\"species\"])"
   ]
  },
  {
   "cell_type": "code",
   "execution_count": null,
   "metadata": {},
   "outputs": [],
   "source": [
    "four_random_rows = iris_data.sample(4)\n",
    "four_random_rows"
   ]
  },
  {
   "cell_type": "code",
   "execution_count": null,
   "metadata": {},
   "outputs": [],
   "source": [
    "decision_tree_model.predict(four_random_rows[[\"petal_length\", \"petal_width\"]])"
   ]
  },
  {
   "cell_type": "code",
   "execution_count": null,
   "metadata": {},
   "outputs": [],
   "source": [
    "tree.plot_tree(decision_tree_model, \n",
    "               feature_names = [\"petal_length\", \"petal_width\"],\n",
    "               class_names = [\"setosa\", \"versicolor\", \"virginica\"],\n",
    "               rounded = True, filled = True)"
   ]
  },
  {
   "cell_type": "code",
   "execution_count": null,
   "metadata": {},
   "outputs": [],
   "source": [
    "sns_cmap = ListedColormap(np.array(sns.color_palette())[0:3, :])\n",
    "\n",
    "xx, yy = np.meshgrid(np.arange(0, 7, 0.02),\n",
    "                     np.arange(0, 2.8, 0.02))\n",
    "\n",
    "Z_string = decision_tree_model.predict(np.c_[xx.ravel(), yy.ravel()])\n",
    "categories, Z_int = np.unique(Z_string, return_inverse=True)\n",
    "Z_int = Z_int \n",
    "Z_int = Z_int.reshape(xx.shape)\n",
    "cs = plt.contourf(xx, yy, Z_int, cmap=sns_cmap)\n",
    "sns.scatterplot(data = iris_data, x = \"petal_length\", y=\"petal_width\", hue=\"species\")"
   ]
  },
  {
   "cell_type": "code",
   "execution_count": null,
   "metadata": {},
   "outputs": [],
   "source": [
    "from sklearn.metrics import accuracy_score\n",
    "predictions = decision_tree_model.predict(iris_data[[\"petal_length\", \"petal_width\"]])\n",
    "accuracy_score(predictions, iris_data[\"species\"])"
   ]
  },
  {
   "cell_type": "code",
   "execution_count": null,
   "metadata": {},
   "outputs": [],
   "source": [
    "iris_data[(iris_data[\"petal_length\"]> 2.45)&(iris_data[\"petal_width\"]> 1.75)&(iris_data[\"petal_length\"]<=4.85)]"
   ]
  },
  {
   "cell_type": "markdown",
   "metadata": {},
   "source": [
    "# Overfitting\n",
    "Instead of the petal measurements, let's use the sepal measurements to train the decision tree."
   ]
  },
  {
   "cell_type": "code",
   "execution_count": null,
   "metadata": {},
   "outputs": [],
   "source": [
    "sns.scatterplot(data = iris_data, x = \"sepal_length\", y=\"sepal_width\", hue=\"species\", legend=False)"
   ]
  },
  {
   "cell_type": "code",
   "execution_count": null,
   "metadata": {},
   "outputs": [],
   "source": [
    "sepal_decision_tree_model = tree.DecisionTreeClassifier(criterion=\"entropy\")\n",
    "sepal_decision_tree_model = decision_tree_model.fit(iris_data[[\"sepal_length\", \"sepal_width\"]], iris_data[\"species\"])\n",
    "sns_cmap = ListedColormap(np.array(sns.color_palette())[0:3, :])\n",
    "\n",
    "xx, yy = np.meshgrid(np.arange(4, 8, 0.02),\n",
    "                     np.arange(1.9, 4.5, 0.02))\n",
    "\n",
    "Z_string = sepal_decision_tree_model.predict(np.c_[xx.ravel(), yy.ravel()])\n",
    "categories, Z_int = np.unique(Z_string, return_inverse=True)\n",
    "Z_int = Z_int \n",
    "Z_int = Z_int.reshape(xx.shape)\n",
    "cs = plt.contourf(xx, yy, Z_int, cmap=sns_cmap)\n",
    "sns.scatterplot(data = iris_data, x = \"sepal_length\", y=\"sepal_width\", hue=\"species\", legend=False)\n",
    "fig = plt.gcf()\n",
    "# fig.savefig(\"iris_sepal_decision_boundaries_all_150_points.png\", dpi=300, bbox_inches = \"tight\")"
   ]
  },
  {
   "cell_type": "markdown",
   "metadata": {},
   "source": [
    "Let's split the dataset into a training set with 110 observations, and a validation set with 40 observations."
   ]
  },
  {
   "cell_type": "code",
   "execution_count": null,
   "metadata": {},
   "outputs": [],
   "source": [
    "train_iris_data, valid_iris_data = np.split(iris_data.sample(frac=1), [110])\n",
    "print(train_iris_data.shape, valid_iris_data.shape)"
   ]
  },
  {
   "cell_type": "code",
   "execution_count": null,
   "metadata": {},
   "outputs": [],
   "source": [
    "# Sort so that the plot color labels match what we had in the earlier part of lecture\n",
    "train_iris_data = train_iris_data.sort_values(by=\"species\")\n",
    "valid_iris_data = valid_iris_data.sort_values(by=\"species\")"
   ]
  },
  {
   "cell_type": "code",
   "execution_count": null,
   "metadata": {},
   "outputs": [],
   "source": [
    "train_iris_data.head(5)"
   ]
  },
  {
   "cell_type": "markdown",
   "metadata": {},
   "source": [
    "We use the training data to fit our old model (using the petal measurements `petal_length` and `petal_width`):"
   ]
  },
  {
   "cell_type": "code",
   "execution_count": null,
   "metadata": {},
   "outputs": [],
   "source": [
    "decision_tree_model = tree.DecisionTreeClassifier(criterion=\"entropy\")\n",
    "decision_tree_model = decision_tree_model.fit(train_iris_data[[\"petal_length\", \"petal_width\"]], train_iris_data[\"species\"])"
   ]
  },
  {
   "cell_type": "code",
   "execution_count": null,
   "metadata": {},
   "outputs": [],
   "source": [
    "tree.plot_tree(decision_tree_model, feature_names = [\"petal_length\", \"petal_width\"],\n",
    "              class_names = [\"setosa\", \"versicolor\", \"virginica\"],\n",
    "              rounded = True, filled = True);"
   ]
  },
  {
   "cell_type": "markdown",
   "metadata": {},
   "source": [
    "Decision boundary on the training data:"
   ]
  },
  {
   "cell_type": "code",
   "execution_count": null,
   "metadata": {},
   "outputs": [],
   "source": [
    "sns_cmap = ListedColormap(np.array(sns.color_palette())[0:3, :])\n",
    "\n",
    "xx, yy = np.meshgrid(np.arange(0, 7, 0.02),\n",
    "                     np.arange(0, 2.8, 0.02))\n",
    "\n",
    "Z_string = decision_tree_model.predict(np.c_[xx.ravel(), yy.ravel()])\n",
    "categories, Z_int = np.unique(Z_string, return_inverse=True)\n",
    "Z_int = Z_int \n",
    "Z_int = Z_int.reshape(xx.shape)\n",
    "cs = plt.contourf(xx, yy, Z_int, cmap=sns_cmap)\n",
    "sns.scatterplot(data = train_iris_data, x = \"petal_length\", y=\"petal_width\", hue=\"species\");"
   ]
  },
  {
   "cell_type": "markdown",
   "metadata": {},
   "source": [
    "Decision boundary and the validation data:"
   ]
  },
  {
   "cell_type": "code",
   "execution_count": null,
   "metadata": {},
   "outputs": [],
   "source": [
    "sns_cmap = ListedColormap(np.array(sns.color_palette())[0:3, :])\n",
    "\n",
    "xx, yy = np.meshgrid(np.arange(0, 7, 0.02),\n",
    "                     np.arange(0, 2.8, 0.02))\n",
    "\n",
    "Z_string = decision_tree_model.predict(np.c_[xx.ravel(), yy.ravel()])\n",
    "categories, Z_int = np.unique(Z_string, return_inverse=True)\n",
    "Z_int = Z_int \n",
    "Z_int = Z_int.reshape(xx.shape)\n",
    "cs = plt.contourf(xx, yy, Z_int, cmap=sns_cmap)\n",
    "sns.scatterplot(data = valid_iris_data, x = \"petal_length\", y=\"petal_width\", hue=\"species\")"
   ]
  },
  {
   "cell_type": "markdown",
   "metadata": {},
   "source": [
    "Accuracy on the traning data:"
   ]
  },
  {
   "cell_type": "code",
   "execution_count": null,
   "metadata": {},
   "outputs": [],
   "source": [
    "accuracy_score(decision_tree_model.predict(train_iris_data[[\"petal_length\", \"petal_width\"]]), train_iris_data[\"species\"])"
   ]
  },
  {
   "cell_type": "markdown",
   "metadata": {},
   "source": [
    "Accuracy on the validation data:"
   ]
  },
  {
   "cell_type": "code",
   "execution_count": null,
   "metadata": {},
   "outputs": [],
   "source": [
    "predictions = decision_tree_model.predict(valid_iris_data[[\"petal_length\", \"petal_width\"]])\n",
    "accuracy_score(predictions, valid_iris_data[\"species\"])"
   ]
  },
  {
   "cell_type": "markdown",
   "metadata": {},
   "source": [
    "Let's now use the sepal measurements (`sepal_length` and `sepal_width`) to train the decision trees."
   ]
  },
  {
   "cell_type": "code",
   "execution_count": null,
   "metadata": {},
   "outputs": [],
   "source": [
    "sepal_decision_tree_model = tree.DecisionTreeClassifier(criterion=\"entropy\")\n",
    "sepal_decision_tree_model = sepal_decision_tree_model.fit(train_iris_data[[\"sepal_length\", \"sepal_width\"]], train_iris_data[\"species\"])"
   ]
  },
  {
   "cell_type": "code",
   "execution_count": null,
   "metadata": {},
   "outputs": [],
   "source": [
    "tree.plot_tree(sepal_decision_tree_model, feature_names = [\"sepal_length\", \"sepal_width\"],\n",
    "              class_names = [\"setosa\", \"versicolor\", \"virginica\"],\n",
    "              rounded = True, filled = True);"
   ]
  },
  {
   "cell_type": "markdown",
   "metadata": {},
   "source": [
    "Decision boundary and training data:"
   ]
  },
  {
   "cell_type": "code",
   "execution_count": null,
   "metadata": {},
   "outputs": [],
   "source": [
    "sns_cmap = ListedColormap(np.array(sns.color_palette())[0:3, :])\n",
    "\n",
    "xx, yy = np.meshgrid(np.arange(4, 8, 0.02),\n",
    "                     np.arange(1.9, 4.5, 0.02))\n",
    "\n",
    "Z_string = sepal_decision_tree_model.predict(np.c_[xx.ravel(), yy.ravel()])\n",
    "categories, Z_int = np.unique(Z_string, return_inverse=True)\n",
    "Z_int = Z_int \n",
    "Z_int = Z_int.reshape(xx.shape)\n",
    "cs = plt.contourf(xx, yy, Z_int, cmap=sns_cmap)\n",
    "sns.scatterplot(data = train_iris_data, x = \"sepal_length\", y=\"sepal_width\", hue=\"species\", legend=False)"
   ]
  },
  {
   "cell_type": "markdown",
   "metadata": {},
   "source": [
    "Decision boundary and validation data:"
   ]
  },
  {
   "cell_type": "code",
   "execution_count": null,
   "metadata": {},
   "outputs": [],
   "source": [
    "sns_cmap = ListedColormap(np.array(sns.color_palette())[0:3, :])\n",
    "\n",
    "xx, yy = np.meshgrid(np.arange(4, 8, 0.02),\n",
    "                     np.arange(1.9, 4.5, 0.02))\n",
    "\n",
    "Z_string = sepal_decision_tree_model.predict(np.c_[xx.ravel(), yy.ravel()])\n",
    "categories, Z_int = np.unique(Z_string, return_inverse=True)\n",
    "Z_int = Z_int \n",
    "Z_int = Z_int.reshape(xx.shape)\n",
    "cs = plt.contourf(xx, yy, Z_int, cmap=sns_cmap)\n",
    "sns.scatterplot(data = valid_iris_data, x = \"sepal_length\", y=\"sepal_width\", hue=\"species\", legend=False)"
   ]
  },
  {
   "cell_type": "markdown",
   "metadata": {},
   "source": [
    "Accuracy on the training data:"
   ]
  },
  {
   "cell_type": "code",
   "execution_count": null,
   "metadata": {},
   "outputs": [],
   "source": [
    "accuracy_score(sepal_decision_tree_model.predict(train_iris_data[[\"sepal_length\", \"sepal_width\"]]), train_iris_data[\"species\"])"
   ]
  },
  {
   "cell_type": "markdown",
   "metadata": {},
   "source": [
    "Accuracy on the validation data:"
   ]
  },
  {
   "cell_type": "code",
   "execution_count": null,
   "metadata": {},
   "outputs": [],
   "source": [
    "accuracy_score(sepal_decision_tree_model.predict(valid_iris_data[[\"sepal_length\", \"sepal_width\"]]), valid_iris_data[\"species\"])"
   ]
  },
  {
   "cell_type": "markdown",
   "metadata": {},
   "source": [
    "<br>\n",
    "<hr>\n",
    "<br>\n",
    "Naturally, we can include even more features. For example, if we want to use the petal AND sepal measurements, we simply train the decision tree on all four columns of the data."
   ]
  },
  {
   "cell_type": "code",
   "execution_count": null,
   "metadata": {},
   "outputs": [],
   "source": [
    "decision_tree_model_4d = tree.DecisionTreeClassifier(criterion=\"entropy\")\n",
    "decision_tree_model_4d = decision_tree_model_4d.fit(train_iris_data[[\"petal_length\", \"petal_width\", \n",
    "                                                                     \"sepal_length\", \"sepal_width\"]], train_iris_data[\"species\"])"
   ]
  },
  {
   "cell_type": "code",
   "execution_count": null,
   "metadata": {},
   "outputs": [],
   "source": [
    "predictions = decision_tree_model_4d.predict(train_iris_data[[\"petal_length\", \"petal_width\", \"sepal_length\", \"sepal_width\"]])\n",
    "accuracy_score(predictions, train_iris_data[\"species\"])"
   ]
  },
  {
   "cell_type": "code",
   "execution_count": null,
   "metadata": {},
   "outputs": [],
   "source": [
    "predictions = decision_tree_model_4d.predict(valid_iris_data[[\"petal_length\", \"petal_width\", \"sepal_length\", \"sepal_width\"]])\n",
    "accuracy_score(predictions, valid_iris_data[\"species\"])"
   ]
  },
  {
   "cell_type": "code",
   "execution_count": null,
   "metadata": {},
   "outputs": [],
   "source": [
    "plt.figure(figsize=(6,6))  # set plot size (denoted in inches)\n",
    "tree.plot_tree(decision_tree_model_4d, feature_names = [\"petal_length\", \"petal_width\", \"sepal_length\", \"sepal_width\"],\n",
    "              class_names = [\"setosa\", \"versicolor\", \"virginica\"],\n",
    "              rounded = True, filled = True, fontsize=4)\n",
    "plt.show()"
   ]
  },
  {
   "cell_type": "code",
   "execution_count": null,
   "metadata": {},
   "outputs": [],
   "source": [
    "plt.figure(figsize=(12,12))  # set plot size (denoted in inches)\n",
    "tree.plot_tree(sepal_decision_tree_model, feature_names = [\"sepal_length\", \"sepal_width\"],\n",
    "              class_names = [\"setosa\", \"versicolor\", \"virginica\"],\n",
    "              rounded = True, filled = True, fontsize=4)\n",
    "plt.show()"
   ]
  },
  {
   "cell_type": "markdown",
   "metadata": {},
   "source": [
    "Comparing our decision tree diagram with four features (petal and sepal) versus our decision tree diagram with just sepal featuers, we can see that the 4d-model does not overfit, even though it has access to all of these features. Instead, these two models are extremely similar. In fact, our 4d-model only makes use of the setal features exactly once, and that's to resolve the tricky case we had before where there were overlapping virginica and versicolor flowers. \n",
    "\n",
    "This showcases that for decision tree models, more features doesn’t necessarily lead to overfitting, especially if a small subset of the features do a good job of resolving the difference between the classes."
   ]
  },
  {
   "cell_type": "markdown",
   "metadata": {},
   "source": [
    "<br>\n",
    "<hr>\n",
    "<br\">\n",
    "\n",
    "Say we want to just use sepal features. Looking at the corresponding decision tree rules and train/validation accuracy (94.5% versus 75%), it seems like we may be overfitting! \n",
    "\n",
    "Let's try to prevent growth using two `sklearn` hyperparameters: `min_samples_split` and `max_depth`. You can read more about these hyperparameters (and others) in the [DecisionTreeClassifier documentation](https://scikit-learn.org/stable/modules/generated/sklearn.tree.DecisionTreeClassifier.html)."
   ]
  },
  {
   "cell_type": "markdown",
   "metadata": {},
   "source": [
    "### `min_samples_split`"
   ]
  },
  {
   "cell_type": "code",
   "execution_count": null,
   "metadata": {},
   "outputs": [],
   "source": [
    "sepal_decision_tree_model_minsamples = tree.DecisionTreeClassifier(criterion=\"entropy\", min_samples_split=10)\n",
    "sepal_decision_tree_model_minsamples = sepal_decision_tree_model_minsamples.fit(train_iris_data[[\"sepal_length\", \"sepal_width\"]], \n",
    "                                                    train_iris_data[\"species\"])"
   ]
  },
  {
   "cell_type": "markdown",
   "metadata": {},
   "source": [
    "Let's compare the resulting decision tree rules with `min_samples_split = 10` versus before (default `min_samples_split = 2`)."
   ]
  },
  {
   "cell_type": "code",
   "execution_count": null,
   "metadata": {
    "scrolled": true
   },
   "outputs": [],
   "source": [
    "plt.figure(figsize=(12,12))  # set plot size (denoted in inches)\n",
    "tree.plot_tree(sepal_decision_tree_model_minsamples, feature_names = [\"sepal_length\", \"sepal_width\"],\n",
    "              class_names = [\"setosa\", \"versicolor\", \"virginica\"],\n",
    "              rounded = True, filled = True, fontsize=6)\n",
    "plt.show()"
   ]
  },
  {
   "cell_type": "code",
   "execution_count": null,
   "metadata": {
    "scrolled": true
   },
   "outputs": [],
   "source": [
    "plt.figure(figsize=(12,12))  # set plot size (denoted in inches)\n",
    "tree.plot_tree(sepal_decision_tree_model, feature_names = [\"sepal_length\", \"sepal_width\"],\n",
    "              class_names = [\"setosa\", \"versicolor\", \"virginica\"],\n",
    "              rounded = True, filled = True, fontsize=6)\n",
    "plt.show()"
   ]
  },
  {
   "cell_type": "code",
   "execution_count": null,
   "metadata": {},
   "outputs": [],
   "source": [
    "print('train accuracy:', accuracy_score(sepal_decision_tree_model_minsamples.predict(train_iris_data[[\"sepal_length\", \"sepal_width\"]]), \n",
    "                     train_iris_data[\"species\"]))"
   ]
  },
  {
   "cell_type": "code",
   "execution_count": null,
   "metadata": {},
   "outputs": [],
   "source": [
    "print('validation accuracy:', accuracy_score(sepal_decision_tree_model_minsamples.predict(valid_iris_data[[\"sepal_length\", \"sepal_width\"]]), \n",
    "                     valid_iris_data[\"species\"]))"
   ]
  },
  {
   "cell_type": "markdown",
   "metadata": {},
   "source": [
    "### `max_depth`"
   ]
  },
  {
   "cell_type": "code",
   "execution_count": null,
   "metadata": {},
   "outputs": [],
   "source": [
    "sepal_decision_tree_model_maxdepth = tree.DecisionTreeClassifier(criterion=\"entropy\", max_depth=5)\n",
    "sepal_decision_tree_model_maxdepth = sepal_decision_tree_model_maxdepth.fit(train_iris_data[[\"sepal_length\", \"sepal_width\"]], \n",
    "                                                    train_iris_data[\"species\"])"
   ]
  },
  {
   "cell_type": "markdown",
   "metadata": {},
   "source": [
    "Let's compare the resulting decision tree rules with `max_depth = 5` versus before (default `max_depth = None` or no max depth)."
   ]
  },
  {
   "cell_type": "code",
   "execution_count": null,
   "metadata": {
    "scrolled": true
   },
   "outputs": [],
   "source": [
    "plt.figure(figsize=(12,12))  # set plot size (denoted in inches)\n",
    "tree.plot_tree(sepal_decision_tree_model_maxdepth, feature_names = [\"sepal_length\", \"sepal_width\"],\n",
    "              class_names = [\"setosa\", \"versicolor\", \"virginica\"],\n",
    "              rounded = True, filled = True, fontsize=6)\n",
    "plt.show()"
   ]
  },
  {
   "cell_type": "code",
   "execution_count": null,
   "metadata": {
    "scrolled": true
   },
   "outputs": [],
   "source": [
    "plt.figure(figsize=(12,12))  # set plot size (denoted in inches)\n",
    "tree.plot_tree(sepal_decision_tree_model, feature_names = [\"sepal_length\", \"sepal_width\"],\n",
    "              class_names = [\"setosa\", \"versicolor\", \"virginica\"],\n",
    "              rounded = True, filled = True, fontsize=6)\n",
    "plt.show()"
   ]
  },
  {
   "cell_type": "code",
   "execution_count": null,
   "metadata": {},
   "outputs": [],
   "source": [
    "print('train accuracy:', accuracy_score(sepal_decision_tree_model_maxdepth.predict(train_iris_data[[\"sepal_length\", \"sepal_width\"]]), \n",
    "                     train_iris_data[\"species\"]))"
   ]
  },
  {
   "cell_type": "code",
   "execution_count": null,
   "metadata": {},
   "outputs": [],
   "source": [
    "print('train accuracy:', accuracy_score(sepal_decision_tree_model_maxdepth.predict(valid_iris_data[[\"sepal_length\", \"sepal_width\"]]), \n",
    "                     valid_iris_data[\"species\"]))"
   ]
  },
  {
   "cell_type": "markdown",
   "metadata": {},
   "source": [
    "We can also use these hyperparameters together and/or with other hyperparameters."
   ]
  },
  {
   "cell_type": "markdown",
   "metadata": {},
   "source": [
    "<br>\n",
    "<hr>\n",
    "<br>\n",
    "Let's see how different the decision trees could have been if the data had been slightly different.\n",
    "\n",
    "The code below generates new train-validation splits (by shuffling the data) and then fits Decision Trees on the training data. It does this 10 times."
   ]
  },
  {
   "cell_type": "code",
   "execution_count": null,
   "metadata": {},
   "outputs": [],
   "source": [
    "ten_decision_tree_models = []\n",
    "ten_training_sets = []\n",
    "for i in range(10):\n",
    "    current_model = tree.DecisionTreeClassifier(criterion=\"entropy\")\n",
    "    temp_iris_training_data, temp_iris_test_data = np.split(iris_data.sample(frac=1), [110])\n",
    "    temp_iris_training_data = temp_iris_training_data.sort_values(\"species\")\n",
    "    current_model.fit(temp_iris_training_data[[\"sepal_length\", \"sepal_width\"]], temp_iris_training_data[\"species\"])\n",
    "    ten_decision_tree_models.append(current_model)\n",
    "    ten_training_sets.append(temp_iris_training_data)"
   ]
  },
  {
   "cell_type": "code",
   "execution_count": null,
   "metadata": {},
   "outputs": [],
   "source": [
    "def plot_decision_tree(decision_tree_model, data = None, disable_axes = False):\n",
    "    from matplotlib.colors import ListedColormap\n",
    "    sns_cmap = ListedColormap(np.array(sns.color_palette())[0:3, :])\n",
    "\n",
    "    xx, yy = np.meshgrid(np.arange(4, 8, 0.02),\n",
    "                     np.arange(1.9, 4.5, 0.02))\n",
    "\n",
    "    Z_string = decision_tree_model.predict(np.c_[xx.ravel(), yy.ravel()])\n",
    "    categories, Z_int = np.unique(Z_string, return_inverse=True)\n",
    "    Z_int = Z_int.reshape(xx.shape)\n",
    "    cs = plt.contourf(xx, yy, Z_int, cmap=sns_cmap)\n",
    "    if data is not None:\n",
    "        sns.scatterplot(data = data, x = \"sepal_length\", y=\"sepal_width\", hue=\"species\", legend=False);\n",
    "\n",
    "    if disable_axes:\n",
    "        plt.axis(\"off\")"
   ]
  },
  {
   "cell_type": "markdown",
   "metadata": {},
   "source": [
    "Let's visualize the decision boundaries for these ten Decision Trees."
   ]
  },
  {
   "cell_type": "code",
   "execution_count": null,
   "metadata": {},
   "outputs": [],
   "source": [
    "m_num = 0\n",
    "plot_decision_tree(ten_decision_tree_models[m_num], ten_training_sets[m_num])"
   ]
  },
  {
   "cell_type": "code",
   "execution_count": null,
   "metadata": {},
   "outputs": [],
   "source": [
    "m_num = 7\n",
    "plot_decision_tree(ten_decision_tree_models[m_num], ten_training_sets[m_num])"
   ]
  },
  {
   "cell_type": "code",
   "execution_count": null,
   "metadata": {},
   "outputs": [],
   "source": [
    "# Decision boundaries for 9 Decision Trees \n",
    "import matplotlib.gridspec as gridspec\n",
    "gs1 = gridspec.GridSpec(3, 3)\n",
    "gs1.update(wspace=0.025, hspace=0.025) # set the spacing between axes. \n",
    "\n",
    "for i in range(0, 9):\n",
    "    plt.subplot(gs1[i]) #3, 3, i)\n",
    "    plot_decision_tree(ten_decision_tree_models[i], None, True)    "
   ]
  },
  {
   "cell_type": "markdown",
   "metadata": {},
   "source": [
    "What do we do?\n",
    "* Idea 1: Bagging or Bootstrap Aggregating (Leo Breiman).\n",
    "* Idea 2: Only use a random subset of m features at each split.\n",
    "\n",
    "# Random Forests \n",
    "\n",
    "Important arguments ([sklearn RandomForestClassifier documentation](https://scikit-learn.org/stable/modules/generated/sklearn.ensemble.RandomForestClassifier.html)):\n",
    "* `n_estimators, default = 100`\n",
    "* `bootstrap, default = True`\n",
    "* `max_features, default = 'sqrt'`\n",
    "* `max_depth, default = None` (same as `DecisionTreeClassifier`)\n",
    "* `min_samples_split, default = 2` (same as `DecisionTreeClassifier`)"
   ]
  },
  {
   "cell_type": "code",
   "execution_count": null,
   "metadata": {},
   "outputs": [],
   "source": [
    "from sklearn import ensemble\n",
    "\n",
    "sepal_random_forest_model = ensemble.RandomForestClassifier(criterion=\"entropy\", max_depth=5, min_samples_split=10)\n",
    "sepal_random_forest_model = sepal_random_forest_model.fit(train_iris_data[[\"sepal_length\", \"sepal_width\"]], \n",
    "                                                          train_iris_data[\"species\"])\n",
    "sepal_random_forest_model"
   ]
  },
  {
   "cell_type": "code",
   "execution_count": null,
   "metadata": {},
   "outputs": [],
   "source": [
    "print('train accuracy:', accuracy_score(sepal_random_forest_model.predict(train_iris_data[[\"sepal_length\", \"sepal_width\"]]),\n",
    "                                        train_iris_data[\"species\"]))"
   ]
  },
  {
   "cell_type": "code",
   "execution_count": null,
   "metadata": {},
   "outputs": [],
   "source": [
    "print('validation accuracy:', accuracy_score(sepal_decision_tree_model_minsamples.predict(valid_iris_data[[\"sepal_length\", \"sepal_width\"]]),\n",
    "                                             valid_iris_data[\"species\"]))"
   ]
  },
  {
   "cell_type": "code",
   "execution_count": null,
   "metadata": {},
   "outputs": [],
   "source": []
  },
  {
   "cell_type": "code",
   "execution_count": null,
   "metadata": {},
   "outputs": [],
   "source": []
  }
 ],
 "metadata": {
  "kernelspec": {
   "display_name": "Python 3 (ipykernel)",
   "language": "python",
   "name": "python3"
  },
  "language_info": {
   "codemirror_mode": {
    "name": "ipython",
    "version": 3
   },
   "file_extension": ".py",
   "mimetype": "text/x-python",
   "name": "python",
   "nbconvert_exporter": "python",
   "pygments_lexer": "ipython3",
   "version": "3.11.9"
  }
 },
 "nbformat": 4,
 "nbformat_minor": 4
}
