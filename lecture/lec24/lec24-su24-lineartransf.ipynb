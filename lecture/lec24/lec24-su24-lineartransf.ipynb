{
 "cells": [
  {
   "cell_type": "markdown",
   "id": "59db22c5-9b3d-495f-a2dd-37c123ea6bd2",
   "metadata": {},
   "source": [
    "# Lecture 24 – Data 100, Summer 2024\n",
    "\n",
    "Data 100, Summer 2024\n",
    "\n",
    "[Acknowledgments Page](https://ds100.org/su24/acks/)"
   ]
  },
  {
   "cell_type": "code",
   "execution_count": null,
   "id": "7ee7bde5-ef00-4cc3-9bd8-0b72b4cde722",
   "metadata": {},
   "outputs": [],
   "source": [
    "import pandas as pd\n",
    "import numpy as np\n",
    "import plotly.express as px"
   ]
  },
  {
   "cell_type": "markdown",
   "id": "1bc35e31-a199-41f2-8265-07ce1eae1e04",
   "metadata": {},
   "source": [
    "## PCA is a Linear Transformation\n",
    "\n",
    "In the following short demo we show the steps of PCA on a two dimensional dataset.  We wouldn't normally run PCA in this setting but it is helpful to visualize what is happening."
   ]
  },
  {
   "cell_type": "code",
   "execution_count": null,
   "id": "14bb9a99-e1a6-4b58-8f01-f01fa0e669cb",
   "metadata": {},
   "outputs": [],
   "source": [
    "df = pd.read_csv(\"data/2d.csv\")\n",
    "df.head(3)"
   ]
  },
  {
   "cell_type": "markdown",
   "id": "e324b8d4-c0e7-4f18-84ea-8a77e0cc5ded",
   "metadata": {},
   "source": [
    "Let's visualize the dataset first."
   ]
  },
  {
   "cell_type": "code",
   "execution_count": null,
   "id": "e930f84c-c480-44a2-8c2d-878b51e12fa1",
   "metadata": {},
   "outputs": [],
   "source": [
    "fig = px.scatter(df, x='x', y='y', title='2D Data', width=700, height=700)\n",
    "fig.update_xaxes(range=[-10, 10], zeroline=True, zerolinewidth=2, zerolinecolor='black')\n",
    "fig.update_yaxes(range=[-10, 10], zeroline=True, zerolinewidth=2, zerolinecolor='black')"
   ]
  },
  {
   "cell_type": "markdown",
   "id": "6021851d-709b-45ff-9404-3fcbbfc4717e",
   "metadata": {},
   "source": [
    "**Step 1** Center the data (and visualize):"
   ]
  },
  {
   "cell_type": "code",
   "execution_count": null,
   "id": "fbcb1788-fdf8-48b2-a765-2dd940ae9855",
   "metadata": {},
   "outputs": [],
   "source": [
    "centered_df = df - df.mean(axis=0)"
   ]
  },
  {
   "cell_type": "code",
   "execution_count": null,
   "id": "97ee9462-ad42-40f3-96bb-586a266f28fc",
   "metadata": {},
   "outputs": [],
   "source": [
    "fig = px.scatter(centered_df, x='x', y='y', title='2D Data', width=700, height=700)\n",
    "fig.update_xaxes(range=[-10, 10], zeroline=True, zerolinewidth=2, zerolinecolor='black')\n",
    "fig.update_yaxes(range=[-10, 10], zeroline=True, zerolinewidth=2, zerolinecolor='black')"
   ]
  },
  {
   "cell_type": "markdown",
   "id": "f78a02a5-f7ab-4ac4-84fd-9429de981fc7",
   "metadata": {},
   "source": [
    "**Step 2:** Obtain the SVD of the centered data."
   ]
  },
  {
   "cell_type": "code",
   "execution_count": null,
   "id": "44252fac-7709-4988-87a4-a51e4b439a2a",
   "metadata": {},
   "outputs": [],
   "source": [
    "U, S, Vt = np.linalg.svd(centered_df, full_matrices = False)"
   ]
  },
  {
   "cell_type": "markdown",
   "id": "c75b5a39-32ea-4ed3-934f-ef8040637cb7",
   "metadata": {},
   "source": [
    "**Step 3:** Project data onto the Principal Components (columns of $V$)"
   ]
  },
  {
   "cell_type": "code",
   "execution_count": null,
   "id": "3ed377e2-e68c-42a7-8aae-a8bb3e439947",
   "metadata": {},
   "outputs": [],
   "source": [
    "centered_df[[\"z1\", \"z2\"]] = centered_df[['x', 'y']] @ Vt.T\n",
    "# centered_df[[\"z1\", \"z2\"]] = U @ np.diag(S) # does the same thing\n",
    "centered_df.head(3)"
   ]
  },
  {
   "cell_type": "code",
   "execution_count": null,
   "id": "e5b7a4c8-9c29-4964-a973-2d440bfc4def",
   "metadata": {},
   "outputs": [],
   "source": [
    "fig = px.scatter(centered_df, x='z1', y='z2', title='2D Data', width=700, height=700)\n",
    "fig.update_xaxes(range=[-10, 10], zeroline=True, zerolinewidth=2, zerolinecolor='black')\n",
    "fig.update_yaxes(range=[-10, 10], zeroline=True, zerolinewidth=2, zerolinecolor='black')"
   ]
  },
  {
   "cell_type": "markdown",
   "id": "14cae502-34ee-4c8b-8e67-2b7ece7b3c76",
   "metadata": {},
   "source": [
    "We mentioned that $V$ transforms $X$ to get the principal components. What does that tranformation look like?"
   ]
  },
  {
   "cell_type": "markdown",
   "id": "2e9608c0-ca15-4897-92be-2a47471d69f4",
   "metadata": {},
   "source": [
    "Turns out $V$ simply rotates the centered data matrix $X$ such that the direction with the most variation (i.e. the direction that's the most spread-out) is aligned with the x-axis!"
   ]
  }
 ],
 "metadata": {
  "kernelspec": {
   "display_name": "Python 3 (ipykernel)",
   "language": "python",
   "name": "python3"
  },
  "language_info": {
   "codemirror_mode": {
    "name": "ipython",
    "version": 3
   },
   "file_extension": ".py",
   "mimetype": "text/x-python",
   "name": "python",
   "nbconvert_exporter": "python",
   "pygments_lexer": "ipython3",
   "version": "3.11.9"
  }
 },
 "nbformat": 4,
 "nbformat_minor": 5
}
