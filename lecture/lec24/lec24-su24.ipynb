{
 "cells": [
  {
   "cell_type": "markdown",
   "id": "6c6d2b77-a7bb-41eb-ab16-3542184a7b91",
   "metadata": {},
   "source": [
    "# Lecture 24 – Data 100, Summer 2024\n",
    "\n",
    "Data 100, Summer 2024\n",
    "\n",
    "[Acknowledgments Page](https://ds100.org/su24/acks/)"
   ]
  },
  {
   "cell_type": "code",
   "execution_count": null,
   "id": "2f1b941e-654b-42dd-9385-afe39fcde915",
   "metadata": {},
   "outputs": [],
   "source": [
    "import pandas as pd\n",
    "import numpy as np\n",
    "import scipy as sp\n",
    "import plotly.express as px\n",
    "import seaborn as sns"
   ]
  },
  {
   "cell_type": "markdown",
   "id": "8ef2b69d",
   "metadata": {},
   "source": [
    "## Working with High Dimensional Data\n",
    "\n",
    "In the following cells we will use visualization tools to push as far as we can in visualizing the MPG dataset in high-dimensional space:"
   ]
  },
  {
   "cell_type": "code",
   "execution_count": null,
   "id": "fd65834b",
   "metadata": {},
   "outputs": [],
   "source": [
    "mpg = sns.load_dataset(\"mpg\").dropna()\n",
    "mpg.head()"
   ]
  },
  {
   "cell_type": "code",
   "execution_count": null,
   "id": "d39d4471",
   "metadata": {},
   "outputs": [],
   "source": [
    "px.histogram(mpg, x=\"displacement\")"
   ]
  },
  {
   "cell_type": "code",
   "execution_count": null,
   "id": "6d3d077b",
   "metadata": {},
   "outputs": [],
   "source": [
    "px.scatter(mpg, x=\"displacement\", y=\"horsepower\")"
   ]
  },
  {
   "cell_type": "code",
   "execution_count": null,
   "id": "56186d74",
   "metadata": {},
   "outputs": [],
   "source": [
    "fig = px.scatter_3d(mpg, x=\"displacement\", y=\"horsepower\", z=\"weight\",\n",
    "                    width=800, height=800)\n",
    "fig.update_traces(marker=dict(size=3))"
   ]
  },
  {
   "cell_type": "code",
   "execution_count": null,
   "id": "ba25ffa5",
   "metadata": {},
   "outputs": [],
   "source": [
    "fig = px.scatter_3d(mpg, x=\"displacement\", \n",
    "                    y=\"horsepower\", \n",
    "                    z=\"weight\", \n",
    "                    color=\"model_year\",\n",
    "                    width=800, height=800, \n",
    "                    opacity=.7)\n",
    "fig.update_traces(marker=dict(size=5))"
   ]
  },
  {
   "cell_type": "code",
   "execution_count": null,
   "id": "030ca9c9",
   "metadata": {},
   "outputs": [],
   "source": [
    "fig = px.scatter_3d(mpg, x=\"displacement\", \n",
    "                    y=\"horsepower\", \n",
    "                    z=\"weight\", \n",
    "                    color=\"model_year\",\n",
    "                    size=\"mpg\",\n",
    "                    symbol=\"origin\",\n",
    "                    width=900, height=800, \n",
    "                    opacity=.7)\n",
    "# hide color scale legend on the plotly fig\n",
    "fig.update_layout(coloraxis_showscale=False)\n"
   ]
  },
  {
   "cell_type": "code",
   "execution_count": null,
   "id": "364d42e7",
   "metadata": {},
   "outputs": [],
   "source": [
    "from sklearn.decomposition import PCA\n",
    "pca = PCA(n_components=2,)\n",
    "\n",
    "components = pca.fit_transform(mpg[[\"displacement\", \"horsepower\", \"weight\", \"model_year\"]])\n",
    "mpg[[\"z1\", \"z2\"]] = components\n",
    "mpg.head()"
   ]
  },
  {
   "cell_type": "code",
   "execution_count": null,
   "id": "813bde71",
   "metadata": {},
   "outputs": [],
   "source": [
    "px.scatter(mpg, x=\"z1\", y=\"z2\", color=\"model_year\", hover_data=[\"displacement\", \"horsepower\", \"weight\", \"name\"])"
   ]
  },
  {
   "cell_type": "markdown",
   "id": "3eeeadf0-3dfb-4667-a786-12f6efc119da",
   "metadata": {},
   "source": [
    "\n",
    "---\n",
    "\n",
    "## Singular Value Decomposition "
   ]
  },
  {
   "cell_type": "markdown",
   "id": "03982be2",
   "metadata": {},
   "source": [
    "Singular value decomposition is a numerical technique to automatically decompose matrix into three matrices. Given an input matrix X, SVD will return $U$, $S$ and $V^T$ such that $ X = U S V^T $.\n",
    "\n",
    "Check the documentation of `np.linalg.svd` [here](https://numpy.org/doc/stable/reference/generated/numpy.linalg.svd.html). There are multiple versions of SVD; to get the version that we will follow, we need to set the `full_matrices` parameter to `False`."
   ]
  },
  {
   "cell_type": "markdown",
   "id": "2b46dab1",
   "metadata": {},
   "source": [
    "For PCA we will typically work with data that is already centered."
   ]
  },
  {
   "cell_type": "code",
   "execution_count": null,
   "id": "5e96118f-03c1-49ff-9c15-a50a690fb3b3",
   "metadata": {},
   "outputs": [],
   "source": [
    "rectangle = pd.read_csv(\"data/rectangle_data.csv\")\n",
    "rectangle"
   ]
  },
  {
   "cell_type": "code",
   "execution_count": null,
   "id": "19a2e9fd",
   "metadata": {},
   "outputs": [],
   "source": [
    "px.scatter_3d(rectangle, x=\"width\", y=\"height\", z=\"area\", \n",
    "              width=800, height=800)"
   ]
  },
  {
   "cell_type": "code",
   "execution_count": null,
   "id": "5e2515cf",
   "metadata": {},
   "outputs": [],
   "source": [
    "X = rectangle - np.mean(rectangle, axis = 0)\n",
    "X"
   ]
  },
  {
   "cell_type": "code",
   "execution_count": null,
   "id": "244b2e31-ed0b-409e-bdb3-9d9f582608b3",
   "metadata": {},
   "outputs": [],
   "source": [
    "U, S, Vt = np.linalg.svd(X, full_matrices = False)"
   ]
  },
  {
   "cell_type": "code",
   "execution_count": null,
   "id": "0a3a28ed",
   "metadata": {},
   "outputs": [],
   "source": [
    "print(\"Shape of U\", U.shape)\n",
    "print(\"Shape of S\", S.shape)\n",
    "print(\"Shape of Vt\", Vt.shape)"
   ]
  },
  {
   "cell_type": "markdown",
   "id": "0fe40bf8",
   "metadata": {},
   "source": [
    "$S$ is a little different in `NumPy`. Since the only useful values in the diagonal matrix $S$ are the singular values on the diagonal axis, only those values are returned and they are stored in an array.\n",
    "\n",
    "Our `rectangle_data` has a rank of $3$, so we should have 3 non-zero singular values, **sorted from largest to smallest**."
   ]
  },
  {
   "cell_type": "code",
   "execution_count": null,
   "id": "f1ba3137",
   "metadata": {},
   "outputs": [],
   "source": [
    "S"
   ]
  },
  {
   "cell_type": "markdown",
   "id": "18469f74",
   "metadata": {},
   "source": [
    "Hmm, looks like are four diagonal entries are not zero. What happened?\n",
    "\n",
    "It turns out there were some numerical rounding errors, but the last value is so small ($10^{-15}$) that it's practically $0$."
   ]
  },
  {
   "cell_type": "code",
   "execution_count": null,
   "id": "18e558f7",
   "metadata": {},
   "outputs": [],
   "source": [
    "np.isclose(S[3], 0)"
   ]
  },
  {
   "cell_type": "code",
   "execution_count": null,
   "id": "a84465ac",
   "metadata": {},
   "outputs": [],
   "source": [
    "S.round(5)"
   ]
  },
  {
   "cell_type": "markdown",
   "id": "eb0389b8",
   "metadata": {},
   "source": [
    "If we want the diagonal elements:"
   ]
  },
  {
   "cell_type": "code",
   "execution_count": null,
   "id": "99b4e0f1",
   "metadata": {},
   "outputs": [],
   "source": [
    "Sm = np.diag(S)\n",
    "Sm"
   ]
  },
  {
   "cell_type": "markdown",
   "id": "dd5964ef",
   "metadata": {},
   "source": [
    "Examining U:"
   ]
  },
  {
   "cell_type": "code",
   "execution_count": null,
   "id": "3ab7a5c6-dfd6-406f-8e7b-72bbd6e70dcd",
   "metadata": {},
   "outputs": [],
   "source": [
    "pd.DataFrame(U).head(5)"
   ]
  },
  {
   "cell_type": "markdown",
   "id": "d03fe69f-ad01-4f3b-928b-52f526ea25d2",
   "metadata": {},
   "source": [
    "Finally, $V^{\\top}$:"
   ]
  },
  {
   "cell_type": "code",
   "execution_count": null,
   "id": "02f98786-66f5-4e14-8116-759b174240fd",
   "metadata": {},
   "outputs": [],
   "source": [
    "pd.DataFrame(Vt)"
   ]
  },
  {
   "cell_type": "code",
   "execution_count": null,
   "id": "939ee26c-78e2-4753-a013-ca239727c40a",
   "metadata": {},
   "outputs": [],
   "source": [
    "Vt.shape"
   ]
  },
  {
   "cell_type": "markdown",
   "id": "26fae4e1-2c09-43ed-a9b5-406aa958f58f",
   "metadata": {},
   "source": [
    "To check that this SVD is a valid decomposition, we can reverse it."
   ]
  },
  {
   "cell_type": "code",
   "execution_count": null,
   "id": "5e2db8aa-dd4d-4942-9232-21bb8dcc71b3",
   "metadata": {},
   "outputs": [],
   "source": [
    "display(pd.DataFrame(U @ Sm @ Vt).head(5))\n",
    "display(pd.DataFrame(X).head(5))"
   ]
  },
  {
   "cell_type": "markdown",
   "id": "b05d9884-fd2e-41e4-8c0d-b174f05dfaa0",
   "metadata": {},
   "source": [
    "## PCA with SVD\n",
    "\n",
    "### Step 1: Center the Data Matrix $X$"
   ]
  },
  {
   "cell_type": "code",
   "execution_count": null,
   "id": "693c7cfa-c71d-4d7a-a34c-f537f7f56ce8",
   "metadata": {},
   "outputs": [],
   "source": [
    "X = rectangle - np.mean(rectangle, axis = 0)\n",
    "X.head(10)"
   ]
  },
  {
   "cell_type": "markdown",
   "id": "5ced91bc",
   "metadata": {},
   "source": [
    "In some situations where the units are on different scales it is useful to normalize the data before performing SVD. \n",
    "This can be done by dividing each column by its standard deviation."
   ]
  },
  {
   "cell_type": "code",
   "execution_count": null,
   "id": "553010c1",
   "metadata": {},
   "outputs": [],
   "source": [
    "Xstd = X / np.std(X, axis = 0)"
   ]
  },
  {
   "cell_type": "markdown",
   "id": "85221dc2-5ae8-4927-8dba-ba3f3428f090",
   "metadata": {},
   "source": [
    "### Step 2: Get the SVD of centered $X$"
   ]
  },
  {
   "cell_type": "code",
   "execution_count": null,
   "id": "fe344c03-91c0-408b-b751-c26b08a5be72",
   "metadata": {},
   "outputs": [],
   "source": [
    "U, S, Vt = np.linalg.svd(X, full_matrices = False)"
   ]
  },
  {
   "cell_type": "markdown",
   "id": "2766aa2f",
   "metadata": {},
   "source": [
    "Examining the singular values:"
   ]
  },
  {
   "cell_type": "code",
   "execution_count": null,
   "id": "2c47adfb",
   "metadata": {},
   "outputs": [],
   "source": [
    "pd.DataFrame(np.diag(S))"
   ]
  },
  {
   "cell_type": "markdown",
   "id": "6c017bce",
   "metadata": {},
   "source": [
    "Computing the contribution to the total variance:"
   ]
  },
  {
   "cell_type": "code",
   "execution_count": null,
   "id": "d354733e",
   "metadata": {},
   "outputs": [],
   "source": [
    "pd.DataFrame(np.round(S**2 / X.shape[0], 2))"
   ]
  },
  {
   "cell_type": "markdown",
   "id": "6bb8e359",
   "metadata": {},
   "source": [
    "Much of the variance is in the first dimension.  This is likely because the area is much larger than the other dimensions. Let's examine the standardized version."
   ]
  },
  {
   "cell_type": "code",
   "execution_count": null,
   "id": "51b52463",
   "metadata": {},
   "outputs": [],
   "source": [
    "U, S, Vt = np.linalg.svd(Xstd, full_matrices = False)"
   ]
  },
  {
   "cell_type": "code",
   "execution_count": null,
   "id": "4c0f8bfd",
   "metadata": {},
   "outputs": [],
   "source": [
    "pd.DataFrame(np.round(S**2 / X.shape[0], 2))"
   ]
  },
  {
   "cell_type": "markdown",
   "id": "9ba06c69",
   "metadata": {},
   "source": [
    "Now we see that most of the variance is in the first two dimensions which makes sense since rectangles are largely described by two numbers."
   ]
  },
  {
   "cell_type": "markdown",
   "id": "ce1246e1",
   "metadata": {},
   "source": [
    "### Step 3 Computing Approximations to the Data\n",
    "\n",
    "Let's try to approximate this data in two dimensions"
   ]
  },
  {
   "cell_type": "markdown",
   "id": "11c306ca",
   "metadata": {},
   "source": [
    "#### Using $Z = U * S$"
   ]
  },
  {
   "cell_type": "code",
   "execution_count": null,
   "id": "251cbb62",
   "metadata": {},
   "outputs": [],
   "source": [
    "Z = U[:, :2] @ np.diag(S[:2])\n",
    "pd.DataFrame(Z).head()"
   ]
  },
  {
   "cell_type": "markdown",
   "id": "21b4a312",
   "metadata": {},
   "source": [
    "#### Using $Z = X * V$"
   ]
  },
  {
   "cell_type": "code",
   "execution_count": null,
   "id": "647a75dc",
   "metadata": {},
   "outputs": [],
   "source": [
    "Z = Xstd.to_numpy() @ Vt.T[:,:2]\n",
    "pd.DataFrame(Z).head()"
   ]
  },
  {
   "cell_type": "code",
   "execution_count": null,
   "id": "0a50d522",
   "metadata": {},
   "outputs": [],
   "source": [
    "px.scatter(x=Z[:, 0], y=Z[:, 1])"
   ]
  },
  {
   "cell_type": "markdown",
   "id": "b19748d5",
   "metadata": {},
   "source": [
    "Comparing to scikit learn"
   ]
  },
  {
   "cell_type": "code",
   "execution_count": null,
   "id": "68121dc4",
   "metadata": {},
   "outputs": [],
   "source": [
    "pca = PCA(2)\n",
    "pd.DataFrame(pca.fit_transform(rectangle)).head(5)"
   ]
  },
  {
   "cell_type": "code",
   "execution_count": null,
   "id": "179cdf1a",
   "metadata": {},
   "outputs": [],
   "source": [
    "pd.DataFrame(pca.fit_transform(X)).head(5)"
   ]
  },
  {
   "cell_type": "code",
   "execution_count": null,
   "id": "08d19d82",
   "metadata": {},
   "outputs": [],
   "source": [
    "pd.DataFrame(pca.fit_transform(Xstd)).head(5)"
   ]
  },
  {
   "cell_type": "markdown",
   "id": "70ad8998-43b7-4601-876c-bc0b53d52921",
   "metadata": {},
   "source": [
    "Also notice that the covariance of the transformed diagonalized. "
   ]
  },
  {
   "cell_type": "code",
   "execution_count": null,
   "id": "cdf7ea6a-5343-4274-baa1-7d62c2e0b9a3",
   "metadata": {},
   "outputs": [],
   "source": [
    "pd.DataFrame(np.cov(Z.T))"
   ]
  },
  {
   "cell_type": "markdown",
   "id": "048b2087",
   "metadata": {},
   "source": [
    "## Lower Rank Approximation of X"
   ]
  },
  {
   "cell_type": "markdown",
   "id": "6c4b985f",
   "metadata": {},
   "source": [
    "Let's now try to recover X from our approximation:"
   ]
  },
  {
   "cell_type": "code",
   "execution_count": null,
   "id": "1a6bc0d2",
   "metadata": {},
   "outputs": [],
   "source": [
    "rectangle.head()"
   ]
  },
  {
   "cell_type": "code",
   "execution_count": null,
   "id": "0dad0a93",
   "metadata": {},
   "outputs": [],
   "source": [
    "k = 2\n",
    "U, S, Vt = np.linalg.svd(Xstd, full_matrices = False)\n",
    "scaling = np.diag(np.std(X, axis = 0))\n",
    "# scaling = np.eye(X.shape[1])\n",
    "Z = U[:,:k] @ np.diag(S[:k])\n",
    "\n",
    "rectangle_hat = pd.DataFrame(\n",
    "    (Z @ Vt[:k, :]) @ scaling + np.mean(rectangle, axis = 0).to_numpy(),\n",
    "    columns = rectangle.columns)\n",
    "\n",
    "display(rectangle_hat.head(3))\n",
    "\n",
    "fig = px.scatter_3d(rectangle, x=\"width\", y=\"height\", z=\"area\",\n",
    "                    width=800, height=800)\n",
    "fig.add_scatter3d(x=rectangle_hat[\"width\"], y=rectangle_hat[\"height\"], z=rectangle_hat[\"area\"], \n",
    "                  mode=\"markers\", name = \"approximation\")\n"
   ]
  },
  {
   "cell_type": "code",
   "execution_count": null,
   "id": "8ccdc179",
   "metadata": {},
   "outputs": [],
   "source": []
  }
 ],
 "metadata": {
  "kernelspec": {
   "display_name": "Python 3 (ipykernel)",
   "language": "python",
   "name": "python3"
  },
  "language_info": {
   "codemirror_mode": {
    "name": "ipython",
    "version": 3
   },
   "file_extension": ".py",
   "mimetype": "text/x-python",
   "name": "python",
   "nbconvert_exporter": "python",
   "pygments_lexer": "ipython3",
   "version": "3.11.9"
  }
 },
 "nbformat": 4,
 "nbformat_minor": 5
}
